{
 "cells": [
  {
   "cell_type": "markdown",
   "id": "89e53c94",
   "metadata": {},
   "source": [
    "Seaborn\n",
    "Create a scatter plot of GDP (gdp) vs. number of phones per 1000 people (phones)."
   ]
  },
  {
   "cell_type": "code",
   "execution_count": null,
   "id": "4c3b8c44",
   "metadata": {},
   "outputs": [],
   "source": [
    "# Import Matplotlib and Seaborn\n",
    "import matplotlib.pyplot as plt\n",
    "import seaborn as sns\n",
    "\n",
    "# Create scatter plot with GDP on the x-axis and number of phones on the y-axis\n",
    "sns.scatterplot(x=gdp, y = phones)\n",
    "\n",
    "#show plot\n",
    "plt.show()"
   ]
  },
  {
   "cell_type": "code",
   "execution_count": null,
   "id": "0aae4a64",
   "metadata": {},
   "outputs": [],
   "source": [
    "# Create count plot with region on the y-axis\n",
    "sns.countplot(y=region)"
   ]
  },
  {
   "cell_type": "markdown",
   "id": "10063321",
   "metadata": {},
   "source": [
    "tidy data: each observation has its own row\n",
    "each variable has its own column"
   ]
  },
  {
   "cell_type": "code",
   "execution_count": null,
   "id": "dad96b71",
   "metadata": {},
   "outputs": [],
   "source": [
    "#countplot with a dataframe df\n",
    "\n",
    "# Create a count plot with \"Spiders\" on the x-axis\n",
    "sns.countplot(x=\"Spiders\", data=df)"
   ]
  },
  {
   "cell_type": "markdown",
   "id": "3f5fa072",
   "metadata": {},
   "source": [
    "Create a scatter plot with \"absences\" on the x-axis and final grade (\"G3\") on the y-axis using the DataFrame student_data. Color the plot points based on \"location\" (urban vs. rural)."
   ]
  },
  {
   "cell_type": "code",
   "execution_count": null,
   "id": "678109bf",
   "metadata": {},
   "outputs": [],
   "source": [
    "# Change the legend order in the scatter plot\n",
    "sns.scatterplot(x=\"absences\", y=\"G3\", \n",
    "                data=student_data, \n",
    "                hue=\"location\", hue_order=[\"Rural\", \"Urban\"])"
   ]
  },
  {
   "cell_type": "markdown",
   "id": "70549543",
   "metadata": {},
   "source": [
    "Using palettes"
   ]
  },
  {
   "cell_type": "code",
   "execution_count": null,
   "id": "be9a76cc",
   "metadata": {},
   "outputs": [],
   "source": [
    "# Create a dictionary mapping subgroup values to colors\n",
    "palette_colors = {\"Rural\": \"green\", \"Urban\": \"blue\"}\n",
    "\n",
    "# Create a count plot of school with location subgroups\n",
    "sns.countplot(x=\"school\", data=student_data, hue=\"location\", palette=palette_colors)\n"
   ]
  },
  {
   "cell_type": "markdown",
   "id": "4b617d69",
   "metadata": {},
   "source": [
    "Relplots"
   ]
  },
  {
   "cell_type": "code",
   "execution_count": null,
   "id": "b69568eb",
   "metadata": {},
   "outputs": [],
   "source": [
    "# Change to make subplots based on study time\n",
    "sns.relplot(x=\"absences\", y=\"G3\", \n",
    "            data=student_data,\n",
    "            kind=\"scatter\")\n",
    "\n",
    "#create multiple scatterplot with col=\"var_name\"\n",
    "sns.relplot(x=\"absences\", y=\"G3\", \n",
    "            data=student_data,\n",
    "            kind=\"scatter\", \n",
    "            col=\"study_time\")"
   ]
  },
  {
   "cell_type": "markdown",
   "id": "c4bfb952",
   "metadata": {},
   "source": [
    "relplot with col_order and row_order"
   ]
  },
  {
   "cell_type": "code",
   "execution_count": null,
   "id": "675cd018",
   "metadata": {},
   "outputs": [],
   "source": [
    "# Adjust further to add subplots based on family support\n",
    "sns.relplot(x=\"G1\", y=\"G3\", \n",
    "            data=student_data,\n",
    "            kind=\"scatter\", \n",
    "            col=\"schoolsup\",\n",
    "            col_order=[\"yes\", \"no\"],\n",
    "            row=\"famsup\",\n",
    "            row_order=[\"yes\", \"no\"]\n",
    "            )"
   ]
  },
  {
   "cell_type": "markdown",
   "id": "b6c86062",
   "metadata": {},
   "source": [
    "size, style,and point, and transparency can allow further customization of our plots"
   ]
  },
  {
   "cell_type": "code",
   "execution_count": null,
   "id": "3ba5eba5",
   "metadata": {},
   "outputs": [],
   "source": [
    "#vary style and color by the origin param (origin is categorical)\n",
    "\n",
    "sns.relplot(x=\"acceleration\", y=\"mpg\", data=mpg, style=\"origin\", hue=\"origin\", kind=\"scatter\")"
   ]
  },
  {
   "cell_type": "markdown",
   "id": "bbb812ab",
   "metadata": {},
   "source": [
    "line plot showing distribution (using standard deviation) instead of confidence interval around mean with ci=\"sd\""
   ]
  },
  {
   "cell_type": "code",
   "execution_count": null,
   "id": "f7562b41",
   "metadata": {},
   "outputs": [],
   "source": [
    "# Make the shaded area show the standard deviation\n",
    "sns.relplot(x=\"model_year\", y=\"mpg\",\n",
    "            data=mpg, kind=\"line\", ci=\"sd\")"
   ]
  },
  {
   "cell_type": "code",
   "execution_count": null,
   "id": "53e77174",
   "metadata": {},
   "outputs": [],
   "source": [
    "# Add markers and make each line have the same style\n",
    "sns.relplot(x=\"model_year\", y=\"horsepower\", \n",
    "            data=mpg, kind=\"line\", \n",
    "            ci=None, style=\"origin\", \n",
    "            hue=\"origin\", dashes=False)"
   ]
  },
  {
   "cell_type": "code",
   "execution_count": null,
   "id": "6ffec203",
   "metadata": {},
   "outputs": [],
   "source": [
    "# Add markers and make each line have the same style\n",
    "sns.relplot(x=\"model_year\", y=\"horsepower\", \n",
    "            data=mpg, kind=\"line\", \n",
    "            ci=None, style=\"origin\", \n",
    "            hue=\"origin\", markers=True,dashes=False)"
   ]
  },
  {
   "cell_type": "markdown",
   "id": "1c6a3ff3",
   "metadata": {},
   "source": [
    "count plot with catplot()"
   ]
  },
  {
   "cell_type": "code",
   "execution_count": null,
   "id": "2a7f22cc",
   "metadata": {},
   "outputs": [],
   "source": [
    "# Change the orientation of the plot\n",
    "sns.catplot(x=\"Internet usage\", data=survey_data,\n",
    "            kind=\"count\")"
   ]
  },
  {
   "cell_type": "markdown",
   "id": "73907823",
   "metadata": {},
   "source": [
    "barplot with catplot()"
   ]
  },
  {
   "cell_type": "code",
   "execution_count": null,
   "id": "a5727029",
   "metadata": {},
   "outputs": [],
   "source": [
    "# Create a bar plot of interest in math, separated by gender\n",
    "sns.catplot(x=\"Gender\", y=\"Interested in Math\", data=survey_data, kind=\"bar\")"
   ]
  },
  {
   "cell_type": "code",
   "execution_count": null,
   "id": "62d7d663",
   "metadata": {},
   "outputs": [],
   "source": [
    "# List of categories from lowest to highest\n",
    "category_order = [\"<2 hours\", \n",
    "                  \"2 to 5 hours\", \n",
    "                  \"5 to 10 hours\", \n",
    "                  \">10 hours\"]\n",
    "\n",
    "# Turn off the confidence intervals\n",
    "sns.catplot(x=\"study_time\", y=\"G3\",\n",
    "            data=student_data,\n",
    "            kind=\"bar\",\n",
    "            order=category_order, ci=None)"
   ]
  },
  {
   "cell_type": "code",
   "execution_count": null,
   "id": "8141d370",
   "metadata": {},
   "outputs": [],
   "source": [
    "#remove outliers with sym=\"\", color boxplots based on location(urban rural)\n",
    "sns.catplot(x=\"internet\", y=\"G3\", data=student_data, kind=\"box\", hue=\"location\", sym=\"\")"
   ]
  },
  {
   "cell_type": "markdown",
   "id": "d851e0f4",
   "metadata": {},
   "source": [
    "Point plot using catplot()"
   ]
  },
  {
   "cell_type": "code",
   "execution_count": null,
   "id": "fc1a3efe",
   "metadata": {},
   "outputs": [],
   "source": [
    "#remove lines between category, and add a cap on top and bottom with capsize=0.2\n",
    "sns.catplot(x=\"famrel\", y=\"absences\",\n",
    "\t\t\tdata=student_data,\n",
    "            kind=\"point\",\n",
    "            capsize=0.2, join=False)"
   ]
  },
  {
   "cell_type": "markdown",
   "id": "d9c83c94",
   "metadata": {},
   "source": [
    "set_style(), \"whitegrid\", set_palette() \"Purples\", \"RdBu\", set_context() \"Paper\""
   ]
  },
  {
   "cell_type": "markdown",
   "id": "29621c97",
   "metadata": {},
   "source": [
    "plot titles and axis labels"
   ]
  },
  {
   "cell_type": "code",
   "execution_count": null,
   "id": "d9d1a4ef",
   "metadata": {},
   "outputs": [],
   "source": [
    "#titles for relplot and catplot()\n",
    "# Create scatter plot\n",
    "g = sns.relplot(x=\"weight\", \n",
    "                y=\"horsepower\", \n",
    "                data=mpg,\n",
    "                kind=\"scatter\")\n",
    "\n",
    "# Add a title \"Car Weight vs. Horsepower\"\n",
    "g.fig.suptitle(\"Car Weight vs. Horsepower\")"
   ]
  },
  {
   "cell_type": "code",
   "execution_count": null,
   "id": "d7a4177e",
   "metadata": {},
   "outputs": [],
   "source": [
    "# Add x-axis and y-axis labels\n",
    "\n",
    "g.set(xlabel=\"Car Model Year\",\n",
    "    ylabel=\"Average MPG\")\n",
    "\n",
    "\n",
    "# Rotate x-tick labels\n",
    "plt.xticks(rotation=90)"
   ]
  },
  {
   "cell_type": "markdown",
   "id": "db7b98cb",
   "metadata": {},
   "source": [
    "facetgrid -> sns.fig.suptitle -> overall\n",
    "axesgrid -> sns.set_title(\" \") -> subplot"
   ]
  },
  {
   "cell_type": "code",
   "execution_count": null,
   "id": "eeb0a707",
   "metadata": {},
   "outputs": [],
   "source": [
    "#example\n",
    "# Adjust to add subplots per gender\n",
    "g = sns.catplot(x=\"Village - town\", y=\"Likes Techno\", \n",
    "                data=survey_data, kind=\"bar\",\n",
    "                col=\"Gender\")\n",
    "\n",
    "# Add title and axis labels\n",
    "g.fig.suptitle(\"Percentage of Young People Who Like Techno\", y=1.02)\n",
    "g.set(xlabel=\"Location of Residence\", \n",
    "       ylabel=\"% Who Like Techno\")\n"
   ]
  }
 ],
 "metadata": {
  "kernelspec": {
   "display_name": "Python 3",
   "language": "python",
   "name": "python3"
  },
  "language_info": {
   "codemirror_mode": {
    "name": "ipython",
    "version": 3
   },
   "file_extension": ".py",
   "mimetype": "text/x-python",
   "name": "python",
   "nbconvert_exporter": "python",
   "pygments_lexer": "ipython3",
   "version": "3.8.8"
  }
 },
 "nbformat": 4,
 "nbformat_minor": 5
}
