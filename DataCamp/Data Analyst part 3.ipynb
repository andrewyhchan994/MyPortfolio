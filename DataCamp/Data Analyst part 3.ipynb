{
 "cells": [
  {
   "cell_type": "code",
   "execution_count": null,
   "id": "8fce9864",
   "metadata": {},
   "outputs": [],
   "source": [
    ".value_counts() ## for series"
   ]
  },
  {
   "cell_type": "code",
   "execution_count": null,
   "id": "1e5ff30e",
   "metadata": {},
   "outputs": [],
   "source": [
    "# Count the unique values in 'violation'\n",
    "print(ri.violation.value_counts())\n",
    "\n",
    "# Express the counts as proportions\n",
    "print(ri.violation.value_counts(normalize=True))"
   ]
  },
  {
   "cell_type": "code",
   "execution_count": null,
   "id": "ff299dd8",
   "metadata": {},
   "outputs": [],
   "source": [
    "# each condition must be surrounded by parentheses"
   ]
  },
  {
   "cell_type": "code",
   "execution_count": null,
   "id": "560a293c",
   "metadata": {},
   "outputs": [],
   "source": [
    "# Create a DataFrame of female drivers stopped for speeding\n",
    "female_and_speeding = ri[(ri.driver_gender == 'F') & (ri.violation == 'Speeding')]\n",
    "\n",
    "# Create a DataFrame of male drivers stopped for speeding\n",
    "male_and_speeding = ri[(ri.driver_gender == 'M') & (ri.violation == 'Speeding')]\n",
    "\n",
    "# Compute the stop outcomes for female drivers (as proportions)\n",
    "print(female_and_speeding.stop_outcome.value_counts(normalize=True))\n",
    "\n",
    "# Compute the stop outcomes for male drivers (as proportions)\n",
    "print(male_and_speeding.stop_outcome.value_counts(normalize=True))"
   ]
  },
  {
   "cell_type": "code",
   "execution_count": null,
   "id": "c35b6ad6",
   "metadata": {},
   "outputs": [],
   "source": [
    "# Calculate the search rate for both groups simultaneously\n",
    "print(ri.groupby('driver_gender').search_conducted.mean())\n",
    "<script.py> output:\n",
    "    driver_gender\n",
    "    F    0.019181\n",
    "    M    0.045426\n",
    "    Name: search_conducted, dtype: float64"
   ]
  },
  {
   "cell_type": "code",
   "execution_count": null,
   "id": "6b497d69",
   "metadata": {},
   "outputs": [],
   "source": [
    "# Create a DataFrame of stops in which a search was conducted\n",
    "searched = ri[ri.search_conducted == True]\n",
    "\n",
    "# Calculate the overall frisk rate by taking the mean of 'frisk'\n",
    "print(searched.frisk.mean())\n",
    "\n",
    "# Calculate the frisk rate for each gender\n",
    "print(searched.groupby('driver_gender').frisk.mean())"
   ]
  },
  {
   "cell_type": "code",
   "execution_count": null,
   "id": "79d2e9cf",
   "metadata": {},
   "outputs": [],
   "source": [
    "# Calculate the overall arrest rate\n",
    "print(ri.is_arrested.mean())\n",
    "\n",
    "# Calculate the hourly arrest rate\n",
    "print(ri.groupby(ri.index.hour).is_arrested.mean())\n",
    "\n",
    "# Save the hourly arrest rate\n",
    "hourly_arrest_rate = ri.groupby(ri.index.hour).is_arrested.mean()"
   ]
  },
  {
   "cell_type": "code",
   "execution_count": null,
   "id": "1f9f5cf2",
   "metadata": {},
   "outputs": [],
   "source": [
    "# Import matplotlib.pyplot as plt\n",
    "import matplotlib.pyplot as plt\n",
    "\n",
    "# Create a line plot of 'hourly_arrest_rate'\n",
    "hourly_arrest_rate.plot()\n",
    "\n",
    "# Add the xlabel, ylabel, and title\n",
    "plt.xlabel('Hour')\n",
    "plt.ylabel('Arrest Rate')\n",
    "plt.title('Arrest Rate by Time of Day')\n",
    "\n",
    "# Display the plot\n",
    "plt.show()"
   ]
  },
  {
   "cell_type": "markdown",
   "id": "9f67b298",
   "metadata": {},
   "source": [
    "Resampling - change frequency of time series observations\n",
    "\n",
    "resample by month \n",
    "\n",
    ".resample('M')"
   ]
  },
  {
   "cell_type": "code",
   "execution_count": null,
   "id": "d888b1f4",
   "metadata": {},
   "outputs": [],
   "source": [
    "# Calculate and save the annual search rate\n",
    "annual_search_rate = ri.search_conducted.resample('A').mean()\n",
    "\n",
    "# Concatenate 'annual_drug_rate' and 'annual_search_rate'\n",
    "annual = pd.concat([annual_drug_rate, annual_search_rate], axis='columns')\n",
    "\n",
    "# Create subplots from 'annual'\n",
    "annual.plot(subplots = True)\n",
    "\n",
    "# Display the subplots\n",
    "plt.show()"
   ]
  },
  {
   "cell_type": "markdown",
   "id": "34a7b8ec",
   "metadata": {},
   "source": [
    "Computing a frequency table\n",
    "\n",
    "pd.crosstab(two columns)"
   ]
  },
  {
   "cell_type": "markdown",
   "id": "80854603",
   "metadata": {},
   "source": [
    ".plot(kind='bar', stacked = True) -stacked bar plot with matplotlib.pyplot"
   ]
  },
  {
   "cell_type": "code",
   "execution_count": null,
   "id": "9fa4260a",
   "metadata": {},
   "outputs": [],
   "source": [
    "# Create a frequency table of districts and violations\n",
    "print(pd.crosstab(ri.district, ri.violation))\n",
    "\n",
    "# Save the frequency table as 'all_zones'\n",
    "all_zones = pd.crosstab(ri.district, ri.violation)\n",
    "\n",
    "# Select rows 'Zone K1' through 'Zone K3'\n",
    "print(all_zones.loc['Zone K1':'Zone K3'])\n",
    "\n",
    "# Save the smaller table as 'k_zones'\n",
    "k_zones = all_zones.loc['Zone K1':'Zone K3']\n",
    "k_zones.plot(kind='bar', stacked=True)\n",
    "plt.show()"
   ]
  },
  {
   "cell_type": "markdown",
   "id": "64fb8b3c",
   "metadata": {},
   "source": [
    "Mapping one set of values to another -eg convert a Series of up/down to True/False\n",
    "\n",
    "use .map(mapping dict)"
   ]
  },
  {
   "cell_type": "code",
   "execution_count": null,
   "id": "ab291024",
   "metadata": {},
   "outputs": [],
   "source": [
    "mapping = {'up':True, 'down':False}\n",
    "apple['is_up'] = apple['change'].map(mapping)"
   ]
  },
  {
   "cell_type": "code",
   "execution_count": null,
   "id": "56939d76",
   "metadata": {},
   "outputs": [],
   "source": [
    "# Calculate the mean 'stop_minutes' for each value in 'violation_raw'\n",
    "print(ri.groupby('violation_raw').stop_minutes.mean())\n",
    "\n",
    "# Save the resulting Series as 'stop_length'\n",
    "stop_length = ri.groupby('violation_raw').stop_minutes.mean()\n",
    "\n",
    "# Sort 'stop_length' by its values and create a horizontal bar plot\n",
    "stop_length.sort_values().plot(kind='barh')\n",
    "\n",
    "# Display the plot\n",
    "plt.show()"
   ]
  },
  {
   "cell_type": "markdown",
   "id": "70c2396b",
   "metadata": {},
   "source": [
    "boxplot is a visual representation of summary statistics"
   ]
  },
  {
   "cell_type": "code",
   "execution_count": null,
   "id": "519a27c8",
   "metadata": {},
   "outputs": [],
   "source": [
    "##Note below the double square brackets for selecting multiple columns\n",
    "# Describe the temperature columns\n",
    "print(weather[['TMIN', 'TAVG', 'TMAX']].describe())\n",
    "\n",
    "# Create a box plot of the temperature columns\n",
    "weather[['TMIN', 'TAVG', 'TMAX']].plot(kind='box')"
   ]
  },
  {
   "cell_type": "code",
   "execution_count": null,
   "id": "da934b13",
   "metadata": {},
   "outputs": [],
   "source": [
    "# Create a 'TDIFF' column that represents temperature difference\n",
    "weather['TDIFF'] = weather['TMAX'] - weather['TMIN']\n",
    "\n",
    "# Describe the 'TDIFF' column\n",
    "print(weather['TDIFF'].describe())\n",
    "\n",
    "# Create a histogram with 20 bins to visualize 'TDIFF'\n",
    "weather['TDIFF'].plot(kind='hist', bins=20)\n",
    "\n",
    "# Display the plot\n",
    "plt.show()"
   ]
  },
  {
   "cell_type": "markdown",
   "id": "cf8cc876",
   "metadata": {},
   "source": [
    "Why sum(axis='columns') adds for each row:\n",
    "    \n",
    "    array operation - aggregating the columns -how you add the columns for each row"
   ]
  },
  {
   "cell_type": "code",
   "execution_count": null,
   "id": "a42437ea",
   "metadata": {},
   "outputs": [],
   "source": [
    "# Copy 'WT01' through 'WT22' to a new DataFrame\n",
    "WT = weather.loc[:, 'WT01':'WT22']\n",
    "# Calculate the sum of each row in 'WT'\n",
    "weather['bad_conditions'] = WT.sum(axis='columns')"
   ]
  },
  {
   "cell_type": "markdown",
   "id": "01a73f39",
   "metadata": {},
   "source": [
    "Making a small number of values into an ordered category dtype (to save memory)"
   ]
  },
  {
   "cell_type": "code",
   "execution_count": null,
   "id": "32c0c264",
   "metadata": {},
   "outputs": [],
   "source": [
    "# Create a list of weather ratings in logical order\n",
    "cats = ['good', 'bad', 'worse']\n",
    "\n",
    "# Change the data type of 'rating' to category\n",
    "weather['rating'] = weather.rating.astype('category', ordered=True, categories=cats)\n",
    "\n",
    "# Examine the head of 'rating'\n",
    "print(weather.rating.head())"
   ]
  },
  {
   "cell_type": "code",
   "execution_count": null,
   "id": "b6712a7b",
   "metadata": {},
   "outputs": [],
   "source": [
    "# Reset the index of 'ri'\n",
    "ri.reset_index(inplace=True)\n",
    "\n",
    "# Examine the head of 'ri'\n",
    "print(ri.head())\n",
    "\n",
    "# Create a DataFrame from the 'DATE' and 'rating' columns\n",
    "weather_rating = weather[['DATE', 'rating']]\n",
    "\n",
    "# Examine the head of 'weather_rating'\n",
    "print(weather_rating.head())"
   ]
  },
  {
   "cell_type": "code",
   "execution_count": null,
   "id": "c4c78c65",
   "metadata": {},
   "outputs": [],
   "source": [
    "# Examine the shape of 'ri'\n",
    "print(ri.shape)\n",
    "\n",
    "# Merge 'ri' and 'weather_rating' using a left join\n",
    "ri_weather = pd.merge(left=ri, right=weather_rating, left_on='stop_date', right_on='DATE', how='left')\n",
    "\n",
    "# Examine the shape of 'ri_weather'\n",
    "print(ri_weather.shape)\n",
    "\n",
    "# Set 'stop_datetime' as the index of 'ri_weather'\n",
    "ri_weather.set_index('stop_datetime', inplace=True)"
   ]
  },
  {
   "cell_type": "markdown",
   "id": "2741bb8a",
   "metadata": {},
   "source": [
    "Multi-indexed Series (from groupby()) to a DataFrame\n",
    "\n",
    "with .unstack()"
   ]
  },
  {
   "cell_type": "code",
   "execution_count": null,
   "id": "0fd3326a",
   "metadata": {},
   "outputs": [],
   "source": [
    "# Calculate the arrest rate for each 'violation' and 'rating'\n",
    "print(ri_weather.groupby(['violation', 'rating']).is_arrested.mean())"
   ]
  },
  {
   "cell_type": "markdown",
   "id": "a3f6a081",
   "metadata": {},
   "source": [
    "Using .loc(['inner level index', 'outer level index')]"
   ]
  },
  {
   "cell_type": "code",
   "execution_count": null,
   "id": "86d94667",
   "metadata": {},
   "outputs": [],
   "source": [
    "# Save the output of the groupby operation from the last exercise\n",
    "arrest_rate = ri_weather.groupby(['violation', 'rating']).is_arrested.mean()\n",
    "\n",
    "# Print the 'arrest_rate' Series\n",
    "print(arrest_rate)\n",
    "\n",
    "# Print the arrest rate for moving violations in bad weather\n",
    "print(arrest_rate.loc[('Moving violation','bad')])\n",
    "\n",
    "# Print the arrest rates for speeding violations in all three weather conditions\n",
    "print(arrest_rate.loc['Speeding'])"
   ]
  },
  {
   "cell_type": "markdown",
   "id": "5ba455c7",
   "metadata": {},
   "source": [
    "Pivot table and unstack series to dataframe"
   ]
  },
  {
   "cell_type": "code",
   "execution_count": null,
   "id": "84902513",
   "metadata": {},
   "outputs": [],
   "source": [
    "# Unstack the 'arrest_rate' Series into a DataFrame\n",
    "print(arrest_rate.unstack())\n",
    "\n",
    "# Create the same DataFrame using a pivot table\n",
    "print(ri_weather.pivot_table(index='violation', columns='rating', values='is_arrested'))"
   ]
  },
  {
   "cell_type": "markdown",
   "id": "8a8548e4",
   "metadata": {},
   "source": [
    "Categorical Data"
   ]
  },
  {
   "cell_type": "code",
   "execution_count": null,
   "id": "88fa2948",
   "metadata": {},
   "outputs": [],
   "source": [
    "pd.Categorical(my_data, categories = ['C', 'B', 'A'], ordered = True)"
   ]
  },
  {
   "cell_type": "code",
   "execution_count": null,
   "id": "35b68ee9",
   "metadata": {},
   "outputs": [],
   "source": [
    "#can set dtypes when reading data\n",
    "adult_types = {'Marital_status':'category'}\n",
    "pd.read_csv('data.csv', dtype= adult_dtypes)"
   ]
  },
  {
   "cell_type": "code",
   "execution_count": null,
   "id": "83cd2508",
   "metadata": {},
   "outputs": [],
   "source": [
    "# Create a Series, default dtype\n",
    "series1 = pd.Series(list_of_occupations)\n",
    "\n",
    "# Print out the data type and number of bytes for series1\n",
    "print(\"series1 data type:\", series1.dtype)\n",
    "print(\"series1 number of bytes:\", series1.nbytes)\n",
    "\n",
    "# Create a Series, \"category\" dtype\n",
    "series2 = pd.Series(list_of_occupations, dtype=\"category\")\n",
    "\n",
    "# Print out the data type and number of bytes for series2\n",
    "print(\"series2 data type:\", series2.dtype)\n",
    "print(\"series2 number of bytes:\", series2.nbytes)"
   ]
  },
  {
   "cell_type": "code",
   "execution_count": null,
   "id": "f5dd4523",
   "metadata": {},
   "outputs": [],
   "source": [
    "# Create a categorical Series and specify the categories (let pandas know the order matters!)\n",
    "medals = pd.Categorical(medals_won, ['Bronze', 'Silver', 'Gold'], ordered=True)\n",
    "print(medals)"
   ]
  },
  {
   "cell_type": "code",
   "execution_count": null,
   "id": "53c29b57",
   "metadata": {},
   "outputs": [],
   "source": [
    "# Create a dictionary with column names as keys and \"category\" as values\n",
    "adult_dtypes = {\n",
    "   \"Workclass\": \"category\",\n",
    "   \"Education\": \"category\",\n",
    "   \"Relationship\": \"category\",\n",
    "   \"Above/Below 50k\": \"category\" \n",
    "}\n",
    "\n",
    "# Read in the CSV using the dtypes parameter\n",
    "adult2 = pd.read_csv(\n",
    "  \"adult.csv\",\n",
    "  dtype = adult_dtypes\n",
    ")"
   ]
  },
  {
   "cell_type": "markdown",
   "id": "f0a83b1f",
   "metadata": {},
   "source": [
    "Theoretical question: how many groups created from: \n",
    "\n",
    "\"Workclass\" (which has 9 categories)\n",
    "\"Above/Below 50k\" (which has 2 categories)\n",
    "\"Education\" (which has 16 categories).\n",
    "\n",
    "Answer: 208 are created out of 288 possible groups.\n",
    "\n",
    "9 * 2 * 16 = 288"
   ]
  },
  {
   "cell_type": "code",
   "execution_count": null,
   "id": "1bdd8b44",
   "metadata": {},
   "outputs": [],
   "source": [
    "# Group the adult dataset by \"Sex\" and \"Above/Below 50k\"\n",
    "gb = adult.groupby(by= ['Sex', 'Above/Below 50k'])\n",
    "\n",
    "# Print out how many rows are in each created group\n",
    "print(gb.size())\n",
    "\n",
    "# Print out the mean of each group for all columns\n",
    "print(gb.mean())"
   ]
  },
  {
   "cell_type": "markdown",
   "id": "64c7c7f6",
   "metadata": {},
   "source": [
    "Series.cat accessor object allows us to manipulate the categeorical"
   ]
  },
  {
   "cell_type": "code",
   "execution_count": null,
   "id": "2c0cddf6",
   "metadata": {},
   "outputs": [],
   "source": [
    "cat.set_categories() # used to set order of categories, values not specified in this method are dropped (if )\n",
    "\n",
    "cat.add_categories() # does not change value of data in DataFrame\n",
    "\n",
    "cat.remove_categories() # values matching categoried listed are set to NaN\n",
    "\n",
    "cat.categories # view categories\n",
    "\n",
    "cat.rename_categories(new_categories=dict) #give dict with key = current value = replaced category"
   ]
  },
  {
   "cell_type": "code",
   "execution_count": null,
   "id": "ae4b14b2",
   "metadata": {},
   "outputs": [],
   "source": [
    "# Set \"maybe\" to be \"no\"\n",
    "dogs.loc[dogs[\"likes_children\"] == \"maybe\", \"likes_children\"] = \"no\"\n",
    "\n",
    "# Print out categories\n",
    "print(dogs[\"likes_children\"].cat.categories)\n",
    "\n",
    "# Print the frequency table\n",
    "print(dogs[\"likes_children\"].value_counts())\n",
    "\n",
    "# Remove the `\"maybe\" category\n",
    "dogs[\"likes_children\"] = dogs[\"likes_children\"].cat.remove_categories([\"maybe\"])\n",
    "print(dogs[\"likes_children\"].value_counts())\n",
    "\n",
    "# Print the categories one more time\n",
    "print(dogs['likes_children'].cat.categories)"
   ]
  },
  {
   "cell_type": "markdown",
   "id": "0bb339fb",
   "metadata": {},
   "source": [
    "Rename cartegories can also use lambda function"
   ]
  },
  {
   "cell_type": "code",
   "execution_count": null,
   "id": "61ae3c72",
   "metadata": {},
   "outputs": [],
   "source": [
    "dogs['sex'] = dogs['sex'].cat.rename_categories(lambda c: c.title())"
   ]
  },
  {
   "cell_type": "markdown",
   "id": "c631318e",
   "metadata": {},
   "source": [
    "Limitation of rename_categores -> cannot collapse categories -> ie. replace multiple categories to be one category"
   ]
  },
  {
   "cell_type": "markdown",
   "id": "dfd770ac",
   "metadata": {},
   "source": [
    "Collapse categoreies setup\n",
    "\n",
    "Use string methods, such as .replace -then convert back to categorical"
   ]
  },
  {
   "cell_type": "code",
   "execution_count": 2,
   "id": "7218f6d9",
   "metadata": {},
   "outputs": [],
   "source": [
    "# example of replace -> convert to categorical\n",
    "# Create the update_coats dictionary\n",
    "update_coats = {'wirehaired':'medium', 'medium-long':'medium'}\n",
    "\n",
    "# Create a new column, coat_collapsed\n",
    "dogs[\"coat_collapsed\"] = dogs['coat'].replace(update_coats)\n",
    "\n",
    "# Convert the column to categorical\n",
    "dogs['coat_collapsed'] = dogs['coat_collapsed'].astype('category')\n",
    "\n",
    "# Print the frequency table\n",
    "print(dogs['coat_collapsed'].value_counts())"
   ]
  },
  {
   "cell_type": "markdown",
   "id": "3545e11e",
   "metadata": {},
   "source": [
    "Reordering categories"
   ]
  },
  {
   "cell_type": "code",
   "execution_count": null,
   "id": "b2a1ed10",
   "metadata": {},
   "outputs": [],
   "source": [
    "# Print out the current categories of the size variable\n",
    "print(dogs[\"size\"].cat.categories)\n",
    "\n",
    "# Reorder the categories, specifying the Series is ordinal\n",
    "dogs[\"size\"] = dogs[\"size\"].cat.reorder_categories(\n",
    "  new_categories=[\"small\", \"medium\", \"large\"]\n",
    ")"
   ]
  },
  {
   "cell_type": "code",
   "execution_count": null,
   "id": "889a90d9",
   "metadata": {},
   "outputs": [],
   "source": [
    "## with ordered and inplace\n",
    "# Reorder the categories, specifying the Series is ordinal, and overwriting the original series\n",
    "dogs[\"size\"].cat.reorder_categories(\n",
    "  new_categories=[\"small\", \"medium\", \"large\"],\n",
    "  ordered=True,\n",
    "  inplace = True\n",
    ")"
   ]
  },
  {
   "cell_type": "markdown",
   "id": "22863813",
   "metadata": {},
   "source": [
    "Str methods such as str.contains\n",
    "\n",
    "str.contains('Shepher', regex=False)"
   ]
  },
  {
   "cell_type": "code",
   "execution_count": null,
   "id": "46925b5e",
   "metadata": {},
   "outputs": [],
   "source": [
    "# Fix the misspelled word\n",
    "replace_map = {\"Malez\": \"male\"}\n",
    "\n",
    "# Update the sex column using the created map\n",
    "dogs[\"sex\"] = dogs[\"sex\"].replace(replace_map)\n",
    "\n",
    "# Strip away leading whitespace\n",
    "dogs[\"sex\"] = dogs[\"sex\"].str.strip()\n",
    "\n",
    "# Make all responses lowercase\n",
    "dogs[\"sex\"] = dogs[\"sex\"].str.lower()\n",
    "\n",
    "# Convert to a categorical Series\n",
    "dogs[\"sex\"] = dogs['sex'].astype('category')\n",
    "\n",
    "print(dogs[\"sex\"].value_counts())"
   ]
  },
  {
   "cell_type": "code",
   "execution_count": null,
   "id": "00bccacf",
   "metadata": {},
   "outputs": [],
   "source": [
    "# Print the category of the coat for ID 23807\n",
    "print(dogs.loc[23807, 'coat']) ## since ID is an index in this dataframe"
   ]
  },
  {
   "cell_type": "code",
   "execution_count": null,
   "id": "130c0e6b",
   "metadata": {},
   "outputs": [],
   "source": [
    "# Find the count of male and female dogs who have a \"long\" coat\n",
    "print(dogs.loc[dogs['coat'] == 'long', 'sex'].value_counts())"
   ]
  },
  {
   "cell_type": "code",
   "execution_count": null,
   "id": "7812f74e",
   "metadata": {},
   "outputs": [],
   "source": [
    "# Print the mean age of dogs with a breed of \"English Cocker Spaniel\"\n",
    "print(dogs.loc[dogs['breed'] == 'English Cocker Spaniel', 'age'].mean())"
   ]
  },
  {
   "cell_type": "markdown",
   "id": "59218f7e",
   "metadata": {},
   "source": [
    "Seaborn review"
   ]
  },
  {
   "cell_type": "code",
   "execution_count": null,
   "id": "225f9df3",
   "metadata": {},
   "outputs": [],
   "source": [
    "# Set the font size to 1.25\n",
    "sns.set(font_scale=1.25)\n",
    "\n",
    "# Set the background to \"darkgrid\"\n",
    "sns.set_style('darkgrid')\n",
    "\n",
    "# Create a boxplot\n",
    "sns.catplot(x = 'Traveler type', y = 'Helpful votes', data = reviews, kind='box')"
   ]
  },
  {
   "cell_type": "code",
   "execution_count": null,
   "id": "c64777ab",
   "metadata": {},
   "outputs": [],
   "source": [
    "# Set style\n",
    "sns.set(font_scale=.9)\n",
    "sns.set_style(\"whitegrid\")\n",
    "\n",
    "# Print the frequency counts for \"User continent\"\n",
    "print(reviews[\"User continent\"].value_counts())\n",
    "\n",
    "# Convert \"User continent\" to a categorical variable\n",
    "reviews[\"User continent\"] = reviews[\"User continent\"].astype(\"category\")\n",
    "\n",
    "# Reorder \"User continent\" using continent_categories and rerun the graphic\n",
    "continent_categories = list(reviews[\"User continent\"].value_counts().index)\n",
    "reviews[\"User continent\"] = reviews[\"User continent\"].cat.reorder_categories(new_categories=continent_categories)\n",
    "sns.catplot(x=\"User continent\", y=\"Score\", data=reviews, kind=\"bar\")\n",
    "plt.show()"
   ]
  },
  {
   "cell_type": "code",
   "execution_count": null,
   "id": "5fb5a40f",
   "metadata": {},
   "outputs": [],
   "source": [
    "# count plot, should only specify x or y, but not both!\n",
    "\n",
    "sns.set(font_scale=1.4)\n",
    "sns.set_style(\"darkgrid\")\n",
    "\n",
    "# Create a catplot that will count the frequency of \"Score\" across \"Traveler type\"\n",
    "sns.catplot(\n",
    "  x = 'Score', data = reviews, kind='count', hue='Traveler type'\n",
    ")\n",
    "plt.show()"
   ]
  },
  {
   "cell_type": "code",
   "execution_count": null,
   "id": "28468b0e",
   "metadata": {},
   "outputs": [],
   "source": [
    "# Create a catplot for each \"Period of stay\" broken down by \"Review weekday\"\n",
    "ax = sns.catplot(\n",
    "  # Make sure Review weekday is along the x-axis\n",
    "  x = 'Review weekday',\n",
    "  # Specify Period of stay as the column to create individual graphics for\n",
    "  col = 'Period of stay',\n",
    "  # Specify that a count plot should be created\n",
    "  kind = \"count\",\n",
    "  # Wrap the plots after every 2nd graphic.\n",
    "  col_wrap = 2,\n",
    "  data=reviews\n",
    ")\n",
    "plt.show()"
   ]
  },
  {
   "cell_type": "code",
   "execution_count": null,
   "id": "80881ecd",
   "metadata": {},
   "outputs": [],
   "source": [
    "# Add a title\n",
    "ax.fig.suptitle(\"Hotel Score by Traveler Type and Free Internet Access\")\n",
    "# Update the axis labels\n",
    "ax.set_axis_labels(\"Free Internet\", \"Average Review Rating\")\n",
    "# Adjust the starting height of the graphic\n",
    "plt.subplots_adjust(top=0.93)\n"
   ]
  },
  {
   "cell_type": "code",
   "execution_count": null,
   "id": "3775fe0b",
   "metadata": {},
   "outputs": [],
   "source": [
    "# Print the frequency table of body_type and include NaN values\n",
    "print(used_cars[\"body_type\"].value_counts(dropna=False))\n",
    "\n",
    "# Update NaN values\n",
    "used_cars.loc[used_cars[\"body_type\"].isna(), \"body_type\"] = \"other\""
   ]
  },
  {
   "cell_type": "code",
   "execution_count": null,
   "id": "215aa2a1",
   "metadata": {},
   "outputs": [],
   "source": [
    "# numpy and categorical - convert to astype(int) for numerical calculations first\n",
    "average_score = used_cars[\"Sale Rating\"].mean()"
   ]
  },
  {
   "cell_type": "markdown",
   "id": "ae84c64e",
   "metadata": {},
   "source": [
    "Label Encoding - save memory\n",
    "- cateogory become integer, -1 is missing"
   ]
  },
  {
   "cell_type": "code",
   "execution_count": null,
   "id": "bad7b97e",
   "metadata": {},
   "outputs": [],
   "source": [
    "#python zip\n",
    "\n",
    "name_map = dict(zip(codes, categories))\n",
    "\n",
    "# goes through codes and categories one at a time"
   ]
  },
  {
   "cell_type": "code",
   "execution_count": null,
   "id": "328060cb",
   "metadata": {},
   "outputs": [],
   "source": [
    "df.cat.codes # creates codes from categorical series"
   ]
  },
  {
   "cell_type": "code",
   "execution_count": null,
   "id": "f5684a56",
   "metadata": {},
   "outputs": [],
   "source": [
    "# Create a label encoding\n",
    "used_cars[\"color_code\"] = used_cars[\"color\"].cat.codes"
   ]
  },
  {
   "cell_type": "code",
   "execution_count": null,
   "id": "e93a2b5a",
   "metadata": {},
   "outputs": [],
   "source": [
    "# Convert to categorical and print the frequency table\n",
    "used_cars[\"color\"] = used_cars[\"color\"].astype(\"category\")\n",
    "print(used_cars[\"color\"].value_counts())\n",
    "\n",
    "# Create a label encoding\n",
    "used_cars[\"color_code\"] = used_cars[\"color\"].cat.codes\n",
    "\n",
    "# Create codes and categories objects\n",
    "codes = used_cars[\"color\"].cat.codes\n",
    "categories = used_cars[\"color\"]\n",
    "color_map = dict(zip(codes, categories))"
   ]
  },
  {
   "cell_type": "code",
   "execution_count": null,
   "id": "87628886",
   "metadata": {},
   "outputs": [],
   "source": [
    "# Update the color column using the color_map\n",
    "used_cars_updated[\"color\"] = used_cars_updated['color'].map(color_map)\n",
    "# Update the engine fuel column using the fuel_map\n",
    "used_cars_updated[\"engine_fuel\"] = used_cars_updated['engine_fuel'].map(fuel_map)\n",
    "# Update the transmission column using the transmission_map\n",
    "used_cars_updated[\"transmission\"] = used_cars_updated['transmission'].map(transmission_map)"
   ]
  },
  {
   "cell_type": "markdown",
   "id": "48ccc87e",
   "metadata": {},
   "source": [
    "Boolean encoding\n",
    "\n",
    "np.where(...)"
   ]
  },
  {
   "cell_type": "code",
   "execution_count": null,
   "id": "4d40e203",
   "metadata": {},
   "outputs": [],
   "source": [
    "# Create a Boolean column based on if the manufacturer name that contain Volkswagen using True and False\n",
    "used_cars[\"is_volkswagen\"] = np.where(\n",
    "  used_cars[\"manufacturer_name\"].str.contains('Volkswagen', regex=False), True, False\n",
    ")"
   ]
  },
  {
   "cell_type": "code",
   "execution_count": null,
   "id": "4ff06961",
   "metadata": {},
   "outputs": [],
   "source": [
    "# Create a Boolean column for the most common manufacturer name  ## using 1s and 0s\n",
    "used_cars[\"is_volkswagen\"] = np.where(\n",
    "  used_cars[\"manufacturer_name\"].str.contains(\"Volkswagen\", regex=False), 1, 0\n",
    ")  "
   ]
  },
  {
   "cell_type": "markdown",
   "id": "bd0d7d9f",
   "metadata": {},
   "source": [
    "One hot encoding\n",
    "\n",
    "label encoding -> since numbered, machine learning might mistraing -> 0, 1, 2, 3 for unrelated\n",
    "\n",
    "use \n",
    "pd.get_dummies()\n",
    "data, columns (list-like column names), prefix (string to add at beginning of each category)\n",
    "\n",
    "\n",
    "-Note for one hot encoding -> the number of values (eg color: 5 categories) -> number of new columns created \n",
    "\n",
    "-Note for machine learning -> training on too many columns -> leading to overfitting\n",
    "\n",
    "column for missing values is not created"
   ]
  },
  {
   "attachments": {
    "image.png": {
     "image/png": "[encoded data removed]"
    }
   },
   "cell_type": "markdown",
   "id": "d0c24ba3",
   "metadata": {},
   "source": [
    "![image.png](attachment:image.png)"
   ]
  },
  {
   "cell_type": "code",
   "execution_count": null,
   "id": "8595f5ee",
   "metadata": {},
   "outputs": [],
   "source": [
    "# Create one-hot encoding for just two columns\n",
    "used_cars_simple = pd.get_dummies(\n",
    "  used_cars,\n",
    "  # Specify the columns from the instructions\n",
    "  columns = ['manufacturer_name', 'transmission'],\n",
    "  # Set the prefix\n",
    "  prefix = 'dummy'\n",
    ")"
   ]
  },
  {
   "cell_type": "markdown",
   "id": "e6630b76",
   "metadata": {},
   "source": [
    "SQL\n",
    "\n",
    "record - row\n",
    "\n",
    "field - column, contains a single attribute for all rows in table"
   ]
  },
  {
   "cell_type": "code",
   "execution_count": null,
   "id": "e28f228a",
   "metadata": {},
   "outputs": [],
   "source": [
    "SELECT * FROM table LIMIT 1;       \n",
    "\n",
    "## this selects first line, gives you all column names, which is useful, and limits with LIMIT"
   ]
  },
  {
   "cell_type": "code",
   "execution_count": null,
   "id": "a6945849",
   "metadata": {},
   "outputs": [],
   "source": [
    "SELECT DISTINCT country FROM films; ## select unique value"
   ]
  },
  {
   "cell_type": "code",
   "execution_count": null,
   "id": "ea91824a",
   "metadata": {},
   "outputs": [],
   "source": [
    "SELECT COUNT(*) FROM table; ## select the number of distinct records in a table"
   ]
  },
  {
   "cell_type": "code",
   "execution_count": null,
   "id": "74aed495",
   "metadata": {},
   "outputs": [],
   "source": [
    "SELECT COUNT(col_name) FROM table; ## select number of only NON-MISSING records in COLUMN"
   ]
  },
  {
   "cell_type": "code",
   "execution_count": null,
   "id": "11f44e03",
   "metadata": {},
   "outputs": [],
   "source": [
    "SELECT COUNT(DISTINCT col_name) FROM table; ## select number of unique non-missing records in a field"
   ]
  },
  {
   "cell_type": "markdown",
   "id": "18ba28e2",
   "metadata": {},
   "source": [
    "Example"
   ]
  },
  {
   "cell_type": "code",
   "execution_count": null,
   "id": "3f3556f9",
   "metadata": {},
   "outputs": [],
   "source": [
    "SELECT COUNT(title) FROM films WHERE release_year < 2000;"
   ]
  },
  {
   "cell_type": "markdown",
   "id": "1ab6fe47",
   "metadata": {},
   "source": [
    "Note in PostgreSQL, must use single quotes with WHERE, eg WHERE country = 'China';\n",
    "\n",
    "Note single quotes"
   ]
  },
  {
   "cell_type": "code",
   "execution_count": null,
   "id": "2c8ab60c",
   "metadata": {},
   "outputs": [],
   "source": [
    "WHERE release_year >= 1994 AND release_year <=2000; ## very common\n",
    "\n",
    "## use BETWEEN. BETWEEN IS INCLUSIVE OF END POINTS\n",
    "\n",
    "WHERE release_year BETWEEN 1994 AND 2000;"
   ]
  },
  {
   "cell_type": "code",
   "execution_count": null,
   "id": "b8576b4a",
   "metadata": {},
   "outputs": [],
   "source": [
    "## IN operator = Multiple OR clauses    IN (list, inside parentheses)\n",
    "WHERE release_year IN (1990, 2000);"
   ]
  },
  {
   "cell_type": "markdown",
   "id": "66a69ba5",
   "metadata": {},
   "source": [
    "SQL NULL is missing or unknown value"
   ]
  },
  {
   "cell_type": "code",
   "execution_count": null,
   "id": "7b918287",
   "metadata": {},
   "outputs": [],
   "source": [
    "## use IS NULL to check NULL\n",
    "\n",
    "select title from films where budget is null;"
   ]
  },
  {
   "cell_type": "markdown",
   "id": "dc4e3757",
   "metadata": {},
   "source": [
    "## LIKE and NOT LIKE\n",
    "\n",
    "As you've seen, the WHERE clause can be used to filter text data. However, so far you've only been able to filter by specifying the exact text you're interested in. In the real world, often you'll want to search for a pattern rather than a specific text string.\n",
    "\n",
    "In SQL, the LIKE operator can be used in a WHERE clause to search for a pattern in a column. To accomplish this, you use something called a wildcard as a placeholder for some other values. There are two wildcards you can use with LIKE:\n",
    "\n",
    "## %  wildcard\n",
    "\n",
    "The % wildcard will match zero, one, or many characters in text. For example, the following query matches companies like 'Data', 'DataC' 'DataCamp', 'DataMind', and so on:\n",
    "\n",
    "\n",
    "## _ wildcard\n",
    "\n",
    "The _ wildcard will match a single character."
   ]
  },
  {
   "cell_type": "code",
   "execution_count": null,
   "id": "a1d45360",
   "metadata": {},
   "outputs": [],
   "source": [
    "SELECT name FROM people WHERE name LIKE 'B%'\n",
    "#select name from people where name like 'B%'"
   ]
  },
  {
   "cell_type": "code",
   "execution_count": null,
   "id": "d4fa029a",
   "metadata": {},
   "outputs": [],
   "source": [
    "SELECT name FROM people WHERE name NOT LIKE 'A%'\n",
    "#Get the names of people whose names don't start with A. The pattern you need is 'A%'."
   ]
  },
  {
   "cell_type": "markdown",
   "id": "11883aee",
   "metadata": {},
   "source": [
    "## Aggregate functions\n",
    "\n",
    "Often, you will want to perform some calculation on the data in a database. SQL provides a few functions, called aggregate functions, to help you out with this.\n",
    "\n",
    "For example,\n",
    "\n",
    "SELECT AVG(budget)\n",
    "FROM films;\n",
    "gives you the average value from the budget column of the films table. Similarly, the MAX() function returns the highest budget:\n",
    "\n",
    "SELECT MAX(budget)\n",
    "FROM films;\n",
    "The SUM() function returns the result of adding up the numeric values in a column:\n",
    "\n",
    "SELECT SUM(budget)\n",
    "FROM films;\n",
    "You can probably guess what the MIN() function does! Now it's your turn to try out some SQL functions."
   ]
  },
  {
   "cell_type": "code",
   "execution_count": null,
   "id": "536d35e7",
   "metadata": {},
   "outputs": [],
   "source": [
    "## combining with where\n",
    "SELECT SUM(gross) FROM films WHERE release_year >= 2000; \n",
    "#SELECT SUM(gross) FROM films WHERE release_year >= 2000;"
   ]
  },
  {
   "cell_type": "code",
   "execution_count": null,
   "id": "e57a5736",
   "metadata": {},
   "outputs": [],
   "source": [
    "SELECT AVG(gross) FROM films WHERE title LIKE 'A%';\n",
    "# Get the average amount grossed by all films whose titles start with the letter 'A'."
   ]
  },
  {
   "cell_type": "markdown",
   "id": "b49d91ad",
   "metadata": {},
   "source": [
    "Note on arithmetic, SQL math operations on integers only give integers 10/3 = 3"
   ]
  },
  {
   "cell_type": "markdown",
   "id": "e194036b",
   "metadata": {},
   "source": [
    "## Aliaising\n",
    "\n",
    "SELECT MAX(budget) AS max_budget,\n",
    "       MAX(duration) AS max_duration\n",
    "FROM films;"
   ]
  },
  {
   "cell_type": "code",
   "execution_count": null,
   "id": "5a92e0e8",
   "metadata": {},
   "outputs": [],
   "source": [
    "SELECT title, gross - budget AS net_profit FROM films; \n",
    "#Get the title and net profit (the amount a film grossed, minus \n",
    "#its budget) for all films. Alias the net profit as net_profit."
   ]
  },
  {
   "cell_type": "code",
   "execution_count": null,
   "id": "73452d89",
   "metadata": {},
   "outputs": [],
   "source": [
    "SELECT AVG(duration)/60.0 AS avg_duration_hours FROM films;\n",
    "# Get the average duration in hours for all films, aliased as avg_duration_hours."
   ]
  },
  {
   "cell_type": "code",
   "execution_count": null,
   "id": "c7c63f7e",
   "metadata": {},
   "outputs": [],
   "source": [
    "## ordering\n",
    "SELECT name\n",
    "FROM people\n",
    "ORDER BY name;"
   ]
  },
  {
   "cell_type": "code",
   "execution_count": null,
   "id": "8c613ef4",
   "metadata": {},
   "outputs": [],
   "source": [
    "SELECT title FROM films WHERE release_year IN (2000, 2012) ORDER BY release_year;\n",
    "#Get the title of films released in 2000 or 2012, in the order they were released."
   ]
  },
  {
   "cell_type": "markdown",
   "id": "2516ac6a",
   "metadata": {},
   "source": [
    "## Comparison operator <> is same as !=\n",
    "\n",
    "<> is preferred in SQL"
   ]
  },
  {
   "cell_type": "code",
   "execution_count": null,
   "id": "4ba17067",
   "metadata": {},
   "outputs": [],
   "source": [
    "SELECT * FROM films WHERE release_year <> 2015 ORDER BY duration;\n",
    "#Get all details for all films except those released in 2015 and order them by duration."
   ]
  },
  {
   "cell_type": "code",
   "execution_count": null,
   "id": "272ecc31",
   "metadata": {},
   "outputs": [],
   "source": [
    "SELECT title, gross FROM films WHERE title LIKE 'M%' ORDER BY title;\n",
    "#Get the title and gross earnings for movies which begin with the letter 'M' and order the results alphabetically."
   ]
  },
  {
   "cell_type": "code",
   "execution_count": null,
   "id": "2c023b4b",
   "metadata": {},
   "outputs": [],
   "source": [
    "SELECT imdb_score, film_ID FROM reviews ORDER BY imdb_score DESC;\n",
    "#Get the IMDB score and film ID for every film from the reviews table, sorted from highest to lowest score."
   ]
  },
  {
   "cell_type": "code",
   "execution_count": null,
   "id": "2af68f85",
   "metadata": {},
   "outputs": [],
   "source": [
    "## DESC is Z-> A\n",
    "SELECT title FROM films ORDER BY title DESC;"
   ]
  },
  {
   "cell_type": "markdown",
   "id": "07eedb51",
   "metadata": {},
   "source": [
    "MULTIPLE ORDER BY"
   ]
  },
  {
   "cell_type": "code",
   "execution_count": null,
   "id": "43bd2df2",
   "metadata": {},
   "outputs": [],
   "source": [
    "SELECT birthdate, name FROM people ORDER BY birthdate, name ASC;\n",
    "#Get the birth date and name of people in the people table, in order of when they were born and alphabetically by name."
   ]
  },
  {
   "cell_type": "code",
   "execution_count": null,
   "id": "a6c69860",
   "metadata": {},
   "outputs": [],
   "source": [
    "SELECT release_year, COUNT(title) FROM films GROUP BY release_year;\n",
    "#Get the release year and count of films released in each year."
   ]
  },
  {
   "cell_type": "markdown",
   "id": "efabe2f7",
   "metadata": {},
   "source": [
    "## Make sure to always put ORDER BY clause at end of query"
   ]
  },
  {
   "cell_type": "code",
   "execution_count": null,
   "id": "8935f066",
   "metadata": {},
   "outputs": [],
   "source": [
    "SELECT release_year, country, MAX(budget) FROM films GROUP BY release_year, country ORDER BY release_year, country;\n",
    "#Get the release year, country, and highest budget spent making a film for each year, for each country.\n",
    "#Sort your results by release year and country."
   ]
  },
  {
   "cell_type": "code",
   "execution_count": null,
   "id": "9e8de02d",
   "metadata": {},
   "outputs": [],
   "source": [
    "SELECT country, release_year, MIN(gross) FROM films GROUP BY release_year, country ORDER BY country, release_year;\n",
    "#Get the country, release year, and lowest amount grossed per release year per country. \n",
    "#Order your results by country and release year."
   ]
  },
  {
   "cell_type": "markdown",
   "id": "160f9282",
   "metadata": {},
   "source": [
    "## Having\n",
    "\n",
    "having instead of where, when you want to perform aggregate functions\n",
    "\n",
    "GROUP BY release_year HAVING COUNT(title) > 10;"
   ]
  },
  {
   "cell_type": "code",
   "execution_count": null,
   "id": "7d6f5480",
   "metadata": {},
   "outputs": [],
   "source": [
    "## starting complicated queries\n",
    "\n",
    "SELECT release_year FROM films GROUP BY release_year HAVING COUNT(title) > 200;\n",
    "##In how many different years were more than 200 movies released?\n",
    "\n",
    "##Explanation of query ->\n",
    "## select records from the the table, grouping by each year, with the condition HAVING titles > 200\n",
    "## output see how many records are retrieved, and that is the answer\n"
   ]
  },
  {
   "cell_type": "markdown",
   "id": "6dfd1ee7",
   "metadata": {},
   "source": [
    "## order of GROUP BY and WHERE matters\n",
    "\n",
    "SELECT release_year,\n",
    "FROM films\n",
    "WHERE release_year > 1990\n",
    "GROUP BY release_year;"
   ]
  },
  {
   "cell_type": "code",
   "execution_count": null,
   "id": "27efe0d4",
   "metadata": {},
   "outputs": [],
   "source": [
    "SELECT release_year, AVG(budget) AS avg_budget, AVG(gross) AS avg_gross\n",
    "FROM films\n",
    "WHERE release_year > 1990\n",
    "GROUP BY release_year\n",
    "HAVING AVG(budget) > 60000000;\n",
    "#include the average budget and average gross earnings for the results you have so far. \n",
    "#Alias the average budget as avg_budget; alias the average gross earnings as avg_gross.\n",
    "#query so that only years with an average budget of greater than $60 million are included."
   ]
  },
  {
   "cell_type": "code",
   "execution_count": null,
   "id": "b0d9e8f0",
   "metadata": {},
   "outputs": [],
   "source": [
    "SELECT release_year, AVG(budget) AS avg_budget, AVG(gross) AS avg_gross\n",
    "FROM films\n",
    "WHERE release_year > 1990\n",
    "GROUP BY release_year\n",
    "HAVING AVG(budget) > 60000000\n",
    "ORDER BY avg_gross DESC;\n",
    "\n",
    "# here avg_gross ALIAS is important, allows the aggregate function to be in ORDER BY clause;"
   ]
  },
  {
   "cell_type": "code",
   "execution_count": null,
   "id": "dcfb91a3",
   "metadata": {},
   "outputs": [],
   "source": [
    "SELECT country, AVG(budget) AS avg_budget, AVG(gross) AS avg_gross\n",
    "FROM films GROUP BY country HAVING count(title) > 10 ORDER BY country LIMIT 5\n",
    "\n",
    "#Get the country, average budget, and average gross take of countries that have made more than 10 films. \n",
    "#Order the result by country name, and \n",
    "#limit the number of results displayed to 5. You should alias the averages as avg_budget and avg_gross respectively."
   ]
  },
  {
   "cell_type": "markdown",
   "id": "835bccc5",
   "metadata": {},
   "source": [
    "## Reading files\n",
    "\n",
    "pd.read_csv( nrows = 1000, usecols= (list of nums or list of cols))\n",
    "\n",
    "cols can be read by index eg, usecols=[0, 1, 2, 3]\n",
    "\n",
    "names=[] ## assigns a column names\n",
    "\n",
    "If you only want to rename a few columns, do it after the import"
   ]
  },
  {
   "cell_type": "code",
   "execution_count": null,
   "id": "c61de8ee",
   "metadata": {},
   "outputs": [],
   "source": [
    "# Create list of columns to use\n",
    "cols = ['zipcode', 'agi_stub', 'mars1', 'MARS2', 'NUMDEP']\n",
    "\n",
    "# Create dataframe from csv using only selected columns\n",
    "data = pd.read_csv(\"vt_tax_data_2016.csv\", usecols=cols)\n",
    "\n",
    "# View counts of dependents and tax returns by income level\n",
    "print(data.groupby(\"agi_stub\").sum())"
   ]
  },
  {
   "cell_type": "markdown",
   "id": "1f591e0c",
   "metadata": {},
   "source": [
    "## getting column names from a dataframe with list(dt)\n",
    "\n",
    "list(dataframe) ----> gives the list of values"
   ]
  },
  {
   "cell_type": "markdown",
   "id": "8d60ef52",
   "metadata": {},
   "source": [
    "Use nrows and skiprows to make a dataframe, vt_data_next500, with the next 500 rows.\n",
    "Set the header argument so that pandas knows there is no header row.\n",
    "Name the columns in vt_data_next500 by supplying a list of vt_data_first500's columns to the names argument."
   ]
  },
  {
   "cell_type": "code",
   "execution_count": null,
   "id": "e6a49de8",
   "metadata": {},
   "outputs": [],
   "source": [
    "## example\n",
    "\n",
    "# Create dataframe of next 500 rows with labeled columns\n",
    "vt_data_next500 = pd.read_csv(\"vt_tax_data_2016.csv\", \n",
    "                       \t\t  nrows=500,\n",
    "                       \t\t  skiprows=500,\n",
    "                       \t\t  header=None,\n",
    "                       \t\t  names=list(vt_data_first500))\n",
    "\n",
    "# View the Vermont dataframes to confirm they're different\n",
    "print(vt_data_first500.head())\n",
    "print(vt_data_next500.head())"
   ]
  },
  {
   "cell_type": "code",
   "execution_count": null,
   "id": "528e320b",
   "metadata": {},
   "outputs": [],
   "source": [
    "## in pd.read_csv()\n",
    "dtype=dict\n",
    "dtype={'zipcode':'object'}\n",
    "\n",
    "na_values=dict\n",
    "na_values={'zipcode':0}  ## treat 0 as NaN\n",
    "\n",
    "error_bad_lines = False  #skip unparseable records #eg more values in a record than columns\n",
    "warn_bad_lines=True ## see messages when records are skipped\n"
   ]
  },
  {
   "cell_type": "code",
   "execution_count": null,
   "id": "d190d855",
   "metadata": {},
   "outputs": [],
   "source": [
    "# Create dict specifying data types for agi_stub and zipcode\n",
    "data_types = {'agi_stub':'category',\n",
    "\t\t\t  'zipcode':'object'}\n",
    "\n",
    "# Load csv using dtype to set correct data types\n",
    "data = pd.read_csv(\"vt_tax_data_2016.csv\", dtype=data_types)\n",
    "\n",
    "# Print data types of resulting frame\n",
    "print(data.dtypes.head())"
   ]
  },
  {
   "cell_type": "markdown",
   "id": "218e43f1",
   "metadata": {},
   "source": [
    "Excel\n",
    "read_excel\n",
    "\n",
    "usecols: choose columns by name, positional number or letter (eg. 'A:P')"
   ]
  },
  {
   "cell_type": "code",
   "execution_count": null,
   "id": "3e71a60c",
   "metadata": {},
   "outputs": [],
   "source": [
    "# Create string of lettered columns to load\n",
    "col_string = 'AD,AW:BA' ##Create a single string, col_string, \n",
    "#specifying that pandas should load column AD and the range AW through BA.\n",
    "\n",
    "# Load data with skiprows and usecols set\n",
    "survey_responses = pd.read_excel(\"fcc_survey_headers.xlsx\", \n",
    "                        usecols=col_string, \n",
    "                        skiprows=2)\n",
    "\n",
    "# View the names of the columns selected\n",
    "print(survey_responses.columns)"
   ]
  },
  {
   "cell_type": "code",
   "execution_count": null,
   "id": "fa1568a9",
   "metadata": {},
   "outputs": [],
   "source": []
  },
  {
   "cell_type": "code",
   "execution_count": null,
   "id": "a7035db9",
   "metadata": {},
   "outputs": [],
   "source": []
  },
  {
   "cell_type": "code",
   "execution_count": null,
   "id": "87ccd5fb",
   "metadata": {},
   "outputs": [],
   "source": []
  },
  {
   "cell_type": "code",
   "execution_count": null,
   "id": "14df4a17",
   "metadata": {},
   "outputs": [],
   "source": []
  },
  {
   "cell_type": "code",
   "execution_count": null,
   "id": "23db863e",
   "metadata": {},
   "outputs": [],
   "source": []
  },
  {
   "cell_type": "code",
   "execution_count": null,
   "id": "d5777157",
   "metadata": {},
   "outputs": [],
   "source": []
  },
  {
   "cell_type": "code",
   "execution_count": null,
   "id": "eb7b3002",
   "metadata": {},
   "outputs": [],
   "source": []
  },
  {
   "cell_type": "code",
   "execution_count": null,
   "id": "3dc10ed0",
   "metadata": {},
   "outputs": [],
   "source": []
  },
  {
   "cell_type": "code",
   "execution_count": null,
   "id": "7f3218a7",
   "metadata": {},
   "outputs": [],
   "source": []
  },
  {
   "cell_type": "code",
   "execution_count": null,
   "id": "cdbabcec",
   "metadata": {},
   "outputs": [],
   "source": []
  },
  {
   "cell_type": "code",
   "execution_count": null,
   "id": "c6d8242e",
   "metadata": {},
   "outputs": [],
   "source": []
  },
  {
   "cell_type": "code",
   "execution_count": null,
   "id": "afc43ec5",
   "metadata": {},
   "outputs": [],
   "source": []
  },
  {
   "cell_type": "code",
   "execution_count": null,
   "id": "0c09aa80",
   "metadata": {},
   "outputs": [],
   "source": []
  },
  {
   "cell_type": "code",
   "execution_count": null,
   "id": "62c9028b",
   "metadata": {},
   "outputs": [],
   "source": []
  },
  {
   "cell_type": "code",
   "execution_count": null,
   "id": "a3a4cc53",
   "metadata": {},
   "outputs": [],
   "source": []
  },
  {
   "cell_type": "code",
   "execution_count": null,
   "id": "778802f2",
   "metadata": {},
   "outputs": [],
   "source": []
  },
  {
   "cell_type": "code",
   "execution_count": null,
   "id": "a8344060",
   "metadata": {},
   "outputs": [],
   "source": []
  },
  {
   "cell_type": "code",
   "execution_count": null,
   "id": "2d939c56",
   "metadata": {},
   "outputs": [],
   "source": []
  }
 ],
 "metadata": {
  "kernelspec": {
   "display_name": "Python 3",
   "language": "python",
   "name": "python3"
  },
  "language_info": {
   "codemirror_mode": {
    "name": "ipython",
    "version": 3
   },
   "file_extension": ".py",
   "mimetype": "text/x-python",
   "name": "python",
   "nbconvert_exporter": "python",
   "pygments_lexer": "ipython3",
   "version": "3.8.8"
  }
 },
 "nbformat": 4,
 "nbformat_minor": 5
}
