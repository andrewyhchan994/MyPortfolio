{
 "cells": [
  {
   "cell_type": "markdown",
   "id": "15825ffa",
   "metadata": {},
   "source": [
    "Joining"
   ]
  },
  {
   "cell_type": "code",
   "execution_count": null,
   "id": "4fa232b0",
   "metadata": {},
   "outputs": [],
   "source": [
    "-- Select name fields (with alias) and region \n",
    "SELECT cities.name AS city, countries.name AS country, countries.region\n",
    "FROM cities \n",
    "  INNER JOIN countries\n",
    "    ON cities.country_code = countries.code;"
   ]
  },
  {
   "cell_type": "code",
   "execution_count": null,
   "id": "ece1149e",
   "metadata": {},
   "outputs": [],
   "source": [
    "-- Select fields with aliases\n",
    "SELECT c.code AS country_code, c.name, e.year, e.inflation_rate\n",
    "FROM countries AS c\n",
    "  -- Join to economies (alias e)\n",
    "  INNER JOIN economies AS e\n",
    "    -- Match on code\n",
    "    ON c.code = e.code;"
   ]
  },
  {
   "cell_type": "markdown",
   "id": "1a25efcb",
   "metadata": {},
   "source": [
    "multiple inner joins"
   ]
  },
  {
   "cell_type": "code",
   "execution_count": null,
   "id": "ab76554b",
   "metadata": {},
   "outputs": [],
   "source": [
    "-- Select fields\n",
    "SELECT c.code, name, region, e.year, fertility_rate, unemployment_rate\n",
    "  -- From countries (alias as c)\n",
    "  FROM countries AS c\n",
    "  -- Join to populations (as p)\n",
    "  INNER JOIN populations AS p\n",
    "    -- Match on country code\n",
    "    ON c.code = p.country_code\n",
    "  -- Join to economies (as e)\n",
    "  INNER JOIN economies AS e\n",
    "    -- Match on country code and year\n",
    "    ON c.code = e.code AND p.year = e.year;"
   ]
  },
  {
   "cell_type": "markdown",
   "id": "ed6428bf",
   "metadata": {},
   "source": [
    "INNER JOIN with USING\n",
    "\n",
    "USING(common field)"
   ]
  },
  {
   "cell_type": "code",
   "execution_count": null,
   "id": "f410c161",
   "metadata": {},
   "outputs": [],
   "source": [
    "-- Select fields\n",
    "SELECT c.name AS country, continent, l.name AS language, official\n",
    "  -- From countries (alias as c)\n",
    "  FROM countries AS c\n",
    "  -- Join to languages (as l)\n",
    "  INNER JOIN languages AS l\n",
    "    -- Match using code\n",
    "    USING (code)"
   ]
  },
  {
   "cell_type": "markdown",
   "id": "babe09c8",
   "metadata": {},
   "source": [
    "self-joins and CASE WHEN    THEN\n",
    "\n",
    "C W T - way to write if then else in sql"
   ]
  },
  {
   "cell_type": "markdown",
   "id": "bb266a68",
   "metadata": {},
   "source": [
    "Join populations with itself ON country_code.\n",
    "\n",
    "Select the country_code from p1 and the size field from both p1 and p2. SQL won't allow same-named fields, so alias p1.size as size2010 and p2.size as size2015."
   ]
  },
  {
   "cell_type": "code",
   "execution_count": null,
   "id": "c9253d6d",
   "metadata": {},
   "outputs": [],
   "source": [
    "-- Select fields with aliases\n",
    "SELECT p1.country_code,\n",
    "p1.size AS size2010,\n",
    "p2.country_code,\n",
    "p2.size AS size2015\n",
    "-- From populations (alias as p1)\n",
    "FROM populations AS p1\n",
    "  -- Join to itself (alias as p2)\n",
    "  INNER JOIN populations AS p2\n",
    "    -- Match on country code\n",
    "    USING (country_code)"
   ]
  },
  {
   "cell_type": "markdown",
   "id": "71792d71",
   "metadata": {},
   "source": [
    "Notice from the result that for each country_code you have four entries laying out all combinations of 2010 and 2015.\n",
    "\n",
    "Extend the ON in your query to include only those records where the p1.year (2010) matches with p2.year - 5 (2015 - 5 = 2010). This will omit the three entries per country_code that you aren't interested in."
   ]
  },
  {
   "cell_type": "code",
   "execution_count": null,
   "id": "a997d8b0",
   "metadata": {},
   "outputs": [],
   "source": [
    "-- Select fields with aliases\n",
    "SELECT p1.country_code,\n",
    "       p1.size AS size2010,\n",
    "       p2.size AS size2015\n",
    "-- From populations (alias as p1)\n",
    "FROM populations as p1\n",
    "  -- Join to itself (alias as p2)\n",
    "  INNER JOIN populations as p2\n",
    "    -- Match on country code\n",
    "    ON p1.country_code = p2.country_code\n",
    "        -- and year (with calculation)\n",
    "        AND p1.year = p2.year - 5;"
   ]
  },
  {
   "cell_type": "markdown",
   "id": "00eb47d4",
   "metadata": {},
   "source": [
    "self join - calculate percentage"
   ]
  },
  {
   "cell_type": "code",
   "execution_count": null,
   "id": "9fb5b2dd",
   "metadata": {},
   "outputs": [],
   "source": [
    "-- Select fields with aliases\n",
    "SELECT p1.country_code,\n",
    "       p1.size AS size2010, \n",
    "       p2.size AS size2015,\n",
    "       -- Calculate growth_perc\n",
    "       ((p2.size - p1.size)/p1.size * 100.0) AS growth_perc\n",
    "-- From populations (alias as p1)\n",
    "FROM populations AS p1\n",
    "  -- Join to itself (alias as p2)\n",
    "  INNER JOIN populations AS p2\n",
    "    -- Match on country code\n",
    "    ON p1.country_code = p2.country_code\n",
    "        -- and year (with calculation)\n",
    "        AND p1.year = p2.year - 5;"
   ]
  },
  {
   "cell_type": "markdown",
   "id": "cba4f82a",
   "metadata": {},
   "source": [
    "Using the countries table, create a new field AS geosize_group that groups the countries into three groups:\n",
    "\n",
    "If surface_area is greater than 2 million, geosize_group is 'large'.\n",
    "\n",
    "If surface_area is greater than 350 thousand but not larger than 2 million, geosize_group is 'medium'.\n",
    "\n",
    "Otherwise, geosize_group is 'small'."
   ]
  },
  {
   "cell_type": "code",
   "execution_count": null,
   "id": "8f8c8039",
   "metadata": {},
   "outputs": [],
   "source": [
    "SELECT name, continent, code, surface_area,\n",
    "    -- First case\n",
    "    CASE WHEN surface_area > 2000000 THEN 'large'\n",
    "        -- Second case\n",
    "        WHEN surface_area > 350000 THEN 'medium'\n",
    "        -- Else clause + end\n",
    "        ELSE 'small' END\n",
    "        -- Alias name\n",
    "        AS geosize_group\n",
    "-- From table\n",
    "FROM countries;"
   ]
  },
  {
   "cell_type": "markdown",
   "id": "f134176e",
   "metadata": {},
   "source": [
    "## INTO\n",
    "\n",
    "Keep the first query intact that creates pop_plus using INTO.\n",
    "\n",
    "Write a query to join countries_plus AS c on the left with pop_plus AS p on the right matching on the country code fields.\n",
    "\n",
    "Sort the data based on geosize_group, in ascending order so that large appears on top.\n",
    "\n",
    "Select the name, continent, geosize_group, and popsize_group fields."
   ]
  },
  {
   "cell_type": "code",
   "execution_count": null,
   "id": "9a0b8e3e",
   "metadata": {},
   "outputs": [],
   "source": [
    "SELECT country_code, size,\n",
    "  CASE WHEN size > 50000000\n",
    "            THEN 'large'\n",
    "       WHEN size > 1000000\n",
    "            THEN 'medium'\n",
    "       ELSE 'small' END\n",
    "       AS popsize_group\n",
    "INTO pop_plus       \n",
    "FROM populations\n",
    "WHERE year = 2015;\n",
    "\n",
    "-- Select fields\n",
    "SELECT name, continent, geosize_group, popsize_group\n",
    "-- From countries_plus (alias as c)\n",
    "FROM countries_plus AS c\n",
    "  -- Join to pop_plus (alias as p)\n",
    "  INNER JOIN pop_plus AS p\n",
    "    -- Match on country code\n",
    "    ON c.code = p.country_code\n",
    "-- Order the table    \n",
    "ORDER BY geosize_group ASC;"
   ]
  },
  {
   "cell_type": "code",
   "execution_count": null,
   "id": "806ab179",
   "metadata": {},
   "outputs": [],
   "source": [
    "-- LEFT AND RIGHT JOINS\n",
    "-- Select fields\n",
    "SELECT region, AVG(gdp_percapita) AS avg_gdp\n",
    "-- From countries (alias as c)\n",
    "FROM countries AS c\n",
    "  -- Left join with economies (alias as e)\n",
    "  LEFT JOIN economies AS e\n",
    "    -- Match on code fields\n",
    "    ON c.code = e.code\n",
    "-- Focus on 2010\n",
    "WHERE year = 2010\n",
    "-- Group by region\n",
    "GROUP BY region\n",
    "-- Order by descending avg_gdp\n",
    "ORDER BY avg_gdp DESC;"
   ]
  },
  {
   "cell_type": "markdown",
   "id": "9cd4b814",
   "metadata": {},
   "source": [
    "FULL JOIN\n",
    "\n",
    "combining LEFT JOIN AND RIGHT JOIN, and keeps the missing fields\n",
    "- order matters here"
   ]
  },
  {
   "cell_type": "code",
   "execution_count": null,
   "id": "b17dac1d",
   "metadata": {},
   "outputs": [],
   "source": [
    "SELECT name AS country, code, region, basic_unit\n",
    "-- From countries\n",
    "FROM countries\n",
    "  -- Join to currencies\n",
    "  FULL JOIN currencies\n",
    "    -- Match on code\n",
    "    USING (code)\n",
    "-- Where region is North America or null\n",
    "WHERE region = 'North America' OR region IS NULL\n",
    "-- Order by region\n",
    "ORDER BY region;"
   ]
  },
  {
   "cell_type": "markdown",
   "id": "9759e1aa",
   "metadata": {},
   "source": [
    "FULL JOIN continued\n",
    "\n",
    "Choose records in which countries.name starts with the capital letter 'V' or is NULL.\n",
    "\n",
    "Arrange by countries.name in ascending order to more clearly see the results."
   ]
  },
  {
   "cell_type": "code",
   "execution_count": null,
   "id": "29633d77",
   "metadata": {},
   "outputs": [],
   "source": [
    "SELECT countries.name, code, languages.name AS language\n",
    "-- From languages\n",
    "FROM languages\n",
    "  -- Join to countries\n",
    "  FULL JOIN countries\n",
    "    -- Match on code\n",
    "    USING (code)\n",
    "-- Where countries.name starts with V or is null\n",
    "WHERE countries.name LIKE 'V%' OR countries.name IS NULL\n",
    "-- Order by ascending countries.name\n",
    "ORDER BY countries.name ASC;"
   ]
  },
  {
   "cell_type": "markdown",
   "id": "258a46d9",
   "metadata": {},
   "source": [
    "Complete a full join with countries on the left and languages on the right.\n",
    "\n",
    "Next, full join this result with currencies on the right.\n",
    "\n",
    "Use LIKE to choose the Melanesia and Micronesia regions (Hint: 'M%esia').\n",
    "\n",
    "Select the fields corresponding to the country name AS country, region, language name AS language, and basic and fractional units of currency."
   ]
  },
  {
   "cell_type": "code",
   "execution_count": null,
   "id": "da9bd4e6",
   "metadata": {},
   "outputs": [],
   "source": [
    "-- Select fields (with aliases)\n",
    "SELECT c1.name AS country, region, l.name AS language,\n",
    "       basic_unit, frac_unit\n",
    "-- From countries (alias as c1)\n",
    "FROM countries AS c1\n",
    "  -- Join with languages (alias as l)\n",
    "  FULL JOIN languages AS l\n",
    "    -- Match on code\n",
    "    USING (code)\n",
    "  -- Join with currencies (alias as c2)\n",
    "  FULL JOIN currencies AS c2\n",
    "    -- Match on code\n",
    "    USING (code)\n",
    "-- Where region like Melanesia and Micronesia\n",
    "WHERE region LIKE 'M%esia';"
   ]
  },
  {
   "cell_type": "markdown",
   "id": "6a4cc969",
   "metadata": {},
   "source": [
    "CROSS JOIN - create all possible combinations of table"
   ]
  },
  {
   "cell_type": "code",
   "execution_count": null,
   "id": "681d6748",
   "metadata": {},
   "outputs": [],
   "source": [
    "-- Select fields\n",
    "SELECT c.name AS city, l.name AS language\n",
    "-- From cities (alias as c)\n",
    "FROM cities AS c        \n",
    "  -- Join to languages (alias as l)\n",
    "  CROSS JOIN languages AS l\n",
    "-- Where c.name like Hyderabad\n",
    "WHERE c.name LIKE 'Hyder%';"
   ]
  },
  {
   "cell_type": "code",
   "execution_count": null,
   "id": "b24c9e36",
   "metadata": {},
   "outputs": [],
   "source": [
    "-- Select fields\n",
    "SELECT c.name AS country, region, life_expectancy AS life_exp\n",
    "-- From countries (alias as c)\n",
    "FROM countries AS c\n",
    "  -- Join to populations (alias as p)\n",
    "  LEFT JOIN populations AS p\n",
    "    -- Match on country code\n",
    "    ON c.code = p.country_code\n",
    "-- Focus on 2010\n",
    "WHERE year = 2010\n",
    "-- Order by life_exp\n",
    "ORDER BY life_exp \n",
    "-- Limit to 5 records\n",
    "LIMIT 5;"
   ]
  },
  {
   "cell_type": "markdown",
   "id": "301859ab",
   "metadata": {},
   "source": [
    "UNION"
   ]
  },
  {
   "cell_type": "code",
   "execution_count": null,
   "id": "eb4ccf56",
   "metadata": {},
   "outputs": [],
   "source": [
    "-- Select fields from 2010 table\n",
    "SELECT *\n",
    "  -- From 2010 table\n",
    "  FROM economies2010\n",
    "\t-- Set theory clause\n",
    "\tUNION\n",
    "-- Select fields from 2015 table\n",
    "SELECT *\n",
    "  -- From 2015 table\n",
    "  FROM economies2015\n",
    "-- Order by code and year\n",
    "ORDER BY code, year;"
   ]
  },
  {
   "cell_type": "markdown",
   "id": "d03a392e",
   "metadata": {},
   "source": [
    "Recall UNION gives the \"sum\" of both sets minus their intersection:\n",
    "\n",
    "Hence, you can use Determine all (non-duplicated) country codes in either the cities in the below example:"
   ]
  },
  {
   "cell_type": "code",
   "execution_count": null,
   "id": "dfe51032",
   "metadata": {},
   "outputs": [],
   "source": [
    "-- Select field\n",
    "SELECT country_code \n",
    "  -- From cities\n",
    "  FROM cities\n",
    "\t-- Set theory clause\n",
    "\tUNION\n",
    "-- Select field\n",
    "SELECT code\n",
    "  -- From currencies\n",
    "  FROM currencies\n",
    "-- Order by country_code\n",
    "ORDER BY country_code;"
   ]
  },
  {
   "cell_type": "code",
   "execution_count": null,
   "id": "b111677a",
   "metadata": {},
   "outputs": [],
   "source": [
    "-- Select fields\n",
    "SELECT code, year\n",
    "  -- From economies\n",
    "  FROM economies\n",
    "\t-- Set theory clause\n",
    "\tUNION ALL\n",
    "-- Select fields\n",
    "SELECT country_code, year\n",
    "  -- From populations\n",
    "  FROM populations\n",
    "-- Order by code, year\n",
    "ORDER BY code, year;"
   ]
  },
  {
   "cell_type": "markdown",
   "id": "8b8692de",
   "metadata": {},
   "source": [
    "INTERSECT    another set theory clause"
   ]
  },
  {
   "cell_type": "code",
   "execution_count": null,
   "id": "31b6a9a1",
   "metadata": {},
   "outputs": [],
   "source": [
    "-- Select fields\n",
    "SELECT code, year\n",
    "  -- From economies\n",
    "  FROM economies\n",
    "\t-- Set theory clause\n",
    "\tINTERSECT\n",
    "-- Select fields\n",
    "SELECT country_code, year\n",
    "  -- From populations\n",
    "  FROM populations\n",
    "-- Order by code and year\n",
    "ORDER BY code, year;"
   ]
  },
  {
   "cell_type": "markdown",
   "id": "ccb75c14",
   "metadata": {},
   "source": [
    "Answering the question: which countries also have a city with the same name as their country name?"
   ]
  },
  {
   "cell_type": "code",
   "execution_count": null,
   "id": "fa782edd",
   "metadata": {},
   "outputs": [],
   "source": [
    "-- Select fields\n",
    "SELECT name\n",
    "  -- From countries\n",
    "  FROM countries\n",
    "\t-- Set theory clause\n",
    "\tINTERSECT\n",
    "-- Select fields\n",
    "SELECT name\n",
    "  -- From cities\n",
    "  FROM cities;"
   ]
  },
  {
   "cell_type": "markdown",
   "id": "b5c5ed55",
   "metadata": {},
   "source": [
    "EXCEPT\n",
    "\n",
    "- gets records in left table that are not present in right table"
   ]
  },
  {
   "cell_type": "markdown",
   "id": "9086721e",
   "metadata": {},
   "source": [
    "Get the names of cities in cities which are not noted as capital cities in countries as a single field result."
   ]
  },
  {
   "cell_type": "code",
   "execution_count": null,
   "id": "cbf47eb1",
   "metadata": {},
   "outputs": [],
   "source": [
    "-- Select field\n",
    "SELECT name\n",
    "  -- From cities\n",
    "  FROM cities\n",
    "\t-- Set theory clause\n",
    "\tEXCEPT\n",
    "-- Select field\n",
    "SELECT capital\n",
    "  -- From countries\n",
    "  FROM countries\n",
    "-- Order by result\n",
    "ORDER BY name;"
   ]
  },
  {
   "cell_type": "markdown",
   "id": "f2d04973",
   "metadata": {},
   "source": [
    "Determine the names of capital cities that are not listed in the cities table."
   ]
  },
  {
   "cell_type": "code",
   "execution_count": null,
   "id": "2b30e8b5",
   "metadata": {},
   "outputs": [],
   "source": [
    "-- Select field\n",
    "SELECT capital\n",
    "  -- From countries\n",
    "  FROM countries\n",
    "\t-- Set theory clause\n",
    "\tEXCEPT\n",
    "-- Select field\n",
    "SELECT name\n",
    "  -- From cities\n",
    "  FROM cities\n",
    "-- Order by ascending capital\n",
    "ORDER BY capital;"
   ]
  },
  {
   "cell_type": "markdown",
   "id": "a9a6cb51",
   "metadata": {},
   "source": [
    "semi joins (an intro to subqueries)\n",
    "\n",
    "semi-join: finds records in left-table that matter\n",
    "\n",
    "anti-join: finds records in left-table that are not matching"
   ]
  },
  {
   "cell_type": "markdown",
   "id": "68073766",
   "metadata": {},
   "source": [
    "Combine the previous two queries into one query by adding a WHERE IN statement to the SELECT DISTINCT query to determine the unique languages spoken in the Middle East.\n",
    "\n",
    "Order the result by name in ascending order."
   ]
  },
  {
   "cell_type": "code",
   "execution_count": null,
   "id": "bfbd2443",
   "metadata": {},
   "outputs": [],
   "source": [
    "-- Query from step 2\n",
    "SELECT DISTINCT name\n",
    "  FROM languages\n",
    "-- Where in statement\n",
    "WHERE code IN \n",
    "  -- Query from step 1\n",
    "  -- Subquery\n",
    "  (SELECT code\n",
    "   FROM countries\n",
    "   WHERE region = 'Middle East')\n",
    "-- Order by name\n",
    "ORDER BY name;"
   ]
  },
  {
   "cell_type": "markdown",
   "id": "eb71acb6",
   "metadata": {},
   "source": [
    "anti join, countries table - records which do not have a code in the currencies table"
   ]
  },
  {
   "cell_type": "code",
   "execution_count": null,
   "id": "e64a8940",
   "metadata": {},
   "outputs": [],
   "source": [
    "-- Select fields\n",
    "SELECT code, name\n",
    "  -- From Countries\n",
    "  FROM countries\n",
    "  -- Where continent is Oceania\n",
    "  WHERE continent = 'Oceania'\n",
    "  \t-- And code not in\n",
    "  \tAND code NOT IN \n",
    "  \t-- Subquery\n",
    "  \t(SELECT code FROM \n",
    "  \t currencies);"
   ]
  },
  {
   "cell_type": "markdown",
   "id": "c4a86191",
   "metadata": {},
   "source": [
    "EXCEPT and combining altogether"
   ]
  },
  {
   "cell_type": "code",
   "execution_count": null,
   "id": "ece89c78",
   "metadata": {},
   "outputs": [],
   "source": [
    "-- Select the city name\n",
    "SELECT name\n",
    "  -- Alias the table where city name resides\n",
    "  FROM cities AS c1\n",
    "  -- Choose only records matching the result of multiple set theory clauses\n",
    "  WHERE country_code IN\n",
    "(\n",
    "    -- Select appropriate field from economies AS e\n",
    "    SELECT e.code\n",
    "    FROM economies AS e\n",
    "    -- Get all additional (unique) values of the field from currencies AS c2  \n",
    "    UNION\n",
    "    SELECT c2.code\n",
    "    FROM currencies AS c2\n",
    "    -- Exclude those appearing in populations AS p\n",
    "    EXCEPT\n",
    "    SELECT p.country_code\n",
    "    FROM populations AS p\n",
    ");"
   ]
  },
  {
   "cell_type": "markdown",
   "id": "85347942",
   "metadata": {},
   "source": [
    "Subqueries inside SELECT statement need aliases"
   ]
  },
  {
   "cell_type": "code",
   "execution_count": null,
   "id": "7cf509c2",
   "metadata": {},
   "outputs": [],
   "source": [
    "-- Select fields\n",
    "SELECT *\n",
    "  -- From populations\n",
    "  FROM populations\n",
    "-- Where life_expectancy is greater than\n",
    "WHERE life_expectancy >\n",
    "  -- 1.15 * subquery\n",
    "  1.15 * (SELECT AVG(life_expectancy)\n",
    "    FROM populations\n",
    "    WHERE year = 2015\n",
    "    )\n",
    "  AND year = 2015;"
   ]
  },
  {
   "cell_type": "code",
   "execution_count": null,
   "id": "e2b3e843",
   "metadata": {},
   "outputs": [],
   "source": [
    "-- Select fields\n",
    "SELECT name, country_code, urbanarea_pop\n",
    "  -- From cities\n",
    "  FROM cities\n",
    "-- Where city name in the field of capital cities\n",
    "WHERE name IN\n",
    "  -- Subquery\n",
    "  (SELECT capital\n",
    "   FROM countries)\n",
    "ORDER BY urbanarea_pop DESC;"
   ]
  },
  {
   "cell_type": "code",
   "execution_count": null,
   "id": "6015717a",
   "metadata": {},
   "outputs": [],
   "source": [
    "/*\n",
    "SELECT countries.name AS country, COUNT(*) AS cities_num\n",
    "  FROM cities\n",
    "    INNER JOIN countries\n",
    "    ON countries.code = cities.country_code\n",
    "GROUP BY country\n",
    "ORDER BY cities_num DESC, country\n",
    "LIMIT 9;\n",
    "*/\n",
    "\n",
    "SELECT countries.name AS country,\n",
    "  -- Subquery\n",
    "  (SELECT COUNT(*)\n",
    "   FROM cities\n",
    "   WHERE countries.code = cities.country_code) AS cities_num\n",
    "FROM countries\n",
    "ORDER BY cities_num DESC, country\n",
    "LIMIT 9;"
   ]
  },
  {
   "cell_type": "markdown",
   "id": "cb949b56",
   "metadata": {},
   "source": [
    "subquery inside subclause\n",
    "\n",
    "AS subquery"
   ]
  },
  {
   "cell_type": "code",
   "execution_count": null,
   "id": "483dceb8",
   "metadata": {},
   "outputs": [],
   "source": [
    "-- Select fields\n",
    "SELECT local_name, lang_num\n",
    "  -- From countries\n",
    "  FROM countries,\n",
    "  \t-- Subquery (alias as subquery)\n",
    "  \t(SELECT code, COUNT(*) AS lang_num\n",
    "  \t FROM languages\n",
    "  \t GROUP BY code) AS subquery\n",
    "  -- Where codes match\n",
    "  WHERE countries.code = subquery.code -- Note here, we use subquery.code instead of languages.code\n",
    "-- Order by descending number of languages\n",
    "ORDER BY lang_num DESC;"
   ]
  },
  {
   "cell_type": "markdown",
   "id": "459b20ed",
   "metadata": {},
   "source": [
    "Advanced subqueries"
   ]
  },
  {
   "cell_type": "code",
   "execution_count": null,
   "id": "ff212878",
   "metadata": {},
   "outputs": [],
   "source": [
    "-- Select fields\n",
    "SELECT name, continent, inflation_rate\n",
    "  -- From countries\n",
    "  FROM countries\n",
    "\t-- Join to economies\n",
    "\tINNER JOIN economies\n",
    "\t-- Match on code\n",
    "\tON countries.code = economies.code\n",
    "  -- Where year is 2015\n",
    "  WHERE year = 2015\n",
    "    -- And inflation rate in subquery (alias as subquery)\n",
    "    AND inflation_rate IN (\n",
    "        SELECT MAX(inflation_rate) AS max_inf\n",
    "        FROM (\n",
    "             SELECT name, continent, inflation_rate\n",
    "             FROM countries\n",
    "             INNER JOIN economies\n",
    "             ON countries.code = economies.code\n",
    "             WHERE year = 2015) AS subquery\n",
    "      -- Group by continent\n",
    "        GROUP BY continent);"
   ]
  },
  {
   "cell_type": "code",
   "execution_count": null,
   "id": "edaa5aba",
   "metadata": {},
   "outputs": [],
   "source": [
    "-- Select fields\n",
    "SELECT code, inflation_rate, unemployment_rate\n",
    "  -- From economies\n",
    "  FROM economies\n",
    "  -- Where year is 2015 and code is not in\n",
    "  WHERE year = 2015 AND code NOT IN\n",
    "  \t-- Subquery\n",
    "  \t(SELECT code\n",
    "  \t FROM countries\n",
    "  \t WHERE (gov_form = 'Constitutional Monarchy' OR gov_form LIKE '%Republic'))\n",
    "-- Order by inflation rate\n",
    "ORDER BY inflation_rate;"
   ]
  },
  {
   "cell_type": "markdown",
   "id": "0d121882",
   "metadata": {},
   "source": [
    "In this exercise, you'll need to get the country names and other 2015 data in the economies table and the countries table for Central American countries with an official language.\n",
    "\n",
    "Select unique country names. Also select the total investment and imports fields.\n",
    "\n",
    "Use a left join with countries on the left. (An inner join would also work, but please use a left join here.)\n",
    "\n",
    "Match on code in the two tables AND use a subquery inside of ON to choose the appropriate languages records.\n",
    "\n",
    "Order by country name ascending.\n",
    "\n",
    "Use table aliasing but not field aliasing in this exercise."
   ]
  },
  {
   "cell_type": "code",
   "execution_count": null,
   "id": "d1489d1a",
   "metadata": {},
   "outputs": [],
   "source": [
    "-- Select fields\n",
    "SELECT DISTINCT name, total_investment, imports\n",
    "  -- From table (with alias)\n",
    "  FROM countries AS c\n",
    "    -- Join with table (with alias)\n",
    "    LEFT JOIN economies AS e\n",
    "      -- Match on code\n",
    "      ON (c.code = e.code\n",
    "      -- and code in Subquery\n",
    "        AND c.code IN (\n",
    "          SELECT l.code\n",
    "          FROM languages AS l\n",
    "          WHERE official = 'true'\n",
    "        ) )\n",
    "  -- Where region and year are correct\n",
    "  WHERE region = 'Central America' AND year = 2015\n",
    "-- Order by field\n",
    "ORDER BY name;"
   ]
  },
  {
   "cell_type": "markdown",
   "id": "dc2f277e",
   "metadata": {},
   "source": [
    "Note on GROUP BY, selecting fields must be included in GROUP BY clause if there is an aggregating function.\n",
    "\n",
    "Eg:"
   ]
  },
  {
   "cell_type": "code",
   "execution_count": null,
   "id": "cb429ea2",
   "metadata": {},
   "outputs": [],
   "source": [
    "-- #Let's ease up a bit and calculate the average fertility rate for each region in 2015.\n",
    "-- Select fields\n",
    "SELECT region, continent, AVG(fertility_rate) AS avg_fert_rate\n",
    "  -- From left table\n",
    "  FROM countries AS c\n",
    "    -- Join to right table\n",
    "    INNER JOIN populations AS p\n",
    "      -- Match on join condition\n",
    "      ON c.code = p.country_code\n",
    "  -- Where specific records matching some condition\n",
    "  WHERE year = 2015\n",
    "-- Group appropriately\n",
    "GROUP BY region, continent\n",
    "-- Order appropriately\n",
    "ORDER BY avg_fert_rate;"
   ]
  },
  {
   "cell_type": "markdown",
   "id": "97b1d8ea",
   "metadata": {},
   "source": [
    "You are now tasked with determining the top 10 capital cities in Europe and the Americas in terms of a calculated percentage using city_proper_pop and metroarea_pop in cities.\n",
    "\n",
    "Select the city name, country code, city proper population, and metro area population.\n",
    "\n",
    "Calculate the percentage of metro area population composed of city proper population for each city in cities, aliased as city_perc.\n",
    "\n",
    "Focus only on capital cities in Europe and the Americas in a subquery.\n",
    "\n",
    "Make sure to exclude records with missing data on metro area population.\n",
    "\n",
    "Order the result by city_perc descending.\n",
    "\n",
    "Then determine the top 10 capital cities in Europe and the Americas in terms of this city_perc percentage."
   ]
  },
  {
   "cell_type": "code",
   "execution_count": null,
   "id": "bb5e55d3",
   "metadata": {},
   "outputs": [],
   "source": [
    "-- Select fields\n",
    "SELECT name, country_code, city_proper_pop, metroarea_pop,  \n",
    "      -- Calculate city_perc\n",
    "      city_proper_pop / metroarea_pop * 100 AS city_perc\n",
    "  -- From appropriate table\n",
    "  FROM cities\n",
    "  -- Where \n",
    "  WHERE name IN\n",
    "    -- Subquery\n",
    "    (SELECT capital\n",
    "     FROM countries\n",
    "     WHERE (continent = 'Europe'\n",
    "        OR continent LIKE '%America'))\n",
    "       AND metroarea_pop IS NOT NULL\n",
    "-- Order appropriately\n",
    "ORDER BY city_perc DESC\n",
    "-- Limit amount\n",
    "LIMIT 10;"
   ]
  },
  {
   "cell_type": "markdown",
   "id": "e69ebf7c",
   "metadata": {},
   "source": [
    "Intro to databases in python"
   ]
  },
  {
   "cell_type": "markdown",
   "id": "63c06d2a",
   "metadata": {},
   "source": [
    "repr = returns a text representation of the object"
   ]
  },
  {
   "cell_type": "markdown",
   "id": "ab26b191",
   "metadata": {},
   "source": [
    "Using the create_engine() function, create an engine for a local file named census.sqlite with sqlite as the driver. Be sure to enclose the connection string within quotation marks.\n",
    "\n",
    "Print the output from the .table_names() method on the engine."
   ]
  },
  {
   "cell_type": "code",
   "execution_count": null,
   "id": "ea0450f6",
   "metadata": {},
   "outputs": [],
   "source": [
    "# Import create_engine\n",
    "from sqlalchemy import create_engine\n",
    "\n",
    "# Create an engine that connects to the census.sqlite file: engine\n",
    "engine = create_engine('sqlite:///census.sqlite')\n",
    "\n",
    "# Print table names\n",
    "print(engine.table_names())\n"
   ]
  },
  {
   "cell_type": "markdown",
   "id": "b22f3ace",
   "metadata": {},
   "source": [
    "Import create_engine, MetaData, and Table\n",
    "\n",
    "from sqlalchemy import create_engine, MetaData, Table"
   ]
  },
  {
   "cell_type": "markdown",
   "id": "3d5b7c12",
   "metadata": {},
   "source": [
    "Syntax: for Table()\n",
    "\n",
    "Reflect the census table by using the Table object with the arguments:\n",
    "- The name of the table as a string ('census').\n",
    "- The metadata you just initialized.\n",
    "- autoload=True\n",
    "- The engine to autoload with - in this case, engine."
   ]
  },
  {
   "cell_type": "code",
   "execution_count": null,
   "id": "c5d5e717",
   "metadata": {},
   "outputs": [],
   "source": [
    "# Import create_engine, MetaData, and Table\n",
    "from sqlalchemy import create_engine, MetaData, Table\n",
    "\n",
    "# Create engine: engine\n",
    "engine = create_engine('sqlite:///census.sqlite')\n",
    "\n",
    "# Create a metadata object: metadata\n",
    "metadata = MetaData()\n",
    "\n",
    "# Reflect census table from the engine: census\n",
    "census = Table('census', metadata, autoload=True, autoload_with=engine)\n",
    "\n",
    "# Print census table metadata\n",
    "print(repr(census))\n"
   ]
  },
  {
   "cell_type": "markdown",
   "id": "7122ff9b",
   "metadata": {},
   "source": [
    "Output\n",
    "    Table('census', MetaData(bind=None), Column('state', VARCHAR(length=30), table=<census>), Column('sex', VARCHAR(length=1), table=<census>), Column('age', INTEGER(), table=<census>), Column('pop2000', INTEGER(), table=<census>), Column('pop2008', INTEGER(), table=<census>), schema=None)"
   ]
  },
  {
   "cell_type": "code",
   "execution_count": null,
   "id": "6df07b30",
   "metadata": {},
   "outputs": [],
   "source": [
    "# Print the column names by using .keys() on census.columns\n",
    "print(census.columns.keys())"
   ]
  },
  {
   "cell_type": "markdown",
   "id": "9e734503",
   "metadata": {},
   "source": [
    "Resultproxy and resultset\n",
    "\n",
    "resultproxy --- execute\n",
    "\n",
    "resultset = resultproxy.fetchall()"
   ]
  },
  {
   "cell_type": "code",
   "execution_count": null,
   "id": "e9a20111",
   "metadata": {},
   "outputs": [],
   "source": [
    "from sqlalchemy import create_engine\n",
    "engine = create_engine('sqlite:///census.sqlite')\n",
    "\n",
    "# Create a connection on engine\n",
    "connection = engine.connect()\n",
    "\n",
    "# Build select statement for census table: stmt\n",
    "stmt = 'SELECT * FROM census'\n",
    "\n",
    "# Execute the statement and fetch the results: results\n",
    "results = connection.execute(stmt).fetchall()\n",
    "\n",
    "# Print results\n",
    "print(results)"
   ]
  },
  {
   "cell_type": "code",
   "execution_count": null,
   "id": "69116148",
   "metadata": {},
   "outputs": [],
   "source": [
    "# select requires a list of tables, select([table1, table2])\n",
    "\n",
    "# Import select\n",
    "from sqlalchemy import select\n",
    "\n",
    "# Reflect census table via engine: census\n",
    "census = Table('census', metadata, autoload=True, autoload_with=engine)\n",
    "\n",
    "# Build select statement for census table: stmt\n",
    "stmt = select([census])\n",
    "\n",
    "# Print the emitted statement to see the SQL string\n",
    "print(stmt)\n",
    "\n",
    "# Execute the statement on connection and fetch 10 records: result\n",
    "results = connection.execute(stmt).fetchmany(size=10)\n",
    "\n",
    "# Execute the statement and print the results\n",
    "print(results)"
   ]
  },
  {
   "cell_type": "markdown",
   "id": "427647ec",
   "metadata": {},
   "source": [
    "<script.py> output:\n",
    "    SELECT census.state, census.sex, census.age, census.pop2000, census.pop2008 \n",
    "    FROM census\n",
    "    [('Illinois', 'M', 0, 89600, 95012), ('Illinois', 'M', 1, 88445, 91829), ('Illinois', 'M', 2, 88729, 89547), ('Illinois', 'M', 3, 88868, 90037), ('Illinois', 'M', 4, 91947, 91111), ('Illinois', 'M', 5, 93894, 89802), ('Illinois', 'M', 6, 93676, 88931), ('Illinois', 'M', 7, 94818, 90940), ('Illinois', 'M', 8, 95035, 86943), ('Illinois', 'M', 9, 96436, 86055)]"
   ]
  },
  {
   "cell_type": "code",
   "execution_count": null,
   "id": "5b998638",
   "metadata": {},
   "outputs": [],
   "source": [
    "# Get the first row of the results by using an index: first_row\n",
    "first_row = results[0]\n",
    "\n",
    "# Print the first row of the results\n",
    "print(first_row)\n",
    "\n",
    "# Print the first column of the first row by accessing it by its index\n",
    "print(first_row[0])\n",
    "\n",
    "# Print the 'state' column of the first row by using its name\n",
    "print(first_row['state'])\n"
   ]
  },
  {
   "cell_type": "markdown",
   "id": "1801fec5",
   "metadata": {},
   "source": [
    "Select all records from the census table by passing in census as a list to select().\n",
    "\n",
    "Append a where clause to stmt to return only the records with a state of 'New York'.\n",
    "\n",
    "Execute the statement stmt using .execute() on connection and retrieve the results using .fetchall().\n",
    "\n",
    "Iterate over results and print the age, sex and pop2000 columns from each record. For example, you can print out the age of result with result.age."
   ]
  },
  {
   "cell_type": "code",
   "execution_count": null,
   "id": "81c4035d",
   "metadata": {},
   "outputs": [],
   "source": [
    "# Create a select query: stmt\n",
    "stmt = select([census])\n",
    "\n",
    "# Add a where clause to filter the results to only those for New York : stmt_filtered\n",
    "stmt = stmt.where(census.columns.state == 'New York')\n",
    "\n",
    "# Execute the query to retrieve all the data returned: results\n",
    "results = connection.execute(stmt).fetchall()\n",
    "\n",
    "# Loop over the results and print the age, sex, and pop2000\n",
    "for k in results:\n",
    "    print(k.age, k.sex, k.pop2000)\n"
   ]
  },
  {
   "cell_type": "markdown",
   "id": "8277ceb6",
   "metadata": {},
   "source": [
    "Select all records from the census table.\n",
    "\n",
    "Modify the argument of the where clause to use in_() to return all the records where the value in the census.columns.state column is in the states list.\n",
    "\n",
    "Loop over the ResultProxy connection.execute(stmt) and print the state and pop2000 columns from each record."
   ]
  },
  {
   "cell_type": "code",
   "execution_count": null,
   "id": "d8aac62c",
   "metadata": {},
   "outputs": [],
   "source": [
    "# Define a list of states for which we want results\n",
    "states = ['New York', 'California', 'Texas']\n",
    "\n",
    "# Create a query for the census table: stmt\n",
    "stmt = select([census])\n",
    "\n",
    "# Append a where clause to match all the states in_ the list states\n",
    "stmt = stmt.where(census.columns.state.in_(states))\n",
    "\n",
    "# Loop over the ResultProxy and print the state and its population in 2000\n",
    "for j in connection.execute(stmt):\n",
    "    print(j.state, j.pop2000)\n"
   ]
  },
  {
   "cell_type": "markdown",
   "id": "93a4b9bb",
   "metadata": {},
   "source": [
    "and_()"
   ]
  },
  {
   "cell_type": "code",
   "execution_count": null,
   "id": "aabc27e1",
   "metadata": {},
   "outputs": [],
   "source": [
    "# Import and_\n",
    "from sqlalchemy import and_\n",
    "\n",
    "# Build a query for the census table: stmt\n",
    "stmt = select([census])\n",
    "\n",
    "# Append a where clause to select only non-male records from California using and_\n",
    "stmt = stmt.where(\n",
    "    # The state of California with a non-male sex\n",
    "    and_(census.columns.state == 'California',\n",
    "         census.columns.sex != 'M'\n",
    "         )\n",
    ")\n",
    "\n",
    "# Loop over the ResultProxy printing the age and sex\n",
    "for result in connection.execute(stmt):\n",
    "    print(result.age, result.sex)\n"
   ]
  },
  {
   "cell_type": "markdown",
   "id": "4ea101a2",
   "metadata": {},
   "source": [
    ".order_by()"
   ]
  },
  {
   "cell_type": "code",
   "execution_count": null,
   "id": "2cf946b0",
   "metadata": {},
   "outputs": [],
   "source": [
    "# Build a query to select the state column: stmt\n",
    "stmt = select([census.columns.state])\n",
    "\n",
    "# Order stmt by the state column\n",
    "stmt = stmt.order_by(census.columns.state)\n",
    "\n",
    "# Execute the query and store the results: results\n",
    "results = connection.execute(stmt).fetchall()\n",
    "\n",
    "# Print the first 10 results\n",
    "print(results[:10])\n"
   ]
  },
  {
   "cell_type": "code",
   "execution_count": null,
   "id": "26e8c571",
   "metadata": {},
   "outputs": [],
   "source": [
    "# Import desc\n",
    "from sqlalchemy import desc\n",
    "\n",
    "# Build a query to select the state column: stmt\n",
    "stmt = select([census.columns.state])\n",
    "\n",
    "# Order stmt by state in descending order: rev_stmt\n",
    "rev_stmt = stmt.order_by(desc(census.columns.state))\n",
    "\n",
    "# Execute the query and store the results: rev_results\n",
    "rev_results = connection.execute(rev_stmt).fetchall()\n",
    "\n",
    "# Print the first 10 rev_results\n",
    "print(rev_results[:10])\n"
   ]
  },
  {
   "cell_type": "code",
   "execution_count": null,
   "id": "81d98d31",
   "metadata": {},
   "outputs": [],
   "source": [
    "# Build a query to select state and age: stmt\n",
    "stmt = select([census.columns.state, census.columns.age])\n",
    "\n",
    "# Append order by to ascend by state and descend by age\n",
    "stmt = stmt.order_by(census.columns.state, desc(census.columns.age))\n",
    "\n",
    "# Execute the statement and store all the records: results\n",
    "results = connection.execute(stmt).fetchall()\n",
    "\n",
    "# Print the first 20 results\n",
    "print(results[:20])\n"
   ]
  },
  {
   "cell_type": "markdown",
   "id": "17726b29",
   "metadata": {},
   "source": [
    "sqlalchemy func, sum, .group_by\n",
    "\n",
    "func.count()\n",
    "\n",
    "func.distinct()"
   ]
  },
  {
   "cell_type": "code",
   "execution_count": 1,
   "id": "514215dc",
   "metadata": {},
   "outputs": [],
   "source": [
    "## counting distinct values in a column using select(), func.count() and .distinct()"
   ]
  },
  {
   "cell_type": "code",
   "execution_count": null,
   "id": "ea9de780",
   "metadata": {},
   "outputs": [],
   "source": [
    "# Build a query to count the distinct states values: stmt\n",
    "stmt = select([func.count(census.columns.state.distinct())])\n",
    "\n",
    "# Execute the query and store the scalar result: distinct_state_count\n",
    "distinct_state_count = connection.execute(stmt).scalar()\n",
    "\n",
    "# Print the distinct_state_count\n",
    "print(distinct_state_count)\n"
   ]
  },
  {
   "cell_type": "markdown",
   "id": "d15c7b91",
   "metadata": {},
   "source": [
    "Import func from sqlalchemy.\n",
    "\n",
    "Build a select statement to get the value of the state field and a count of the values in the age field, and store it as stmt.\n",
    "\n",
    "Use the .group_by() method to group the statement by the state column.\n",
    "\n",
    "Execute stmt using the connection to get the count and store the results as results.\n",
    "\n",
    "Print the keys/column names of the results returned using results[0].keys()."
   ]
  },
  {
   "cell_type": "code",
   "execution_count": null,
   "id": "1fe92c92",
   "metadata": {},
   "outputs": [],
   "source": [
    "# Import func\n",
    "from sqlalchemy import func\n",
    "\n",
    "# Build a query to select the state and count of ages by state: stmt\n",
    "stmt = select([census.columns.state, func.count(census.columns.age)])\n",
    "\n",
    "# Group stmt by state\n",
    "stmt = stmt.group_by(census.columns.state)\n",
    "\n",
    "# Execute the statement and store all the records: results\n",
    "results = connection.execute(stmt).fetchall()\n",
    "\n",
    "# Print results\n",
    "print(results)\n",
    "\n",
    "# Print the keys/column names of the results returned\n",
    "print(results[0].keys())"
   ]
  },
  {
   "cell_type": "markdown",
   "id": "2ad45c9d",
   "metadata": {},
   "source": [
    ".label() to label output"
   ]
  },
  {
   "cell_type": "code",
   "execution_count": null,
   "id": "f0612123",
   "metadata": {},
   "outputs": [],
   "source": [
    "# Import func\n",
    "from sqlalchemy import func\n",
    "\n",
    "# Build an expression to calculate the sum of pop2008 labeled as population\n",
    "pop2008_sum = func.sum(census.columns.pop2008).label('population')\n",
    "\n",
    "# Build a query to select the state and sum of pop2008: stmt\n",
    "stmt = select([census.columns.state, pop2008_sum])\n",
    "\n",
    "# Group stmt by state\n",
    "stmt = stmt.group_by(census.columns.state)\n",
    "\n",
    "# Execute the statement and store all the records: results\n",
    "results = connection.execute(stmt).fetchall()\n",
    "\n",
    "# Print results\n",
    "print(results)"
   ]
  },
  {
   "cell_type": "markdown",
   "id": "87a448d5",
   "metadata": {},
   "source": [
    "sqlalchemy and pandas\n",
    "\n",
    "use results[0].keys() as df.columns"
   ]
  },
  {
   "cell_type": "code",
   "execution_count": null,
   "id": "657d179b",
   "metadata": {},
   "outputs": [],
   "source": [
    "# import pandas\n",
    "import pandas as pd\n",
    "\n",
    "# Create a DataFrame from the results: df\n",
    "df = pd.DataFrame(data=results)\n",
    "\n",
    "# Set column names\n",
    "df.columns = results[0].keys()\n",
    "\n",
    "# Print the DataFrame\n",
    "print(df)"
   ]
  },
  {
   "cell_type": "code",
   "execution_count": null,
   "id": "b2ab9bb0",
   "metadata": {},
   "outputs": [],
   "source": [
    "# Import pyplot as plt from matplotlib\n",
    "import matplotlib.pyplot as plt\n",
    "\n",
    "# Create a DataFrame from the results: df\n",
    "df = pd.DataFrame(data=results)\n",
    "\n",
    "# Set Column names\n",
    "df.columns = results[0].keys()\n",
    "\n",
    "# Print the DataFrame\n",
    "print(df)\n",
    "\n",
    "# Plot the DataFrame\n",
    "df.plot.bar()\n",
    "plt.show()\n"
   ]
  },
  {
   "cell_type": "markdown",
   "id": "f058f8af",
   "metadata": {},
   "source": [
    "sqlalchemy import case\n",
    "\n",
    "cast,\n",
    "Float"
   ]
  },
  {
   "cell_type": "markdown",
   "id": "8d2f70cc",
   "metadata": {},
   "source": [
    "Define a select statement called stmt to return:\n",
    "\n",
    "i) The state column of the census table (census.columns.state).\n",
    "\n",
    "ii) The difference in population count between 2008 (census.columns.pop2008) and 2000 (census.columns.pop2000) labeled as 'pop_change'.\n",
    "\n",
    "Group the statement by census.columns.state.\n",
    "\n",
    "Order the statement by population change ('pop_change') in descending order. Do so by passing it desc('pop_change').\n",
    "\n",
    "Use the .limit() method on the previous statement to return only 5 records.\n",
    "\n",
    "Execute the statement and fetchall() the records.\n",
    "\n",
    "The print statement has already been written for you. Hit 'Submit Answer' to view the results!"
   ]
  },
  {
   "cell_type": "code",
   "execution_count": null,
   "id": "a8048691",
   "metadata": {},
   "outputs": [],
   "source": [
    "# Build query to return state names by population difference from 2008 to 2000: stmt\n",
    "stmt = select([census.columns.state, (census.columns.pop2008-census.columns.pop2000).label('pop_change')])\n",
    "\n",
    "# Append group by for the state: stmt_grouped\n",
    "stmt_grouped = stmt.group_by(census.columns.state)\n",
    "\n",
    "# Append order by for pop_change descendingly: stmt_ordered\n",
    "stmt_ordered = stmt_grouped.order_by(desc('pop_change'))\n",
    "\n",
    "# Return only 5 results: stmt_top5\n",
    "stmt_top5 = stmt_ordered.limit(5)\n",
    "\n",
    "# Use connection to execute stmt_top5 and fetch all results\n",
    "results = connection.execute(stmt_top5).fetchall()\n",
    "\n",
    "# Print the state and population change for each record\n",
    "for result in results:\n",
    "    print('{}:{}'.format(result.state, result.pop_change))\n"
   ]
  },
  {
   "cell_type": "markdown",
   "id": "74879977",
   "metadata": {},
   "source": [
    "case() accepts a list of conditions to match, and the column to return if the condition matches"
   ]
  },
  {
   "cell_type": "markdown",
   "id": "8e022593",
   "metadata": {},
   "source": [
    "Build an expression female_pop2000to calculate female population in 2000. To achieve this:\n",
    "Use case() inside func.sum().\n",
    "\n",
    "The first argument of case() is a list containing a tuple of\n",
    "\n",
    "i) A boolean checking that census.columns.sex is equal to 'F'.\n",
    "\n",
    "ii) The column census.columns.pop2000.\n",
    "\n",
    "The second argument is the else_ condition, which should be set to 0.\n",
    "\n",
    "Calculate the total population in 2000 and use cast() to convert it to Float.\n",
    "\n",
    "Build a query to calculate the percentage of women in 2000. To do this, divide female_pop2000 by total_pop2000 and multiply by 100.\n",
    "\n",
    "Execute the query and print percent_female."
   ]
  },
  {
   "cell_type": "code",
   "execution_count": null,
   "id": "401c6c97",
   "metadata": {},
   "outputs": [],
   "source": [
    "# import case, cast and Float from sqlalchemy\n",
    "from sqlalchemy import case, cast, Float\n",
    "\n",
    "# Build an expression to calculate female population in 2000\n",
    "female_pop2000 = func.sum(\n",
    "    case([\n",
    "        (census.columns.sex == 'F', census.columns.pop2000)\n",
    "    ], else_=0))\n",
    "\n",
    "# Cast an expression to calculate total population in 2000 to Float\n",
    "total_pop2000 = cast(func.sum(census.columns.pop2000), Float)\n",
    "\n",
    "# Build a query to calculate the percentage of women in 2000: stmt\n",
    "stmt = select([female_pop2000 / total_pop2000 * 100])\n",
    "\n",
    "# Execute the query and store the scalar result: percent_female\n",
    "percent_female = connection.execute(stmt).scalar()\n",
    "\n",
    "# Print the percentage\n",
    "print(percent_female)\n"
   ]
  },
  {
   "cell_type": "code",
   "execution_count": null,
   "id": "98e962be",
   "metadata": {},
   "outputs": [],
   "source": [
    "# Build a statement to join census and state_fact tables: stmt\n",
    "stmt = select([census.columns.pop2000, state_fact.columns.abbreviation])\n",
    "\n",
    "# Execute the statement and get the first result: result\n",
    "result = connection.execute(stmt).first()\n",
    "\n",
    "# Loop over the keys in the result object and print the key and value\n",
    "for key in result.keys():\n",
    "    print(key, getattr(result, key))"
   ]
  },
  {
   "cell_type": "code",
   "execution_count": null,
   "id": "0257a724",
   "metadata": {},
   "outputs": [],
   "source": [
    "# Build a statement to select the census and state_fact tables ALL COLUMNS: stmt\n",
    "stmt = select([census, state_fact])\n",
    "\n",
    "# Add a select_from clause that wraps a join for the census and state_fact\n",
    "# tables where the census state column and state_fact name column match\n",
    "stmt_join = stmt.select_from(\n",
    "    census.join(state_fact, census.columns.state == state_fact.columns.name))\n",
    "\n",
    "# Execute the statement and get the first result: result\n",
    "result = connection.execute(stmt_join).first()\n",
    "\n",
    "# Loop over the keys in the result object and print the key and value\n",
    "for key in result.keys():\n",
    "    print(key, getattr(result, key))"
   ]
  },
  {
   "cell_type": "code",
   "execution_count": null,
   "id": "e7c49821",
   "metadata": {},
   "outputs": [],
   "source": [
    "# Build a statement to select the state, sum of 2008 population and census\n",
    "# division name: stmt\n",
    "stmt = select([\n",
    "    census.columns.state,\n",
    "    func.sum(census.columns.pop2008),\n",
    "    state_fact.columns.census_division_name\n",
    "])\n",
    "\n",
    "# Append select_from to join the census and state_fact tables by the census state and state_fact name columns\n",
    "stmt_joined = stmt.select_from(\n",
    "    census.join(state_fact, census.columns.state == state_fact.columns.name)\n",
    ")\n",
    "\n",
    "# Append a group by for the state_fact name column\n",
    "stmt_grouped = stmt_joined.group_by(state_fact.columns.name)\n",
    "\n",
    "# Execute the statement and get the results: results\n",
    "results = connection.execute(stmt_grouped).fetchall()\n",
    "\n",
    "# Loop over the results object and print each record.\n",
    "for record in results:\n",
    "    print(record)\n"
   ]
  },
  {
   "cell_type": "markdown",
   "id": "fb442db9",
   "metadata": {},
   "source": [
    "Hierarchical data and self-joining\n",
    "\n",
    "eg employee table with id, and managers\n",
    "\n",
    "-managers are also employees -> so there is a relationship between id and manager column"
   ]
  },
  {
   "cell_type": "markdown",
   "id": "e5d61f0f",
   "metadata": {},
   "source": [
    "reference table with alias"
   ]
  },
  {
   "cell_type": "code",
   "execution_count": null,
   "id": "c587acf8",
   "metadata": {},
   "outputs": [],
   "source": [
    "# Build a statement to select the state, sum of 2008 population and census\n",
    "# division name: stmt\n",
    "stmt = select([\n",
    "    census.columns.state,\n",
    "    func.sum(census.columns.pop2008),\n",
    "    state_fact.columns.census_division_name\n",
    "])\n",
    "\n",
    "# Append select_from to join the census and state_fact tables by the census state and state_fact name columns\n",
    "stmt_joined = stmt.select_from(\n",
    "    census.join(state_fact, census.columns.state == state_fact.columns.name)\n",
    ")\n",
    "\n",
    "# Append a group by for the state_fact name column\n",
    "stmt_grouped = stmt_joined.group_by(state_fact.columns.name)\n",
    "\n",
    "# Execute the statement and get the results: results\n",
    "results = connection.execute(stmt_grouped).fetchall()\n",
    "\n",
    "# Loop over the results object and print each record.\n",
    "for record in results:\n",
    "    print(record)\n"
   ]
  },
  {
   "cell_type": "code",
   "execution_count": null,
   "id": "940cf094",
   "metadata": {},
   "outputs": [],
   "source": [
    "# Make an alias of the employees table: managers\n",
    "managers = employees.alias()\n",
    "\n",
    "# Build a query to select names of managers and counts of their employees: stmt\n",
    "stmt = select([managers.columns.name, func.count(employees.columns.id)])\n",
    "\n",
    "# Append a where clause that ensures the manager id and employee mgr are equal\n",
    "stmt_matched = stmt.where(managers.columns.id == employees.columns.mgr)\n",
    "\n",
    "# Group by Managers Name\n",
    "stmt_grouped = stmt_matched.group_by(managers.columns.name)\n",
    "\n",
    "# Execute statement: results\n",
    "results = connection.execute(stmt_grouped).fetchall()\n",
    "\n",
    "# print manager\n",
    "for record in results:\n",
    "    print(record)\n"
   ]
  },
  {
   "cell_type": "markdown",
   "id": "3240ae67",
   "metadata": {},
   "source": [
    "sqlalchemy and large results"
   ]
  },
  {
   "cell_type": "markdown",
   "id": "5d6a93ac",
   "metadata": {},
   "source": [
    "Use a while loop that checks if there are more_results.\n",
    "\n",
    "Inside the loop, apply the method .fetchmany() to results_proxy to get 50 records at a time and store those records as partial_results.\n",
    "\n",
    "After fetching the records, if partial_results is an empty list (that is, if it is equal to []), set more_results to False.\n",
    "\n",
    "Loop over the partial_results and, if row.state is a key in the state_count dictionary, increment state_count[row.state] by 1; otherwise set state_count[row.state] to 1.\n",
    "\n",
    "After the while loop, close the ResultProxy results_proxy using .close().\n",
    "\n",
    "Hit 'Submit Answer' to print state_count."
   ]
  },
  {
   "cell_type": "code",
   "execution_count": null,
   "id": "e08cde3d",
   "metadata": {},
   "outputs": [],
   "source": [
    "# Start a while loop checking for more results\n",
    "while more_results:\n",
    "    # Fetch the first 50 results from the ResultProxy: partial_results\n",
    "    partial_results = results_proxy.fetchmany(50)\n",
    "\n",
    "    # if empty list, set more_results to False\n",
    "    if partial_results == []:\n",
    "        more_results = False\n",
    "\n",
    "    # Loop over the fetched records and increment the count for the state\n",
    "    for row in partial_results:\n",
    "        if row.state in state_count:\n",
    "            state_count[row.state] += 1\n",
    "        else:\n",
    "            state_count[row.state] = 1\n",
    "\n",
    "# Close the ResultProxy, and thus the connection\n",
    "results_proxy.close()\n",
    "\n",
    "# Print the count by state\n",
    "print(state_count)"
   ]
  },
  {
   "cell_type": "markdown",
   "id": "d2a4655f",
   "metadata": {},
   "source": [
    "Syntax for creating tables - use your own columns instead of autoload\n",
    "\n",
    "followed by metadata.create_all(engine)"
   ]
  },
  {
   "cell_type": "code",
   "execution_count": null,
   "id": "fabcb8b0",
   "metadata": {},
   "outputs": [],
   "source": [
    "# Import Table, Column, String, Integer, Float, Boolean from sqlalchemy\n",
    "from sqlalchemy import Table, Column, String, Integer, Float, Boolean\n",
    "\n",
    "# Define a new table with a name, count, amount, and valid column: data\n",
    "data = Table('data', metadata,\n",
    "             Column('name', String(255), unique=True),\n",
    "             Column('count', Integer(), default=1),\n",
    "             Column('amount', Float()),\n",
    "             Column('valid', Boolean(), default=False)\n",
    ")\n",
    "\n",
    "# Use the metadata to create the table\n",
    "metadata.create_all(engine)\n",
    "\n",
    "# Print the table details\n",
    "print(repr(metadata.tables['data']))"
   ]
  },
  {
   "cell_type": "markdown",
   "id": "11dc3de6",
   "metadata": {},
   "source": [
    "insert data in sqlalchemy, use insert()\n",
    "\n",
    "insert, statement, and list(dicts)"
   ]
  },
  {
   "cell_type": "code",
   "execution_count": null,
   "id": "dd1cf484",
   "metadata": {},
   "outputs": [],
   "source": [
    "# Build a list of dictionaries: values_list\n",
    "values_list = [\n",
    "    {'name': 'Anna', 'count': 1, 'amount': 1000.00, 'valid': True},\n",
    "    {'name': 'Taylor', 'count': 1, 'amount': 750.00, 'valid': False}\n",
    "]\n",
    "\n",
    "# Build an insert statement for the data table: stmt\n",
    "stmt = insert(data)\n",
    "\n",
    "# Execute stmt with the values_list: results\n",
    "results = connection.execute(stmt, values_list)\n",
    "\n",
    "# Print rowcount\n",
    "print(results.rowcount)\n"
   ]
  },
  {
   "cell_type": "markdown",
   "id": "905d4958",
   "metadata": {},
   "source": [
    ".to_sql() parameters\n",
    "\n",
    "- name is the name of the SQL table (as a string).\n",
    "- con is the connection to the database that you will use to upload the data.\n",
    "- if_exists specifies how to behave if the table already exists in the database; possible values are \"fail\", \"replace\", and \"append\".\n",
    "- index (True or False) specifies whether to write the DataFrame's index as a column."
   ]
  },
  {
   "cell_type": "code",
   "execution_count": null,
   "id": "17c38332",
   "metadata": {},
   "outputs": [],
   "source": [
    "# import pandas\n",
    "import pandas as pd\n",
    "\n",
    "# read census.csv into a DataFrame : census_df\n",
    "census_df = pd.read_csv(\"census.csv\", header=None)\n",
    "\n",
    "# rename the columns of the census DataFrame\n",
    "census_df.columns = ['state', 'sex', 'age', 'pop2000', 'pop2008']\n",
    "\n",
    "# append the data from census_df to the \"census\" table via connection\n",
    "census_df.to_sql(name='census', con=connection, if_exists='append', index=False)"
   ]
  },
  {
   "cell_type": "markdown",
   "id": "a0f4d3c7",
   "metadata": {},
   "source": [
    "update"
   ]
  },
  {
   "cell_type": "code",
   "execution_count": null,
   "id": "361cf5cf",
   "metadata": {},
   "outputs": [],
   "source": [
    "# Build a select statement: select_stmt\n",
    "select_stmt = select([state_fact]).where(state_fact.columns.name == 'New York')\n",
    "\n",
    "# Execute select_stmt and fetch the results\n",
    "results = connection.execute(select_stmt).fetchall()\n",
    "\n",
    "# Print the results of executing the select_stmt\n",
    "print(results)\n",
    "\n",
    "# Print the FIPS code for the first row of the result\n",
    "print(results[0]['fips_state'])"
   ]
  },
  {
   "cell_type": "markdown",
   "id": "1233c2da",
   "metadata": {},
   "source": [
    "The update statement is very similar to an insert statement. For example, you can update all wages in the employees table as follows:\n",
    "\n",
    "stmt = update(employees).values(wage=100.00)"
   ]
  },
  {
   "cell_type": "code",
   "execution_count": null,
   "id": "a2df2733",
   "metadata": {},
   "outputs": [],
   "source": [
    "# Build a statement to update the fips_state to 36: update_stmt\n",
    "update_stmt = update(state_fact).values(fips_state = 36)\n",
    "\n",
    "# Append a where clause to limit it to records for New York state\n",
    "update_stmt = update_stmt.where(state_fact.columns.name == 'New York')\n",
    "\n",
    "# Execute the statement: update_results\n",
    "update_results = connection.execute(update_stmt)"
   ]
  },
  {
   "cell_type": "code",
   "execution_count": null,
   "id": "6b909ec3",
   "metadata": {},
   "outputs": [],
   "source": [
    "# Build a statement to update the notes to 'The Wild West': stmt\n",
    "stmt = update(state_fact).values(notes='The Wild West')\n",
    "\n",
    "# Append a where clause to match the West census region records: stmt_west\n",
    "stmt_west = stmt.where(state_fact.columns.census_region_name == 'West')\n",
    "\n",
    "# Execute the statement: results\n",
    "results = connection.execute(stmt_west)\n"
   ]
  },
  {
   "cell_type": "markdown",
   "id": "4b9c60e3",
   "metadata": {},
   "source": [
    "delete"
   ]
  },
  {
   "cell_type": "markdown",
   "id": "ec4f2005",
   "metadata": {},
   "source": [
    "Build a delete statement to remove data from the census table. Save it as delete_stmt.\n",
    "\n",
    "Append a where clause to delete_stmt that contains an and_ to filter for rows which have 'M' in the sex column AND 36 in the age column.\n",
    "\n",
    "Execute the delete statement."
   ]
  },
  {
   "cell_type": "code",
   "execution_count": null,
   "id": "127d122c",
   "metadata": {},
   "outputs": [],
   "source": [
    "# Build a statement to count records using the sex column for Men ('M') age 36: count_stmt\n",
    "count_stmt = select([func.count(census.columns.sex)]).where(\n",
    "    and_(census.columns.sex == 'M',\n",
    "         census.columns.age == 36)\n",
    ")\n",
    "\n",
    "# Execute the select statement and use the scalar() fetch method to save the record count\n",
    "to_delete = connection.execute(count_stmt).scalar()\n",
    "\n",
    "# Build a statement to delete records from the census table: delete_stmt\n",
    "delete_stmt = delete(census)\n",
    "\n",
    "# Append a where clause to target Men ('M') age 36: delete_stmt\n",
    "delete_stmt = delete_stmt.where(\n",
    "    and_(census.columns.sex == 'M',\n",
    "         census.columns.age == 36)\n",
    ")\n",
    "\n",
    "# Execute the statement: results\n",
    "results = connection.execute(delete_stmt)\n",
    "\n",
    "# Print affected rowcount and to_delete record count, make sure they match\n",
    "print(results.rowcount, to_delete)\n"
   ]
  },
  {
   "cell_type": "markdown",
   "id": "265c4d5b",
   "metadata": {},
   "source": [
    "Dropping tables"
   ]
  },
  {
   "cell_type": "code",
   "execution_count": null,
   "id": "ffd2c42b",
   "metadata": {},
   "outputs": [],
   "source": [
    "# Drop the state_fact table\n",
    "state_fact.drop(engine)\n",
    "\n",
    "# Check to see if state_fact exists\n",
    "print(state_fact.exists(engine))\n",
    "\n",
    "# Drop all tables\n",
    "metadata.drop_all(engine)\n",
    "\n",
    "# Check to see if census exists\n",
    "print(census.exists(engine))\n"
   ]
  },
  {
   "cell_type": "markdown",
   "id": "e1041b0c",
   "metadata": {},
   "source": [
    "# Case study create census table"
   ]
  },
  {
   "cell_type": "code",
   "execution_count": null,
   "id": "47ea2af5",
   "metadata": {},
   "outputs": [],
   "source": [
    "# Import create_engine, MetaData\n",
    "from sqlalchemy import create_engine, MetaData\n",
    "\n",
    "# Define an engine to connect to chapter5.sqlite: engine\n",
    "engine = create_engine('sqlite:///chapter5.sqlite')\n",
    "\n",
    "# Initialize MetaData: metadata\n",
    "metadata = MetaData(engine)\n"
   ]
  },
  {
   "cell_type": "code",
   "execution_count": null,
   "id": "2cfb81ae",
   "metadata": {},
   "outputs": [],
   "source": [
    "# Import Table, Column, String, and Integer\n",
    "from sqlalchemy import Table, Column, String, Integer\n",
    "\n",
    "# Build a census table: census\n",
    "census = Table('census', metadata,\n",
    "               Column('state', String(30)),\n",
    "               Column('sex', String(1)),\n",
    "               Column('age', Integer()),\n",
    "               Column('pop2000', Integer()),\n",
    "               Column('pop2008', Integer()))\n",
    "\n",
    "# Create the table in the database\n",
    "metadata.create_all(engine)\n"
   ]
  },
  {
   "cell_type": "code",
   "execution_count": null,
   "id": "200ac763",
   "metadata": {},
   "outputs": [],
   "source": [
    "# Create an empty list: values_list\n",
    "values_list = []\n",
    "\n",
    "# Iterate over the rows\n",
    "for row in csv_reader:\n",
    "    # Create a dictionary with the values\n",
    "    data = {'state': row[0], 'sex': row[1], 'age':row[2], 'pop2000': row[3],\n",
    "            'pop2008': row[4]}\n",
    "    # Append the dictionary to the values list\n",
    "    values_list.append(data)\n"
   ]
  },
  {
   "cell_type": "code",
   "execution_count": null,
   "id": "2ef095d4",
   "metadata": {},
   "outputs": [],
   "source": [
    "# Import insert\n",
    "from sqlalchemy import insert\n",
    "\n",
    "# Build insert statement: stmt\n",
    "stmt = insert(census)\n",
    "\n",
    "# Use values_list to insert data: results\n",
    "results = connection.execute(stmt, values_list)\n",
    "\n",
    "# Print rowcount\n",
    "print(results.rowcount)\n"
   ]
  },
  {
   "cell_type": "markdown",
   "id": "556c4587",
   "metadata": {},
   "source": [
    "# Case study continued, using queries"
   ]
  },
  {
   "cell_type": "markdown",
   "id": "02a119fe",
   "metadata": {},
   "source": [
    "Write a statement to select the average of age (age) weighted by population in 2000 (pop2000) from census."
   ]
  },
  {
   "cell_type": "code",
   "execution_count": null,
   "id": "5d8329e6",
   "metadata": {},
   "outputs": [],
   "source": [
    "# Import select and func\n",
    "from sqlalchemy import select, func\n",
    "\n",
    "# Relabel the new column as average_age\n",
    "stmt = select([(func.sum(census.columns.pop2000 * census.columns.age) \n",
    "  \t\t\t\t\t/ func.sum(census.columns.pop2000)).label('average_age')\n",
    "\t\t\t  ])"
   ]
  },
  {
   "cell_type": "code",
   "execution_count": null,
   "id": "339e69ce",
   "metadata": {},
   "outputs": [],
   "source": [
    "\n",
    "# Group by sex\n",
    "stmt = stmt.group_by(census.columns.sex)"
   ]
  },
  {
   "cell_type": "code",
   "execution_count": null,
   "id": "fb60cb9b",
   "metadata": {},
   "outputs": [],
   "source": [
    "\n",
    "# Execute the query and fetch all the results\n",
    "results = connection.execute(stmt).fetchall()\n",
    "\n",
    "# Print the sex and average age column for each result\n",
    "for result in results:\n",
    "    print(result[1], result[0])"
   ]
  },
  {
   "cell_type": "markdown",
   "id": "0c2396ff",
   "metadata": {},
   "source": [
    "Import case, cast and Float from sqlalchemy.\n",
    "\n",
    "Define a statement to select state and the percentage of women in 2000.\n",
    "\n",
    "Inside func.sum(), use case() to select women (using the sex column) from pop2000. Remember to specify else_=0 if the sex is not 'F'.\n",
    "\n",
    "To get the percentage, divide the number of women in the year 2000 by the overall population in 2000. Cast the divisor - census.columns.pop2000 - to Float before multiplying by 100.\n",
    "\n",
    "Group the query by state.\n",
    "\n",
    "Execute the query and store it as results.\n",
    "\n",
    "Print state and percent_female for each record. "
   ]
  },
  {
   "cell_type": "code",
   "execution_count": null,
   "id": "c984012c",
   "metadata": {},
   "outputs": [],
   "source": [
    "# import case, cast and Float from sqlalchemy\n",
    "from sqlalchemy import case, cast, Float\n",
    "\n",
    "# Build a query to calculate the percentage of women in 2000: stmt\n",
    "stmt = select([ census.columns.state,\n",
    "    (func.sum(\n",
    "        case([\n",
    "            (census.columns.sex == 'F', census.columns.pop2000)\n",
    "        ], else_=0)) /\n",
    "     cast(func.sum(census.columns.pop2000), Float) * 100).label('percent_female')\n",
    "])\n",
    "\n",
    "# Group By state\n",
    "stmt = stmt.group_by(census.columns.state)\n",
    "\n",
    "# Execute the query and store the results: results\n",
    "results = connection.execute(stmt).fetchall()\n",
    "\n",
    "# Print the percentage\n",
    "for result in results:\n",
    "    print(result.state, result.percent_female)\n"
   ]
  },
  {
   "cell_type": "markdown",
   "id": "bc7909f6",
   "metadata": {},
   "source": [
    "Build a statement to:\n",
    "- Select state.\n",
    "- Calculate the difference in population between 2008 (pop2008) and 2000 (pop2000).\n",
    "\n",
    "Group the query by census.columns.state using the .group_by() method on stmt.\n",
    "\n",
    "Order by 'pop_change' in descending order using the .order_by() method with the desc() function on 'pop_change'.\n",
    "\n",
    "Limit the query to the top 10 states using the .limit() method.\n",
    "\n",
    "Execute the query and store it as results.\n",
    "\n",
    "Print the state and the population change for each result. This has been done for you, so hit 'Submit Answer' to see the result!"
   ]
  },
  {
   "cell_type": "code",
   "execution_count": null,
   "id": "29f09594",
   "metadata": {},
   "outputs": [],
   "source": [
    "# Build query to return state name and population difference from 2008 to 2000\n",
    "stmt = select([census.columns.state,\n",
    "     (census.columns.pop2008-census.columns.pop2000).label('pop_change')\n",
    "])\n",
    "\n",
    "# Group by State\n",
    "stmt = stmt.group_by(census.columns.state)\n",
    "\n",
    "# Order by Population Change\n",
    "stmt = stmt.order_by(desc('pop_change'))\n",
    "\n",
    "# Limit to top 10\n",
    "stmt = stmt.limit(10)\n",
    "\n",
    "# Use connection to execute the statement and fetch all results\n",
    "results = connection.execute(stmt).fetchall()\n",
    "\n",
    "# Print the state and population change for each record\n",
    "for result in results:\n",
    "    print('{}:{}'.format(result.state, result.pop_change))"
   ]
  },
  {
   "cell_type": "code",
   "execution_count": null,
   "id": "01f983c2",
   "metadata": {},
   "outputs": [],
   "source": []
  },
  {
   "cell_type": "code",
   "execution_count": null,
   "id": "41e0b36f",
   "metadata": {},
   "outputs": [],
   "source": []
  },
  {
   "cell_type": "code",
   "execution_count": null,
   "id": "d9d4559c",
   "metadata": {},
   "outputs": [],
   "source": []
  },
  {
   "cell_type": "code",
   "execution_count": null,
   "id": "4c1fd9ed",
   "metadata": {},
   "outputs": [],
   "source": []
  },
  {
   "cell_type": "code",
   "execution_count": null,
   "id": "a517917b",
   "metadata": {},
   "outputs": [],
   "source": []
  },
  {
   "cell_type": "code",
   "execution_count": null,
   "id": "c2dafd80",
   "metadata": {},
   "outputs": [],
   "source": []
  },
  {
   "cell_type": "code",
   "execution_count": null,
   "id": "4acbcaae",
   "metadata": {},
   "outputs": [],
   "source": []
  },
  {
   "cell_type": "code",
   "execution_count": null,
   "id": "f8503198",
   "metadata": {},
   "outputs": [],
   "source": []
  },
  {
   "cell_type": "code",
   "execution_count": null,
   "id": "7550aae8",
   "metadata": {},
   "outputs": [],
   "source": []
  },
  {
   "cell_type": "code",
   "execution_count": null,
   "id": "2ffd518d",
   "metadata": {},
   "outputs": [],
   "source": []
  },
  {
   "cell_type": "code",
   "execution_count": null,
   "id": "7e1da02b",
   "metadata": {},
   "outputs": [],
   "source": []
  },
  {
   "cell_type": "code",
   "execution_count": null,
   "id": "59ac25f4",
   "metadata": {},
   "outputs": [],
   "source": []
  }
 ],
 "metadata": {
  "kernelspec": {
   "display_name": "Python 3",
   "language": "python",
   "name": "python3"
  },
  "language_info": {
   "codemirror_mode": {
    "name": "ipython",
    "version": 3
   },
   "file_extension": ".py",
   "mimetype": "text/x-python",
   "name": "python",
   "nbconvert_exporter": "python",
   "pygments_lexer": "ipython3",
   "version": "3.8.8"
  }
 },
 "nbformat": 4,
 "nbformat_minor": 5
}
