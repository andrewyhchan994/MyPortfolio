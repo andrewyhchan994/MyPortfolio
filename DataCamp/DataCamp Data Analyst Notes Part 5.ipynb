{
 "cells": [
  {
   "cell_type": "markdown",
   "id": "15825ffa",
   "metadata": {},
   "source": [
    "Joining"
   ]
  },
  {
   "cell_type": "code",
   "execution_count": null,
   "id": "4fa232b0",
   "metadata": {},
   "outputs": [],
   "source": [
    "-- Select name fields (with alias) and region \n",
    "SELECT cities.name AS city, countries.name AS country, countries.region\n",
    "FROM cities \n",
    "  INNER JOIN countries\n",
    "    ON cities.country_code = countries.code;"
   ]
  },
  {
   "cell_type": "code",
   "execution_count": null,
   "id": "ece1149e",
   "metadata": {},
   "outputs": [],
   "source": [
    "-- Select fields with aliases\n",
    "SELECT c.code AS country_code, c.name, e.year, e.inflation_rate\n",
    "FROM countries AS c\n",
    "  -- Join to economies (alias e)\n",
    "  INNER JOIN economies AS e\n",
    "    -- Match on code\n",
    "    ON c.code = e.code;"
   ]
  },
  {
   "cell_type": "markdown",
   "id": "1a25efcb",
   "metadata": {},
   "source": [
    "multiple inner joins"
   ]
  },
  {
   "cell_type": "code",
   "execution_count": null,
   "id": "ab76554b",
   "metadata": {},
   "outputs": [],
   "source": [
    "-- Select fields\n",
    "SELECT c.code, name, region, e.year, fertility_rate, unemployment_rate\n",
    "  -- From countries (alias as c)\n",
    "  FROM countries AS c\n",
    "  -- Join to populations (as p)\n",
    "  INNER JOIN populations AS p\n",
    "    -- Match on country code\n",
    "    ON c.code = p.country_code\n",
    "  -- Join to economies (as e)\n",
    "  INNER JOIN economies AS e\n",
    "    -- Match on country code and year\n",
    "    ON c.code = e.code AND p.year = e.year;"
   ]
  },
  {
   "cell_type": "markdown",
   "id": "ed6428bf",
   "metadata": {},
   "source": [
    "INNER JOIN with USING\n",
    "\n",
    "USING(common field)"
   ]
  },
  {
   "cell_type": "code",
   "execution_count": null,
   "id": "f410c161",
   "metadata": {},
   "outputs": [],
   "source": [
    "-- Select fields\n",
    "SELECT c.name AS country, continent, l.name AS language, official\n",
    "  -- From countries (alias as c)\n",
    "  FROM countries AS c\n",
    "  -- Join to languages (as l)\n",
    "  INNER JOIN languages AS l\n",
    "    -- Match using code\n",
    "    USING (code)"
   ]
  },
  {
   "cell_type": "markdown",
   "id": "babe09c8",
   "metadata": {},
   "source": [
    "self-joins and CASE WHEN    THEN\n",
    "\n",
    "C W T - way to write if then else in sql"
   ]
  },
  {
   "cell_type": "markdown",
   "id": "bb266a68",
   "metadata": {},
   "source": [
    "Join populations with itself ON country_code.\n",
    "\n",
    "Select the country_code from p1 and the size field from both p1 and p2. SQL won't allow same-named fields, so alias p1.size as size2010 and p2.size as size2015."
   ]
  },
  {
   "cell_type": "code",
   "execution_count": null,
   "id": "c9253d6d",
   "metadata": {},
   "outputs": [],
   "source": [
    "-- Select fields with aliases\n",
    "SELECT p1.country_code,\n",
    "p1.size AS size2010,\n",
    "p2.country_code,\n",
    "p2.size AS size2015\n",
    "-- From populations (alias as p1)\n",
    "FROM populations AS p1\n",
    "  -- Join to itself (alias as p2)\n",
    "  INNER JOIN populations AS p2\n",
    "    -- Match on country code\n",
    "    USING (country_code)"
   ]
  },
  {
   "cell_type": "markdown",
   "id": "71792d71",
   "metadata": {},
   "source": [
    "Notice from the result that for each country_code you have four entries laying out all combinations of 2010 and 2015.\n",
    "\n",
    "Extend the ON in your query to include only those records where the p1.year (2010) matches with p2.year - 5 (2015 - 5 = 2010). This will omit the three entries per country_code that you aren't interested in."
   ]
  },
  {
   "cell_type": "code",
   "execution_count": null,
   "id": "a997d8b0",
   "metadata": {},
   "outputs": [],
   "source": [
    "-- Select fields with aliases\n",
    "SELECT p1.country_code,\n",
    "       p1.size AS size2010,\n",
    "       p2.size AS size2015\n",
    "-- From populations (alias as p1)\n",
    "FROM populations as p1\n",
    "  -- Join to itself (alias as p2)\n",
    "  INNER JOIN populations as p2\n",
    "    -- Match on country code\n",
    "    ON p1.country_code = p2.country_code\n",
    "        -- and year (with calculation)\n",
    "        AND p1.year = p2.year - 5;"
   ]
  },
  {
   "cell_type": "markdown",
   "id": "00eb47d4",
   "metadata": {},
   "source": [
    "self join - calculate percentage"
   ]
  },
  {
   "cell_type": "code",
   "execution_count": null,
   "id": "9fb5b2dd",
   "metadata": {},
   "outputs": [],
   "source": [
    "-- Select fields with aliases\n",
    "SELECT p1.country_code,\n",
    "       p1.size AS size2010, \n",
    "       p2.size AS size2015,\n",
    "       -- Calculate growth_perc\n",
    "       ((p2.size - p1.size)/p1.size * 100.0) AS growth_perc\n",
    "-- From populations (alias as p1)\n",
    "FROM populations AS p1\n",
    "  -- Join to itself (alias as p2)\n",
    "  INNER JOIN populations AS p2\n",
    "    -- Match on country code\n",
    "    ON p1.country_code = p2.country_code\n",
    "        -- and year (with calculation)\n",
    "        AND p1.year = p2.year - 5;"
   ]
  },
  {
   "cell_type": "markdown",
   "id": "cba4f82a",
   "metadata": {},
   "source": [
    "Using the countries table, create a new field AS geosize_group that groups the countries into three groups:\n",
    "\n",
    "If surface_area is greater than 2 million, geosize_group is 'large'.\n",
    "\n",
    "If surface_area is greater than 350 thousand but not larger than 2 million, geosize_group is 'medium'.\n",
    "\n",
    "Otherwise, geosize_group is 'small'."
   ]
  },
  {
   "cell_type": "code",
   "execution_count": null,
   "id": "8f8c8039",
   "metadata": {},
   "outputs": [],
   "source": [
    "SELECT name, continent, code, surface_area,\n",
    "    -- First case\n",
    "    CASE WHEN surface_area > 2000000 THEN 'large'\n",
    "        -- Second case\n",
    "        WHEN surface_area > 350000 THEN 'medium'\n",
    "        -- Else clause + end\n",
    "        ELSE 'small' END\n",
    "        -- Alias name\n",
    "        AS geosize_group\n",
    "-- From table\n",
    "FROM countries;"
   ]
  },
  {
   "cell_type": "markdown",
   "id": "f134176e",
   "metadata": {},
   "source": [
    "## INTO\n",
    "\n",
    "Keep the first query intact that creates pop_plus using INTO.\n",
    "\n",
    "Write a query to join countries_plus AS c on the left with pop_plus AS p on the right matching on the country code fields.\n",
    "\n",
    "Sort the data based on geosize_group, in ascending order so that large appears on top.\n",
    "\n",
    "Select the name, continent, geosize_group, and popsize_group fields."
   ]
  },
  {
   "cell_type": "code",
   "execution_count": null,
   "id": "9a0b8e3e",
   "metadata": {},
   "outputs": [],
   "source": [
    "SELECT country_code, size,\n",
    "  CASE WHEN size > 50000000\n",
    "            THEN 'large'\n",
    "       WHEN size > 1000000\n",
    "            THEN 'medium'\n",
    "       ELSE 'small' END\n",
    "       AS popsize_group\n",
    "INTO pop_plus       \n",
    "FROM populations\n",
    "WHERE year = 2015;\n",
    "\n",
    "-- Select fields\n",
    "SELECT name, continent, geosize_group, popsize_group\n",
    "-- From countries_plus (alias as c)\n",
    "FROM countries_plus AS c\n",
    "  -- Join to pop_plus (alias as p)\n",
    "  INNER JOIN pop_plus AS p\n",
    "    -- Match on country code\n",
    "    ON c.code = p.country_code\n",
    "-- Order the table    \n",
    "ORDER BY geosize_group ASC;"
   ]
  },
  {
   "cell_type": "code",
   "execution_count": null,
   "id": "806ab179",
   "metadata": {},
   "outputs": [],
   "source": [
    "-- LEFT AND RIGHT JOINS\n",
    "-- Select fields\n",
    "SELECT region, AVG(gdp_percapita) AS avg_gdp\n",
    "-- From countries (alias as c)\n",
    "FROM countries AS c\n",
    "  -- Left join with economies (alias as e)\n",
    "  LEFT JOIN economies AS e\n",
    "    -- Match on code fields\n",
    "    ON c.code = e.code\n",
    "-- Focus on 2010\n",
    "WHERE year = 2010\n",
    "-- Group by region\n",
    "GROUP BY region\n",
    "-- Order by descending avg_gdp\n",
    "ORDER BY avg_gdp DESC;"
   ]
  },
  {
   "cell_type": "markdown",
   "id": "9cd4b814",
   "metadata": {},
   "source": [
    "FULL JOIN\n",
    "\n",
    "combining LEFT JOIN AND RIGHT JOIN, and keeps the missing fields\n",
    "- order matters here"
   ]
  },
  {
   "cell_type": "code",
   "execution_count": null,
   "id": "b17dac1d",
   "metadata": {},
   "outputs": [],
   "source": [
    "SELECT name AS country, code, region, basic_unit\n",
    "-- From countries\n",
    "FROM countries\n",
    "  -- Join to currencies\n",
    "  FULL JOIN currencies\n",
    "    -- Match on code\n",
    "    USING (code)\n",
    "-- Where region is North America or null\n",
    "WHERE region = 'North America' OR region IS NULL\n",
    "-- Order by region\n",
    "ORDER BY region;"
   ]
  },
  {
   "cell_type": "markdown",
   "id": "9759e1aa",
   "metadata": {},
   "source": [
    "FULL JOIN continued\n",
    "\n",
    "Choose records in which countries.name starts with the capital letter 'V' or is NULL.\n",
    "\n",
    "Arrange by countries.name in ascending order to more clearly see the results."
   ]
  },
  {
   "cell_type": "code",
   "execution_count": null,
   "id": "29633d77",
   "metadata": {},
   "outputs": [],
   "source": [
    "SELECT countries.name, code, languages.name AS language\n",
    "-- From languages\n",
    "FROM languages\n",
    "  -- Join to countries\n",
    "  FULL JOIN countries\n",
    "    -- Match on code\n",
    "    USING (code)\n",
    "-- Where countries.name starts with V or is null\n",
    "WHERE countries.name LIKE 'V%' OR countries.name IS NULL\n",
    "-- Order by ascending countries.name\n",
    "ORDER BY countries.name ASC;"
   ]
  },
  {
   "cell_type": "markdown",
   "id": "258a46d9",
   "metadata": {},
   "source": [
    "Complete a full join with countries on the left and languages on the right.\n",
    "\n",
    "Next, full join this result with currencies on the right.\n",
    "\n",
    "Use LIKE to choose the Melanesia and Micronesia regions (Hint: 'M%esia').\n",
    "\n",
    "Select the fields corresponding to the country name AS country, region, language name AS language, and basic and fractional units of currency."
   ]
  },
  {
   "cell_type": "code",
   "execution_count": null,
   "id": "da9bd4e6",
   "metadata": {},
   "outputs": [],
   "source": [
    "-- Select fields (with aliases)\n",
    "SELECT c1.name AS country, region, l.name AS language,\n",
    "       basic_unit, frac_unit\n",
    "-- From countries (alias as c1)\n",
    "FROM countries AS c1\n",
    "  -- Join with languages (alias as l)\n",
    "  FULL JOIN languages AS l\n",
    "    -- Match on code\n",
    "    USING (code)\n",
    "  -- Join with currencies (alias as c2)\n",
    "  FULL JOIN currencies AS c2\n",
    "    -- Match on code\n",
    "    USING (code)\n",
    "-- Where region like Melanesia and Micronesia\n",
    "WHERE region LIKE 'M%esia';"
   ]
  },
  {
   "cell_type": "markdown",
   "id": "6a4cc969",
   "metadata": {},
   "source": [
    "CROSS JOIN - create all possible combinations of table"
   ]
  },
  {
   "cell_type": "code",
   "execution_count": null,
   "id": "681d6748",
   "metadata": {},
   "outputs": [],
   "source": [
    "-- Select fields\n",
    "SELECT c.name AS city, l.name AS language\n",
    "-- From cities (alias as c)\n",
    "FROM cities AS c        \n",
    "  -- Join to languages (alias as l)\n",
    "  CROSS JOIN languages AS l\n",
    "-- Where c.name like Hyderabad\n",
    "WHERE c.name LIKE 'Hyder%';"
   ]
  },
  {
   "cell_type": "code",
   "execution_count": null,
   "id": "b24c9e36",
   "metadata": {},
   "outputs": [],
   "source": [
    "-- Select fields\n",
    "SELECT c.name AS country, region, life_expectancy AS life_exp\n",
    "-- From countries (alias as c)\n",
    "FROM countries AS c\n",
    "  -- Join to populations (alias as p)\n",
    "  LEFT JOIN populations AS p\n",
    "    -- Match on country code\n",
    "    ON c.code = p.country_code\n",
    "-- Focus on 2010\n",
    "WHERE year = 2010\n",
    "-- Order by life_exp\n",
    "ORDER BY life_exp \n",
    "-- Limit to 5 records\n",
    "LIMIT 5;"
   ]
  },
  {
   "cell_type": "markdown",
   "id": "301859ab",
   "metadata": {},
   "source": [
    "UNION"
   ]
  },
  {
   "cell_type": "code",
   "execution_count": null,
   "id": "eb4ccf56",
   "metadata": {},
   "outputs": [],
   "source": []
  },
  {
   "cell_type": "code",
   "execution_count": null,
   "id": "b4a7c58d",
   "metadata": {},
   "outputs": [],
   "source": []
  },
  {
   "cell_type": "code",
   "execution_count": null,
   "id": "dfe51032",
   "metadata": {},
   "outputs": [],
   "source": []
  },
  {
   "cell_type": "code",
   "execution_count": null,
   "id": "b111677a",
   "metadata": {},
   "outputs": [],
   "source": []
  },
  {
   "cell_type": "code",
   "execution_count": null,
   "id": "1bb1a1ba",
   "metadata": {},
   "outputs": [],
   "source": []
  },
  {
   "cell_type": "code",
   "execution_count": null,
   "id": "6015717a",
   "metadata": {},
   "outputs": [],
   "source": []
  },
  {
   "cell_type": "code",
   "execution_count": null,
   "id": "44b421e0",
   "metadata": {},
   "outputs": [],
   "source": []
  },
  {
   "cell_type": "code",
   "execution_count": null,
   "id": "483dceb8",
   "metadata": {},
   "outputs": [],
   "source": []
  },
  {
   "cell_type": "code",
   "execution_count": null,
   "id": "1e246a97",
   "metadata": {},
   "outputs": [],
   "source": []
  },
  {
   "cell_type": "code",
   "execution_count": null,
   "id": "ff212878",
   "metadata": {},
   "outputs": [],
   "source": []
  },
  {
   "cell_type": "code",
   "execution_count": null,
   "id": "edaa5aba",
   "metadata": {},
   "outputs": [],
   "source": []
  },
  {
   "cell_type": "code",
   "execution_count": null,
   "id": "7f42d85b",
   "metadata": {},
   "outputs": [],
   "source": []
  },
  {
   "cell_type": "code",
   "execution_count": null,
   "id": "d1489d1a",
   "metadata": {},
   "outputs": [],
   "source": []
  },
  {
   "cell_type": "code",
   "execution_count": null,
   "id": "41bdba1e",
   "metadata": {},
   "outputs": [],
   "source": []
  },
  {
   "cell_type": "code",
   "execution_count": null,
   "id": "cb429ea2",
   "metadata": {},
   "outputs": [],
   "source": []
  },
  {
   "cell_type": "code",
   "execution_count": null,
   "id": "4d5a7484",
   "metadata": {},
   "outputs": [],
   "source": []
  },
  {
   "cell_type": "code",
   "execution_count": null,
   "id": "bb5e55d3",
   "metadata": {},
   "outputs": [],
   "source": []
  },
  {
   "cell_type": "code",
   "execution_count": null,
   "id": "191005e0",
   "metadata": {},
   "outputs": [],
   "source": []
  },
  {
   "cell_type": "code",
   "execution_count": null,
   "id": "9ecf9310",
   "metadata": {},
   "outputs": [],
   "source": []
  },
  {
   "cell_type": "code",
   "execution_count": null,
   "id": "44000f31",
   "metadata": {},
   "outputs": [],
   "source": []
  },
  {
   "cell_type": "code",
   "execution_count": null,
   "id": "ea0450f6",
   "metadata": {},
   "outputs": [],
   "source": []
  },
  {
   "cell_type": "code",
   "execution_count": null,
   "id": "20d3a0ce",
   "metadata": {},
   "outputs": [],
   "source": []
  },
  {
   "cell_type": "code",
   "execution_count": null,
   "id": "dc1fae63",
   "metadata": {},
   "outputs": [],
   "source": []
  },
  {
   "cell_type": "code",
   "execution_count": null,
   "id": "c5d5e717",
   "metadata": {},
   "outputs": [],
   "source": []
  },
  {
   "cell_type": "code",
   "execution_count": null,
   "id": "35cc6d68",
   "metadata": {},
   "outputs": [],
   "source": []
  },
  {
   "cell_type": "code",
   "execution_count": null,
   "id": "6df07b30",
   "metadata": {},
   "outputs": [],
   "source": []
  },
  {
   "cell_type": "code",
   "execution_count": null,
   "id": "975f6175",
   "metadata": {},
   "outputs": [],
   "source": []
  },
  {
   "cell_type": "code",
   "execution_count": null,
   "id": "e9a20111",
   "metadata": {},
   "outputs": [],
   "source": []
  },
  {
   "cell_type": "code",
   "execution_count": null,
   "id": "69116148",
   "metadata": {},
   "outputs": [],
   "source": []
  },
  {
   "cell_type": "code",
   "execution_count": null,
   "id": "20e4b213",
   "metadata": {},
   "outputs": [],
   "source": []
  },
  {
   "cell_type": "code",
   "execution_count": null,
   "id": "ffd2c42b",
   "metadata": {},
   "outputs": [],
   "source": []
  },
  {
   "cell_type": "code",
   "execution_count": null,
   "id": "9bf744a7",
   "metadata": {},
   "outputs": [],
   "source": []
  },
  {
   "cell_type": "code",
   "execution_count": null,
   "id": "7e1da02b",
   "metadata": {},
   "outputs": [],
   "source": []
  },
  {
   "cell_type": "code",
   "execution_count": null,
   "id": "59ac25f4",
   "metadata": {},
   "outputs": [],
   "source": []
  }
 ],
 "metadata": {
  "kernelspec": {
   "display_name": "Python 3",
   "language": "python",
   "name": "python3"
  },
  "language_info": {
   "codemirror_mode": {
    "name": "ipython",
    "version": 3
   },
   "file_extension": ".py",
   "mimetype": "text/x-python",
   "name": "python",
   "nbconvert_exporter": "python",
   "pygments_lexer": "ipython3",
   "version": "3.8.8"
  }
 },
 "nbformat": 4,
 "nbformat_minor": 5
}
