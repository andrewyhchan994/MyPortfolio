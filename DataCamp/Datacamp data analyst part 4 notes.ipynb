{
 "cells": [
  {
   "cell_type": "markdown",
   "id": "d7fe7e5e",
   "metadata": {},
   "source": [
    "A relational database:\n",
    "\n",
    "- real-life entities become tables\n",
    "- reduced redundancy\n",
    "- data integrity by relationships\n",
    "\n",
    "learn three concepts\n",
    "\n",
    "- constraints\n",
    "- keys\n",
    "- referential integrity"
   ]
  },
  {
   "cell_type": "code",
   "execution_count": null,
   "id": "52642fd8",
   "metadata": {},
   "outputs": [],
   "source": [
    "-- Query the right table in information_schema\n",
    "SELECT table_name \n",
    "FROM information_schema.tables -- meta-database with MULTIPLE tables\n",
    "-- Specify the correct table_schema value\n",
    "WHERE table_schema = 'public';"
   ]
  },
  {
   "cell_type": "markdown",
   "id": "afe326f5",
   "metadata": {},
   "source": [
    "Now have a look at the columns in university_professors by selecting all entries in information_schema.columns that correspond to that table."
   ]
  },
  {
   "cell_type": "code",
   "execution_count": null,
   "id": "c22c1094",
   "metadata": {},
   "outputs": [],
   "source": [
    "-- Query the right table in information_schema to get columns\n",
    "SELECT column_name, data_type \n",
    "FROM information_schema.columns \n",
    "WHERE table_name = 'university_professors' AND table_schema = 'public';"
   ]
  },
  {
   "cell_type": "markdown",
   "id": "5879cbc2",
   "metadata": {},
   "source": [
    "Finding the number of columns in the table university_professors"
   ]
  },
  {
   "cell_type": "code",
   "execution_count": null,
   "id": "43218b3e",
   "metadata": {},
   "outputs": [],
   "source": [
    "SELECT COUNT(*)\n",
    "FROM information_schema.columns\n",
    "WHERE table_name = 'university_professors' AND table_schema = 'public'"
   ]
  },
  {
   "cell_type": "markdown",
   "id": "ea5527ed",
   "metadata": {},
   "source": [
    "CREATE table"
   ]
  },
  {
   "cell_type": "code",
   "execution_count": null,
   "id": "65d0f03d",
   "metadata": {},
   "outputs": [],
   "source": [
    "-- Create a table for the professors entity type\n",
    "CREATE TABLE professors (\n",
    " firstname text,\n",
    " lastname text\n",
    "); -- Note the semicolon after this\n",
    "\n",
    "-- Print the contents of this table\n",
    "SELECT * \n",
    "FROM professors"
   ]
  },
  {
   "cell_type": "markdown",
   "id": "67ebf368",
   "metadata": {},
   "source": [
    "ALTER TABLE, RENAME COLUMN"
   ]
  },
  {
   "cell_type": "code",
   "execution_count": null,
   "id": "f5dc31c7",
   "metadata": {},
   "outputs": [],
   "source": [
    "-- Add the university_shortname column\n",
    "ALTER TABLE professors\n",
    "ADD COLUMN university_shortname TEXT;\n",
    "\n",
    "-- Print the contents of this table\n",
    "SELECT * \n",
    "FROM professors"
   ]
  },
  {
   "cell_type": "code",
   "execution_count": null,
   "id": "33f66bfd",
   "metadata": {},
   "outputs": [],
   "source": [
    "-- Rename the organisation column\n",
    "ALTER TABLE affiliations\n",
    "RENAME COLUMN organisation TO organization;\n",
    "\n",
    "-- Delete the university_shortname column\n",
    "ALTER TABLE affiliations\n",
    "DROP COLUMN university_shortname;"
   ]
  },
  {
   "cell_type": "markdown",
   "id": "5bc2bfd1",
   "metadata": {},
   "source": [
    "INSERT INTO, SELECT DISTINCT"
   ]
  },
  {
   "cell_type": "code",
   "execution_count": null,
   "id": "22793c10",
   "metadata": {},
   "outputs": [],
   "source": [
    "-- Insert unique professors into the new table\n",
    "INSERT INTO professors \n",
    "SELECT DISTINCT firstname, lastname, university_shortname \n",
    "FROM university_professors;"
   ]
  },
  {
   "cell_type": "code",
   "execution_count": null,
   "id": "ac6e3233",
   "metadata": {},
   "outputs": [],
   "source": [
    "-- Delete the university_professors table\n",
    "DROP TABLE university_professors;"
   ]
  },
  {
   "cell_type": "markdown",
   "id": "c7753fb5",
   "metadata": {},
   "source": [
    "CASTING"
   ]
  },
  {
   "cell_type": "code",
   "execution_count": null,
   "id": "bb1ec490",
   "metadata": {},
   "outputs": [],
   "source": [
    "CREATE TABLE weather (\n",
    "temperature integer,\n",
    "wind_speed text);\n",
    "\n",
    "SELECT temperature * windspeed AS wind_chill\n",
    "FROM weather; ------------- WRONG\n",
    "\n",
    "\n",
    "\n",
    "SELECT temperature * CAST(wind_speed AS integer) AS wind_chill\n",
    "FROM weather;"
   ]
  },
  {
   "cell_type": "code",
   "execution_count": null,
   "id": "b417b97c",
   "metadata": {},
   "outputs": [],
   "source": [
    "-- Calculate the net amount as amount + fee\n",
    "SELECT transaction_date, amount + CAST(fee AS integer) AS net_amount \n",
    "FROM transactions;"
   ]
  },
  {
   "cell_type": "code",
   "execution_count": null,
   "id": "65652e20",
   "metadata": {},
   "outputs": [],
   "source": [
    "-- Specify the correct fixed-length character type\n",
    "ALTER TABLE professors\n",
    "ALTER COLUMN university_shortname\n",
    "TYPE char(3);"
   ]
  },
  {
   "cell_type": "code",
   "execution_count": null,
   "id": "c2a7f8b7",
   "metadata": {},
   "outputs": [],
   "source": [
    "-- Change the type of firstname\n",
    "ALTER TABLE professors\n",
    "ALTER COLUMN firstname\n",
    "TYPE varchar(64);"
   ]
  },
  {
   "cell_type": "markdown",
   "id": "9850b1f9",
   "metadata": {},
   "source": [
    "SUBSTRING\n",
    "\n",
    "Convert types USING a function\n",
    "If you don't want to reserve too much space for a certain varchar column, you can truncate the values before converting its type.\n",
    "\n",
    "For this, you can use the following syntax:\n",
    "\n",
    "ALTER TABLE table_name\n",
    "ALTER COLUMN column_name\n",
    "TYPE varchar(x)\n",
    "USING SUBSTRING(column_name FROM 1 FOR x)\n",
    "\n",
    "\n",
    "You should read it like this: Because you want to reserve only x characters for column_name, you have to retain a SUBSTRING of every value, i.e. the first x characters of it, and throw away the rest. This way, the values will fit the varchar(x) requirement."
   ]
  },
  {
   "cell_type": "markdown",
   "id": "fc5a5cbc",
   "metadata": {},
   "source": [
    "Now use SUBSTRING() to reduce firstname to 16 characters so its type can be altered to varchar(16)."
   ]
  },
  {
   "cell_type": "code",
   "execution_count": null,
   "id": "8c69ade6",
   "metadata": {},
   "outputs": [],
   "source": [
    "-- Convert the values in firstname to a max. of 16 characters\n",
    "ALTER TABLE professors \n",
    "ALTER COLUMN firstname\n",
    "TYPE varchar(16)\n",
    "USING SUBSTRING(firstname FROM 1 FOR 16)"
   ]
  },
  {
   "cell_type": "markdown",
   "id": "55955935",
   "metadata": {},
   "source": [
    "not-null and unique constraints\n",
    "\n",
    "eg. ssn integer not null,\n",
    "\n",
    "NULL != NULL\n",
    "\n",
    "ADD CONSTRAINT "
   ]
  },
  {
   "cell_type": "code",
   "execution_count": null,
   "id": "584677e2",
   "metadata": {},
   "outputs": [],
   "source": [
    "-- Disallow NULL values in firstname\n",
    "ALTER TABLE professors \n",
    "ALTER COLUMN firstname SET NOT NULL;"
   ]
  },
  {
   "cell_type": "code",
   "execution_count": null,
   "id": "f5fd865d",
   "metadata": {},
   "outputs": [],
   "source": [
    "-- Make universities.university_shortname unique\n",
    "ALTER TABLE universities\n",
    "ADD CONSTRAINT university_shortname_unq UNIQUE(university_shortname); -- university_shortname_unq is name of constraint"
   ]
  },
  {
   "cell_type": "markdown",
   "id": "6606ed3c",
   "metadata": {},
   "source": [
    "keys and superkeys, key constraints\n",
    "\n",
    "key = attributes that identify a record uniquely (always minimal)\n",
    "\n",
    "superkey = attributes that can be removed\n",
    "\n",
    "minimal superkey or key = no more attributes can be removed - but can still be uniquely identified by the remaining attributes"
   ]
  },
  {
   "cell_type": "markdown",
   "id": "0c78cda7",
   "metadata": {},
   "source": [
    "primary keys - most important concept, chosen by you from candidate keys\n",
    "\n",
    "one primary key per database table\n",
    "\n",
    "- multiple primary columns can make up a primary key, but ideally only one\n",
    "\n",
    "multiple ways to specify primary key\n",
    "- ADD CONSTRAINT    PRIMARY KEY\n",
    "- PRIMARY KEY (col1, col2)\n",
    "- product_no integer PRIMARY KEY"
   ]
  },
  {
   "cell_type": "code",
   "execution_count": null,
   "id": "a9c63f6b",
   "metadata": {},
   "outputs": [],
   "source": [
    "-- Rename the organization column to id\n",
    "ALTER TABLE organizations\n",
    "ALTER COLUMN organization TO id;\n",
    "\n",
    "-- Make id a primary key\n",
    "ALTER TABLE organizations\n",
    "ADD CONSTRAINT organization_pk PRIMARY KEY (id);"
   ]
  },
  {
   "cell_type": "code",
   "execution_count": null,
   "id": "b7910f65",
   "metadata": {},
   "outputs": [],
   "source": [
    "--setting up a primary key\n",
    "-- Rename the organization column to id\n",
    "ALTER TABLE organizations\n",
    "RENAME COLUMN organization TO id;\n",
    "\n",
    "-- Make id a primary key\n",
    "ALTER TABLE organizations\n",
    "ADD CONSTRAINT organization_pk PRIMARY KEY (id);"
   ]
  },
  {
   "cell_type": "code",
   "execution_count": null,
   "id": "572ec65c",
   "metadata": {},
   "outputs": [],
   "source": [
    "-- Rename the university_shortname column to id\n",
    "ALTER TABLE universities\n",
    "RENAME COLUMN university_shortname TO id;\n",
    "\n",
    "-- Make id a primary key\n",
    "ALTER TABLE universities\n",
    "ADD CONSTRAINT university_pk PRIMARY KEY (id);"
   ]
  },
  {
   "cell_type": "markdown",
   "id": "d050fcd3",
   "metadata": {},
   "source": [
    "surrogate key with serial data type\n",
    "\n",
    "ADD COLUMN id serial PRIMARY KEY;"
   ]
  },
  {
   "cell_type": "code",
   "execution_count": null,
   "id": "9c5d1965",
   "metadata": {},
   "outputs": [],
   "source": [
    "-- Add the new column to the table\n",
    "ALTER TABLE professors \n",
    "ADD COLUMN id serial;\n",
    "\n",
    "-- Make id a primary key\n",
    "ALTER TABLE professors \n",
    "ADD CONSTRAINT professors_pkey PRIMARY KEY (id);\n",
    "\n",
    "-- Have a look at the first 10 rows of professors\n",
    "SELECT * FROM professors LIMIT (10);"
   ]
  },
  {
   "cell_type": "markdown",
   "id": "d3b72c3f",
   "metadata": {},
   "source": [
    "UPDATE and SET"
   ]
  },
  {
   "cell_type": "code",
   "execution_count": null,
   "id": "e8d9ccca",
   "metadata": {},
   "outputs": [],
   "source": [
    "-- Count the number of distinct rows with columns make, model\n",
    "SELECT COUNT(DISTINCT(make, model)) \n",
    "FROM cars;\n",
    "\n",
    "-- Add the id column\n",
    "ALTER TABLE cars\n",
    "ADD COLUMN id varchar(128);\n",
    "\n",
    "-- Update id with make + model\n",
    "UPDATE cars\n",
    "SET id = CONCAT(make, model);\n",
    "\n",
    "-- Make id a primary key\n",
    "ALTER TABLE cars\n",
    "ADD CONSTRAINT id_pk PRIMARY KEY(id);\n",
    "\n",
    "-- Have a look at the table\n",
    "SELECT * FROM cars;"
   ]
  },
  {
   "cell_type": "markdown",
   "id": "55f70092",
   "metadata": {},
   "source": [
    "Exercise:\n",
    "Let's think of an entity type \"student\". A student has:\n",
    "\n",
    "a last name consisting of up to 128 characters (required),\n",
    "a unique social security number, consisting only of integers, that should serve as a key,\n",
    "a phone number of fixed length 12, consisting of numbers and characters (but some students don't have one)."
   ]
  },
  {
   "cell_type": "code",
   "execution_count": null,
   "id": "44d03601",
   "metadata": {},
   "outputs": [],
   "source": [
    "-- Create the table\n",
    "CREATE TABLE students (\n",
    "  last_name varchar(128) NOT NULL,\n",
    "  ssn integer PRIMARY KEY,\n",
    "  phone_no char(12)\n",
    ");"
   ]
  },
  {
   "cell_type": "markdown",
   "id": "aa7e8830",
   "metadata": {},
   "source": [
    "## Implementing relationships with foreign keys\n",
    "\n",
    "- a foreign key (FK ) points to the Primary key (PK) of another table\n",
    "- domain of FK must be equal to domain of PK\n",
    "- each value of FK must exit in PK of other table (FK constraint or 'referential integrity'\n",
    "- FKs are not actual keys\n",
    "\n",
    "FOREIGN KEYS created with REFERENCES keyword, followed by primary key name"
   ]
  },
  {
   "cell_type": "markdown",
   "id": "8a78ee9f",
   "metadata": {},
   "source": [
    "Add a foreign key on university_id column in professors that references the id column in universities.\n",
    "Name this foreign key professors_fkey."
   ]
  },
  {
   "cell_type": "code",
   "execution_count": null,
   "id": "20192fb7",
   "metadata": {},
   "outputs": [],
   "source": [
    "-- Rename the university_shortname column\n",
    "ALTER TABLE professors\n",
    "RENAME COLUMN university_shortname TO university_id;\n",
    "\n",
    "-- Add a foreign key on professors referencing universities\n",
    "ALTER TABLE professors \n",
    "ADD CONSTRAINT professors_fkey FOREIGN KEY (university_id) REFERENCES universities (id);"
   ]
  },
  {
   "cell_type": "markdown",
   "id": "3fb625d1",
   "metadata": {},
   "source": [
    "JOIN tables linked by a foreign key\n",
    "\n",
    "JOIN professors with universities on professors.university_id = universities.id, i.e., retain all records where the foreign key of professors is equal to the primary key of universities.\n",
    "\n",
    "Filter for university_city = 'Zurich'."
   ]
  },
  {
   "cell_type": "code",
   "execution_count": null,
   "id": "50026d54",
   "metadata": {},
   "outputs": [],
   "source": [
    "-- Select all professors working for universities in the city of Zurich\n",
    "SELECT professors.lastname, universities.id, universities.university_city\n",
    "FROM professors\n",
    "JOIN universities\n",
    "ON professors.university_id = universities.id\n",
    "WHERE universities.university_city = 'Zurich';"
   ]
  },
  {
   "cell_type": "code",
   "execution_count": null,
   "id": "4d30fef4",
   "metadata": {},
   "outputs": [],
   "source": [
    "CREATE TABLE manufacturers (\n",
    "name varchar(255) PRIMARY KEY);\n",
    "\n",
    "INSERT INTO manufacturers\n",
    "VALUES ('Ford'), ('VW');\n",
    "\n",
    "CREATE TABLE cars (\n",
    "model varchar(255) PRIMARY KEY,\n",
    "manufacturer_name varchar(255) REFERENCES manufacturers (name));"
   ]
  },
  {
   "cell_type": "markdown",
   "id": "d4cef72e",
   "metadata": {},
   "source": [
    "Add a professor_id column with integer data type to affiliations, and declare it to be a foreign key that references the id column in professors."
   ]
  },
  {
   "cell_type": "code",
   "execution_count": null,
   "id": "78bf86ac",
   "metadata": {},
   "outputs": [],
   "source": [
    "-- Add a professor_id column\n",
    "ALTER TABLE affiliations\n",
    "ADD COLUMN professor_id integer REFERENCES professors (id);"
   ]
  },
  {
   "cell_type": "markdown",
   "id": "08b274f8",
   "metadata": {},
   "source": [
    "Add a foreign key constraint on organization_id so that it references the id column in organizations.\n",
    "\n",
    "Syntax:\n",
    "\n",
    "ADD CONSTRAINT constraint_name FOREIGN KEY (column_name) REFERENCES other_table_name (other_column_name)"
   ]
  },
  {
   "cell_type": "code",
   "execution_count": null,
   "id": "2ac34da8",
   "metadata": {},
   "outputs": [],
   "source": [
    "-- Add a professor_id column\n",
    "ALTER TABLE affiliations\n",
    "ADD COLUMN professor_id integer REFERENCES professors (id);\n",
    "\n",
    "-- Rename the organization column to organization_id\n",
    "ALTER TABLE affiliations\n",
    "RENAME organization TO organization_id;\n",
    "\n",
    "-- Add a foreign key on organization_id\n",
    "ALTER TABLE affiliations\n",
    "ADD CONSTRAINT affiliations_organization_fkey FOREIGN KEY (organization_id) REFERENCES organizations (id);"
   ]
  },
  {
   "cell_type": "markdown",
   "id": "5c4bc3c4",
   "metadata": {},
   "source": [
    "UPDATE table_a\n",
    "\n",
    "SET column_to_update = table_b.column_to_update_from\n",
    "\n",
    "FROM table_b\n",
    "\n",
    "WHERE condition1 AND condition2 AND ...;"
   ]
  },
  {
   "cell_type": "markdown",
   "id": "8131a6fa",
   "metadata": {},
   "source": [
    "Update the professor_id column with the corresponding value of the id column in professors.\n",
    "\n",
    "\"Corresponding\" means rows in professors where the firstname and lastname are identical to the ones in affiliations."
   ]
  },
  {
   "cell_type": "code",
   "execution_count": null,
   "id": "ccc92447",
   "metadata": {},
   "outputs": [],
   "source": [
    "-- Set professor_id to professors.id where firstname, lastname correspond to rows in professors\n",
    "UPDATE affiliations\n",
    "SET professor_id = professors.id\n",
    "FROM professors\n",
    "WHERE affiliations.firstname = professors.firstname AND affiliations.lastname = professors.lastname;"
   ]
  },
  {
   "cell_type": "code",
   "execution_count": null,
   "id": "0bccc6bc",
   "metadata": {},
   "outputs": [],
   "source": [
    "-- DROPPING\n",
    "\n",
    "-- Drop the firstname column\n",
    "ALTER TABLE affiliations\n",
    "DROP COLUMN firstname;\n",
    "\n",
    "-- Drop the lastname column\n",
    "ALTER TABLE affiliations\n",
    "DROP COLUMN lastname;"
   ]
  },
  {
   "cell_type": "markdown",
   "id": "58241d7e",
   "metadata": {},
   "source": [
    "REFERENTIAL INTEGRITY \n",
    "- a record referencing another table must refer to an existing record in that table\n",
    "\n",
    "in other words, a record in table a, cannot point to a record in table b that does not exist\n",
    "\n",
    "- specified between two tables\n",
    "- enforced through foreign keys - ie. throw errors to prevent deleting referenced records in either tables"
   ]
  },
  {
   "cell_type": "markdown",
   "id": "9411fa15",
   "metadata": {},
   "source": [
    "DEALING WITH VIOLATIONS\n",
    "- can use eg:\n",
    "\n",
    "b_id integer REFERENCES b(id) ON DELETE NO ACTION\n",
    "\n",
    "option2: \n",
    "\n",
    "ON DELETE CASCADE\n",
    "\n",
    "- deleting record in table b will auto delete record referenced in table a\n",
    "\n",
    "ON DELETE...\n",
    "\n",
    "- RESTRICT: throw an error - same as NO ACTION\n",
    "- SET NULL: set referencing column to NULL\n",
    "- SET DEFAULT: Set referencing column to its default value"
   ]
  },
  {
   "cell_type": "markdown",
   "id": "df5a2dd6",
   "metadata": {},
   "source": [
    "foreign key on professors.university_id that references universities.id, so <b>referential integrity is said to hold from professors to universities.</b>"
   ]
  },
  {
   "cell_type": "markdown",
   "id": "362ddd66",
   "metadata": {},
   "source": [
    "Have a look at the existing foreign key constraints by querying table_constraints in information_schema.\n",
    "\n",
    "Delete the affiliations_organization_id_fkey foreign key constraint in affiliations.\n",
    "\n",
    "Add a new foreign key to affiliations that CASCADEs deletion if a referenced record is deleted from organizations. Name it affiliations_organization_id_fkey.\n",
    "\n",
    "Run the DELETE and SELECT queries to double check that the deletion cascade actually works."
   ]
  },
  {
   "cell_type": "code",
   "execution_count": null,
   "id": "ac780d88",
   "metadata": {},
   "outputs": [],
   "source": [
    "-- Identify the correct constraint name\n",
    "SELECT constraint_name, table_name, constraint_type\n",
    "FROM information_schema.table_constraints\n",
    "WHERE constraint_type = 'FOREIGN KEY';\n",
    "\n",
    "-- Drop the right foreign key constraint\n",
    "ALTER TABLE affiliations\n",
    "DROP CONSTRAINT affiliations_organization_id_fkey;\n",
    "\n",
    "-- Add a new foreign key constraint from affiliations to organizations which cascades deletion\n",
    "ALTER TABLE affiliations\n",
    "ADD CONSTRAINT affiliations_organization_id_fkey FOREIGN KEY (organization_id) REFERENCES organizations (id) ON DELETE CASCADE;\n",
    "\n",
    "-- Below will cascade deletion where id='CUREM'\n",
    "-- Delete an organization \n",
    "DELETE FROM organizations \n",
    "WHERE id = 'CUREM';\n",
    "\n",
    "-- Check that no more affiliations with this organization exist -- Gives empty query\n",
    "SELECT * FROM affiliations\n",
    "WHERE organization_id = 'CUREM';"
   ]
  },
  {
   "cell_type": "markdown",
   "id": "3a65617e",
   "metadata": {},
   "source": [
    "Count the number of total affiliations by university.\n",
    "Sort the result by that count, in descending order."
   ]
  },
  {
   "cell_type": "code",
   "execution_count": null,
   "id": "d7c32af9",
   "metadata": {},
   "outputs": [],
   "source": [
    "SELECT COUNT(*), professors.university_id \n",
    "FROM affiliations\n",
    "JOIN professors\n",
    "ON affiliations.professor_id = professors.id\n",
    "-- Group by the university ids of professors\n",
    "GROUP BY professors.university_id \n",
    "ORDER BY count DESC;"
   ]
  },
  {
   "cell_type": "markdown",
   "id": "898d46f5",
   "metadata": {},
   "source": [
    "Count the number of total affiliations by university.\n",
    "Sort the result by that count, in descending order."
   ]
  },
  {
   "cell_type": "code",
   "execution_count": null,
   "id": "067b63e6",
   "metadata": {},
   "outputs": [],
   "source": [
    "-- Join all tables\n",
    "SELECT *\n",
    "FROM affiliations\n",
    "JOIN professors\n",
    "ON affiliations.professor_id = professors.id\n",
    "JOIN organizations\n",
    "ON affiliations.organization_id = organizations.id\n",
    "JOIN universities\n",
    "ON professors.university_id = universities.id;"
   ]
  },
  {
   "cell_type": "markdown",
   "id": "e298017a",
   "metadata": {},
   "source": [
    "Now group the result by organization sector, professor, and university city.\n",
    "\n",
    "Count the resulting number of rows."
   ]
  },
  {
   "cell_type": "code",
   "execution_count": null,
   "id": "552f1413",
   "metadata": {},
   "outputs": [],
   "source": [
    "-- Group the table by organization sector, professor ID and university city\n",
    "SELECT COUNT(*), organizations.organization_sector, \n",
    "professors.id, universities.university_city\n",
    "FROM affiliations\n",
    "JOIN professors\n",
    "ON affiliations.professor_id = professors.id\n",
    "JOIN organizations\n",
    "ON affiliations.organization_id = organizations.id\n",
    "JOIN universities\n",
    "ON professors.university_id = universities.id\n",
    "GROUP BY organizations.organization_sector, \n",
    "professors.id, universities.university_city;"
   ]
  },
  {
   "cell_type": "markdown",
   "id": "a448f964",
   "metadata": {},
   "source": [
    "Only retain rows with \"Media & communication\" as organization sector, and sort the table by count, in descending order."
   ]
  },
  {
   "cell_type": "code",
   "execution_count": null,
   "id": "fbcfd337",
   "metadata": {},
   "outputs": [],
   "source": [
    "-- Filter the table and sort it\n",
    "SELECT COUNT(*), organizations.organization_sector, \n",
    "professors.id, universities.university_city\n",
    "FROM affiliations\n",
    "JOIN professors\n",
    "ON affiliations.professor_id = professors.id\n",
    "JOIN organizations\n",
    "ON affiliations.organization_id = organizations.id\n",
    "JOIN universities\n",
    "ON professors.university_id = universities.id\n",
    "WHERE organizations.organization_sector = 'Media & communication'\n",
    "GROUP BY organizations.organization_sector, \n",
    "professors.id, universities.university_city\n",
    "ORDER BY count DESC;"
   ]
  },
  {
   "cell_type": "code",
   "execution_count": null,
   "id": "c6f27496",
   "metadata": {},
   "outputs": [],
   "source": []
  },
  {
   "cell_type": "code",
   "execution_count": null,
   "id": "51e7f873",
   "metadata": {},
   "outputs": [],
   "source": []
  },
  {
   "cell_type": "code",
   "execution_count": null,
   "id": "207101a9",
   "metadata": {},
   "outputs": [],
   "source": []
  },
  {
   "cell_type": "code",
   "execution_count": null,
   "id": "bed3e279",
   "metadata": {},
   "outputs": [],
   "source": []
  },
  {
   "cell_type": "code",
   "execution_count": null,
   "id": "028d2cda",
   "metadata": {},
   "outputs": [],
   "source": []
  },
  {
   "cell_type": "code",
   "execution_count": null,
   "id": "be27ad93",
   "metadata": {},
   "outputs": [],
   "source": []
  }
 ],
 "metadata": {
  "kernelspec": {
   "display_name": "Python 3",
   "language": "python",
   "name": "python3"
  },
  "language_info": {
   "codemirror_mode": {
    "name": "ipython",
    "version": 3
   },
   "file_extension": ".py",
   "mimetype": "text/x-python",
   "name": "python",
   "nbconvert_exporter": "python",
   "pygments_lexer": "ipython3",
   "version": "3.8.8"
  }
 },
 "nbformat": 4,
 "nbformat_minor": 5
}
