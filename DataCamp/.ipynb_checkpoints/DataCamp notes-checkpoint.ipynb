{
 "cells": [
  {
   "cell_type": "markdown",
   "id": "89e53c94",
   "metadata": {},
   "source": [
    "Seaborn\n",
    "Create a scatter plot of GDP (gdp) vs. number of phones per 1000 people (phones)."
   ]
  },
  {
   "cell_type": "code",
   "execution_count": null,
   "id": "4c3b8c44",
   "metadata": {},
   "outputs": [],
   "source": [
    "# Import Matplotlib and Seaborn\n",
    "import matplotlib.pyplot as plt\n",
    "import seaborn as sns\n",
    "\n",
    "# Create scatter plot with GDP on the x-axis and number of phones on the y-axis\n",
    "sns.scatterplot(x=gdp, y = phones)\n",
    "\n",
    "#show plot\n",
    "plt.show()"
   ]
  },
  {
   "cell_type": "code",
   "execution_count": null,
   "id": "0aae4a64",
   "metadata": {},
   "outputs": [],
   "source": [
    "# Create count plot with region on the y-axis\n",
    "sns.countplot(y=region)"
   ]
  },
  {
   "cell_type": "markdown",
   "id": "10063321",
   "metadata": {},
   "source": [
    "tidy data: each observation has its own row\n",
    "each variable has its own column"
   ]
  },
  {
   "cell_type": "code",
   "execution_count": null,
   "id": "dad96b71",
   "metadata": {},
   "outputs": [],
   "source": [
    "#countplot with a dataframe df\n",
    "\n",
    "# Create a count plot with \"Spiders\" on the x-axis\n",
    "sns.countplot(x=\"Spiders\", data=df)"
   ]
  },
  {
   "cell_type": "markdown",
   "id": "3f5fa072",
   "metadata": {},
   "source": [
    "Create a scatter plot with \"absences\" on the x-axis and final grade (\"G3\") on the y-axis using the DataFrame student_data. Color the plot points based on \"location\" (urban vs. rural)."
   ]
  },
  {
   "cell_type": "code",
   "execution_count": null,
   "id": "678109bf",
   "metadata": {},
   "outputs": [],
   "source": [
    "# Change the legend order in the scatter plot\n",
    "sns.scatterplot(x=\"absences\", y=\"G3\", \n",
    "                data=student_data, \n",
    "                hue=\"location\", hue_order=[\"Rural\", \"Urban\"])"
   ]
  },
  {
   "cell_type": "markdown",
   "id": "70549543",
   "metadata": {},
   "source": [
    "Using palettes"
   ]
  },
  {
   "cell_type": "code",
   "execution_count": null,
   "id": "be9a76cc",
   "metadata": {},
   "outputs": [],
   "source": [
    "# Create a dictionary mapping subgroup values to colors\n",
    "palette_colors = {\"Rural\": \"green\", \"Urban\": \"blue\"}\n",
    "\n",
    "# Create a count plot of school with location subgroups\n",
    "sns.countplot(x=\"school\", data=student_data, hue=\"location\", palette=palette_colors)\n"
   ]
  },
  {
   "cell_type": "markdown",
   "id": "4b617d69",
   "metadata": {},
   "source": [
    "Relplots"
   ]
  },
  {
   "cell_type": "code",
   "execution_count": null,
   "id": "b69568eb",
   "metadata": {},
   "outputs": [],
   "source": [
    "# Change to make subplots based on study time\n",
    "sns.relplot(x=\"absences\", y=\"G3\", \n",
    "            data=student_data,\n",
    "            kind=\"scatter\")\n",
    "\n",
    "#create multiple scatterplot with col=\"var_name\"\n",
    "sns.relplot(x=\"absences\", y=\"G3\", \n",
    "            data=student_data,\n",
    "            kind=\"scatter\", \n",
    "            col=\"study_time\")"
   ]
  },
  {
   "cell_type": "markdown",
   "id": "c4bfb952",
   "metadata": {},
   "source": [
    "relplot with col_order and row_order"
   ]
  },
  {
   "cell_type": "code",
   "execution_count": null,
   "id": "675cd018",
   "metadata": {},
   "outputs": [],
   "source": [
    "# Adjust further to add subplots based on family support\n",
    "sns.relplot(x=\"G1\", y=\"G3\", \n",
    "            data=student_data,\n",
    "            kind=\"scatter\", \n",
    "            col=\"schoolsup\",\n",
    "            col_order=[\"yes\", \"no\"],\n",
    "            row=\"famsup\",\n",
    "            row_order=[\"yes\", \"no\"]\n",
    "            )"
   ]
  },
  {
   "cell_type": "markdown",
   "id": "b6c86062",
   "metadata": {},
   "source": [
    "size, style,and point, and transparency can allow further customization of our plots"
   ]
  },
  {
   "cell_type": "code",
   "execution_count": null,
   "id": "3ba5eba5",
   "metadata": {},
   "outputs": [],
   "source": [
    "#vary style and color by the origin param (origin is categorical)\n",
    "\n",
    "sns.relplot(x=\"acceleration\", y=\"mpg\", data=mpg, style=\"origin\", hue=\"origin\", kind=\"scatter\")"
   ]
  },
  {
   "cell_type": "markdown",
   "id": "bbb812ab",
   "metadata": {},
   "source": [
    "line plot showing distribution (using standard deviation) instead of confidence interval around mean with ci=\"sd\""
   ]
  },
  {
   "cell_type": "code",
   "execution_count": null,
   "id": "f7562b41",
   "metadata": {},
   "outputs": [],
   "source": [
    "# Make the shaded area show the standard deviation\n",
    "sns.relplot(x=\"model_year\", y=\"mpg\",\n",
    "            data=mpg, kind=\"line\", ci=\"sd\")"
   ]
  },
  {
   "cell_type": "code",
   "execution_count": null,
   "id": "53e77174",
   "metadata": {},
   "outputs": [],
   "source": [
    "# Add markers and make each line have the same style\n",
    "sns.relplot(x=\"model_year\", y=\"horsepower\", \n",
    "            data=mpg, kind=\"line\", \n",
    "            ci=None, style=\"origin\", \n",
    "            hue=\"origin\", dashes=False)"
   ]
  },
  {
   "cell_type": "code",
   "execution_count": null,
   "id": "6ffec203",
   "metadata": {},
   "outputs": [],
   "source": [
    "# Add markers and make each line have the same style\n",
    "sns.relplot(x=\"model_year\", y=\"horsepower\", \n",
    "            data=mpg, kind=\"line\", \n",
    "            ci=None, style=\"origin\", \n",
    "            hue=\"origin\", markers=True,dashes=False)"
   ]
  },
  {
   "cell_type": "markdown",
   "id": "1c6a3ff3",
   "metadata": {},
   "source": [
    "count plot with catplot()"
   ]
  },
  {
   "cell_type": "code",
   "execution_count": null,
   "id": "2a7f22cc",
   "metadata": {},
   "outputs": [],
   "source": [
    "# Change the orientation of the plot\n",
    "sns.catplot(x=\"Internet usage\", data=survey_data,\n",
    "            kind=\"count\")"
   ]
  },
  {
   "cell_type": "markdown",
   "id": "73907823",
   "metadata": {},
   "source": [
    "barplot with catplot()"
   ]
  },
  {
   "cell_type": "code",
   "execution_count": null,
   "id": "a5727029",
   "metadata": {},
   "outputs": [],
   "source": [
    "# Create a bar plot of interest in math, separated by gender\n",
    "sns.catplot(x=\"Gender\", y=\"Interested in Math\", data=survey_data, kind=\"bar\")"
   ]
  },
  {
   "cell_type": "code",
   "execution_count": null,
   "id": "62d7d663",
   "metadata": {},
   "outputs": [],
   "source": [
    "# List of categories from lowest to highest\n",
    "category_order = [\"<2 hours\", \n",
    "                  \"2 to 5 hours\", \n",
    "                  \"5 to 10 hours\", \n",
    "                  \">10 hours\"]\n",
    "\n",
    "# Turn off the confidence intervals\n",
    "sns.catplot(x=\"study_time\", y=\"G3\",\n",
    "            data=student_data,\n",
    "            kind=\"bar\",\n",
    "            order=category_order, ci=None)"
   ]
  },
  {
   "cell_type": "code",
   "execution_count": null,
   "id": "8141d370",
   "metadata": {},
   "outputs": [],
   "source": [
    "#remove outliers with sym=\"\", color boxplots based on location(urban rural)\n",
    "sns.catplot(x=\"internet\", y=\"G3\", data=student_data, kind=\"box\", hue=\"location\", sym=\"\")"
   ]
  },
  {
   "cell_type": "markdown",
   "id": "d851e0f4",
   "metadata": {},
   "source": [
    "Point plot using catplot()"
   ]
  },
  {
   "cell_type": "code",
   "execution_count": null,
   "id": "fc1a3efe",
   "metadata": {},
   "outputs": [],
   "source": [
    "#remove lines between category, and add a cap on top and bottom with capsize=0.2\n",
    "sns.catplot(x=\"famrel\", y=\"absences\",\n",
    "\t\t\tdata=student_data,\n",
    "            kind=\"point\",\n",
    "            capsize=0.2, join=False)"
   ]
  },
  {
   "cell_type": "markdown",
   "id": "d9c83c94",
   "metadata": {},
   "source": [
    "set_style(), \"whitegrid\", set_palette() \"Purples\", \"RdBu\", set_context() \"Paper\""
   ]
  },
  {
   "cell_type": "markdown",
   "id": "29621c97",
   "metadata": {},
   "source": [
    "plot titles and axis labels"
   ]
  },
  {
   "cell_type": "code",
   "execution_count": null,
   "id": "d9d1a4ef",
   "metadata": {},
   "outputs": [],
   "source": [
    "#titles for relplot and catplot()\n",
    "# Create scatter plot\n",
    "g = sns.relplot(x=\"weight\", \n",
    "                y=\"horsepower\", \n",
    "                data=mpg,\n",
    "                kind=\"scatter\")\n",
    "\n",
    "# Add a title \"Car Weight vs. Horsepower\"\n",
    "g.fig.suptitle(\"Car Weight vs. Horsepower\")"
   ]
  },
  {
   "cell_type": "code",
   "execution_count": null,
   "id": "d7a4177e",
   "metadata": {},
   "outputs": [],
   "source": [
    "# Add x-axis and y-axis labels\n",
    "\n",
    "g.set(xlabel=\"Car Model Year\",\n",
    "    ylabel=\"Average MPG\")\n",
    "\n",
    "\n",
    "# Rotate x-tick labels\n",
    "plt.xticks(rotation=90)"
   ]
  },
  {
   "cell_type": "markdown",
   "id": "db7b98cb",
   "metadata": {},
   "source": [
    "facetgrid -> sns.fig.suptitle -> overall\n",
    "axesgrid -> sns.set_title(\" \") -> subplot"
   ]
  },
  {
   "cell_type": "code",
   "execution_count": null,
   "id": "eeb0a707",
   "metadata": {},
   "outputs": [],
   "source": [
    "#example\n",
    "# Adjust to add subplots per gender\n",
    "g = sns.catplot(x=\"Village - town\", y=\"Likes Techno\", \n",
    "                data=survey_data, kind=\"bar\",\n",
    "                col=\"Gender\")\n",
    "\n",
    "# Add title and axis labels\n",
    "g.fig.suptitle(\"Percentage of Young People Who Like Techno\", y=1.02)\n",
    "g.set(xlabel=\"Location of Residence\", \n",
    "       ylabel=\"% Who Like Techno\")\n"
   ]
  },
  {
   "cell_type": "markdown",
   "id": "9e98d0a7",
   "metadata": {},
   "source": [
    "Importing data in python"
   ]
  },
  {
   "cell_type": "code",
   "execution_count": null,
   "id": "d88e197f",
   "metadata": {},
   "outputs": [],
   "source": [
    "# Open a file: file\n",
    "file = open(\"moby_dick.txt\", \"r\")\n",
    "\n",
    "# Print it\n",
    "print(file.read())\n",
    "\n",
    "# Check whether file is closed\n",
    "print(file.closed)\n",
    "\n",
    "# Close file\n",
    "file.close()\n",
    "\n",
    "# Check whether file is closed\n",
    "print(file.closed)\n"
   ]
  },
  {
   "cell_type": "markdown",
   "id": "19b61a4e",
   "metadata": {},
   "source": [
    "Using Context manager"
   ]
  },
  {
   "cell_type": "code",
   "execution_count": null,
   "id": "7e7973f8",
   "metadata": {},
   "outputs": [],
   "source": [
    "# Read & print the first 3 lines\n",
    "with open('moby_dick.txt') as file:\n",
    "    print(file.readline())\n",
    "    print(file.readline())\n",
    "    print(file.readline())"
   ]
  },
  {
   "cell_type": "markdown",
   "id": "5347f28a",
   "metadata": {},
   "source": [
    "Import flat files as numpy array"
   ]
  },
  {
   "cell_type": "markdown",
   "id": "b25c793f",
   "metadata": {},
   "source": [
    "Complete the arguments of np.loadtxt(): the file you're importing is tab-delimited, you want to skip the first row and you only want to import the first and third columns.\n",
    "Complete the argument of the print() call in order to print the entire array that you just imported."
   ]
  },
  {
   "cell_type": "code",
   "execution_count": null,
   "id": "1cfbe5f0",
   "metadata": {},
   "outputs": [],
   "source": [
    "# Assign the filename: file\n",
    "file = 'digits_header.txt'\n",
    "\n",
    "# Load the data: data\n",
    "data = np.loadtxt(file, delimiter=\"\\t\", skiprows=1, usecols=[0, 2])\n",
    "\n",
    "# Print data\n",
    "print(data)"
   ]
  },
  {
   "cell_type": "markdown",
   "id": "c52d52c1",
   "metadata": {},
   "source": [
    "Complete the second call to np.loadtxt(). The file you're importing is tab-delimited, the datatype is float, and you want to skip the first row.\n",
    "Print the 10th element of data_float by completing the print() command. Be guided by the previous print() call."
   ]
  },
  {
   "cell_type": "code",
   "execution_count": null,
   "id": "e8357842",
   "metadata": {},
   "outputs": [],
   "source": [
    "# Assign filename: file\n",
    "file = 'seaslug.txt'\n",
    "# Import data as floats and skip the first row: data_float\n",
    "data_float = np.loadtxt(file, delimiter=\"\\t\", dtype=\"float\", skiprows=1)\n",
    "\n",
    "# Print the 10th element of data_float\n",
    "print(data_float[9])"
   ]
  },
  {
   "cell_type": "markdown",
   "id": "63169829",
   "metadata": {},
   "source": [
    "pandas import flat files and converting dataframe into numpy array"
   ]
  },
  {
   "cell_type": "code",
   "execution_count": null,
   "id": "5471272a",
   "metadata": {},
   "outputs": [],
   "source": [
    "# Assign the filename: file\n",
    "file = 'digits.csv'\n",
    "\n",
    "# Read the first 5 rows of the file into a DataFrame: data\n",
    "data = pd.read_csv(file, nrows = 5, header = None)\n",
    "\n",
    "# Build a numpy array from the DataFrame: data_array\n",
    "data_array = np.array(data)\n",
    "\n",
    "# Print the datatype of data_array to the shell\n",
    "print(type(data_array))"
   ]
  },
  {
   "cell_type": "markdown",
   "id": "ed94c813",
   "metadata": {},
   "source": [
    "using sep = \\t and comment = '#'"
   ]
  },
  {
   "cell_type": "code",
   "execution_count": null,
   "id": "8b7f57fa",
   "metadata": {},
   "outputs": [],
   "source": [
    "# Assign filename: file\n",
    "file = 'titanic_corrupt.txt'\n",
    "\n",
    "# Import file: data\n",
    "data = pd.read_csv(file, sep=\"\\t\", comment=\"#\", na_values=[\"Nothing\"])\n",
    "\n",
    "# Print the head of the DataFrame\n",
    "print(data.head())\n",
    "\n",
    "# Plot 'Age' variable in a histogram\n",
    "pd.DataFrame.hist(data[['Age']])\n",
    "plt.xlabel('Age (years)')\n",
    "plt.ylabel('count')\n",
    "plt.show()"
   ]
  },
  {
   "cell_type": "markdown",
   "id": "925d539a",
   "metadata": {},
   "source": [
    "Pickle"
   ]
  },
  {
   "cell_type": "code",
   "execution_count": null,
   "id": "cebcad16",
   "metadata": {},
   "outputs": [],
   "source": [
    "# Open pickle file and load data: d\n",
    "with open('data.pkl', mode='rb') as file:\n",
    "    d = pickle.load(file)\n",
    "\n",
    "# Print d\n",
    "print(d)\n",
    "\n",
    "# Print datatype of d\n",
    "print(type(d))"
   ]
  },
  {
   "cell_type": "markdown",
   "id": "2c810661",
   "metadata": {},
   "source": [
    "Excel"
   ]
  },
  {
   "cell_type": "code",
   "execution_count": null,
   "id": "721999b8",
   "metadata": {},
   "outputs": [],
   "source": [
    "# Assign spreadsheet filename: file\n",
    "file = \"battledeath.xlsx\"\n",
    "\n",
    "# Load spreadsheet: xls\n",
    "xls = pd.ExcelFile(file)\n",
    "\n",
    "# Print sheet names\n",
    "print(xls.sheet_names)"
   ]
  },
  {
   "cell_type": "markdown",
   "id": "9892e8d6",
   "metadata": {},
   "source": [
    "Using usecols and skiprows\n",
    "Parse the first sheet by index. In doing so, skip the first row of data and name the columns 'Country' and 'AAM due to War (2002)' using the argument names. The values passed to skiprows and names all need to be of type list.\n",
    "Parse the second sheet by index. In doing so, parse only the first column with the usecols parameter, skip the first row and rename the column 'Country'. The argument passed to usecols also needs to be of type list."
   ]
  },
  {
   "cell_type": "code",
   "execution_count": null,
   "id": "241dc3bf",
   "metadata": {},
   "outputs": [],
   "source": [
    "# Parse the first sheet and rename the columns: df1\n",
    "df1 = xls.parse(0, skiprows=[0], names=[\"Country\", \"AAM due to War (2002)\"])\n",
    "\n",
    "# Print the head of the DataFrame df1\n",
    "print(df1.head())\n",
    "\n",
    "# Parse the first column of the second sheet and rename the column: df2\n",
    "df2 = xls.parse(1, usecols=[0], skiprows=[0], names=[\"Country\"])\n",
    "\n",
    "# Print the head of the DataFrame df2\n",
    "print(df2.head())"
   ]
  },
  {
   "cell_type": "markdown",
   "id": "7b3c5297",
   "metadata": {},
   "source": [
    "SAS"
   ]
  },
  {
   "cell_type": "code",
   "execution_count": null,
   "id": "87c7bd25",
   "metadata": {},
   "outputs": [],
   "source": [
    "# Import sas7bdat package\n",
    "from sas7bdat import SAS7BDAT\n",
    "\n",
    "# Save file to a DataFrame: df_sas\n",
    "with SAS7BDAT('sales.sas7bdat') as file:\n",
    "    df_sas = file.to_data_frame()\n",
    "\n",
    "# Print head of DataFrame\n",
    "print(df_sas.head())\n"
   ]
  },
  {
   "cell_type": "markdown",
   "id": "da6fe88e",
   "metadata": {},
   "source": [
    "STATA"
   ]
  },
  {
   "cell_type": "code",
   "execution_count": null,
   "id": "ec1e712d",
   "metadata": {},
   "outputs": [],
   "source": [
    "# Load Stata file into a pandas DataFrame: df\n",
    "df = pd.read_stata('disarea.dta')\n",
    "\n",
    "# Print the head of the DataFrame df\n",
    "print(df.head())"
   ]
  },
  {
   "cell_type": "markdown",
   "id": "8d105079",
   "metadata": {},
   "source": [
    "HDF5"
   ]
  },
  {
   "cell_type": "code",
   "execution_count": null,
   "id": "c630d1b8",
   "metadata": {},
   "outputs": [],
   "source": [
    "# Get the HDF5 group: group\n",
    "group = data['strain']\n",
    "\n",
    "# Check out keys of group\n",
    "for key in group.keys():\n",
    "    print(key)\n",
    "\n",
    "# Set variable equal to time series data: strain\n",
    "strain = data['strain']['Strain'].value\n",
    "\n",
    "# Set number of time points to sample: num_samples\n",
    "num_samples = 10000\n",
    "\n",
    "# Set time vector\n",
    "time = np.arange(0, 1, 1/num_samples)"
   ]
  },
  {
   "cell_type": "markdown",
   "id": "e2c5e50a",
   "metadata": {},
   "source": [
    "MATLAB\n",
    "Use the method .keys() on the dictionary mat to print the keys. Most of these keys (in fact the ones that do NOT begin and end with '__') are variables from the corresponding MATLAB environment.\n",
    "Print the type of the value corresponding to the key 'CYratioCyt' in mat. Recall that mat['CYratioCyt'] accesses the value.\n",
    "Print the shape of the value corresponding to the key 'CYratioCyt' using the numpy function shape().\n",
    "Execute the entire script to see some oscillatory gene expression data!"
   ]
  },
  {
   "cell_type": "code",
   "execution_count": null,
   "id": "f3de216d",
   "metadata": {},
   "outputs": [],
   "source": [
    "# Print the keys of the MATLAB dictionary\n",
    "print(mat.keys())\n",
    "\n",
    "# Print the type of the value corresponding to the key 'CYratioCyt'\n",
    "print(type(mat['CYratioCyt']))\n",
    "\n",
    "# Print the shape of the value corresponding to the key 'CYratioCyt'\n",
    "print(np.shape(mat['CYratioCyt']))\n"
   ]
  },
  {
   "cell_type": "markdown",
   "id": "193eedfb",
   "metadata": {},
   "source": [
    "RDMS"
   ]
  },
  {
   "cell_type": "code",
   "execution_count": null,
   "id": "5c2e319d",
   "metadata": {},
   "outputs": [],
   "source": [
    "# Import necessary module\n",
    "from sqlalchemy import create_engine\n",
    "\n",
    "# Create engine: engine\n",
    "engine = create_engine('sqlite:///Chinook.sqlite')"
   ]
  },
  {
   "cell_type": "code",
   "execution_count": null,
   "id": "f3171418",
   "metadata": {},
   "outputs": [],
   "source": [
    "# Import necessary module\n",
    "from sqlalchemy import create_engine\n",
    "\n",
    "# Create engine: engine\n",
    "engine = create_engine('sqlite:///Chinook.sqlite')\n",
    "\n",
    "# Save the table names to a list: table_names\n",
    "table_names = engine.table_names()\n",
    "\n",
    "# Print the table names to the shell\n",
    "print(table_names)\n"
   ]
  },
  {
   "cell_type": "markdown",
   "id": "aefc8031",
   "metadata": {},
   "source": [
    "Querying SQL in python and also using pandas"
   ]
  },
  {
   "cell_type": "markdown",
   "id": "de066d48",
   "metadata": {},
   "source": [
    "Open the engine connection as con using the method connect() on the engine.\n",
    "Execute the query that selects ALL columns from the Album table. Store the results in rs.\n",
    "Store all of your query results in the DataFrame df by applying the fetchall() method to the results rs."
   ]
  },
  {
   "cell_type": "code",
   "execution_count": null,
   "id": "73bc3ecd",
   "metadata": {},
   "outputs": [],
   "source": [
    "# Import packages\n",
    "from sqlalchemy import create_engine\n",
    "import pandas as pd\n",
    "\n",
    "# Create engine: engine\n",
    "engine = create_engine('sqlite:///Chinook.sqlite')\n",
    "\n",
    "# Open engine connection: con\n",
    "con = engine.connect()\n",
    "\n",
    "# Perform query: rs\n",
    "rs = con.execute('SELECT * FROM Album')\n",
    "\n",
    "# Save results of the query to DataFrame: df\n",
    "df = pd.DataFrame(rs.fetchall())\n",
    "\n",
    "# Close connection\n",
    "con.close()\n",
    "\n",
    "# Print head of DataFrame df\n",
    "print(df.head())"
   ]
  },
  {
   "cell_type": "code",
   "execution_count": null,
   "id": "584841c9",
   "metadata": {},
   "outputs": [],
   "source": [
    "### fetching only 3 of records with fetchmany()\n",
    "### Also using with.... as similar to opening file\n",
    "# Open engine in context manager\n",
    "# Perform query and save results to DataFrame: df\n",
    "with engine.connect() as con:\n",
    "    rs = con.execute(\"SELECT LastName, Title FROM Employee\")\n",
    "    df = pd.DataFrame(rs.fetchmany(3)) #fetch only 3 of records\n",
    "    df.columns = rs.keys()\n",
    "\n",
    "# Print the length of the DataFrame df\n",
    "print(len(df))\n",
    "\n",
    "# Print the head of the DataFrame df\n",
    "print(df.head())"
   ]
  },
  {
   "cell_type": "code",
   "execution_count": null,
   "id": "ff5ba1c4",
   "metadata": {},
   "outputs": [],
   "source": [
    "## example 2\n",
    "# Create engine: engine\n",
    "engine = create_engine('sqlite:///Chinook.sqlite')\n",
    "\n",
    "# Open engine in context manager\n",
    "# Perform query and save results to DataFrame: df\n",
    "with engine.connect() as con:\n",
    "    rs = con.execute('SELECT * FROM Employee WHERE EmployeeId >= 6')\n",
    "    df = pd.DataFrame(rs.fetchall())\n",
    "    df.columns = rs.keys()\n",
    "\n",
    "# Print the head of the DataFrame df\n",
    "print(df.head())"
   ]
  },
  {
   "cell_type": "markdown",
   "id": "f14e2b7f",
   "metadata": {},
   "source": [
    "Using the function create_engine(), create an engine for the SQLite database Chinook.sqlite and assign it to the variable engine.\n",
    "In the context manager, execute the query that selects all records from the Employee table and orders them in increasing order by the column BirthDate. Assign the result to rs.\n",
    "In a call to pd.DataFrame(), apply the method fetchall() to rs in order to fetch all records in rs. Store them in the DataFrame df.\n",
    "Set the DataFrame's column names to the corresponding names of the table columns."
   ]
  },
  {
   "cell_type": "code",
   "execution_count": null,
   "id": "f66a67ca",
   "metadata": {},
   "outputs": [],
   "source": [
    "# Create engine: engine\n",
    "engine = create_engine('sqlite:///Chinook.sqlite')\n",
    "\n",
    "# Open engine in context manager\n",
    "with engine.connect() as con:\n",
    "    rs = con.execute(\"SELECT * FROM Employee ORDER BY BirthDate ASC\")\n",
    "    df = pd.DataFrame(rs.fetchall())\n",
    "\n",
    "    # Set the DataFrame's column names\n",
    "    df.columns = rs.keys()\n",
    "\n",
    "# Print head of DataFrame\n",
    "print(df.head())\n"
   ]
  },
  {
   "cell_type": "markdown",
   "id": "173400a4",
   "metadata": {},
   "source": [
    "pandas   pd.read_sql_query() compared to using 'context manager' with .... as...."
   ]
  },
  {
   "cell_type": "code",
   "execution_count": null,
   "id": "ef355746",
   "metadata": {},
   "outputs": [],
   "source": [
    "# Import packages\n",
    "from sqlalchemy import create_engine\n",
    "import pandas as pd\n",
    "\n",
    "# Create engine: engine\n",
    "engine = create_engine('sqlite:///Chinook.sqlite')\n",
    "\n",
    "# Execute query and store records in DataFrame: df\n",
    "df = pd.read_sql_query('SELECT * FROM Album', engine)\n",
    "\n",
    "# Print head of DataFrame\n",
    "print(df.head())\n",
    "\n",
    "# Open engine in context manager and store query result in df1\n",
    "with engine.connect() as con:\n",
    "    rs = con.execute(\"SELECT * FROM Album\")\n",
    "    df1 = pd.DataFrame(rs.fetchall())\n",
    "    df1.columns = rs.keys()\n",
    "\n",
    "# Confirm that both methods yield the same result\n",
    "print(df.equals(df1))"
   ]
  },
  {
   "cell_type": "markdown",
   "id": "b634eefd",
   "metadata": {},
   "source": [
    "Inner Join ---- Assign to rs the results from the following query: select all the records, extracting the Title of the record and Name of the artist of each record from the Album table and the Artist table, respectively. To do so, INNER JOIN these two tables on the ArtistID column of both."
   ]
  },
  {
   "cell_type": "code",
   "execution_count": null,
   "id": "a571c659",
   "metadata": {},
   "outputs": [],
   "source": [
    "with engine.connect() as con:\n",
    "    rs = con.execute(\"SELECT Title, Name FROM Album INNER JOIN Artist on Album.ArtistID = Artist.ArtistID\")\n",
    "    df = pd.DataFrame(rs.fetchall())\n",
    "    df.columns = rs.keys()\n"
   ]
  },
  {
   "cell_type": "code",
   "execution_count": null,
   "id": "09987482",
   "metadata": {},
   "outputs": [],
   "source": [
    "# Execute query and store records in DataFrame: df\n",
    "df = pd.read_sql_query('SELECT * FROM PlaylistTrack INNER JOIN Track on PlaylistTrack.TrackId = Track.TrackId WHERE Milliseconds < 250000', engine)\n",
    "\n",
    "# Print head of DataFrame\n",
    "print(df.head())"
   ]
  },
  {
   "cell_type": "markdown",
   "id": "230d0de3",
   "metadata": {},
   "source": [
    "Intermediate Importing Data\n",
    "url retrieve"
   ]
  },
  {
   "cell_type": "code",
   "execution_count": null,
   "id": "66b584f8",
   "metadata": {},
   "outputs": [],
   "source": [
    "# Import package\n",
    "from urllib.request import urlretrieve\n",
    "\n",
    "# Import pandas\n",
    "import pandas as pd\n",
    "\n",
    "# Assign url of file: url\n",
    "url = 'https://s3.amazonaws.com/assets.datacamp.com/production/course_1606/datasets/winequality-red.csv'\n",
    "\n",
    "# Save file locally\n",
    "urlretrieve(url, 'winequality-red.csv')\n",
    "\n",
    "# Read file into a DataFrame and print its head\n",
    "df = pd.read_csv('winequality-red.csv', sep=';')\n",
    "print(df.head())"
   ]
  },
  {
   "cell_type": "code",
   "execution_count": null,
   "id": "e5fb277f",
   "metadata": {},
   "outputs": [],
   "source": [
    "# Import packages\n",
    "import matplotlib.pyplot as plt\n",
    "import pandas as pd\n",
    "from urllib.request import urlretrieve\n",
    "\n",
    "# Assign url of file: url\n",
    "url = 'https://s3.amazonaws.com/assets.datacamp.com/production/course_1606/datasets/winequality-red.csv'\n",
    "urlretrieve(url, 'file.csv')\n",
    "\n",
    "# Read file into a DataFrame: df\n",
    "df = pd.read_csv('file.csv', sep = ';')\n",
    "\n",
    "# Print the head of the DataFrame\n",
    "print(df.head())"
   ]
  },
  {
   "cell_type": "markdown",
   "id": "bdd1a96d",
   "metadata": {},
   "source": [
    "Excel sheets and importing -----> using pd.read_excel('file.xls, sheet_name = None)\n",
    "\n",
    "pd.read_excel creates a dict with keys = sheet names and values = dataframe"
   ]
  },
  {
   "cell_type": "code",
   "execution_count": null,
   "id": "a0516e85",
   "metadata": {},
   "outputs": [],
   "source": [
    "# Import package\n",
    "import pandas as pd\n",
    "from urllib.request import urlretrieve\n",
    "# Assign url of file: url\n",
    "url = 'http://s3.amazonaws.com/assets.datacamp.com/course/importing_data_into_r/latitude.xls'\n",
    "urlretrieve(url, 'file.xls')\n",
    "# Read in all sheets of Excel file: xls\n",
    "dfdict = pd.read_excel('file.xls', sheet_name = None)\n",
    "\n",
    "\n",
    "\n",
    "# Print the sheetnames to the shell\n",
    "print(dfdict.keys())\n",
    "\n",
    "# Print the head of the first sheet (using its name, NOT its index)\n",
    "print(dfdict['1700'].head())"
   ]
  },
  {
   "cell_type": "markdown",
   "id": "703a8562",
   "metadata": {},
   "source": [
    "Performing HTTP requests using urllib\n",
    "Import the functions urlopen and Request from the subpackage urllib.request.\n",
    "Package the request to the url \"https://campus.datacamp.com/courses/1606/4135?ex=2\" using the function Request() and assign it to request.\n",
    "Send the request and catch the response in the variable response with the function urlopen().\n",
    "Run the rest of the code to see the datatype of response and to close the connection!"
   ]
  },
  {
   "cell_type": "code",
   "execution_count": null,
   "id": "0d348eda",
   "metadata": {},
   "outputs": [],
   "source": [
    "# Import packages\n",
    "from urllib.request import urlopen, Request\n",
    "\n",
    "# Specify the url\n",
    "url = \"https://campus.datacamp.com/courses/1606/4135?ex=2\"\n",
    "\n",
    "# This packages the request: request\n",
    "request = Request(url)\n",
    "\n",
    "# Sends the request and catches the response: response\n",
    "response = urlopen(request)\n",
    "\n",
    "# Print the datatype of response\n",
    "print(type(response))\n",
    "\n",
    "# Be polite and close the response!\n",
    "response.close()"
   ]
  },
  {
   "cell_type": "code",
   "execution_count": null,
   "id": "b6a9e13c",
   "metadata": {},
   "outputs": [],
   "source": [
    "# Import packages\n",
    "from urllib.request import urlopen, Request\n",
    "\n",
    "# Specify the url\n",
    "url = \"https://campus.datacamp.com/courses/1606/4135?ex=2\"\n",
    "\n",
    "# This packages the request\n",
    "request = Request(url)\n",
    "\n",
    "# Sends the request and catches the response: response\n",
    "response = urlopen(request)\n",
    "\n",
    "# Extract the response: html\n",
    "html = response.read()\n",
    "\n",
    "# Print the html\n",
    "print(html)\n",
    "\n",
    "# Be polite and close the response!\n",
    "response.close()"
   ]
  },
  {
   "cell_type": "markdown",
   "id": "3f22d6f9",
   "metadata": {},
   "source": [
    "Alternative using requests library"
   ]
  },
  {
   "cell_type": "code",
   "execution_count": null,
   "id": "884afbd2",
   "metadata": {},
   "outputs": [],
   "source": [
    "# Import package\n",
    "import requests\n",
    "\n",
    "# Specify the url: url\n",
    "url = \"http://www.datacamp.com/teach/documentation\"\n",
    "\n",
    "# Packages the request, send the request and catch the response: r\n",
    "r = requests.get(url)\n",
    "\n",
    "# Extract the response: text\n",
    "text = r.text\n",
    "\n",
    "# Print the html\n",
    "print(text)"
   ]
  },
  {
   "cell_type": "markdown",
   "id": "e8f136bd",
   "metadata": {},
   "source": [
    "Simple Web Scraping"
   ]
  },
  {
   "cell_type": "code",
   "execution_count": null,
   "id": "35b782f8",
   "metadata": {},
   "outputs": [],
   "source": [
    "# Import packages\n",
    "import requests\n",
    "from bs4 import BeautifulSoup\n",
    "\n",
    "# Specify url: url\n",
    "url = 'https://www.python.org/~guido/'\n",
    "\n",
    "# Package the request, send the request and catch the response: r\n",
    "r = requests.get(url)\n",
    "\n",
    "# Extracts the response as html: html_doc\n",
    "html_doc = r.text\n",
    "\n",
    "# Create a BeautifulSoup object from the HTML: soup\n",
    "soup = BeautifulSoup(html_doc)\n",
    "\n",
    "# Prettify the BeautifulSoup object: pretty_soup\n",
    "pretty_soup = soup.prettify()\n",
    "\n",
    "# Print the response\n",
    "print(pretty_soup)"
   ]
  },
  {
   "cell_type": "markdown",
   "id": "bf37d29d",
   "metadata": {},
   "source": [
    "In the sample code, the HTML response object html_doc has already been created: your first task is to Soupify it using the function BeautifulSoup() and to assign the resulting soup to the variable soup.\n",
    "Extract the title from the HTML soup soup using the attribute title and assign the result to guido_title.\n",
    "Print the title of Guido's webpage to the shell using the print() function.\n",
    "Extract the text from the HTML soup soup using the method get_text() and assign to guido_text.\n",
    "Hit submit to print the text from Guido's webpage to the shell."
   ]
  },
  {
   "cell_type": "code",
   "execution_count": null,
   "id": "dad2f7f0",
   "metadata": {},
   "outputs": [],
   "source": [
    "# Import packages\n",
    "import requests\n",
    "from bs4 import BeautifulSoup\n",
    "\n",
    "# Specify url: url\n",
    "url = 'https://www.python.org/~guido/'\n",
    "\n",
    "# Package the request, send the request and catch the response: r\n",
    "r = requests.get(url)\n",
    "\n",
    "# Extract the response as html: html_doc\n",
    "html_doc = r.text\n",
    "\n",
    "# Create a BeautifulSoup object from the HTML: soup\n",
    "soup = BeautifulSoup(html_doc)\n",
    "\n",
    "# Get the title of Guido's webpage: guido_title\n",
    "guido_title = soup.title\n",
    "\n",
    "# Print the title of Guido's webpage to the shell\n",
    "print(guido_title)\n",
    "\n",
    "# Get Guido's text: guido_text\n",
    "guido_text = soup.get_text()\n",
    "\n",
    "# Print Guido's text to the shell\n",
    "print(guido_text)"
   ]
  },
  {
   "cell_type": "code",
   "execution_count": null,
   "id": "04a3b690",
   "metadata": {},
   "outputs": [],
   "source": []
  },
  {
   "cell_type": "code",
   "execution_count": null,
   "id": "76029972",
   "metadata": {},
   "outputs": [],
   "source": []
  },
  {
   "cell_type": "code",
   "execution_count": null,
   "id": "4af764dd",
   "metadata": {},
   "outputs": [],
   "source": []
  },
  {
   "cell_type": "code",
   "execution_count": null,
   "id": "c893e334",
   "metadata": {},
   "outputs": [],
   "source": []
  }
 ],
 "metadata": {
  "kernelspec": {
   "display_name": "Python 3",
   "language": "python",
   "name": "python3"
  },
  "language_info": {
   "codemirror_mode": {
    "name": "ipython",
    "version": 3
   },
   "file_extension": ".py",
   "mimetype": "text/x-python",
   "name": "python",
   "nbconvert_exporter": "python",
   "pygments_lexer": "ipython3",
   "version": "3.8.8"
  }
 },
 "nbformat": 4,
 "nbformat_minor": 5
}
