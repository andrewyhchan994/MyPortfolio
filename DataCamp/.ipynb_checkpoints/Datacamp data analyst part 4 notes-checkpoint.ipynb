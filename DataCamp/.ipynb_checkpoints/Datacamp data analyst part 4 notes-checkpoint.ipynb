{
 "cells": [
  {
   "cell_type": "markdown",
   "id": "d7fe7e5e",
   "metadata": {},
   "source": [
    "A relational database:\n",
    "\n",
    "- real-life entities become tables\n",
    "- reduced redundancy\n",
    "- data integrity by relationships\n",
    "\n",
    "learn three concepts\n",
    "\n",
    "- constraints\n",
    "- keys\n",
    "- referential integrity"
   ]
  },
  {
   "cell_type": "code",
   "execution_count": null,
   "id": "52642fd8",
   "metadata": {},
   "outputs": [],
   "source": [
    "-- Query the right table in information_schema\n",
    "SELECT table_name \n",
    "FROM information_schema.tables -- meta-database with MULTIPLE tables\n",
    "-- Specify the correct table_schema value\n",
    "WHERE table_schema = 'public';"
   ]
  },
  {
   "cell_type": "markdown",
   "id": "afe326f5",
   "metadata": {},
   "source": [
    "Now have a look at the columns in university_professors by selecting all entries in information_schema.columns that correspond to that table."
   ]
  },
  {
   "cell_type": "code",
   "execution_count": null,
   "id": "c22c1094",
   "metadata": {},
   "outputs": [],
   "source": [
    "-- Query the right table in information_schema to get columns\n",
    "SELECT column_name, data_type \n",
    "FROM information_schema.columns \n",
    "WHERE table_name = 'university_professors' AND table_schema = 'public';"
   ]
  },
  {
   "cell_type": "markdown",
   "id": "5879cbc2",
   "metadata": {},
   "source": [
    "Finding the number of columns in the table university_professors"
   ]
  },
  {
   "cell_type": "code",
   "execution_count": null,
   "id": "43218b3e",
   "metadata": {},
   "outputs": [],
   "source": [
    "SELECT COUNT(*)\n",
    "FROM information_schema.columns\n",
    "WHERE table_name = 'university_professors' AND table_schema = 'public'"
   ]
  },
  {
   "cell_type": "markdown",
   "id": "ea5527ed",
   "metadata": {},
   "source": [
    "CREATE table"
   ]
  },
  {
   "cell_type": "code",
   "execution_count": null,
   "id": "65d0f03d",
   "metadata": {},
   "outputs": [],
   "source": [
    "-- Create a table for the professors entity type\n",
    "CREATE TABLE professors (\n",
    " firstname text,\n",
    " lastname text\n",
    "); -- Note the semicolon after this\n",
    "\n",
    "-- Print the contents of this table\n",
    "SELECT * \n",
    "FROM professors"
   ]
  },
  {
   "cell_type": "markdown",
   "id": "67ebf368",
   "metadata": {},
   "source": [
    "ALTER TABLE"
   ]
  },
  {
   "cell_type": "code",
   "execution_count": null,
   "id": "f5dc31c7",
   "metadata": {},
   "outputs": [],
   "source": [
    "-- Add the university_shortname column\n",
    "ALTER TABLE professors\n",
    "ADD COLUMN university_shortname TEXT;\n",
    "\n",
    "-- Print the contents of this table\n",
    "SELECT * \n",
    "FROM professors"
   ]
  },
  {
   "cell_type": "code",
   "execution_count": null,
   "id": "33f66bfd",
   "metadata": {},
   "outputs": [],
   "source": [
    "-- Rename the organisation column\n",
    "ALTER TABLE affiliations\n",
    "RENAME COLUMN organisation TO organization;\n",
    "\n",
    "-- Delete the university_shortname column\n",
    "ALTER TABLE affiliations\n",
    "DROP COLUMN university_shortname;"
   ]
  },
  {
   "cell_type": "markdown",
   "id": "5bc2bfd1",
   "metadata": {},
   "source": [
    "INSERT INTO, SELECT DISTINCT"
   ]
  },
  {
   "cell_type": "code",
   "execution_count": null,
   "id": "22793c10",
   "metadata": {},
   "outputs": [],
   "source": [
    "-- Insert unique professors into the new table\n",
    "INSERT INTO professors \n",
    "SELECT DISTINCT firstname, lastname, university_shortname \n",
    "FROM university_professors;"
   ]
  },
  {
   "cell_type": "code",
   "execution_count": null,
   "id": "ac6e3233",
   "metadata": {},
   "outputs": [],
   "source": [
    "-- Delete the university_professors table\n",
    "DROP TABLE university_professors;"
   ]
  },
  {
   "cell_type": "code",
   "execution_count": null,
   "id": "77708a3c",
   "metadata": {},
   "outputs": [],
   "source": []
  },
  {
   "cell_type": "code",
   "execution_count": null,
   "id": "bb1ec490",
   "metadata": {},
   "outputs": [],
   "source": []
  },
  {
   "cell_type": "code",
   "execution_count": null,
   "id": "b417b97c",
   "metadata": {},
   "outputs": [],
   "source": []
  },
  {
   "cell_type": "code",
   "execution_count": null,
   "id": "65652e20",
   "metadata": {},
   "outputs": [],
   "source": []
  },
  {
   "cell_type": "code",
   "execution_count": null,
   "id": "c2a7f8b7",
   "metadata": {},
   "outputs": [],
   "source": []
  },
  {
   "cell_type": "code",
   "execution_count": null,
   "id": "3678d439",
   "metadata": {},
   "outputs": [],
   "source": []
  },
  {
   "cell_type": "code",
   "execution_count": null,
   "id": "8c69ade6",
   "metadata": {},
   "outputs": [],
   "source": []
  },
  {
   "cell_type": "code",
   "execution_count": null,
   "id": "5107e08e",
   "metadata": {},
   "outputs": [],
   "source": []
  },
  {
   "cell_type": "code",
   "execution_count": null,
   "id": "390c8172",
   "metadata": {},
   "outputs": [],
   "source": []
  },
  {
   "cell_type": "code",
   "execution_count": null,
   "id": "20192fb7",
   "metadata": {},
   "outputs": [],
   "source": []
  },
  {
   "cell_type": "code",
   "execution_count": null,
   "id": "eb761184",
   "metadata": {},
   "outputs": [],
   "source": []
  }
 ],
 "metadata": {
  "kernelspec": {
   "display_name": "Python 3",
   "language": "python",
   "name": "python3"
  },
  "language_info": {
   "codemirror_mode": {
    "name": "ipython",
    "version": 3
   },
   "file_extension": ".py",
   "mimetype": "text/x-python",
   "name": "python",
   "nbconvert_exporter": "python",
   "pygments_lexer": "ipython3",
   "version": "3.8.8"
  }
 },
 "nbformat": 4,
 "nbformat_minor": 5
}
