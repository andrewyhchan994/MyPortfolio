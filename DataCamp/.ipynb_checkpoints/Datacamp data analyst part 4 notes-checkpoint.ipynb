{
 "cells": [
  {
   "cell_type": "markdown",
   "id": "d7fe7e5e",
   "metadata": {},
   "source": [
    "A relational database:\n",
    "\n",
    "- real-life entities become tables\n",
    "- reduced redundancy\n",
    "- data integrity by relationships\n",
    "\n",
    "learn three concepts\n",
    "\n",
    "- constraints\n",
    "- keys\n",
    "- referential integrity"
   ]
  },
  {
   "cell_type": "code",
   "execution_count": null,
   "id": "52642fd8",
   "metadata": {},
   "outputs": [],
   "source": [
    "-- Query the right table in information_schema\n",
    "SELECT table_name \n",
    "FROM information_schema.tables -- meta-database with MULTIPLE tables\n",
    "-- Specify the correct table_schema value\n",
    "WHERE table_schema = 'public';"
   ]
  },
  {
   "cell_type": "markdown",
   "id": "afe326f5",
   "metadata": {},
   "source": [
    "Now have a look at the columns in university_professors by selecting all entries in information_schema.columns that correspond to that table."
   ]
  },
  {
   "cell_type": "code",
   "execution_count": null,
   "id": "c22c1094",
   "metadata": {},
   "outputs": [],
   "source": [
    "-- Query the right table in information_schema to get columns\n",
    "SELECT column_name, data_type \n",
    "FROM information_schema.columns \n",
    "WHERE table_name = 'university_professors' AND table_schema = 'public';"
   ]
  },
  {
   "cell_type": "markdown",
   "id": "5879cbc2",
   "metadata": {},
   "source": [
    "Finding the number of columns in the table university_professors"
   ]
  },
  {
   "cell_type": "code",
   "execution_count": null,
   "id": "43218b3e",
   "metadata": {},
   "outputs": [],
   "source": [
    "SELECT COUNT(*)\n",
    "FROM information_schema.columns\n",
    "WHERE table_name = 'university_professors' AND table_schema = 'public'"
   ]
  },
  {
   "cell_type": "markdown",
   "id": "ea5527ed",
   "metadata": {},
   "source": [
    "CREATE table"
   ]
  },
  {
   "cell_type": "code",
   "execution_count": null,
   "id": "65d0f03d",
   "metadata": {},
   "outputs": [],
   "source": [
    "-- Create a table for the professors entity type\n",
    "CREATE TABLE professors (\n",
    " firstname text,\n",
    " lastname text\n",
    "); -- Note the semicolon after this\n",
    "\n",
    "-- Print the contents of this table\n",
    "SELECT * \n",
    "FROM professors"
   ]
  },
  {
   "cell_type": "markdown",
   "id": "67ebf368",
   "metadata": {},
   "source": [
    "ALTER TABLE, RENAME COLUMN"
   ]
  },
  {
   "cell_type": "code",
   "execution_count": null,
   "id": "f5dc31c7",
   "metadata": {},
   "outputs": [],
   "source": [
    "-- Add the university_shortname column\n",
    "ALTER TABLE professors\n",
    "ADD COLUMN university_shortname TEXT;\n",
    "\n",
    "-- Print the contents of this table\n",
    "SELECT * \n",
    "FROM professors"
   ]
  },
  {
   "cell_type": "code",
   "execution_count": null,
   "id": "33f66bfd",
   "metadata": {},
   "outputs": [],
   "source": [
    "-- Rename the organisation column\n",
    "ALTER TABLE affiliations\n",
    "RENAME COLUMN organisation TO organization;\n",
    "\n",
    "-- Delete the university_shortname column\n",
    "ALTER TABLE affiliations\n",
    "DROP COLUMN university_shortname;"
   ]
  },
  {
   "cell_type": "markdown",
   "id": "5bc2bfd1",
   "metadata": {},
   "source": [
    "INSERT INTO, SELECT DISTINCT"
   ]
  },
  {
   "cell_type": "code",
   "execution_count": null,
   "id": "22793c10",
   "metadata": {},
   "outputs": [],
   "source": [
    "-- Insert unique professors into the new table\n",
    "INSERT INTO professors \n",
    "SELECT DISTINCT firstname, lastname, university_shortname \n",
    "FROM university_professors;"
   ]
  },
  {
   "cell_type": "code",
   "execution_count": null,
   "id": "ac6e3233",
   "metadata": {},
   "outputs": [],
   "source": [
    "-- Delete the university_professors table\n",
    "DROP TABLE university_professors;"
   ]
  },
  {
   "cell_type": "markdown",
   "id": "c7753fb5",
   "metadata": {},
   "source": [
    "CASTING"
   ]
  },
  {
   "cell_type": "code",
   "execution_count": null,
   "id": "bb1ec490",
   "metadata": {},
   "outputs": [],
   "source": [
    "CREATE TABLE weather (\n",
    "temperature integer,\n",
    "wind_speed text);\n",
    "\n",
    "SELECT temperature * windspeed AS wind_chill\n",
    "FROM weather; ------------- WRONG\n",
    "\n",
    "\n",
    "\n",
    "SELECT temperature * CAST(wind_speed AS integer) AS wind_chill\n",
    "FROM weather;"
   ]
  },
  {
   "cell_type": "code",
   "execution_count": null,
   "id": "b417b97c",
   "metadata": {},
   "outputs": [],
   "source": [
    "-- Calculate the net amount as amount + fee\n",
    "SELECT transaction_date, amount + CAST(fee AS integer) AS net_amount \n",
    "FROM transactions;"
   ]
  },
  {
   "cell_type": "code",
   "execution_count": null,
   "id": "65652e20",
   "metadata": {},
   "outputs": [],
   "source": [
    "-- Specify the correct fixed-length character type\n",
    "ALTER TABLE professors\n",
    "ALTER COLUMN university_shortname\n",
    "TYPE char(3);"
   ]
  },
  {
   "cell_type": "code",
   "execution_count": null,
   "id": "c2a7f8b7",
   "metadata": {},
   "outputs": [],
   "source": [
    "-- Change the type of firstname\n",
    "ALTER TABLE professors\n",
    "ALTER COLUMN firstname\n",
    "TYPE varchar(64);"
   ]
  },
  {
   "cell_type": "markdown",
   "id": "9850b1f9",
   "metadata": {},
   "source": [
    "SUBSTRING\n",
    "\n",
    "Convert types USING a function\n",
    "If you don't want to reserve too much space for a certain varchar column, you can truncate the values before converting its type.\n",
    "\n",
    "For this, you can use the following syntax:\n",
    "\n",
    "ALTER TABLE table_name\n",
    "ALTER COLUMN column_name\n",
    "TYPE varchar(x)\n",
    "USING SUBSTRING(column_name FROM 1 FOR x)\n",
    "\n",
    "\n",
    "You should read it like this: Because you want to reserve only x characters for column_name, you have to retain a SUBSTRING of every value, i.e. the first x characters of it, and throw away the rest. This way, the values will fit the varchar(x) requirement."
   ]
  },
  {
   "cell_type": "markdown",
   "id": "fc5a5cbc",
   "metadata": {},
   "source": [
    "Now use SUBSTRING() to reduce firstname to 16 characters so its type can be altered to varchar(16)."
   ]
  },
  {
   "cell_type": "code",
   "execution_count": null,
   "id": "8c69ade6",
   "metadata": {},
   "outputs": [],
   "source": [
    "-- Convert the values in firstname to a max. of 16 characters\n",
    "ALTER TABLE professors \n",
    "ALTER COLUMN firstname\n",
    "TYPE varchar(16)\n",
    "USING SUBSTRING(firstname FROM 1 FOR 16)"
   ]
  },
  {
   "cell_type": "markdown",
   "id": "55955935",
   "metadata": {},
   "source": [
    "not-null and unique constraints\n",
    "\n",
    "eg. ssn integer not null,\n",
    "\n",
    "NULL != NULL\n",
    "\n",
    "ADD CONSTRAINT "
   ]
  },
  {
   "cell_type": "code",
   "execution_count": null,
   "id": "584677e2",
   "metadata": {},
   "outputs": [],
   "source": [
    "-- Disallow NULL values in firstname\n",
    "ALTER TABLE professors \n",
    "ALTER COLUMN firstname SET NOT NULL;"
   ]
  },
  {
   "cell_type": "code",
   "execution_count": null,
   "id": "f5fd865d",
   "metadata": {},
   "outputs": [],
   "source": [
    "-- Make universities.university_shortname unique\n",
    "ALTER TABLE universities\n",
    "ADD CONSTRAINT university_shortname_unq UNIQUE(university_shortname); -- university_shortname_unq is name of constraint"
   ]
  },
  {
   "cell_type": "markdown",
   "id": "6606ed3c",
   "metadata": {},
   "source": [
    "keys and superkeys, key constraints\n",
    "\n",
    "key = attributes that identify a record uniquely (always minimal)\n",
    "\n",
    "superkey = attributes that can be removed\n",
    "\n",
    "minimal superkey or key = no more attributes can be removed - but can still be uniquely identified by the remaining attributes"
   ]
  },
  {
   "cell_type": "markdown",
   "id": "0c78cda7",
   "metadata": {},
   "source": [
    "primary keys - most important concept, chosen by you from candidate keys\n",
    "\n",
    "one primary key per database table\n",
    "\n",
    "- multiple primary columns can make up a primary key, but ideally only one\n",
    "\n",
    "multiple ways to specify primary key\n",
    "- ADD CONSTRAINT    PRIMARY KEY\n",
    "- PRIMARY KEY (col1, col2)\n",
    "- product_no integer PRIMARY KEY"
   ]
  },
  {
   "cell_type": "code",
   "execution_count": null,
   "id": "a9c63f6b",
   "metadata": {},
   "outputs": [],
   "source": [
    "-- Rename the organization column to id\n",
    "ALTER TABLE organizations\n",
    "ALTER COLUMN organization TO id;\n",
    "\n",
    "-- Make id a primary key\n",
    "ALTER TABLE organizations\n",
    "ADD CONSTRAINT organization_pk PRIMARY KEY (id);"
   ]
  },
  {
   "cell_type": "code",
   "execution_count": null,
   "id": "b7910f65",
   "metadata": {},
   "outputs": [],
   "source": [
    "--setting up a primary key\n",
    "-- Rename the organization column to id\n",
    "ALTER TABLE organizations\n",
    "RENAME COLUMN organization TO id;\n",
    "\n",
    "-- Make id a primary key\n",
    "ALTER TABLE organizations\n",
    "ADD CONSTRAINT organization_pk PRIMARY KEY (id);"
   ]
  },
  {
   "cell_type": "code",
   "execution_count": null,
   "id": "572ec65c",
   "metadata": {},
   "outputs": [],
   "source": [
    "-- Rename the university_shortname column to id\n",
    "ALTER TABLE universities\n",
    "RENAME COLUMN university_shortname TO id;\n",
    "\n",
    "-- Make id a primary key\n",
    "ALTER TABLE universities\n",
    "ADD CONSTRAINT university_pk PRIMARY KEY (id);"
   ]
  },
  {
   "cell_type": "markdown",
   "id": "d050fcd3",
   "metadata": {},
   "source": [
    "surrogate key with serial data type\n",
    "\n",
    "ADD COLUMN id serial PRIMARY KEY;"
   ]
  },
  {
   "cell_type": "code",
   "execution_count": null,
   "id": "9c5d1965",
   "metadata": {},
   "outputs": [],
   "source": [
    "-- Add the new column to the table\n",
    "ALTER TABLE professors \n",
    "ADD COLUMN id serial;\n",
    "\n",
    "-- Make id a primary key\n",
    "ALTER TABLE professors \n",
    "ADD CONSTRAINT professors_pkey PRIMARY KEY (id);\n",
    "\n",
    "-- Have a look at the first 10 rows of professors\n",
    "SELECT * FROM professors LIMIT (10);"
   ]
  },
  {
   "cell_type": "markdown",
   "id": "d3b72c3f",
   "metadata": {},
   "source": [
    "UPDATE and SET"
   ]
  },
  {
   "cell_type": "code",
   "execution_count": null,
   "id": "e8d9ccca",
   "metadata": {},
   "outputs": [],
   "source": [
    "-- Count the number of distinct rows with columns make, model\n",
    "SELECT COUNT(DISTINCT(make, model)) \n",
    "FROM cars;\n",
    "\n",
    "-- Add the id column\n",
    "ALTER TABLE cars\n",
    "ADD COLUMN id varchar(128);\n",
    "\n",
    "-- Update id with make + model\n",
    "UPDATE cars\n",
    "SET id = CONCAT(make, model);\n",
    "\n",
    "-- Make id a primary key\n",
    "ALTER TABLE cars\n",
    "ADD CONSTRAINT id_pk PRIMARY KEY(id);\n",
    "\n",
    "-- Have a look at the table\n",
    "SELECT * FROM cars;"
   ]
  },
  {
   "cell_type": "markdown",
   "id": "55f70092",
   "metadata": {},
   "source": [
    "Exercise:\n",
    "Let's think of an entity type \"student\". A student has:\n",
    "\n",
    "a last name consisting of up to 128 characters (required),\n",
    "a unique social security number, consisting only of integers, that should serve as a key,\n",
    "a phone number of fixed length 12, consisting of numbers and characters (but some students don't have one)."
   ]
  },
  {
   "cell_type": "code",
   "execution_count": null,
   "id": "44d03601",
   "metadata": {},
   "outputs": [],
   "source": [
    "-- Create the table\n",
    "CREATE TABLE students (\n",
    "  last_name varchar(128) NOT NULL,\n",
    "  ssn integer PRIMARY KEY,\n",
    "  phone_no char(12)\n",
    ");"
   ]
  },
  {
   "cell_type": "code",
   "execution_count": null,
   "id": "ae76df04",
   "metadata": {},
   "outputs": [],
   "source": []
  },
  {
   "cell_type": "code",
   "execution_count": null,
   "id": "390c8172",
   "metadata": {},
   "outputs": [],
   "source": []
  },
  {
   "cell_type": "code",
   "execution_count": null,
   "id": "20192fb7",
   "metadata": {},
   "outputs": [],
   "source": []
  },
  {
   "cell_type": "code",
   "execution_count": null,
   "id": "eb761184",
   "metadata": {},
   "outputs": [],
   "source": []
  }
 ],
 "metadata": {
  "kernelspec": {
   "display_name": "Python 3",
   "language": "python",
   "name": "python3"
  },
  "language_info": {
   "codemirror_mode": {
    "name": "ipython",
    "version": 3
   },
   "file_extension": ".py",
   "mimetype": "text/x-python",
   "name": "python",
   "nbconvert_exporter": "python",
   "pygments_lexer": "ipython3",
   "version": "3.8.8"
  }
 },
 "nbformat": 4,
 "nbformat_minor": 5
}
