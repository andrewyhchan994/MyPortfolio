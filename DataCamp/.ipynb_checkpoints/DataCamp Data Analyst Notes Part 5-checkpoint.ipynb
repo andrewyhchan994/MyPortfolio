{
 "cells": [
  {
   "cell_type": "markdown",
   "id": "15825ffa",
   "metadata": {},
   "source": [
    "Joining"
   ]
  },
  {
   "cell_type": "code",
   "execution_count": null,
   "id": "4fa232b0",
   "metadata": {},
   "outputs": [],
   "source": [
    "-- Select name fields (with alias) and region \n",
    "SELECT cities.name AS city, countries.name AS country, countries.region\n",
    "FROM cities \n",
    "  INNER JOIN countries\n",
    "    ON cities.country_code = countries.code;"
   ]
  },
  {
   "cell_type": "code",
   "execution_count": null,
   "id": "ece1149e",
   "metadata": {},
   "outputs": [],
   "source": [
    "-- Select fields with aliases\n",
    "SELECT c.code AS country_code, c.name, e.year, e.inflation_rate\n",
    "FROM countries AS c\n",
    "  -- Join to economies (alias e)\n",
    "  INNER JOIN economies AS e\n",
    "    -- Match on code\n",
    "    ON c.code = e.code;"
   ]
  },
  {
   "cell_type": "markdown",
   "id": "1a25efcb",
   "metadata": {},
   "source": [
    "multiple inner joins"
   ]
  },
  {
   "cell_type": "code",
   "execution_count": null,
   "id": "ab76554b",
   "metadata": {},
   "outputs": [],
   "source": [
    "-- Select fields\n",
    "SELECT c.code, name, region, e.year, fertility_rate, unemployment_rate\n",
    "  -- From countries (alias as c)\n",
    "  FROM countries AS c\n",
    "  -- Join to populations (as p)\n",
    "  INNER JOIN populations AS p\n",
    "    -- Match on country code\n",
    "    ON c.code = p.country_code\n",
    "  -- Join to economies (as e)\n",
    "  INNER JOIN economies AS e\n",
    "    -- Match on country code and year\n",
    "    ON c.code = e.code AND p.year = e.year;"
   ]
  },
  {
   "cell_type": "markdown",
   "id": "ed6428bf",
   "metadata": {},
   "source": [
    "INNER JOIN with USING\n",
    "\n",
    "USING(common field)"
   ]
  },
  {
   "cell_type": "code",
   "execution_count": null,
   "id": "f410c161",
   "metadata": {},
   "outputs": [],
   "source": [
    "-- Select fields\n",
    "SELECT c.name AS country, continent, l.name AS language, official\n",
    "  -- From countries (alias as c)\n",
    "  FROM countries AS c\n",
    "  -- Join to languages (as l)\n",
    "  INNER JOIN languages AS l\n",
    "    -- Match using code\n",
    "    USING (code)"
   ]
  },
  {
   "cell_type": "code",
   "execution_count": null,
   "id": "c57b13eb",
   "metadata": {},
   "outputs": [],
   "source": []
  },
  {
   "cell_type": "code",
   "execution_count": null,
   "id": "4317f252",
   "metadata": {},
   "outputs": [],
   "source": []
  },
  {
   "cell_type": "code",
   "execution_count": null,
   "id": "c9253d6d",
   "metadata": {},
   "outputs": [],
   "source": []
  },
  {
   "cell_type": "code",
   "execution_count": null,
   "id": "a997d8b0",
   "metadata": {},
   "outputs": [],
   "source": []
  },
  {
   "cell_type": "code",
   "execution_count": null,
   "id": "52abdaf4",
   "metadata": {},
   "outputs": [],
   "source": []
  },
  {
   "cell_type": "code",
   "execution_count": null,
   "id": "9fb5b2dd",
   "metadata": {},
   "outputs": [],
   "source": []
  },
  {
   "cell_type": "code",
   "execution_count": null,
   "id": "14dbfabd",
   "metadata": {},
   "outputs": [],
   "source": []
  },
  {
   "cell_type": "code",
   "execution_count": null,
   "id": "8f8c8039",
   "metadata": {},
   "outputs": [],
   "source": []
  },
  {
   "cell_type": "code",
   "execution_count": null,
   "id": "71608b43",
   "metadata": {},
   "outputs": [],
   "source": []
  },
  {
   "cell_type": "code",
   "execution_count": null,
   "id": "9a0b8e3e",
   "metadata": {},
   "outputs": [],
   "source": []
  },
  {
   "cell_type": "code",
   "execution_count": null,
   "id": "806ab179",
   "metadata": {},
   "outputs": [],
   "source": []
  },
  {
   "cell_type": "code",
   "execution_count": null,
   "id": "9bf744a7",
   "metadata": {},
   "outputs": [],
   "source": []
  },
  {
   "cell_type": "code",
   "execution_count": null,
   "id": "7e1da02b",
   "metadata": {},
   "outputs": [],
   "source": []
  },
  {
   "cell_type": "code",
   "execution_count": null,
   "id": "59ac25f4",
   "metadata": {},
   "outputs": [],
   "source": []
  }
 ],
 "metadata": {
  "kernelspec": {
   "display_name": "Python 3",
   "language": "python",
   "name": "python3"
  },
  "language_info": {
   "codemirror_mode": {
    "name": "ipython",
    "version": 3
   },
   "file_extension": ".py",
   "mimetype": "text/x-python",
   "name": "python",
   "nbconvert_exporter": "python",
   "pygments_lexer": "ipython3",
   "version": "3.8.8"
  }
 },
 "nbformat": 4,
 "nbformat_minor": 5
}
