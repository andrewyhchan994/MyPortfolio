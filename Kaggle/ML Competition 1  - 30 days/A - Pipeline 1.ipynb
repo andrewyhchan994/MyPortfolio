{
 "cells": [
  {
   "cell_type": "code",
   "execution_count": 1,
   "id": "c8af589a",
   "metadata": {},
   "outputs": [],
   "source": [
    "#Feature Importance\n",
    "#cont10, cont9, cont12, cont7, cont5, cont2, cat1, cont3, cont0, cont13, cont4, cont11, cat8, cont6, cont1\n",
    "\n",
    "#cat1, cat8\n",
    "# Modules\n",
    "\n",
    "#plotting\n",
    "import seaborn\n",
    "import matplotlib.pyplot as plt\n",
    "\n",
    "#Number processing\n",
    "import numpy as np\n",
    "from scipy import sparse\n",
    "\n",
    "#Data frame\n",
    "import pandas as pd\n",
    "\n",
    "#Cross Validation\n",
    "from sklearn import model_selection\n",
    "\n",
    "#ordinal encoding categorical variables\n",
    "from sklearn.preprocessing import LabelEncoder\n",
    "from sklearn.preprocessing import OrdinalEncoder\n",
    "from sklearn.preprocessing import OneHotEncoder\n",
    "from sklearn.model_selection import train_test_split\n",
    "\n",
    "#Mean squared error\n",
    "from sklearn.metrics import mean_squared_error\n",
    "from sklearn.metrics import accuracy_score\n",
    "\n",
    "#Trees\n",
    "from sklearn import tree\n",
    "import xgboost as xgb\n",
    "from sklearn.ensemble import RandomForestRegressor\n",
    "from lightgbm import LGBMRegressor\n",
    "\n",
    "#Statistics/Feature Engineering\n",
    "from scipy.stats import boxcox\n",
    "\n",
    "#Normalization and Standardization\n",
    "from sklearn.preprocessing import MinMaxScaler\n",
    "from sklearn.preprocessing import StandardScaler\n",
    "\n",
    "#garbage collection\n",
    "import gc\n",
    "\n",
    "#Pipeline and prevent data leakage in hyperparameter tuning section\n",
    "from sklearn.pipeline import Pipeline\n",
    "from sklearn.compose import ColumnTransformer\n",
    "\n",
    "from skopt import BayesSearchCV\n",
    "\n",
    "from skopt.space import Real, Categorical, Integer\n",
    "\n",
    "import warnings\n",
    "warnings.filterwarnings(\"ignore\")"
   ]
  },
  {
   "cell_type": "code",
   "execution_count": 2,
   "id": "703ecb75",
   "metadata": {},
   "outputs": [],
   "source": [
    "filepath1 = 'C:\\\\Users\\\\Andrew\\\\Machine Learning Python\\\\Comp1\\\\train.csv' \n",
    "filepath2 = 'C:\\\\Users\\\\Andrew\\\\Machine Learning Python\\\\Comp1\\\\test.csv'\n",
    "\n",
    "#alternate\n",
    "# filepath1 = '../input/30daysml/train.csv' \n",
    "# filepath2 = '../input/30daysml/test.csv'\n"
   ]
  },
  {
   "cell_type": "markdown",
   "id": "b5c24211",
   "metadata": {},
   "source": [
    "## Loading data and obtaining column names"
   ]
  },
  {
   "cell_type": "code",
   "execution_count": 3,
   "id": "ce1e3579",
   "metadata": {},
   "outputs": [],
   "source": [
    "def new_run(filepath1, filepath2): #use this function to for first start, or to refresh train_data and test_data\n",
    "    train_data = pd.read_csv(filepath1)\n",
    "    test_data = pd.read_csv(filepath2)\n",
    "    \n",
    "    return train_data, test_data\n",
    "\n",
    "def func_categorical_data(train_data):\n",
    "    categorical_cols = train_data.columns[1:11]\n",
    "    \n",
    "    return categorical_cols\n",
    "\n",
    "def func_cont_data(train_data):\n",
    "    cont_cols = train_data.columns[11:-1]\n",
    "    \n",
    "    return cont_cols\n",
    "\n",
    "\n",
    "    \n",
    "train_data, test_data = new_run(filepath1, filepath2)    \n",
    "    \n",
    "categorical_cols = func_categorical_data(train_data)\n",
    "# for pandas data frame: the below means the same thing \n",
    "# train_data.target is train_data['target'] ---> True\n",
    "\n",
    "cont_cols = func_cont_data(train_data)\n",
    "y_train_targets = train_data.target\n",
    "\n",
    "# cat1    cont0    cont2    cont3    cont4   cont6   cont7    cont10    cont11    cont12    cont13"
   ]
  },
  {
   "cell_type": "markdown",
   "id": "a02f06b2",
   "metadata": {},
   "source": [
    "## Run below sampler code for hypertuning, (to increase speed by reducing data size)"
   ]
  },
  {
   "cell_type": "code",
   "execution_count": 7,
   "id": "d3b78d19",
   "metadata": {
    "scrolled": true
   },
   "outputs": [],
   "source": [
    "train_data = train_data.sample(frac = 0.3) #\n",
    "test_data = test_data.sample(frac = 0.3)"
   ]
  },
  {
   "cell_type": "code",
   "execution_count": 8,
   "id": "ad9abcc7",
   "metadata": {},
   "outputs": [
    {
     "data": {
      "text/plain": [
       "(90000, 26)"
      ]
     },
     "execution_count": 8,
     "metadata": {},
     "output_type": "execute_result"
    }
   ],
   "source": [
    "train_data.shape"
   ]
  },
  {
   "cell_type": "code",
   "execution_count": 219,
   "id": "bb573a04",
   "metadata": {},
   "outputs": [],
   "source": [
    "#variables\n",
    "#(train_data, test_data, categorical_cols, cont_cols, clean_cols, y_train_targets)"
   ]
  },
  {
   "cell_type": "markdown",
   "id": "5fa09f2b",
   "metadata": {},
   "source": [
    "## Categorical Encoding"
   ]
  },
  {
   "cell_type": "code",
   "execution_count": 9,
   "id": "ec5c8189",
   "metadata": {},
   "outputs": [],
   "source": [
    "class EncodingCategoricalObj(): \n",
    "    def __init__(self, train_data, test_data, ordinal_enc_cols = [], onehot_enc_cols = [], label_enc_cols = []):\n",
    "        # selected columns, create encoding () object and specify which encoder you want\n",
    "\n",
    "        #initialize object, specifying the categorical columns for each encoder\n",
    "        self.train_data = train_data\n",
    "        self.test_data = test_data\n",
    "        \n",
    "        #Note: make sure the data type is acceptable \n",
    "        self.ordinal_enc_cols = ordinal_enc_cols\n",
    "        self.onehot_enc_cols = onehot_enc_cols\n",
    "        self.label_enc_cols = label_enc_cols\n",
    "        \n",
    "    # class functions for each encoder\n",
    "    \n",
    "    # since the categorical data varies (some only have 1-3 values, while a few columns have >6 values)\n",
    "    # since for each encoder, fit_tranform and transform only affects train_data[selected_cols], we can have multiple encoders\n",
    "    # on the dataframe\n",
    "    def ordinal_Encoder(self):\n",
    "        for ordinal_col in self.ordinal_enc_cols:\n",
    "            my_ordinal_encoder = OrdinalEncoder()\n",
    "            #ordinal encoding numpy array -> reshape (-1, 1) -> b/c expecting 2d array, gave 1d array when just passing column\n",
    "            self.train_data[ordinal_col] = my_ordinal_encoder.fit_transform(self.train_data[ordinal_col].to_numpy().reshape(-1, 1))\n",
    "            self.test_data[ordinal_col] = my_ordinal_encoder.transform(self.test_data[ordinal_col].to_numpy().reshape(-1, 1))\n",
    "    \n",
    "    def oneHot_Encoder(self):\n",
    "        \n",
    "        one_hot_temp_df = pd.get_dummies(self.train_data[self.onehot_enc_cols], prefix = ['cat0', 'cat1', 'cat2', 'cat3', 'cat4', 'cat5', 'cat6', 'cat7', 'cat8',\n",
    "       'cat9'])\n",
    "        self.train_data = self.train_data.drop(self.onehot_enc_cols, axis = 1)\n",
    "        self.train_data = self.train_data.join(one_hot_temp_df)\n",
    "        \n",
    "        one_hot_temp_df = pd.get_dummies(self.test_data[self.onehot_enc_cols], prefix = ['cat0', 'cat1', 'cat2', 'cat3', 'cat4', 'cat5', 'cat6', 'cat7', 'cat8',\n",
    "       'cat9'])\n",
    "        self.test_data = self.test_data.drop(self.onehot_enc_cols, axis = 1)\n",
    "        self.test_data = self.test_data.join(one_hot_temp_df)\n",
    "        \n",
    "\n",
    "    def label_Encoder(self):\n",
    "        for label_col in self.label_enc_cols:\n",
    "            my_label_encoder = LabelEncoder()\n",
    "            self.train_data[label_col] = my_label_encoder.fit_transform(self.train_data[label_col])\n",
    "            self.test_data[label_col] = my_label_encoder.transform(self.test_data[label_col])\n",
    "        \n",
    "    def main(self):\n",
    "        if type(self.ordinal_enc_cols) == pd.core.indexes.base.Index or type(self.ordinal_enc_cols) == str:\n",
    "            self.ordinal_Encoder()\n",
    "        if type(self.onehot_enc_cols) == pd.core.indexes.base.Index or type(self.onehot_enc_cols) == str:\n",
    "            self.oneHot_Encoder()\n",
    "        if type(self.label_enc_cols) == pd.core.indexes.base.Index or type(self.label_enc_cols) == str:\n",
    "            self.label_Encoder()\n",
    "\n",
    "#Run the\n",
    "#encodingCategoricalObj = EncodingCategoricalObj(train_data, test_data, onehot_enc_cols = categorical_cols)\n",
    "encodingCategoricalObj = EncodingCategoricalObj(train_data, test_data, ordinal_enc_cols = categorical_cols)\n",
    "encodingCategoricalObj.main()\n",
    "\n",
    "train_data = encodingCategoricalObj.train_data\n",
    "test_data = encodingCategoricalObj.test_data"
   ]
  },
  {
   "cell_type": "code",
   "execution_count": 10,
   "id": "f2c4154e",
   "metadata": {},
   "outputs": [
    {
     "data": {
      "text/plain": [
       "10"
      ]
     },
     "execution_count": 10,
     "metadata": {},
     "output_type": "execute_result"
    }
   ],
   "source": [
    "del encodingCategoricalObj \n",
    "gc.collect()"
   ]
  },
  {
   "cell_type": "code",
   "execution_count": 14,
   "id": "babf4a08",
   "metadata": {},
   "outputs": [
    {
     "data": {
      "text/plain": [
       "0.0    57865\n",
       "1.0    32135\n",
       "Name: cat0, dtype: int64"
      ]
     },
     "execution_count": 14,
     "metadata": {},
     "output_type": "execute_result"
    }
   ],
   "source": [
    "train_data.cat0.value_counts()"
   ]
  },
  {
   "cell_type": "code",
   "execution_count": 15,
   "id": "4125156c",
   "metadata": {},
   "outputs": [
    {
     "data": {
      "text/plain": [
       "0.0    46395\n",
       "1.0    43605\n",
       "Name: cat1, dtype: int64"
      ]
     },
     "execution_count": 15,
     "metadata": {},
     "output_type": "execute_result"
    }
   ],
   "source": [
    "train_data.cat1.value_counts()"
   ]
  },
  {
   "cell_type": "markdown",
   "id": "af9c1ae5",
   "metadata": {},
   "source": [
    "## Feature Selection"
   ]
  },
  {
   "cell_type": "code",
   "execution_count": 61,
   "id": "1b0f37ab",
   "metadata": {},
   "outputs": [],
   "source": [
    "import pdb\n",
    "# selectedFeatureListCont = ['cont10', 'cont9', 'cont12', 'cont7', 'cont5', 'cont2', 'cont6',\n",
    "#                            'cont3', 'cont0', 'cont13', 'cont4', 'cont11', 'cont1']\n",
    "selectedFeatureListCont = ['cont0', 'cont1', 'cont2', 'cont3']\n",
    "# selectedFeatureListCat = ['cat1', 'cat8']\n",
    "selectedFeatureListCat = ['cat0', 'cat1', 'cat2', 'cat3', 'cat4', 'cat5', 'cat6', 'cat7', 'cat8', 'cat9']\n",
    "\n",
    "## for drop use columns = \n",
    "\n",
    "class FeatureSelection():#right now, just drop everything except selected features\n",
    "    def __init__(self, train_data, test_data):\n",
    "        self.train_data = train_data\n",
    "        self.test_data = test_data\n",
    "    \n",
    "    def drop_(self, selectedFeatureListCont, selectedFeatureListCat):\n",
    "        temp_train, temp_test = self.train_data.copy(), self.test_data.copy()\n",
    "#         temp_train2, temp_test2 = self.train_data.copy(), self.test_data.copy()\n",
    "        cont_train = temp_train[selectedFeatureListCont]\n",
    "        cont_test = temp_test[selectedFeatureListCont]\n",
    "\n",
    "        cat_train = temp_train[selectedFeatureListCat]\n",
    "        cat_test = temp_test[selectedFeatureListCat]\n",
    "        #print(cat_test)\n",
    "        self.train_data = pd.concat((self.train_data['id'], pd.DataFrame(cont_train), pd.DataFrame(cat_train), self.train_data['target']), axis = 1)\n",
    "        self.test_data = pd.concat((self.test_data['id'], pd.DataFrame(cont_test), pd.DataFrame(cat_test)), axis = 1)\n",
    "        #db.set_trace()\n",
    "featureSelection = FeatureSelection(train_data, test_data)        \n",
    "#cont_cols = [i for i in featureSelection.train_data.columns if i.startswith('cont')]\n",
    "featureSelection.drop_(selectedFeatureListCont, selectedFeatureListCat)\n",
    "train_data = featureSelection.train_data\n",
    "test_data = featureSelection.test_data\n",
    "\n",
    "cont_cols = selectedFeatureListCont "
   ]
  },
  {
   "cell_type": "code",
   "execution_count": 88,
   "id": "4896bb79",
   "metadata": {},
   "outputs": [
    {
     "ename": "NameError",
     "evalue": "name 'featureSelection' is not defined",
     "output_type": "error",
     "traceback": [
      "\u001b[1;31m---------------------------------------------------------------------------\u001b[0m",
      "\u001b[1;31mNameError\u001b[0m                                 Traceback (most recent call last)",
      "\u001b[1;32m<ipython-input-88-9ee7dc163aab>\u001b[0m in \u001b[0;36m<module>\u001b[1;34m\u001b[0m\n\u001b[1;32m----> 1\u001b[1;33m \u001b[1;32mdel\u001b[0m \u001b[0mfeatureSelection\u001b[0m\u001b[1;33m\u001b[0m\u001b[1;33m\u001b[0m\u001b[0m\n\u001b[0m\u001b[0;32m      2\u001b[0m \u001b[0mgc\u001b[0m\u001b[1;33m.\u001b[0m\u001b[0mcollect\u001b[0m\u001b[1;33m(\u001b[0m\u001b[1;33m)\u001b[0m\u001b[1;33m\u001b[0m\u001b[1;33m\u001b[0m\u001b[0m\n",
      "\u001b[1;31mNameError\u001b[0m: name 'featureSelection' is not defined"
     ]
    }
   ],
   "source": [
    "del featureSelection\n",
    "gc.collect()"
   ]
  },
  {
   "cell_type": "markdown",
   "id": "f6406295",
   "metadata": {},
   "source": [
    "## Feature Engineering Class (only encode within cross-validation step)\n",
    "## BUT ALSO ENCODE TEST DATA BEFORE ANYTHING"
   ]
  },
  {
   "cell_type": "code",
   "execution_count": 21,
   "id": "aff3ed32",
   "metadata": {},
   "outputs": [],
   "source": [
    "import pdb\n",
    "class EncodingContinuousObj(): \n",
    "    def __init__(self, train_data, test_data, stand_enc_cols = None, squarert_enc_cols = None, log_enc_cols = None, recp_enc_cols = None):\n",
    "        \n",
    "        self.train_data = train_data\n",
    "        self.test_data = test_data\n",
    "                \n",
    "        self.stand_enc_cols = stand_enc_cols\n",
    "        \n",
    "        self.squarert_enc_cols = squarert_enc_cols\n",
    "        self.log_enc_cols = log_enc_cols\n",
    "        self.recp_enc_cols = recp_enc_cols\n",
    "        \n",
    "        self.squareroot_train = None\n",
    "        self.log1_train = None\n",
    "        self.reciprical_train = None\n",
    "        \n",
    "        self.squareroot_test = None\n",
    "        self.log1_test = None\n",
    "        self.reciprical_test = None\n",
    "    \n",
    "    ## Normalization or Standardization\n",
    "    # Only encode during cross-validation to avoid data leakage\n",
    "    def normalEncoder(self, train_data, test_data, cont_cols):\n",
    "        cvtrain, cvtest = train_data, test_data #.copy() not needed, function cannot change global scope\n",
    "        for col in cont_cols:\n",
    "            \n",
    "            train_numpy = cvtrain[col].to_numpy().reshape(-1, 1) \n",
    "\n",
    "            test_numpy = cvtest[col].to_numpy().reshape(-1, 1) \n",
    "\n",
    "            my_normalizer = MinMaxScaler()\n",
    "            train_numpy = my_normalizer.fit_transform(train_numpy)\n",
    "            test_numpy = my_normalizer.fit_transform(test_numpy)\n",
    "#             print(train_numpy)\n",
    "#             print(test_numpy)\n",
    "\n",
    "            cvtrain[col] = train_numpy\n",
    "            cvtest[col] = test_numpy\n",
    "        return cvtrain, cvtest    \n",
    "            \n",
    "        #self.cvtrain = pd.DataFrame(self.cvtrain)\n",
    "        #self.cvtest = pd.DataFrame(self.cvtest)\n",
    "        \n",
    "    # Standardization uses sd, mean, and assumes normal distribution\n",
    "    # from the graph, cont4 is obviously skewed, so we will drop it for now\n",
    "    def standardEncoder(self, train_data, test_data, cont_cols):\n",
    "        \n",
    "        cvtrain, cvtest = train_data, test_data\n",
    "        for col in cont_cols:\n",
    "            \n",
    "            train_numpy = cvtrain[col].to_numpy().reshape(-1, 1) \n",
    "\n",
    "            test_numpy = cvtest[col].to_numpy().reshape(-1, 1) \n",
    "\n",
    "            my_standardizer = StandardScaler()\n",
    "            train_numpy = my_normalizer.fit_transform(train_numpy)\n",
    "            test_numpy = my_normalizer.fit_transform(test_numpy)\n",
    "#             print(train_numpy)\n",
    "#             print(test_numpy)\n",
    "\n",
    "            cvtrain[col] = train_numpy\n",
    "            cvtest[col] = test_numpy\n",
    "        return cvtrain, cvtest        \n",
    "        #self.cvtrain = pd.DataFrame(self.cvtrain)\n",
    "        #self.cvtest = pd.DataFrame(self.cvtest)\n",
    "        \n",
    "\n",
    "    def testEncoder(self): #scalar transformation right shift by 1e2 to remove zeros\n",
    "        self.train_data[cont_cols] += 1e2\n",
    "        self.test_data[cont_cols] += 1e2\n",
    "    \n",
    "    ########################################################################################\n",
    "    # need debugging\n",
    "    ###### For some reason, train_data and test data become numpy arrays in this section of the code\n",
    "    \n",
    "    \n",
    "    ## Later want to implement this function as well into cross-validation\n",
    "    def contTransformEncoder(self, stand_enc_cols = None, squarert_enc_cols = None, log_enc_cols = None, recp_enc_cols = None):  ### NOT WORKING RIGHT NOW\n",
    "             \n",
    "        ###\n",
    "        ### IMPORTANT, for square root, there are negative values\n",
    "        ### avoid cont0, cont1, cont2, cont6, cont8 which have negative values\n",
    "        \n",
    "        # ONLY FOR GAUSSIAN DATA\n",
    "        if type(self.stand_enc_cols) == pd.core.indexes.base.Index or type(self.squarert_enc_cols) == str:\n",
    "            my_normalizer = MinMaxScaler()\n",
    "            self.train_data = my_normalizer.fit_transform(self.train_data[cont_cols])\n",
    "            self.test_data = my_normalizer.fit_transform(self.test_data[cont_cols])\n",
    "        \n",
    "        if type(self.squarert_enc_cols) == pd.core.indexes.base.Index or type(self.squarert_enc_cols) == str:\n",
    "            ### CHANGE TO IN-PLACE modification once sure everything working\n",
    "            #train_data[self.squarert_enc_cols] = train_data[self.squarert_enc_cols]**0.5 \n",
    "            #pdb.set_trace()\n",
    "            self.squareroot_train = self.train_data[self.squarert_enc_cols]**0.5 \n",
    "            self.squareroot_test = self.test_data[self.squarert_enc_cols]**0.5 \n",
    "            \n",
    "        # More debugging needed, log 0 error    \n",
    "        if type(self.log_enc_cols) == pd.core.indexes.base.Index or type(self.log_enc_cols) == str:\n",
    "            #train_data[self.squarert_enc_cols] = np.log(train_data[self.squarert_enc_cols])\n",
    "            self.log1_train = np.log(self.train_data[self.log_enc_cols])\n",
    "            self.log1_test = np.log(self.test_data[self.log_enc_cols])\n",
    "            \n",
    "        if type(self.recp_enc_cols) == pd.core.indexes.base.Index or type(self.recp_enc_cols) == str:\n",
    "            #train_data[self.recp_enc_cols] = 1/(train_data[self.recp_enc_cols])\n",
    "            self.reciprical_train = 1/(self.train_data[self.recp_enc_cols])\n",
    "            self.reciprical_test = 1/(self.test_data[self.recp_enc_cols])\n"
   ]
  },
  {
   "cell_type": "code",
   "execution_count": 22,
   "id": "6806128e",
   "metadata": {},
   "outputs": [],
   "source": [
    "encodingContinuousObj = EncodingContinuousObj(train_data, test_data, stand_enc_cols = cont_cols, \n",
    "                                              squarert_enc_cols = cont_cols, log_enc_cols = cont_cols, \n",
    "                                              recp_enc_cols = cont_cols)"
   ]
  },
  {
   "cell_type": "code",
   "execution_count": 111,
   "id": "ba96e192",
   "metadata": {},
   "outputs": [
    {
     "data": {
      "text/plain": [
       "<seaborn.axisgrid.FacetGrid at 0x2721087f7b8>"
      ]
     },
     "execution_count": 111,
     "metadata": {},
     "output_type": "execute_result"
    },
    {
     "data": {
      "image/png": "[encoded data removed]",
      "text/plain": [
       "<Figure size 430.5x360 with 1 Axes>"
      ]
     },
     "metadata": {
      "needs_background": "light"
     },
     "output_type": "display_data"
    }
   ],
   "source": [
    "seaborn.displot(encodingContinuousObj.train_data[cont_cols])"
   ]
  },
  {
   "cell_type": "code",
   "execution_count": 180,
   "id": "b448614e",
   "metadata": {},
   "outputs": [
    {
     "data": {
      "text/plain": [
       "<seaborn.axisgrid.FacetGrid at 0x27208812278>"
      ]
     },
     "execution_count": 180,
     "metadata": {},
     "output_type": "execute_result"
    },
    {
     "data": {
      "image/png": "[encoded data removed]",
      "text/plain": [
       "<Figure size 360x360 with 1 Axes>"
      ]
     },
     "metadata": {
      "needs_background": "light"
     },
     "output_type": "display_data"
    }
   ],
   "source": [
    "seaborn.displot(encodingContinuousObj.squareroot_train.cont4)"
   ]
  },
  {
   "cell_type": "code",
   "execution_count": 179,
   "id": "d3a97478",
   "metadata": {},
   "outputs": [
    {
     "data": {
      "text/plain": [
       "<seaborn.axisgrid.FacetGrid at 0x2724201e4a8>"
      ]
     },
     "execution_count": 179,
     "metadata": {},
     "output_type": "execute_result"
    },
    {
     "data": {
      "image/png": "[encoded data removed]",
      "text/plain": [
       "<Figure size 360x360 with 1 Axes>"
      ]
     },
     "metadata": {
      "needs_background": "light"
     },
     "output_type": "display_data"
    }
   ],
   "source": [
    "seaborn.displot(encodingContinuousObj.log1_train.cont4)"
   ]
  },
  {
   "cell_type": "code",
   "execution_count": 181,
   "id": "1d7919cf",
   "metadata": {},
   "outputs": [
    {
     "data": {
      "text/plain": [
       "<seaborn.axisgrid.FacetGrid at 0x27208978c50>"
      ]
     },
     "execution_count": 181,
     "metadata": {},
     "output_type": "execute_result"
    },
    {
     "data": {
      "image/png": "[encoded data removed]",
      "text/plain": [
       "<Figure size 360x360 with 1 Axes>"
      ]
     },
     "metadata": {
      "needs_background": "light"
     },
     "output_type": "display_data"
    }
   ],
   "source": [
    "seaborn.displot(encodingContinuousObj.reciprical_train.cont4)"
   ]
  },
  {
   "cell_type": "markdown",
   "id": "38122ab7",
   "metadata": {},
   "source": [
    "## K-Fold Cross-Validation"
   ]
  },
  {
   "cell_type": "code",
   "execution_count": 24,
   "id": "a3ff2766",
   "metadata": {},
   "outputs": [],
   "source": [
    "kfold_splits = 3\n",
    "def kfold_cross_validation(kfold_splits):\n",
    "    kf = model_selection.KFold(n_splits=kfold_splits, shuffle=True, random_state=0)\n",
    "    return kf\n",
    "\n",
    "kf = kfold_cross_validation(kfold_splits)"
   ]
  },
  {
   "cell_type": "markdown",
   "id": "f4750f47",
   "metadata": {},
   "source": [
    "## Training the model (and now standardizing (to curb data leakage))"
   ]
  },
  {
   "cell_type": "code",
   "execution_count": 36,
   "id": "2810e4df",
   "metadata": {},
   "outputs": [],
   "source": [
    "class TrainingModel(EncodingContinuousObj):\n",
    "    \n",
    "    def __init__ (self, train_data, test_data, y_train_targets, kf):\n",
    "        self.train_data = train_data.drop(columns = ['id', 'target'])\n",
    "        self.test_data = test_data.drop(columns = ['id']) #because test_data contains id column which we don't want\n",
    "        self.y_train_targets = y_train_targets\n",
    "        self.kf = kf\n",
    "\n",
    "        \n",
    "        ## crashes on local machine, run on kaggle\n",
    "        self.predictions = [0, 0, 0, 0] #different predictions properties for each model\n",
    "        self.scores = []\n",
    "        \n",
    "        ## Note: I copy pasted the main loop (for f, (ind1, ind2)...) 3 times. Clean up this code to avoid the copy pasting\n",
    "        ## some wrappers have built in cv\n",
    "        \n",
    "        ## under other circumstances, inherited parent class should initialize here to get attributes\n",
    "    \n",
    "    def func_XGBRegressor(self):\n",
    "        #### Standard Encoder, Normal Encoder implement into pipeline\n",
    "\n",
    "        numerical_columns = [i for i in self.train_data.columns if i.startswith('cont')]\n",
    "        cols_to_be_standardized = []\n",
    "        cols_to_be_normalized = []\n",
    "\n",
    "        numeric_transformer = Pipeline(steps = [('normal', MinMaxScaler())\n",
    "                                               ]) #('normal', MinMaxScaler()), ('standard', StandardScaler())\n",
    "        preprocessor = ColumnTransformer(transformers=\n",
    "                                         [('num', MinMaxScaler(), numerical_columns)], \n",
    "                                         remainder='passthrough') #remainder passthrough to prevent dropping of columns , ('standard', StandardScaler(), numerical_columns)\n",
    "        \n",
    "        # from hotfix to now, processing test data from columntransformer right before cross validation loop\n",
    "        self.test_data = preprocessor.fit_transform(self.test_data)\n",
    "        ### \n",
    "        for f, (ind1, ind2) in enumerate(self.kf.split(self.train_data, y_train_targets)):\n",
    "            xtrain, xvalid = self.train_data.iloc[ind1], self.train_data.iloc[ind2]\n",
    "\n",
    "            ytrain, yvalid = self.y_train_targets[ind1], self.y_train_targets[ind2]   \n",
    "            \n",
    "            #Training\n",
    "            #features selected -> model = xgb.XGBRegressor(n_estimators = 4000, learning_rate=0.025, random_state = 0, subsample = 0.66, min_child_weight = 0.1291, max_depth = 4, \n",
    "                                    #gamma = 4.12, colsample_bytree = 0.70, colsample_bylevel = 1.0,\n",
    "                                    # tree_method='gpu_hist', gpu_id=0, predictor = \"gpu_predictor\",)\n",
    "                    \n",
    "            #{'subsample': 0.89, 'min_child_weight': 0.0771, 'max_depth': 3, 'learning_rate': 0.062, \n",
    "            #'gamma': 5.865, 'colsample_bytree': 0.8299999999999996, 'colsample_bylevel': 1.0}\n",
    "            \n",
    "            ######\n",
    "            # with pipeline, with encoding\n",
    "            #'xgbReg__subsample': 0.62, 'xgbReg__min_child_weight': 0.0251, 'xgbReg__max_depth': 8, 'xgbReg__learning_rate': 0.123, \n",
    "            #'xgbReg__gamma': 0.645, 'xgbReg__colsample_bytree': 0.19999999999999996, 'xgbReg__colsample_bylevel': 0.0\n",
    "            \n",
    "#             model = xgb.XGBRegressor(n_estimators = 2000, learning_rate=0.02, random_state = 0, subsample = 0.62, min_child_weight = 0.0251, max_depth = 8, \n",
    "#                                      gamma = 0.645, colsample_bytree = 0.199, colsample_bylevel = 0.0, \n",
    "#                                      tree_method='gpu_hist', gpu_id=0, predictor = \"gpu_predictor\", verbose = False)\n",
    "            \n",
    "            #####\n",
    "            # increased parameter search size, pipeline with encoding, full features\n",
    "#             {'xgbReg__subsample': 0.59, 'xgbReg__min_child_weight': 0.4231, 'xgbReg__max_depth': 8, 'xgbReg__learning_rate': 0.28150000000000003, \n",
    "#              'xgbReg__gamma': 1.25, 'xgbReg__colsample_bytree': 0.13999999999999999, 'xgbReg__colsample_bylevel': 0.0}\n",
    "#             model = xgb.XGBRegressor(n_estimators = 2000, learning_rate=0.02, random_state = 0, subsample = 0.59, min_child_weight = 0.4231, max_depth = 8, \n",
    "#                                      gamma = 1.25, colsample_bytree = 0.14, colsample_bylevel = 0.0, \n",
    "#                                      tree_method='gpu_hist', gpu_id=0, predictor = \"gpu_predictor\", verbose = 0)\n",
    "            \n",
    "        \n",
    "            ####\n",
    "            # further improvements, pipeline with encoding, full features\n",
    "#             {'xgbReg__subsample': 0.61, 'xgbReg__n_estimators': 200, 'xgbReg__min_child_weight': 0.0121, 'xgbReg__max_depth': 7, \n",
    "#              'xgbReg__learning_rate': 0.11950000000000001, 'xgbReg__gamma': 2.345, 'xgbReg__colsample_bytree': 0.20999999999999996, 'xgbReg__colsample_bylevel': 1.0}\n",
    "            \n",
    "            ####\n",
    "            # best results from hint and tweaking\n",
    "#             xgb_params = {'n_estimators': 10000,\n",
    "#               'learning_rate': 0.20,\n",
    "#               'subsample': 0.95,\n",
    "#               'colsample_bytree': 0.9,\n",
    "#               'max_depth': 2,  # tree depth\n",
    "#               'reg_lambda': 35.0,\n",
    "#               'reg_alpha': 35.0,\n",
    "#               'random_state': 0,\n",
    "#               'booster': 'gbtree',\n",
    "#               'predictor': 'gpu_predictor',\n",
    "#               'tree_method': 'gpu_hist'}\n",
    "              \n",
    "#                           # DO NOT USE GPU ID, KEEP VERBOSE FALSE \n",
    "            \n",
    "            ####\n",
    "            # Bayes Search CV results:\n",
    "#OrderedDict([('xgbReg__colsample_bylevel', 0.8004730382612166), ('xgbReg__colsample_bytree', 0.8),\n",
    "#('xgbReg__gamma', 1e-09), ('xgbReg__learning_rate', 0.0462845163395028), ('xgbReg__max_delta_step', 0), \n",
    "#('xgbReg__min_child_weight', 10.0), ('xgbReg__n_estimators', 6700), ('xgbReg__reg_alpha', 1.0095766678334039e-08),\n",
    "#('xgbReg__reg_lambda', 1000.0), ('xgbReg__scale_pos_weight', 1e-05), ('xgbReg__subsample', 1.0)])\n",
    "            \n",
    "    \n",
    "            #\n",
    "            xgb_params = {'n_estimators': 10000, #tweaking 6700 -> 10000\n",
    "                    'learning_rate': 0.046,\n",
    "                    'subsample': 0.86,\n",
    "                    'gamma':1e-09,\n",
    "                    #'max_delta_step':0,\n",
    "                    #'min_child_weight': 10.0,\n",
    "                    'colsample_bytree': 0.95,\n",
    "                    'max_depth': 2,  # tree depth\n",
    "                    'reg_lambda': 500.0, #tweaking 1000 -> 500\n",
    "                    #'reg_alpha': 1.009577e-08,\n",
    "                    #'scale_pos_weight': 1e-05,\n",
    "                    'random_state': 0,\n",
    "                    'booster': 'gbtree',\n",
    "                    'predictor': 'gpu_predictor',\n",
    "                    'tree_method': 'gpu_hist'\n",
    "              \n",
    "                          # DO NOT USE GPU ID, KEEP VERBOSE FALSE \n",
    "                          # If GPU ID and VERBOSE TRUE, KAGGLE GPU/CPU will hang after 1 fold of K-fold CV\n",
    "                              # need more testing to identify source of error\n",
    "              }\n",
    "            \n",
    "            model = xgb.XGBRegressor(**xgb_params)\n",
    "    \n",
    "#             model = xgb.XGBRegressor(n_estimators = 10000, learning_rate = 0.08, subsample = 0.926,\n",
    "#                                      max_depth = 2, colsample_bytree = 0.84, reg_lambda = 35, reg_alpha = 35,\n",
    "#                                     booster = 'gbtree', gpu_id=0, predictor = \"gpu_predictor\", tree_method= 'gpu_hist',\n",
    "#                                      random_state = 0, )\n",
    "            \n",
    "            xtrain = preprocessor.fit_transform(xtrain)\n",
    "            xvalid = preprocessor.fit_transform(xvalid)\n",
    "            \n",
    "            \n",
    "            pipe = Pipeline(steps= [('model', model)]) #('preprocessor', preprocessor)\n",
    "                    # ('preprocessor', preprocessor), processing xtrain and xvalid INSIDE of sklearn Pipeline will give \n",
    "                    # feature not found error ie. \"cont1, cont2, ... not found in training data\"\n",
    "                    # a lot of further research and testing needed to determine why this is the case\n",
    "            eval_set = [(xtrain, ytrain), (xvalid, yvalid)] # difficulties in getting early stopping rounds to work\n",
    "            \n",
    "            pipe.fit(xtrain, ytrain, model__verbose = False, model__early_stopping_rounds = 300, model__eval_set = eval_set) \n",
    "            \n",
    "            \n",
    "            val_predictions = pipe.predict(xvalid)\n",
    "            test_predictions = pipe.predict(self.test_data)\n",
    "            self.predictions[0] += test_predictions * 0.10 # weight of 10 percent for 10 folds, 20 percent for 5 folds etc\n",
    "\n",
    "            rmse = mean_squared_error(yvalid, val_predictions, squared = False)\n",
    "            self.scores.append(rmse)\n",
    "            print(f\"{f} fold, rmse {rmse}\")\n",
    "            \n",
    "            ## Feature Importance ##\n",
    "#             feature_columns = self.train_data.columns\n",
    "#             importances = model.feature_importances_\n",
    "#             xgb_importances = np.array(list(zip(feature_columns, model.feature_importances_)))\n",
    "            \n",
    "            \n",
    "        print(f\"{np.mean(self.scores)} for XGBREG\")\n",
    "        print(self.scores)\n",
    "        \n",
    "            \n",
    "            \n",
    "    def func_XGBoost(self): # Not using for now, too similar to xgbregressor\n",
    "        xgb_params= {\n",
    "            \"seed\": 2000,\n",
    "            'tree_method': \"gpu_hist\",\n",
    "            \"gpu_id\": 0,\n",
    "            'predictor': 'gpu_predictor'\n",
    "        }\n",
    "        for f, (ind1, ind2) in enumerate(self.kf.split(self.train_data, y_train_targets)):\n",
    "            xtrain, xvalid = self.train_data.iloc[ind1], self.train_data.iloc[ind2]\n",
    "\n",
    "            ytrain, yvalid = self.y_train_targets[ind1], self.y_train_targets[ind2]   \n",
    "            \n",
    "            #DMatrix\n",
    "            xtrain = xgb.DMatrix(xtrain, label=ytrain)\n",
    "            xvalid = xgb.DMatrix(xvalid, label=yvalid)\n",
    "            \n",
    "            model = xgb.train(xgb_params, xtrain, 1000)\n",
    "            \n",
    "            val_predictions = model.predict(xvalid)\n",
    "            test_predictions = model.predict(self.test_data)\n",
    "            self.predictions[1] += test_predictions * 0.10 # weight of 10 percent for 10 folds, 20 percent for 5 folds etc\n",
    "\n",
    "            rmse = mean_squared_error(yvalid, val_predictions, squared = False)\n",
    "            scores.append(rmse)\n",
    "            print(f\"{f} fold, rmse {rmse}\")\n",
    "        print(f\"{np.mean(self.scores)} for XGBOOST\")\n",
    "        \n",
    "\n",
    "    \n",
    "    def func_RandomForestRegressor(self):\n",
    "        numerical_columns = [i for i in self.train_data.columns if i.startswith('cont')]\n",
    "        cols_to_be_standardized = []\n",
    "        cols_to_be_normalized = []\n",
    "\n",
    "        numeric_transformer = Pipeline(steps = [('normal', MinMaxScaler())\n",
    "                                               ])\n",
    "        preprocessor = ColumnTransformer(transformers=\n",
    "                                         [('num', numeric_transformer, numerical_columns)\n",
    "                                         ])\n",
    "        \n",
    "        for f, (ind1, ind2) in enumerate(self.kf.split(self.train_data, y_train_targets)):\n",
    "            xtrain, xvalid = self.train_data.iloc[ind1], self.train_data.iloc[ind2]\n",
    "\n",
    "            ytrain, yvalid = self.y_train_targets[ind1], self.y_train_targets[ind2]   \n",
    "            \n",
    "\n",
    "            model = RandomForestRegressor(n_estimators = 100, random_state = 0)\n",
    "            \n",
    "            \n",
    "            pipe = Pipeline(steps= [('preprocessor', preprocessor), \n",
    "                                   ('model', model)])\n",
    "            \n",
    "            pipe.fit(xtrain, ytrain) #, early_stopping_rounds = 100, eval_set=[(xvalid, yvalid)], verbose = False\n",
    "            \n",
    "\n",
    "\n",
    "            val_predictions = pipe.predict(xvalid)\n",
    "            test_predictions = pipe.predict(self.test_data)\n",
    "            self.predictions[2] += test_predictions * 0.10 # weight of 10 percent for 10 folds, 20 percent for 5 folds etc\n",
    "\n",
    "            rmse = mean_squared_error(yvalid, val_predictions, squared = False)\n",
    "            scores.append(rmse)\n",
    "            print(f\"{f} fold, rmse {rmse}\")\n",
    "        print(f\"{np.mean(self.scores)} for RANDOM FOREST\")\n",
    "    \n",
    "    def func_LightLGBM(self): ## I haven't been installed the gpu version, tested cpu version on kaggle's kernel\n",
    "        numerical_columns = [i for i in self.train_data.columns if i.startswith('cont')]\n",
    "        cols_to_be_standardized = []\n",
    "        cols_to_be_normalized = []\n",
    "\n",
    "        numeric_transformer = Pipeline(steps = [('normal', MinMaxScaler())\n",
    "                                               ])\n",
    "        preprocessor = ColumnTransformer(transformers=\n",
    "                                         [('num', numeric_transformer, numerical_columns)\n",
    "                                         ])\n",
    "        \n",
    "        for f, (ind1, ind2) in enumerate(self.kf.split(self.train_data, y_train_targets)):\n",
    "            xtrain, xvalid = self.train_data.iloc[ind1], self.train_data.iloc[ind2]\n",
    "\n",
    "            ytrain, yvalid = self.y_train_targets[ind1], self.y_train_targets[ind2]   \n",
    "\n",
    "            model = LGBMRegressor(boosting_type='gbdt', objective='regression', num_leaves=20, n_estimators=2000,\n",
    "                                learning_rate=0.01, random_state = 0, reg_alpha = 0, reg_lambda = 5, min_child_samples = 500, min_child_weight = 0)\n",
    "            \n",
    "            pipe = Pipeline(steps= [('preprocessor', preprocessor), \n",
    "                                   ('model', model)])\n",
    "            \n",
    "            #'colsample_bytree': 1.0, 'min_child_samples': 500, 'min_child_weight': 0, 'num_leaves': 20, 'reg_alpha': 0, 'reg_lambda': 5\n",
    "            pipe.fit(xtrain, ytrain) #, early_stopping_rounds = 100, eval_set=[(xvalid, yvalid)] verbose = False\n",
    "        \n",
    "            val_predictions = pipe.predict(xvalid)\n",
    "            test_predictions = pipe.predict(self.test_data)\n",
    "            self.predictions[3] += test_predictions * 0.10 # weight of 10 percent for 10 folds, 20 percent for 5 folds etc\n",
    "\n",
    "            rmse = mean_squared_error(yvalid, val_predictions, squared = False)\n",
    "            self.scores.append(rmse)\n",
    "            print(f\"{f} fold, rmse {rmse}\")\n",
    "        print(f\"{np.mean(self.scores)} for lightGBM\")\n",
    "    \n",
    "        "
   ]
  },
  {
   "cell_type": "code",
   "execution_count": 37,
   "id": "073006ac",
   "metadata": {},
   "outputs": [],
   "source": [
    "trainingModel = TrainingModel(train_data, test_data, y_train_targets, kf)"
   ]
  },
  {
   "cell_type": "code",
   "execution_count": 31,
   "id": "bad7ee71",
   "metadata": {},
   "outputs": [],
   "source": [
    "predictionsxgb = trainingModel.predictions[0]\n",
    "del predictionsxgb\n",
    "# # 0 fold, rmse 0.7215619379266415\n",
    "# 1 fold, rmse 0.7181501117378247\n",
    "# 2 fold, rmse 0.7178181135971268\n",
    "# 3 fold, rmse 0.7170458703740983\n",
    "# 4 fold, rmse 0.7244884959804678\n",
    "# 5 fold, rmse 0.7186313458908887\n",
    "# 6 fold, rmse 0.7181707811219725\n",
    "# 7 fold, rmse 0.7130812067940134\n",
    "# 8 fold, rmse 0.718407486944039\n",
    "# 9 fold, rmse 0.7137123466316139\n",
    "# 0.7181067696998686 for XGBREG, pub score: 0.71950\n",
    "# [0.7215619379266415, 0.7181501117378247, 0.7178181135971268, 0.7170458703740983, 0.7244884959804678, 0.7186313458908887, 0.7181707811219725, 0.7130812067940134, 0.718407486944039, 0.7137123466316139]"
   ]
  },
  {
   "cell_type": "code",
   "execution_count": 27,
   "id": "d0d169d7",
   "metadata": {
    "scrolled": true
   },
   "outputs": [
    {
     "name": "stdout",
     "output_type": "stream",
     "text": [
      "0 fold, rmse 0.7249567006691205\n",
      "1 fold, rmse 0.7217844333047653\n",
      "2 fold, rmse 0.7217667205640054\n",
      "3 fold, rmse 0.7202017391499916\n",
      "4 fold, rmse 0.7293603110487962\n",
      "5 fold, rmse 0.7225766705171549\n",
      "6 fold, rmse 0.7217257628749468\n",
      "7 fold, rmse 0.7167725765456548\n",
      "8 fold, rmse 0.7222963990236051\n",
      "9 fold, rmse 0.7170812245321838\n",
      "0.7218522538230225 for XGBREG\n",
      "[0.7249567006691205, 0.7217844333047653, 0.7217667205640054, 0.7202017391499916, 0.7293603110487962, 0.7225766705171549, 0.7217257628749468, 0.7167725765456548, 0.7222963990236051, 0.7170812245321838]\n"
     ]
    }
   ],
   "source": [
    "trainingModel.func_XGBRegressor()"
   ]
  },
  {
   "cell_type": "code",
   "execution_count": 35,
   "id": "e93a5f5e",
   "metadata": {},
   "outputs": [
    {
     "data": {
      "text/plain": [
       "526"
      ]
     },
     "execution_count": 35,
     "metadata": {},
     "output_type": "execute_result"
    }
   ],
   "source": [
    "del trainingModel # after each run, reset .predictions attribute\n",
    "gc.collect()"
   ]
  },
  {
   "cell_type": "code",
   "execution_count": null,
   "id": "ca2877ab",
   "metadata": {},
   "outputs": [],
   "source": [
    "#scores for lGBM:\n",
    "# [0.7239785443685772,\n",
    "#  0.7211316611351712,\n",
    "#  0.7210590128061145,\n",
    "#  0.7190959782371429,\n",
    "#  0.727849450352175,\n",
    "#  0.7216606475861765,\n",
    "#  0.7213199035461478,\n",
    "#  0.716166972574907,\n",
    "#  0.7217771699607092,\n",
    "#  0.7165343316220749]"
   ]
  },
  {
   "cell_type": "code",
   "execution_count": null,
   "id": "8dcdf5a1",
   "metadata": {},
   "outputs": [],
   "source": [
    "#improved LGBM\n",
    "# [0.7232633341279138,\n",
    "#  0.7200965413890801,\n",
    "#  0.7194123107685662,\n",
    "#  0.718181236581291,\n",
    "#  0.7262355228884381,\n",
    "#  0.7204270144329599,\n",
    "#  0.7203359572949198,\n",
    "#  0.7154380476502297,\n",
    "#  0.720227819046346,\n",
    "#  0.7153018401686548]"
   ]
  },
  {
   "cell_type": "code",
   "execution_count": 66,
   "id": "b6971484",
   "metadata": {},
   "outputs": [],
   "source": [
    "k = test_data.drop(columns = ['id'])"
   ]
  },
  {
   "cell_type": "code",
   "execution_count": 67,
   "id": "97b39ac1",
   "metadata": {},
   "outputs": [
    {
     "data": {
      "text/plain": [
       "Index(['cat0', 'cat1', 'cat2', 'cat3', 'cat4', 'cat5', 'cat6', 'cat7', 'cat8',\n",
       "       'cat9', 'cont0', 'cont1', 'cont2', 'cont3', 'cont4', 'cont5', 'cont6',\n",
       "       'cont7', 'cont8', 'cont9', 'cont10', 'cont11', 'cont12', 'cont13'],\n",
       "      dtype='object')"
      ]
     },
     "execution_count": 67,
     "metadata": {},
     "output_type": "execute_result"
    }
   ],
   "source": [
    "k.columns"
   ]
  },
  {
   "cell_type": "code",
   "execution_count": 137,
   "id": "389eae36",
   "metadata": {},
   "outputs": [],
   "source": [
    "class HyperParameterTuning(TrainingModel): #implement Bayesian search next\n",
    "    def __init__(self, train_data, test_data, y_train_targets, modelChoices = []):\n",
    "        self.train_data = train_data.drop(columns = ['id', 'target']) # running df.drop() doesn't modify in place\n",
    "        self.test_data = test_data.drop(columns = ['id'])\n",
    "        self.y_train_targets = y_train_targets\n",
    "        \n",
    "        self.modelChoices = modelChoices #modelChoices as list object\n",
    "        \n",
    "        self.modelChoiceList = ['XGBReg', 'XGBoost', 'RandomForest', 'LightGBM']\n",
    "        self.scores = []\n",
    "        \n",
    "        self.tuneParams = {}\n",
    "    \n",
    "\n",
    "    \n",
    "    # want lightGBM to run on GPU\n",
    "    def main(self):\n",
    "        if 'XGBReg' in self.modelChoices:\n",
    "            xgbReg = xgb.XGBRegressor(max_depth = 2, tree_method='gpu_hist', gpu_id=0, predictor = \"gpu_predictor\", random_state = 0)\n",
    "        #### NOTE if choice is XGBOOST, THE MODEL WILL START TRAINING\n",
    "        #commenting it out for now\n",
    "#         if self.modelChoice = 'XGBoost': \n",
    "#             xgbBoost = xgb.train(xgb_params, xtrain, 1000)\n",
    "        if 'RandomForest' in self.modelChoices:\n",
    "            randomForest = RandomForestRegressor(n_estimators = 100, random_state = 0)\n",
    "            \n",
    "        # #'boosting_type': ['gbdt', 'dart', 'goss', 'rf'] \n",
    "        # for LightGBM 'dart' boosting method needs more hands-on parameter tuning\n",
    "        if 'LightGBM' in self.modelChoices:\n",
    "            lightGBM = LGBMRegressor(boosting_type='gbdt', objective='regression', numIterations = 50,\n",
    "                                learning_rate= 0.1, random_state = 0)\n",
    "        \n",
    "        \n",
    "        xgbReg_Params = {\n",
    "            \n",
    "#             'max_depth': [1, 3, 10, 20], \n",
    "#             'min_child_weight': [0, 1e-4, 1e-3, 1e-2, 3, 5, 10],\n",
    "#             'gamma': [0, 0.5, 2, 5, 7],\n",
    "#             'subsample': [0.1, 0.6, 0.8, 1.0],\n",
    "#             'colsample_bytree': [0.6, 0.8, 1.0],\n",
    "#             'max_depth': [4, 5, 6, 7],\n",
    "#             'seed': 1\n",
    "#             'n_estimators': 10000,\n",
    "#               'learning_rate': 0.05,\n",
    "#               'subsample': 0.95,\n",
    "#               'colsample_bytree': 0.95,\n",
    "#               'max_depth': 2,  # tree depth\n",
    "#               'reg_lambda': 40.0,\n",
    "#               'reg_alpha': 30.0,\n",
    "#               'random_state': 0,\n",
    "#               'booster': 'gbtree',\n",
    "#               'predictor': 'gpu_predictor',\n",
    "#               'tree_method': 'gpu_hist'\n",
    "            \n",
    "            \n",
    "\n",
    "            'xgbReg__n_estimators': [int(x) for x in np.linspace(start = 5000, stop = 10000, num = 1000)],\n",
    "            'xgbReg__max_depth': [2, 3, 4], #4 # maybe this line source of errror? defined max_depth in model, and adding here too\n",
    "            'xgbReg__min_child_weight': np.arange(0.0001, 0.5, 0.001), #0.1291\n",
    "            'xgbReg__gamma': np.arange(0.0,20.0,0.005), #4.12, reduce max 40-> 20\n",
    "            'xgbReg__learning_rate': np.arange(0.01,0.1,0.001),\n",
    "            'xgbReg__subsample': np.arange(0.90,1.0,0.01), #0.66\n",
    "            'xgbReg__reg_lambda': np.arange(30.0, 45.0, 1.0),\n",
    "            'xgbReg__reg_alpha': np.arange(30.0, 45.0, 1.0),\n",
    "            'xgbReg__colsample_bytree': np.round(np.arange(0.8,1.0,0.01)) #0.69999\n",
    "            #'xgbReg__colsample_bytree': np.arange(0.1,1.0,0.01), #consistently = 1.0\n",
    "            \n",
    "            \n",
    "            \n",
    "            \n",
    "\n",
    "        }\n",
    "        \n",
    "        randomForest__n_estimators = [int(x) for x in np.linspace(start = 200, stop = 2000, num = 10)]\n",
    "        # Number of features to consider at every split\n",
    "        randomForest__max_features = ['auto', 'sqrt']\n",
    "        # Maximum number of levels in tree\n",
    "        randomForest__max_depth = [int(x) for x in np.linspace(10, 110, num = 11)]\n",
    "        randomForest__max_depth.append(None)\n",
    "        \n",
    "        randomForest_Params = {\n",
    "#             n_estimators = [int(x) for x in np.linspace(start = 200, stop = 2000, num = 10)]\n",
    "#             # Number of features to consider at every split\n",
    "#             max_features = ['auto', 'sqrt']\n",
    "#             # Maximum number of levels in tree\n",
    "#             max_depth = [int(x) for x in np.linspace(10, 110, num = 11)]\n",
    "#             max_depth.append(None)\n",
    "            \n",
    "            'randomForest__n_estimators': randomForest__n_estimators,\n",
    "            'randomForest__max_features': ['auto', 'sqrt'],\n",
    "            'randomForest__max_depth': randomForest__max_depth,\n",
    "            'randomForest__bootstrap': [True, False],\n",
    "            'randomForest__max_samples': [0.1, 0.2, 0.3, 0.4],\n",
    "            'randomForest__min_samples_leaf': [1, 2, 4],\n",
    "            'randomForest__min_samples_split': [2, 5, 10]\n",
    "\n",
    "            #'n_estimators': [50, 100, 200],\n",
    "            #'max_depth': [10, 20, 30, 40, 50, 70, 80, 90, 100, 200, None],\n",
    "\n",
    "            \n",
    "        }\n",
    "        \n",
    "        lightGBM_Params = {\n",
    "            #'boosting_type': ['gbdt', 'dart', 'goss', 'rf']\n",
    "            #'learning_rate': [0.01, 0.1],\n",
    "            #'num_iterations': num_iterations for lightGBM.predict..\n",
    "            'num_leaves': [10, 15, 20, 25, 30], #20 - try again\n",
    "            'min_child_samples': [500], #500 -no need to try again\n",
    "            'min_child_weight': [0, 1e-2, 1e-3, 1e-4], #0 -try again (maybe)\n",
    "            'colsample_bytree': [0.9, 1.0, 1.1, 1.2], #1.0 -try again\n",
    "            'reg_alpha': [0], #0 no need to try again\n",
    "            'reg_lambda': [4, 5, 6, 7], #5 try again\n",
    "            \n",
    "            \n",
    "            #n_estimators=3000,\n",
    "            #learning_rate=0.01\n",
    "            \n",
    "            #opt_parameters = {'colsample_bytree': 0.9234, 'min_child_samples': 399, \n",
    "            #'min_child_weight': 0.1, 'num_leaves': 13, 'reg_alpha': 2, 'reg_lambda': 5, 'subsample': 0.855}\n",
    "            \n",
    "        }\n",
    "        \n",
    "        #### Standard Encoder, Normal Encoder implement into pipeline\n",
    "        numerical_columns = [i for i in self.train_data.columns if i.startswith('cont')]\n",
    "        cols_to_be_standardized = []\n",
    "        cols_to_be_normalized = []\n",
    "        \n",
    "        numeric_transformer = Pipeline(steps = [('normal', MinMaxScaler())\n",
    "                                               ])\n",
    "        preprocessor = ColumnTransformer(transformers=\n",
    "                                         [('num', numeric_transformer, numerical_columns)\n",
    "                                         ])\n",
    "        \n",
    "#         pipe = Pipeline(steps= [('preprocessor', preprocessor), \n",
    "#                                ('model', xgbReg)])\n",
    "\n",
    "\n",
    "        xtrain, xtest, ytrain, ytest = train_test_split(train_data, y_train_targets, test_size = 0.2, random_state = 0)\n",
    "        \n",
    "\n",
    "        if 'XGBReg' in self.modelChoices:\n",
    "#             gsearch = model_selection.GridSearchCV(estimator = xgbReg, param_grid = xgbReg_Params, cv = 10, verbose = 2)\n",
    "#             gsearch.fit(train_data, y_train_targets)\n",
    "#             self.tuneParams['XGBReg'] = (gsearch.best_params_)\n",
    "            \n",
    "            #kf = model_selection.KFold(n_splits= 3, shuffle=True, random_state=0)\n",
    "            # Reporting util for different optimizers\n",
    "            def report_perf(optimizer, X, y, title=\"model\", callbacks=None): # someone else's code for bayessearch optimizer,\n",
    "                # haven't implemented this into code yet\n",
    "                \"\"\"\n",
    "                A wrapper for measuring time and performances of different optmizers\n",
    "\n",
    "                optimizer = a sklearn or a skopt optimizer\n",
    "                X = the training set \n",
    "                y = our target\n",
    "                title = a string label for the experiment\n",
    "                \"\"\"\n",
    "                start = time()\n",
    "\n",
    "                if callbacks is not None:\n",
    "                    optimizer.fit(X, y, callback=callbacks)\n",
    "                else:\n",
    "                    optimizer.fit(X, y)\n",
    "\n",
    "                d=pd.DataFrame(optimizer.cv_results_)\n",
    "                best_score = optimizer.best_score_\n",
    "                best_score_std = d.iloc[optimizer.best_index_].std_test_score\n",
    "                best_params = optimizer.best_params_\n",
    "\n",
    "                print((title + \" took %.2f seconds,  candidates checked: %d, best CV score: %.3f \"\n",
    "                       + u\"\\u00B1\"+\" %.3f\") % (time() - start, \n",
    "                                               len(optimizer.cv_results_['params']),\n",
    "                                               best_score,\n",
    "                                               best_score_std))    \n",
    "                print('Best parameters:')\n",
    "                pprint.pprint(best_params)\n",
    "                print()\n",
    "                return best_params\n",
    "            \n",
    "#             'xgbReg__max_depth': Integer(2, 5), \n",
    "#             'xgbReg__max_leaves': Integer(0, 10, 'uniform'),\n",
    "#             'xgbReg__scale_pos_weight': (1e-6, 500, 'log-uniform') #value error if not uniform/log-uniform\n",
    "            pipe = Pipeline(steps= [('preprocessor', preprocessor), \n",
    "                               ('xgbReg', xgbReg)])\n",
    "\n",
    "            bsearch = BayesSearchCV(pipe, \n",
    "                                    search_spaces = {\n",
    "                                            'xgbReg__learning_rate': Real(0.01, 1.0, 'uniform'),\n",
    "                                            'xgbReg__min_child_weight': Real(0, 10, 'uniform'), \n",
    "                                            'xgbReg__max_delta_step': Integer(0, 20), #int\n",
    "                                            'xgbReg__subsample': Real(0.8, 1.0, 'uniform'),\n",
    "                                            'xgbReg__colsample_bytree': Real(0.8, 1.0, 'uniform'),\n",
    "                                            'xgbReg__colsample_bylevel': Real(0.8, 1.0, 'uniform'),\n",
    "                                            'xgbReg__reg_lambda': Real(1e-9, 1000, 'log-uniform'),\n",
    "                                            'xgbReg__reg_alpha': Real(1e-9, 50, 'log-uniform'),\n",
    "                                            'xgbReg__gamma': Real(1e-9, 0.5, 'log-uniform'),\n",
    "                                            'xgbReg__n_estimators': Integer(5000, 10000),\n",
    "                                            'xgbReg__scale_pos_weight': Real(1e-5, 500, 'log-uniform')\n",
    "#                                             \n",
    "                                                }, n_iter = 500, \n",
    "                                                         cv = 3, verbose = 0, random_state = 0) #scoring = 'neg_root_mean_squared_error'\n",
    "            bsearch.fit(self.train_data, self.y_train_targets) # fit_params = fit_params\n",
    "            \n",
    "            self.tuneParams['XGBReg'] = (bsearch.best_params_)\n",
    "            print(self.tuneParams['XGBReg'])\n",
    "            print(bsearch.best_score_)\n",
    "        ##Note: RandomForest and lightGBM are slower, and take up more time, want to find more theory on this, \n",
    "        # and use randomGridCV\n",
    "        if 'RandomForest' in self.modelChoices:\n",
    "            pipe = Pipeline(steps= [('preprocessor', preprocessor), \n",
    "                               ('randomForest', randomForest)])\n",
    "            \n",
    "#             gsearch = model_selection.GridSearchCV(pipe, param_grid = randomForest_Params, cv = 10, verbose = 2, random_state = 0)\n",
    "#             gsearch.fit(train_data, y_train_targets)\n",
    "#             self.tuneParams['RandomForest'] = (gsearch.best_params_)\n",
    "    \n",
    "            rsearch = model_selection.RandomizedSearchCV(pipe, randomForest_Params, n_iter = 500, cv = 10, \n",
    "                                                         verbose = 1, random_state = 0)\n",
    "            rsearch.fit(xtrain, ytrain)\n",
    "            \n",
    "            self.tuneParams['RandomForest'] = (rsearch.best_params_)\n",
    "            print(self.tuneParams['RandomForest'])\n",
    "        \n",
    "        if 'lightGBM' in self.modelChoices:\n",
    "            pipe = Pipeline(steps= [('preprocessor', preprocessor), \n",
    "                               ('lightGBM', lightGBM)])\n",
    "            \n",
    "#             gsearch = model_selection.GridSearchCV(pipe, param_grid = lightGBM_Params, cv = 10, verbose = 2, random_state = 0)\n",
    "#             gsearch.fit(xtrain, ytrain)\n",
    "#             self.tuneParams['lightGBM'] = (gsearch.best_params_)\n",
    "\n",
    "            rsearch = model_selection.RandomizedSearchCV(pipe, param_grid = lightGBM_Params, cv = 10, \n",
    "                                                         verbose = 1, random_state = 0)\n",
    "            rsearch.fit(xtrain, ytrain)\n",
    "            \n",
    "            self.tuneParams['lightGBM'] = (rsearch.best_params_)\n",
    "            print(self.tuneParams['lightGBM'])\n",
    "        \n",
    "        \n",
    "    "
   ]
  },
  {
   "cell_type": "code",
   "execution_count": null,
   "id": "8aa71496",
   "metadata": {},
   "outputs": [],
   "source": [
    "hyperParameterTuning = HyperParameterTuning(train_data, test_data, y_train_targets, modelChoices = ['XGBReg'])\n",
    "hyperParameterTuning.main()"
   ]
  },
  {
   "cell_type": "code",
   "execution_count": null,
   "id": "d1372d6b",
   "metadata": {},
   "outputs": [],
   "source": [
    "del hyperParameterTuning\n",
    "gc.collect()"
   ]
  },
  {
   "cell_type": "code",
   "execution_count": null,
   "id": "68e01128",
   "metadata": {},
   "outputs": [],
   "source": []
  },
  {
   "cell_type": "code",
   "execution_count": null,
   "id": "83f92675",
   "metadata": {},
   "outputs": [],
   "source": [
    "##Run below two cells!"
   ]
  },
  {
   "cell_type": "code",
   "execution_count": null,
   "id": "8222b8c5",
   "metadata": {},
   "outputs": [],
   "source": [
    "submission_data = pd.read_csv('../input/30daysml/sample_submission.csv')"
   ]
  },
  {
   "cell_type": "code",
   "execution_count": 40,
   "id": "cd2c306b",
   "metadata": {},
   "outputs": [],
   "source": [
    "predictions = trainingModel.predictions[0]\n",
    "#predictions = trainingModel.predictions[1]\n",
    "#predictions = trainingModel.predictions[2]\n",
    "#predictionslightgbm = trainingModel.predictions[3]\n"
   ]
  },
  {
   "cell_type": "code",
   "execution_count": null,
   "id": "9107ff5d",
   "metadata": {},
   "outputs": [],
   "source": [
    "predictions"
   ]
  },
  {
   "cell_type": "code",
   "execution_count": 42,
   "id": "f9809269",
   "metadata": {},
   "outputs": [],
   "source": [
    "submission.target = 0.7*predictionsxgb + 0.3*predictionslightgbm"
   ]
  },
  {
   "cell_type": "code",
   "execution_count": 45,
   "id": "8e5d3cdf",
   "metadata": {},
   "outputs": [],
   "source": [
    "submission.to_csv('submission_from_pipelineENSEMBLE.csv', index = False)"
   ]
  },
  {
   "cell_type": "markdown",
   "id": "8390c5aa",
   "metadata": {},
   "source": [
    "Scoring\n",
    "\n",
    "\n",
    "\n",
    "‘neg_mean_squared_error’\n",
    "\n",
    "metrics.mean_squared_error\n",
    "\n",
    "---------------------------------------------------------------\n",
    "\n",
    "‘neg_root_mean_squared_error’\n",
    "\n",
    "metrics.mean_squared_error\n",
    "\n"
   ]
  },
  {
   "cell_type": "code",
   "execution_count": 44,
   "id": "01596d74",
   "metadata": {},
   "outputs": [],
   "source": [
    "class PostProcessing(TrainingModel):\n",
    "    \n",
    "    ### Want to add something that processes\n",
    "    def __init__ (self, submission_data, predictions):\n",
    "        self.submission_data = submission_data\n",
    "        #self.predictions = TrainingModel.predictions\n",
    "        self.predictions = predictions\n",
    "        \n",
    "    def obtain_targets(self):\n",
    "        #self.submission_data.target = TrainingModel.predictions\n",
    "        self.submission_data.target = self.predictions\n",
    "        \n",
    "    def output(self):\n",
    "        self.submission_data.to_csv('submission_from_pipeline.csv', index = False)"
   ]
  },
  {
   "cell_type": "code",
   "execution_count": null,
   "id": "4d684a91",
   "metadata": {},
   "outputs": [],
   "source": [
    "#Initialization\n",
    "postprocessing = PostProcessing(submission_data, predictions)\n",
    "postprocessing.obtain_targets()\n",
    "postprocessing.output()"
   ]
  },
  {
   "cell_type": "code",
   "execution_count": null,
   "id": "903329dc",
   "metadata": {},
   "outputs": [],
   "source": [
    "del postprocessing\n",
    "gc.collect()"
   ]
  },
  {
   "cell_type": "markdown",
   "id": "3b93b603",
   "metadata": {},
   "source": [
    "## Post-processing"
   ]
  },
  {
   "cell_type": "code",
   "execution_count": 39,
   "id": "5faf9cfe",
   "metadata": {},
   "outputs": [],
   "source": [
    "submission = pd.read_csv('C:\\\\Users\\\\Andrew\\\\Machine Learning Python\\\\sample_submission.csv')"
   ]
  },
  {
   "cell_type": "code",
   "execution_count": 15,
   "id": "0fd02006",
   "metadata": {},
   "outputs": [],
   "source": [
    "submission.target = postprocessing.predictions"
   ]
  },
  {
   "cell_type": "code",
   "execution_count": 18,
   "id": "494f0093",
   "metadata": {},
   "outputs": [],
   "source": [
    "submission.to_csv('C:\\\\Users\\\\Andrew\\\\Machine Learning Python\\\\submission_pipeline1.csv', index = False)"
   ]
  },
  {
   "cell_type": "code",
   "execution_count": null,
   "id": "18961b0d",
   "metadata": {},
   "outputs": [],
   "source": []
  },
  {
   "cell_type": "code",
   "execution_count": 95,
   "id": "a51ccb14",
   "metadata": {},
   "outputs": [
    {
     "name": "stdout",
     "output_type": "stream",
     "text": [
      "[7.9403915 8.244385  8.295588  ... 8.324026  8.021432  8.130247 ]\n",
      "[79.818535 82.38503  83.0148   ... 82.979866 80.546646 81.150635]\n"
     ]
    }
   ],
   "source": [
    "print(test_predictions)\n",
    "print(predictions)"
   ]
  },
  {
   "cell_type": "code",
   "execution_count": 16,
   "id": "18960669",
   "metadata": {
    "scrolled": true
   },
   "outputs": [
    {
     "data": {
      "text/plain": [
       "(200000,)"
      ]
     },
     "execution_count": 16,
     "metadata": {},
     "output_type": "execute_result"
    }
   ],
   "source": [
    "predictions.shape"
   ]
  },
  {
   "cell_type": "code",
   "execution_count": 17,
   "id": "1ae8d946",
   "metadata": {},
   "outputs": [
    {
     "data": {
      "text/plain": [
       "(200000, 2)"
      ]
     },
     "execution_count": 17,
     "metadata": {},
     "output_type": "execute_result"
    }
   ],
   "source": [
    "submission.shape"
   ]
  },
  {
   "cell_type": "code",
   "execution_count": null,
   "id": "299925a5",
   "metadata": {},
   "outputs": [],
   "source": []
  },
  {
   "cell_type": "markdown",
   "id": "d81d02bc",
   "metadata": {},
   "source": [
    "## Outliers"
   ]
  },
  {
   "cell_type": "code",
   "execution_count": null,
   "id": "22c4e05a",
   "metadata": {},
   "outputs": [],
   "source": [
    "#Run this block if you want to remove outliers\n",
    "y_train_targets = train_data.target\n",
    "outliers = train_data[targets <= 1].index # from the above target graph, see whichever point you want to remove\n",
    "print(len(outliers), outliers) \n",
    "print(f'{len(outliers)} outliers removed from training data train_data before kfold:')\n",
    "train_data.drop(outliers, inplace=True)\n",
    "train_data.reset_index(drop = True, inplace = True) #reset_index forms back the indices"
   ]
  },
  {
   "cell_type": "markdown",
   "id": "c12327a6",
   "metadata": {},
   "source": [
    "## Plot"
   ]
  },
  {
   "cell_type": "code",
   "execution_count": 5,
   "id": "108e12d2",
   "metadata": {
    "scrolled": true
   },
   "outputs": [
    {
     "name": "stdout",
     "output_type": "stream",
     "text": [
      "cat0\n"
     ]
    },
    {
     "data": {
      "image/png": "[encoded data removed]",
      "text/plain": [
       "<Figure size 432x288 with 1 Axes>"
      ]
     },
     "metadata": {
      "needs_background": "light"
     },
     "output_type": "display_data"
    },
    {
     "name": "stdout",
     "output_type": "stream",
     "text": [
      "cat1\n"
     ]
    },
    {
     "data": {
      "image/png": "[encoded data removed]",
      "text/plain": [
       "<Figure size 432x288 with 1 Axes>"
      ]
     },
     "metadata": {
      "needs_background": "light"
     },
     "output_type": "display_data"
    },
    {
     "name": "stdout",
     "output_type": "stream",
     "text": [
      "cat2\n"
     ]
    },
    {
     "data": {
      "image/png": "[encoded data removed]",
      "text/plain": [
       "<Figure size 432x288 with 1 Axes>"
      ]
     },
     "metadata": {
      "needs_background": "light"
     },
     "output_type": "display_data"
    },
    {
     "name": "stdout",
     "output_type": "stream",
     "text": [
      "cat3\n"
     ]
    },
    {
     "data": {
      "image/png": "[encoded data removed]",
      "text/plain": [
       "<Figure size 432x288 with 1 Axes>"
      ]
     },
     "metadata": {
      "needs_background": "light"
     },
     "output_type": "display_data"
    },
    {
     "name": "stdout",
     "output_type": "stream",
     "text": [
      "cat4\n"
     ]
    },
    {
     "data": {
      "image/png": "[encoded data removed]",
      "text/plain": [
       "<Figure size 432x288 with 1 Axes>"
      ]
     },
     "metadata": {
      "needs_background": "light"
     },
     "output_type": "display_data"
    },
    {
     "name": "stdout",
     "output_type": "stream",
     "text": [
      "cat5\n"
     ]
    },
    {
     "data": {
      "image/png": "[encoded data removed]",
      "text/plain": [
       "<Figure size 432x288 with 1 Axes>"
      ]
     },
     "metadata": {
      "needs_background": "light"
     },
     "output_type": "display_data"
    },
    {
     "name": "stdout",
     "output_type": "stream",
     "text": [
      "cat6\n"
     ]
    },
    {
     "data": {
      "image/png": "[encoded data removed]",
      "text/plain": [
       "<Figure size 432x288 with 1 Axes>"
      ]
     },
     "metadata": {
      "needs_background": "light"
     },
     "output_type": "display_data"
    },
    {
     "name": "stdout",
     "output_type": "stream",
     "text": [
      "cat7\n"
     ]
    },
    {
     "data": {
      "image/png": "[encoded data removed]",
      "text/plain": [
       "<Figure size 432x288 with 1 Axes>"
      ]
     },
     "metadata": {
      "needs_background": "light"
     },
     "output_type": "display_data"
    },
    {
     "name": "stdout",
     "output_type": "stream",
     "text": [
      "cat8\n"
     ]
    },
    {
     "data": {
      "image/png": "[encoded data removed]",
      "text/plain": [
       "<Figure size 432x288 with 1 Axes>"
      ]
     },
     "metadata": {
      "needs_background": "light"
     },
     "output_type": "display_data"
    },
    {
     "name": "stdout",
     "output_type": "stream",
     "text": [
      "cat9\n"
     ]
    },
    {
     "data": {
      "image/png": "[encoded data removed]",
      "text/plain": [
       "<Figure size 432x288 with 1 Axes>"
      ]
     },
     "metadata": {
      "needs_background": "light"
     },
     "output_type": "display_data"
    },
    {
     "name": "stdout",
     "output_type": "stream",
     "text": [
      "cont0\n"
     ]
    },
    {
     "data": {
      "image/png": "[encoded data removed]",
      "text/plain": [
       "<Figure size 360x360 with 1 Axes>"
      ]
     },
     "metadata": {
      "needs_background": "light"
     },
     "output_type": "display_data"
    },
    {
     "name": "stdout",
     "output_type": "stream",
     "text": [
      "cont1\n"
     ]
    },
    {
     "data": {
      "image/png": "[encoded data removed]",
      "text/plain": [
       "<Figure size 360x360 with 1 Axes>"
      ]
     },
     "metadata": {
      "needs_background": "light"
     },
     "output_type": "display_data"
    },
    {
     "name": "stdout",
     "output_type": "stream",
     "text": [
      "cont2\n"
     ]
    },
    {
     "data": {
      "image/png": "[encoded data removed]",
      "text/plain": [
       "<Figure size 360x360 with 1 Axes>"
      ]
     },
     "metadata": {
      "needs_background": "light"
     },
     "output_type": "display_data"
    },
    {
     "name": "stdout",
     "output_type": "stream",
     "text": [
      "cont3\n"
     ]
    },
    {
     "data": {
      "image/png": "[encoded data removed]",
      "text/plain": [
       "<Figure size 360x360 with 1 Axes>"
      ]
     },
     "metadata": {
      "needs_background": "light"
     },
     "output_type": "display_data"
    },
    {
     "name": "stdout",
     "output_type": "stream",
     "text": [
      "cont4\n"
     ]
    },
    {
     "data": {
      "image/png": "[encoded data removed]",
      "text/plain": [
       "<Figure size 360x360 with 1 Axes>"
      ]
     },
     "metadata": {
      "needs_background": "light"
     },
     "output_type": "display_data"
    },
    {
     "name": "stdout",
     "output_type": "stream",
     "text": [
      "cont5\n"
     ]
    },
    {
     "data": {
      "image/png": "[encoded data removed]",
      "text/plain": [
       "<Figure size 360x360 with 1 Axes>"
      ]
     },
     "metadata": {
      "needs_background": "light"
     },
     "output_type": "display_data"
    },
    {
     "name": "stdout",
     "output_type": "stream",
     "text": [
      "cont6\n"
     ]
    },
    {
     "data": {
      "image/png": "[encoded data removed]",
      "text/plain": [
       "<Figure size 360x360 with 1 Axes>"
      ]
     },
     "metadata": {
      "needs_background": "light"
     },
     "output_type": "display_data"
    },
    {
     "name": "stdout",
     "output_type": "stream",
     "text": [
      "cont7\n"
     ]
    },
    {
     "data": {
      "image/png": "[encoded data removed]",
      "text/plain": [
       "<Figure size 360x360 with 1 Axes>"
      ]
     },
     "metadata": {
      "needs_background": "light"
     },
     "output_type": "display_data"
    },
    {
     "name": "stdout",
     "output_type": "stream",
     "text": [
      "cont8\n"
     ]
    },
    {
     "data": {
      "image/png": "[encoded data removed]",
      "text/plain": [
       "<Figure size 360x360 with 1 Axes>"
      ]
     },
     "metadata": {
      "needs_background": "light"
     },
     "output_type": "display_data"
    },
    {
     "name": "stdout",
     "output_type": "stream",
     "text": [
      "cont9\n"
     ]
    },
    {
     "data": {
      "image/png": "[encoded data removed]",
      "text/plain": [
       "<Figure size 360x360 with 1 Axes>"
      ]
     },
     "metadata": {
      "needs_background": "light"
     },
     "output_type": "display_data"
    },
    {
     "name": "stdout",
     "output_type": "stream",
     "text": [
      "cont10\n"
     ]
    },
    {
     "data": {
      "image/png": "[encoded data removed]",
      "text/plain": [
       "<Figure size 360x360 with 1 Axes>"
      ]
     },
     "metadata": {
      "needs_background": "light"
     },
     "output_type": "display_data"
    },
    {
     "name": "stdout",
     "output_type": "stream",
     "text": [
      "cont11\n"
     ]
    },
    {
     "data": {
      "image/png": "[encoded data removed]",
      "text/plain": [
       "<Figure size 360x360 with 1 Axes>"
      ]
     },
     "metadata": {
      "needs_background": "light"
     },
     "output_type": "display_data"
    },
    {
     "name": "stdout",
     "output_type": "stream",
     "text": [
      "cont12\n"
     ]
    },
    {
     "data": {
      "image/png": "[encoded data removed]",
      "text/plain": [
       "<Figure size 360x360 with 1 Axes>"
      ]
     },
     "metadata": {
      "needs_background": "light"
     },
     "output_type": "display_data"
    },
    {
     "name": "stdout",
     "output_type": "stream",
     "text": [
      "cont13\n"
     ]
    },
    {
     "data": {
      "image/png": "[encoded data removed]",
      "text/plain": [
       "<Figure size 360x360 with 1 Axes>"
      ]
     },
     "metadata": {
      "needs_background": "light"
     },
     "output_type": "display_data"
    },
    {
     "name": "stdout",
     "output_type": "stream",
     "text": [
      "0         8.113634\n",
      "1         8.481233\n",
      "2         8.364351\n",
      "3         8.049253\n",
      "4         7.972260\n",
      "            ...   \n",
      "299995    7.945605\n",
      "299996    7.326118\n",
      "299997    8.706755\n",
      "299998    7.229569\n",
      "299999    8.631146\n",
      "Name: target, Length: 300000, dtype: float64\n"
     ]
    },
    {
     "data": {
      "image/png": "[encoded data removed]",
      "text/plain": [
       "<Figure size 360x360 with 1 Axes>"
      ]
     },
     "metadata": {
      "needs_background": "light"
     },
     "output_type": "display_data"
    }
   ],
   "source": [
    "def plot():\n",
    "    for i in range(10):\n",
    "        #print(train_data[categorical_cols[i]])\n",
    "        print(categorical_cols[i])\n",
    "        train_data[categorical_cols[i]].hist()\n",
    "        \n",
    "        plt.show()\n",
    "    #plt.subplot(1, 2, 1)\n",
    "    \n",
    "    for i in range(14):\n",
    "        \n",
    "        print(cont_cols[i])\n",
    "        dataset = train_data[cont_cols[i]]\n",
    "        seaborn.displot(data = dataset)\n",
    "        plt.show()\n",
    "\n",
    "    print(train_data.target)\n",
    "    dataset = train_data.target\n",
    "    seaborn.displot(data = dataset)\n",
    "    plt.show()\n",
    "plot()"
   ]
  },
  {
   "cell_type": "code",
   "execution_count": 52,
   "id": "5492c92a",
   "metadata": {},
   "outputs": [
    {
     "data": {
      "text/html": [
       "<div>\n",
       "<style scoped>\n",
       "    .dataframe tbody tr th:only-of-type {\n",
       "        vertical-align: middle;\n",
       "    }\n",
       "\n",
       "    .dataframe tbody tr th {\n",
       "        vertical-align: top;\n",
       "    }\n",
       "\n",
       "    .dataframe thead th {\n",
       "        text-align: right;\n",
       "    }\n",
       "</style>\n",
       "<table border=\"1\" class=\"dataframe\">\n",
       "  <thead>\n",
       "    <tr style=\"text-align: right;\">\n",
       "      <th></th>\n",
       "      <th>cat0</th>\n",
       "      <th>cat1</th>\n",
       "      <th>cat2</th>\n",
       "      <th>cat3</th>\n",
       "      <th>cat4</th>\n",
       "      <th>cat5</th>\n",
       "      <th>cat6</th>\n",
       "      <th>cat7</th>\n",
       "      <th>cat8</th>\n",
       "      <th>cat9</th>\n",
       "    </tr>\n",
       "  </thead>\n",
       "  <tbody>\n",
       "    <tr>\n",
       "      <th>0</th>\n",
       "      <td>B</td>\n",
       "      <td>B</td>\n",
       "      <td>B</td>\n",
       "      <td>C</td>\n",
       "      <td>B</td>\n",
       "      <td>B</td>\n",
       "      <td>A</td>\n",
       "      <td>E</td>\n",
       "      <td>C</td>\n",
       "      <td>N</td>\n",
       "    </tr>\n",
       "    <tr>\n",
       "      <th>1</th>\n",
       "      <td>B</td>\n",
       "      <td>B</td>\n",
       "      <td>A</td>\n",
       "      <td>A</td>\n",
       "      <td>B</td>\n",
       "      <td>D</td>\n",
       "      <td>A</td>\n",
       "      <td>F</td>\n",
       "      <td>A</td>\n",
       "      <td>O</td>\n",
       "    </tr>\n",
       "    <tr>\n",
       "      <th>2</th>\n",
       "      <td>A</td>\n",
       "      <td>A</td>\n",
       "      <td>A</td>\n",
       "      <td>C</td>\n",
       "      <td>B</td>\n",
       "      <td>D</td>\n",
       "      <td>A</td>\n",
       "      <td>D</td>\n",
       "      <td>A</td>\n",
       "      <td>F</td>\n",
       "    </tr>\n",
       "    <tr>\n",
       "      <th>3</th>\n",
       "      <td>B</td>\n",
       "      <td>B</td>\n",
       "      <td>A</td>\n",
       "      <td>C</td>\n",
       "      <td>B</td>\n",
       "      <td>D</td>\n",
       "      <td>A</td>\n",
       "      <td>E</td>\n",
       "      <td>C</td>\n",
       "      <td>K</td>\n",
       "    </tr>\n",
       "    <tr>\n",
       "      <th>4</th>\n",
       "      <td>A</td>\n",
       "      <td>A</td>\n",
       "      <td>A</td>\n",
       "      <td>C</td>\n",
       "      <td>B</td>\n",
       "      <td>D</td>\n",
       "      <td>A</td>\n",
       "      <td>E</td>\n",
       "      <td>A</td>\n",
       "      <td>N</td>\n",
       "    </tr>\n",
       "    <tr>\n",
       "      <th>...</th>\n",
       "      <td>...</td>\n",
       "      <td>...</td>\n",
       "      <td>...</td>\n",
       "      <td>...</td>\n",
       "      <td>...</td>\n",
       "      <td>...</td>\n",
       "      <td>...</td>\n",
       "      <td>...</td>\n",
       "      <td>...</td>\n",
       "      <td>...</td>\n",
       "    </tr>\n",
       "    <tr>\n",
       "      <th>299995</th>\n",
       "      <td>B</td>\n",
       "      <td>B</td>\n",
       "      <td>A</td>\n",
       "      <td>A</td>\n",
       "      <td>B</td>\n",
       "      <td>D</td>\n",
       "      <td>A</td>\n",
       "      <td>E</td>\n",
       "      <td>A</td>\n",
       "      <td>I</td>\n",
       "    </tr>\n",
       "    <tr>\n",
       "      <th>299996</th>\n",
       "      <td>A</td>\n",
       "      <td>B</td>\n",
       "      <td>A</td>\n",
       "      <td>C</td>\n",
       "      <td>B</td>\n",
       "      <td>B</td>\n",
       "      <td>A</td>\n",
       "      <td>E</td>\n",
       "      <td>E</td>\n",
       "      <td>F</td>\n",
       "    </tr>\n",
       "    <tr>\n",
       "      <th>299997</th>\n",
       "      <td>B</td>\n",
       "      <td>B</td>\n",
       "      <td>A</td>\n",
       "      <td>C</td>\n",
       "      <td>B</td>\n",
       "      <td>C</td>\n",
       "      <td>A</td>\n",
       "      <td>E</td>\n",
       "      <td>G</td>\n",
       "      <td>F</td>\n",
       "    </tr>\n",
       "    <tr>\n",
       "      <th>299998</th>\n",
       "      <td>A</td>\n",
       "      <td>B</td>\n",
       "      <td>A</td>\n",
       "      <td>C</td>\n",
       "      <td>B</td>\n",
       "      <td>B</td>\n",
       "      <td>A</td>\n",
       "      <td>E</td>\n",
       "      <td>E</td>\n",
       "      <td>I</td>\n",
       "    </tr>\n",
       "    <tr>\n",
       "      <th>299999</th>\n",
       "      <td>A</td>\n",
       "      <td>A</td>\n",
       "      <td>A</td>\n",
       "      <td>C</td>\n",
       "      <td>A</td>\n",
       "      <td>D</td>\n",
       "      <td>A</td>\n",
       "      <td>E</td>\n",
       "      <td>A</td>\n",
       "      <td>O</td>\n",
       "    </tr>\n",
       "  </tbody>\n",
       "</table>\n",
       "<p>300000 rows × 10 columns</p>\n",
       "</div>"
      ],
      "text/plain": [
       "       cat0 cat1 cat2 cat3 cat4 cat5 cat6 cat7 cat8 cat9\n",
       "0         B    B    B    C    B    B    A    E    C    N\n",
       "1         B    B    A    A    B    D    A    F    A    O\n",
       "2         A    A    A    C    B    D    A    D    A    F\n",
       "3         B    B    A    C    B    D    A    E    C    K\n",
       "4         A    A    A    C    B    D    A    E    A    N\n",
       "...     ...  ...  ...  ...  ...  ...  ...  ...  ...  ...\n",
       "299995    B    B    A    A    B    D    A    E    A    I\n",
       "299996    A    B    A    C    B    B    A    E    E    F\n",
       "299997    B    B    A    C    B    C    A    E    G    F\n",
       "299998    A    B    A    C    B    B    A    E    E    I\n",
       "299999    A    A    A    C    A    D    A    E    A    O\n",
       "\n",
       "[300000 rows x 10 columns]"
      ]
     },
     "execution_count": 52,
     "metadata": {},
     "output_type": "execute_result"
    }
   ],
   "source": [
    "train_data[categorical_cols]"
   ]
  },
  {
   "cell_type": "code",
   "execution_count": 49,
   "id": "a0647940",
   "metadata": {},
   "outputs": [],
   "source": [
    "skew_features_categorical = train_data[categorical_cols].skew().sort_values(ascending = False) "
   ]
  },
  {
   "cell_type": "code",
   "execution_count": 50,
   "id": "68074fca",
   "metadata": {},
   "outputs": [
    {
     "data": {
      "text/plain": [
       "Series([], dtype: float64)"
      ]
     },
     "execution_count": 50,
     "metadata": {},
     "output_type": "execute_result"
    }
   ],
   "source": [
    "skew_features_categorical"
   ]
  },
  {
   "cell_type": "code",
   "execution_count": 47,
   "id": "1a0c0556",
   "metadata": {},
   "outputs": [],
   "source": [
    "skew_features = train_data[cont_cols].skew().sort_values(ascending = False)"
   ]
  },
  {
   "cell_type": "code",
   "execution_count": 71,
   "id": "c274f68d",
   "metadata": {},
   "outputs": [
    {
     "data": {
      "text/plain": [
       "cont4     0.776598\n",
       "cont8     0.540071\n",
       "cont6     0.507824\n",
       "cont7     0.428809\n",
       "cont3     0.402795\n",
       "cont9     0.388129\n",
       "cont11    0.318717\n",
       "cont5     0.275822\n",
       "cont13    0.243352\n",
       "cont0     0.236360\n",
       "cont12    0.101119\n",
       "cont2     0.082866\n",
       "cont10    0.056184\n",
       "cont1     0.032677\n",
       "dtype: float64"
      ]
     },
     "execution_count": 71,
     "metadata": {},
     "output_type": "execute_result"
    }
   ],
   "source": [
    "skew_features"
   ]
  },
  {
   "cell_type": "code",
   "execution_count": 29,
   "id": "491b0e73",
   "metadata": {
    "scrolled": false
   },
   "outputs": [
    {
     "data": {
      "text/html": [
       "<div>\n",
       "<style scoped>\n",
       "    .dataframe tbody tr th:only-of-type {\n",
       "        vertical-align: middle;\n",
       "    }\n",
       "\n",
       "    .dataframe tbody tr th {\n",
       "        vertical-align: top;\n",
       "    }\n",
       "\n",
       "    .dataframe thead th {\n",
       "        text-align: right;\n",
       "    }\n",
       "</style>\n",
       "<table border=\"1\" class=\"dataframe\">\n",
       "  <thead>\n",
       "    <tr style=\"text-align: right;\">\n",
       "      <th></th>\n",
       "      <th>cont0</th>\n",
       "      <th>cont1</th>\n",
       "      <th>cont2</th>\n",
       "      <th>cont3</th>\n",
       "      <th>cont4</th>\n",
       "      <th>cont5</th>\n",
       "      <th>cont6</th>\n",
       "      <th>cont7</th>\n",
       "      <th>cont8</th>\n",
       "      <th>cont9</th>\n",
       "      <th>cont10</th>\n",
       "      <th>cont11</th>\n",
       "      <th>cont12</th>\n",
       "      <th>cont13</th>\n",
       "    </tr>\n",
       "  </thead>\n",
       "  <tbody>\n",
       "    <tr>\n",
       "      <th>0</th>\n",
       "      <td>0.201470</td>\n",
       "      <td>-0.014822</td>\n",
       "      <td>0.669699</td>\n",
       "      <td>0.136278</td>\n",
       "      <td>0.610706</td>\n",
       "      <td>0.400361</td>\n",
       "      <td>0.160266</td>\n",
       "      <td>0.310921</td>\n",
       "      <td>0.389470</td>\n",
       "      <td>0.267559</td>\n",
       "      <td>0.237281</td>\n",
       "      <td>0.377873</td>\n",
       "      <td>0.322401</td>\n",
       "      <td>0.869850</td>\n",
       "    </tr>\n",
       "    <tr>\n",
       "      <th>1</th>\n",
       "      <td>0.743068</td>\n",
       "      <td>0.367411</td>\n",
       "      <td>1.021605</td>\n",
       "      <td>0.365798</td>\n",
       "      <td>0.276853</td>\n",
       "      <td>0.533087</td>\n",
       "      <td>0.558922</td>\n",
       "      <td>0.516294</td>\n",
       "      <td>0.594928</td>\n",
       "      <td>0.341439</td>\n",
       "      <td>0.906013</td>\n",
       "      <td>0.921701</td>\n",
       "      <td>0.261975</td>\n",
       "      <td>0.465083</td>\n",
       "    </tr>\n",
       "    <tr>\n",
       "      <th>2</th>\n",
       "      <td>0.742708</td>\n",
       "      <td>0.310383</td>\n",
       "      <td>-0.012673</td>\n",
       "      <td>0.576957</td>\n",
       "      <td>0.285074</td>\n",
       "      <td>0.650609</td>\n",
       "      <td>0.375348</td>\n",
       "      <td>0.902567</td>\n",
       "      <td>0.555205</td>\n",
       "      <td>0.843531</td>\n",
       "      <td>0.748809</td>\n",
       "      <td>0.620126</td>\n",
       "      <td>0.541474</td>\n",
       "      <td>0.763846</td>\n",
       "    </tr>\n",
       "    <tr>\n",
       "      <th>3</th>\n",
       "      <td>0.429551</td>\n",
       "      <td>0.620998</td>\n",
       "      <td>0.577942</td>\n",
       "      <td>0.280610</td>\n",
       "      <td>0.284667</td>\n",
       "      <td>0.668980</td>\n",
       "      <td>0.239061</td>\n",
       "      <td>0.732948</td>\n",
       "      <td>0.679618</td>\n",
       "      <td>0.574844</td>\n",
       "      <td>0.346010</td>\n",
       "      <td>0.714610</td>\n",
       "      <td>0.540150</td>\n",
       "      <td>0.280682</td>\n",
       "    </tr>\n",
       "    <tr>\n",
       "      <th>4</th>\n",
       "      <td>1.058291</td>\n",
       "      <td>0.367492</td>\n",
       "      <td>-0.052389</td>\n",
       "      <td>0.232407</td>\n",
       "      <td>0.287595</td>\n",
       "      <td>0.686964</td>\n",
       "      <td>0.420667</td>\n",
       "      <td>0.648182</td>\n",
       "      <td>0.684501</td>\n",
       "      <td>0.956692</td>\n",
       "      <td>1.000773</td>\n",
       "      <td>0.776742</td>\n",
       "      <td>0.625849</td>\n",
       "      <td>0.250823</td>\n",
       "    </tr>\n",
       "    <tr>\n",
       "      <th>...</th>\n",
       "      <td>...</td>\n",
       "      <td>...</td>\n",
       "      <td>...</td>\n",
       "      <td>...</td>\n",
       "      <td>...</td>\n",
       "      <td>...</td>\n",
       "      <td>...</td>\n",
       "      <td>...</td>\n",
       "      <td>...</td>\n",
       "      <td>...</td>\n",
       "      <td>...</td>\n",
       "      <td>...</td>\n",
       "      <td>...</td>\n",
       "      <td>...</td>\n",
       "    </tr>\n",
       "    <tr>\n",
       "      <th>299995</th>\n",
       "      <td>0.697124</td>\n",
       "      <td>0.483452</td>\n",
       "      <td>0.297770</td>\n",
       "      <td>0.195821</td>\n",
       "      <td>0.307883</td>\n",
       "      <td>0.769792</td>\n",
       "      <td>0.450538</td>\n",
       "      <td>0.934360</td>\n",
       "      <td>1.005077</td>\n",
       "      <td>0.853726</td>\n",
       "      <td>0.422541</td>\n",
       "      <td>1.063463</td>\n",
       "      <td>0.697685</td>\n",
       "      <td>0.506404</td>\n",
       "    </tr>\n",
       "    <tr>\n",
       "      <th>299996</th>\n",
       "      <td>0.446200</td>\n",
       "      <td>0.715135</td>\n",
       "      <td>0.610931</td>\n",
       "      <td>0.601730</td>\n",
       "      <td>0.736713</td>\n",
       "      <td>0.528056</td>\n",
       "      <td>0.508502</td>\n",
       "      <td>0.358247</td>\n",
       "      <td>0.257825</td>\n",
       "      <td>0.433525</td>\n",
       "      <td>0.301015</td>\n",
       "      <td>0.268447</td>\n",
       "      <td>0.577055</td>\n",
       "      <td>0.823611</td>\n",
       "    </tr>\n",
       "    <tr>\n",
       "      <th>299997</th>\n",
       "      <td>0.544279</td>\n",
       "      <td>0.060937</td>\n",
       "      <td>0.590955</td>\n",
       "      <td>0.905308</td>\n",
       "      <td>0.277074</td>\n",
       "      <td>0.688747</td>\n",
       "      <td>0.372425</td>\n",
       "      <td>0.364936</td>\n",
       "      <td>0.383224</td>\n",
       "      <td>0.551825</td>\n",
       "      <td>0.661007</td>\n",
       "      <td>0.629606</td>\n",
       "      <td>0.714139</td>\n",
       "      <td>0.245732</td>\n",
       "    </tr>\n",
       "    <tr>\n",
       "      <th>299998</th>\n",
       "      <td>0.300062</td>\n",
       "      <td>0.613118</td>\n",
       "      <td>0.285213</td>\n",
       "      <td>0.406851</td>\n",
       "      <td>0.805963</td>\n",
       "      <td>0.344404</td>\n",
       "      <td>0.424243</td>\n",
       "      <td>0.382028</td>\n",
       "      <td>0.468819</td>\n",
       "      <td>0.351036</td>\n",
       "      <td>0.288768</td>\n",
       "      <td>0.611169</td>\n",
       "      <td>0.380254</td>\n",
       "      <td>0.332030</td>\n",
       "    </tr>\n",
       "    <tr>\n",
       "      <th>299999</th>\n",
       "      <td>0.857752</td>\n",
       "      <td>0.628528</td>\n",
       "      <td>0.539625</td>\n",
       "      <td>0.396143</td>\n",
       "      <td>0.276785</td>\n",
       "      <td>0.565347</td>\n",
       "      <td>0.328669</td>\n",
       "      <td>0.789165</td>\n",
       "      <td>0.960406</td>\n",
       "      <td>0.776019</td>\n",
       "      <td>0.734707</td>\n",
       "      <td>0.484392</td>\n",
       "      <td>0.639754</td>\n",
       "      <td>0.689317</td>\n",
       "    </tr>\n",
       "  </tbody>\n",
       "</table>\n",
       "<p>300000 rows × 14 columns</p>\n",
       "</div>"
      ],
      "text/plain": [
       "           cont0     cont1     cont2     cont3     cont4     cont5     cont6  \\\n",
       "0       0.201470 -0.014822  0.669699  0.136278  0.610706  0.400361  0.160266   \n",
       "1       0.743068  0.367411  1.021605  0.365798  0.276853  0.533087  0.558922   \n",
       "2       0.742708  0.310383 -0.012673  0.576957  0.285074  0.650609  0.375348   \n",
       "3       0.429551  0.620998  0.577942  0.280610  0.284667  0.668980  0.239061   \n",
       "4       1.058291  0.367492 -0.052389  0.232407  0.287595  0.686964  0.420667   \n",
       "...          ...       ...       ...       ...       ...       ...       ...   \n",
       "299995  0.697124  0.483452  0.297770  0.195821  0.307883  0.769792  0.450538   \n",
       "299996  0.446200  0.715135  0.610931  0.601730  0.736713  0.528056  0.508502   \n",
       "299997  0.544279  0.060937  0.590955  0.905308  0.277074  0.688747  0.372425   \n",
       "299998  0.300062  0.613118  0.285213  0.406851  0.805963  0.344404  0.424243   \n",
       "299999  0.857752  0.628528  0.539625  0.396143  0.276785  0.565347  0.328669   \n",
       "\n",
       "           cont7     cont8     cont9    cont10    cont11    cont12    cont13  \n",
       "0       0.310921  0.389470  0.267559  0.237281  0.377873  0.322401  0.869850  \n",
       "1       0.516294  0.594928  0.341439  0.906013  0.921701  0.261975  0.465083  \n",
       "2       0.902567  0.555205  0.843531  0.748809  0.620126  0.541474  0.763846  \n",
       "3       0.732948  0.679618  0.574844  0.346010  0.714610  0.540150  0.280682  \n",
       "4       0.648182  0.684501  0.956692  1.000773  0.776742  0.625849  0.250823  \n",
       "...          ...       ...       ...       ...       ...       ...       ...  \n",
       "299995  0.934360  1.005077  0.853726  0.422541  1.063463  0.697685  0.506404  \n",
       "299996  0.358247  0.257825  0.433525  0.301015  0.268447  0.577055  0.823611  \n",
       "299997  0.364936  0.383224  0.551825  0.661007  0.629606  0.714139  0.245732  \n",
       "299998  0.382028  0.468819  0.351036  0.288768  0.611169  0.380254  0.332030  \n",
       "299999  0.789165  0.960406  0.776019  0.734707  0.484392  0.639754  0.689317  \n",
       "\n",
       "[300000 rows x 14 columns]"
      ]
     },
     "execution_count": 29,
     "metadata": {},
     "output_type": "execute_result"
    }
   ],
   "source": [
    "train_data[cont_cols]"
   ]
  },
  {
   "cell_type": "code",
   "execution_count": 7,
   "id": "4422a831",
   "metadata": {},
   "outputs": [],
   "source": [
    "list1 = [1, 2, 3, 4]\n",
    "list2 = [2, 3, 10, 0]\n",
    "list3 = list(zip(list1, list2))"
   ]
  },
  {
   "cell_type": "code",
   "execution_count": 8,
   "id": "382c3228",
   "metadata": {},
   "outputs": [
    {
     "data": {
      "text/plain": [
       "[(1, 2), (2, 3), (3, 10), (4, 0)]"
      ]
     },
     "execution_count": 8,
     "metadata": {},
     "output_type": "execute_result"
    }
   ],
   "source": [
    "list3"
   ]
  },
  {
   "cell_type": "code",
   "execution_count": 15,
   "id": "03e5da3a",
   "metadata": {},
   "outputs": [
    {
     "data": {
      "text/plain": [
       "[1.5, 2.5, 6.5, 2.0]"
      ]
     },
     "execution_count": 15,
     "metadata": {},
     "output_type": "execute_result"
    }
   ],
   "source": [
    "[np.mean(i) for i in list3]"
   ]
  },
  {
   "cell_type": "code",
   "execution_count": null,
   "id": "89115827",
   "metadata": {},
   "outputs": [],
   "source": []
  }
 ],
 "metadata": {
  "kernelspec": {
   "display_name": "gpu2",
   "language": "python",
   "name": "gpu2"
  },
  "language_info": {
   "codemirror_mode": {
    "name": "ipython",
    "version": 3
   },
   "file_extension": ".py",
   "mimetype": "text/x-python",
   "name": "python",
   "nbconvert_exporter": "python",
   "pygments_lexer": "ipython3",
   "version": "3.6.13"
  }
 },
 "nbformat": 4,
 "nbformat_minor": 5
}
