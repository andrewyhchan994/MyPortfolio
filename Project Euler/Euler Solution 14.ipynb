{
 "cells": [
  {
   "cell_type": "code",
   "execution_count": null,
   "id": "a1fa75d7",
   "metadata": {},
   "outputs": [],
   "source": [
    "print(\"Longest Collatz sequence\")"
   ]
  },
  {
   "cell_type": "code",
   "execution_count": null,
   "id": "50f11c03",
   "metadata": {},
   "outputs": [],
   "source": [
    "# n -> n/2 even\n",
    "# n -> 3n + 1 odd\n",
    "longestChain = 0\n",
    "longestChainNum = 0"
   ]
  },
  {
   "cell_type": "code",
   "execution_count": null,
   "id": "510a03f9",
   "metadata": {},
   "outputs": [],
   "source": [
    "def collatzMethod (a):\n",
    "    count = 0\n",
    "    while a != 1:\n",
    "        if a %2 == 0:\n",
    "            a = a/2\n",
    "            count+= 1\n",
    "        elif a%2 != 0:\n",
    "            a = 3*a + 1\n",
    "            count += 1\n",
    "    return count\n",
    "    "
   ]
  },
  {
   "cell_type": "code",
   "execution_count": null,
   "id": "901f01b5",
   "metadata": {},
   "outputs": [],
   "source": [
    "maxChain = 1\n",
    "maxChainStartingNum = 1\n",
    "for i in range (1, 1000000): # At first, used range (num), which created an error with the edge case (1)\n",
    "    k = collatzMethod(i)\n",
    "    \n",
    "    if k > maxChain:\n",
    "        maxChain = k\n",
    "        maxChainStartingNum = i\n",
    "    \n",
    "    "
   ]
  },
  {
   "cell_type": "code",
   "execution_count": null,
   "id": "52682690",
   "metadata": {},
   "outputs": [],
   "source": [
    "print(maxChainStartingNum)"
   ]
  },
  {
   "cell_type": "code",
   "execution_count": null,
   "id": "808e0f88",
   "metadata": {},
   "outputs": [],
   "source": []
  },
  {
   "cell_type": "code",
   "execution_count": 1,
   "id": "7d4ca7ea",
   "metadata": {},
   "outputs": [
    {
     "name": "stdout",
     "output_type": "stream",
     "text": [
      "Lattice paths\n"
     ]
    }
   ],
   "source": [
    "print(\"Lattice paths\")"
   ]
  },
  {
   "cell_type": "code",
   "execution_count": null,
   "id": "31fb91a2",
   "metadata": {},
   "outputs": [],
   "source": [
    "# assign numbers to right and down\n",
    "# R = 0\n",
    "# D = 1\n",
    "\n",
    "\n",
    "#base case: 2x2 grid\n",
    "\n",
    "#Calculate permutation\n",
    "#2x2 -> 3\n",
    "\n",
    "0011\n",
    "0101\n",
    "0110\n",
    "1001\n",
    "1010\n",
    "1100"
   ]
  },
  {
   "cell_type": "code",
   "execution_count": 13,
   "id": "6a8ace63",
   "metadata": {},
   "outputs": [],
   "source": [
    "counter = 0\n",
    "\n",
    "# there need to even number of 1s and 0s\n",
    "\n",
    "# 40 digits, find possible combinations of 1s and 0s\n",
    "\n",
    "myDict = {}\n",
    "\n",
    "\n",
    "\n",
    "'000111'\n",
    "\n",
    "#list\n",
    "arr1 = []\n",
    "for i in range (1, 20):\n",
    "    # start with 0\n",
    "    arr1.append(0)\n",
    "\n",
    "for i in range (1, 20):\n",
    "    # start with 1\n",
    "    arr1.append(1)\n",
    "    \n",
    "#arr1 is now a list of 20 0s followed by 20 1s\n",
    "\n",
    "\n",
    "routeNum = 1\n",
    "    \n",
    "    \n",
    "for i in range (1, 39):\n",
    "    \n",
    "    \n",
    "    \n",
    "    \n",
    "    \n"
   ]
  },
  {
   "cell_type": "code",
   "execution_count": 2,
   "id": "3fdde849",
   "metadata": {},
   "outputs": [
    {
     "data": {
      "text/plain": [
       "[0]"
      ]
     },
     "execution_count": 2,
     "metadata": {},
     "output_type": "execute_result"
    }
   ],
   "source": [
    "arr1 = []\n",
    "arr1.append(0)\n",
    "arr1"
   ]
  },
  {
   "cell_type": "code",
   "execution_count": 4,
   "id": "97007fb6",
   "metadata": {},
   "outputs": [
    {
     "ename": "SyntaxError",
     "evalue": "invalid syntax (<ipython-input-4-65a9ee20e253>, line 1)",
     "output_type": "error",
     "traceback": [
      "\u001b[1;36m  File \u001b[1;32m\"<ipython-input-4-65a9ee20e253>\"\u001b[1;36m, line \u001b[1;32m1\u001b[0m\n\u001b[1;33m    int v = 10\u001b[0m\n\u001b[1;37m        ^\u001b[0m\n\u001b[1;31mSyntaxError\u001b[0m\u001b[1;31m:\u001b[0m invalid syntax\n"
     ]
    }
   ],
   "source": [
    "int v = 10"
   ]
  },
  {
   "cell_type": "code",
   "execution_count": 6,
   "id": "8304e74b",
   "metadata": {},
   "outputs": [],
   "source": [
    "kk = float (40*39*38*37*36*35*34*33*32*31*30*29*28*27*26*25*24*23*22*21)"
   ]
  },
  {
   "cell_type": "code",
   "execution_count": 7,
   "id": "5a9f758b",
   "metadata": {},
   "outputs": [
    {
     "data": {
      "text/plain": [
       "3.3536709678635706e+29"
      ]
     },
     "execution_count": 7,
     "metadata": {},
     "output_type": "execute_result"
    }
   ],
   "source": [
    "kk"
   ]
  },
  {
   "cell_type": "code",
   "execution_count": null,
   "id": "a49ef522",
   "metadata": {},
   "outputs": [],
   "source": []
  }
 ],
 "metadata": {
  "kernelspec": {
   "display_name": "Python 3",
   "language": "python",
   "name": "python3"
  },
  "language_info": {
   "codemirror_mode": {
    "name": "ipython",
    "version": 3
   },
   "file_extension": ".py",
   "mimetype": "text/x-python",
   "name": "python",
   "nbconvert_exporter": "python",
   "pygments_lexer": "ipython3",
   "version": "3.8.8"
  }
 },
 "nbformat": 4,
 "nbformat_minor": 5
}
