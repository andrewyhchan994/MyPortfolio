{
 "cells": [
  {
   "cell_type": "markdown",
   "metadata": {
    "id": "E0vqbgi9ay0H"
   },
   "source": [
    "# Yandex.Music"
   ]
  },
  {
   "cell_type": "markdown",
   "metadata": {
    "id": "fhq_eyov_Zcs"
   },
   "source": [
    "# Contents <a id='back'></a>\n",
    "\n",
    "* [Introduction](#intro)\n",
    "* [Stage 1. Data overview](#data_review)\n",
    "    * [Conclusions](#data_review_conclusions)\n",
    "* [Stage 2. Data preprocessing](#data_preprocessing)\n",
    "    * [2.1 Header style](#header_style)\n",
    "    * [2.2 Missing values](#missing_values)\n",
    "    * [2.3 Duplicates](#duplicates)\n",
    "    * [2.4 Conclusions](#data_preprocessing_conclusions)\n",
    "* [Stage 3. Testing the hypotheses](#hypotheses)\n",
    "    * [3.1 Hypothesis 1: user activity in the two cities](#activity)\n",
    "    * [3.2 Hypothesis 2: music preferences on Monday and Friday](#week)\n",
    "    * [3.3 Hypothesis 3: genre preferences in Springfield and Shelbyville](#genre)\n",
    "* [Findings](#end)"
   ]
  },
  {
   "cell_type": "markdown",
   "metadata": {
    "id": "VUC88oWjTJw2"
   },
   "source": [
    "## Introduction <a id='intro'></a>\n",
    "Whenever we're doing research, we need to formulate hypotheses that we can then test. Sometimes we accept these hypotheses; other times, we reject them. To make the right decisions, a business must be able to understand whether or not it's making the right assumptions.\n",
    "\n",
    "In this project, you'll compare the music preferences of the cities of Springfield and Shelbyville. You'll study real Yandex.Music data to test the hypotheses below and compare user behavior for these two cities.\n",
    "\n",
    "### Goal: \n",
    "Test three hypotheses:\n",
    "1. User activity differs depending on the day of the week and from city to city. \n",
    "2. On Monday mornings, Springfield and Shelbyville residents listen to different genres. This is also true for Friday evenings. \n",
    "3. Springfield and Shelbyville listeners have different preferences. In Springfield, they prefer pop, while Shelbyville has more rap fans.\n",
    "\n",
    "### Stages \n",
    "Data on user behavior is stored in the file `/datasets/music_project_en.csv`. There is no information about the quality of the data, so you will need to explore it before testing the hypotheses. \n",
    "\n",
    "First, you'll evaluate the quality of the data and see whether its issues are significant. Then, during data preprocessing, you will try to account for the most critical problems.\n",
    " \n",
    "Your project will consist of three stages:\n",
    " 1. Data overview\n",
    " 2. Data preprocessing\n",
    " 3. Testing the hypotheses\n",
    " \n",
    "[Back to Contents](#back)"
   ]
  },
  {
   "cell_type": "markdown",
   "metadata": {
    "id": "Ml1hmfXC_Zcs"
   },
   "source": [
    "## Stage 1. Data overview <a id='data_review'></a>\n",
    "\n",
    "Open the data on Yandex.Music and explore it."
   ]
  },
  {
   "cell_type": "markdown",
   "metadata": {
    "id": "57eAOGIz_Zcs"
   },
   "source": [
    "You'll need `pandas`, so import it."
   ]
  },
  {
   "cell_type": "code",
   "execution_count": 1,
   "metadata": {
    "id": "AXN7PHPN_Zcs"
   },
   "outputs": [],
   "source": [
    "import pandas as pd"
   ]
  },
  {
   "cell_type": "markdown",
   "metadata": {
    "id": "SG23P8tt_Zcs"
   },
   "source": [
    "Read the file `music_project_en.csv` from the `/datasets/` folder and save it in the `df` variable:"
   ]
  },
  {
   "cell_type": "code",
   "execution_count": 2,
   "metadata": {},
   "outputs": [],
   "source": [
    "df = pd.read_csv(\"/datasets/music_project_en.csv\")"
   ]
  },
  {
   "cell_type": "code",
   "execution_count": 3,
   "metadata": {
    "id": "fFVu7vqh_Zct"
   },
   "outputs": [
    {
     "data": {
      "text/html": [
       "<div>\n",
       "<style scoped>\n",
       "    .dataframe tbody tr th:only-of-type {\n",
       "        vertical-align: middle;\n",
       "    }\n",
       "\n",
       "    .dataframe tbody tr th {\n",
       "        vertical-align: top;\n",
       "    }\n",
       "\n",
       "    .dataframe thead th {\n",
       "        text-align: right;\n",
       "    }\n",
       "</style>\n",
       "<table border=\"1\" class=\"dataframe\">\n",
       "  <thead>\n",
       "    <tr style=\"text-align: right;\">\n",
       "      <th></th>\n",
       "      <th>userID</th>\n",
       "      <th>Track</th>\n",
       "      <th>artist</th>\n",
       "      <th>genre</th>\n",
       "      <th>City</th>\n",
       "      <th>time</th>\n",
       "      <th>Day</th>\n",
       "    </tr>\n",
       "  </thead>\n",
       "  <tbody>\n",
       "    <tr>\n",
       "      <td>count</td>\n",
       "      <td>65079</td>\n",
       "      <td>63736</td>\n",
       "      <td>57512</td>\n",
       "      <td>63881</td>\n",
       "      <td>65079</td>\n",
       "      <td>65079</td>\n",
       "      <td>65079</td>\n",
       "    </tr>\n",
       "    <tr>\n",
       "      <td>unique</td>\n",
       "      <td>41748</td>\n",
       "      <td>39666</td>\n",
       "      <td>37806</td>\n",
       "      <td>268</td>\n",
       "      <td>2</td>\n",
       "      <td>20392</td>\n",
       "      <td>3</td>\n",
       "    </tr>\n",
       "    <tr>\n",
       "      <td>top</td>\n",
       "      <td>A8AE9169</td>\n",
       "      <td>Brand</td>\n",
       "      <td>Kartvelli</td>\n",
       "      <td>pop</td>\n",
       "      <td>Springfield</td>\n",
       "      <td>21:51:22</td>\n",
       "      <td>Friday</td>\n",
       "    </tr>\n",
       "    <tr>\n",
       "      <td>freq</td>\n",
       "      <td>76</td>\n",
       "      <td>136</td>\n",
       "      <td>136</td>\n",
       "      <td>8850</td>\n",
       "      <td>45360</td>\n",
       "      <td>14</td>\n",
       "      <td>23149</td>\n",
       "    </tr>\n",
       "  </tbody>\n",
       "</table>\n",
       "</div>"
      ],
      "text/plain": [
       "          userID  Track     artist  genre       City        time     Day\n",
       "count      65079  63736      57512  63881        65079     65079   65079\n",
       "unique     41748  39666      37806    268            2     20392       3\n",
       "top     A8AE9169  Brand  Kartvelli    pop  Springfield  21:51:22  Friday\n",
       "freq          76    136        136   8850        45360        14   23149"
      ]
     },
     "execution_count": 3,
     "metadata": {},
     "output_type": "execute_result"
    }
   ],
   "source": [
    "# reading the file and storing it to df\n",
    "df.describe()"
   ]
  },
  {
   "cell_type": "markdown",
   "metadata": {
    "id": "rDoOMd3uTqnZ"
   },
   "source": [
    "Print the first 10 table rows:"
   ]
  },
  {
   "cell_type": "code",
   "execution_count": 4,
   "metadata": {
    "id": "oWTVX3gW_Zct"
   },
   "outputs": [
    {
     "data": {
      "text/html": [
       "<div>\n",
       "<style scoped>\n",
       "    .dataframe tbody tr th:only-of-type {\n",
       "        vertical-align: middle;\n",
       "    }\n",
       "\n",
       "    .dataframe tbody tr th {\n",
       "        vertical-align: top;\n",
       "    }\n",
       "\n",
       "    .dataframe thead th {\n",
       "        text-align: right;\n",
       "    }\n",
       "</style>\n",
       "<table border=\"1\" class=\"dataframe\">\n",
       "  <thead>\n",
       "    <tr style=\"text-align: right;\">\n",
       "      <th></th>\n",
       "      <th>userID</th>\n",
       "      <th>Track</th>\n",
       "      <th>artist</th>\n",
       "      <th>genre</th>\n",
       "      <th>City</th>\n",
       "      <th>time</th>\n",
       "      <th>Day</th>\n",
       "    </tr>\n",
       "  </thead>\n",
       "  <tbody>\n",
       "    <tr>\n",
       "      <td>0</td>\n",
       "      <td>FFB692EC</td>\n",
       "      <td>Kamigata To Boots</td>\n",
       "      <td>The Mass Missile</td>\n",
       "      <td>rock</td>\n",
       "      <td>Shelbyville</td>\n",
       "      <td>20:28:33</td>\n",
       "      <td>Wednesday</td>\n",
       "    </tr>\n",
       "    <tr>\n",
       "      <td>1</td>\n",
       "      <td>55204538</td>\n",
       "      <td>Delayed Because of Accident</td>\n",
       "      <td>Andreas Rönnberg</td>\n",
       "      <td>rock</td>\n",
       "      <td>Springfield</td>\n",
       "      <td>14:07:09</td>\n",
       "      <td>Friday</td>\n",
       "    </tr>\n",
       "    <tr>\n",
       "      <td>2</td>\n",
       "      <td>20EC38</td>\n",
       "      <td>Funiculì funiculà</td>\n",
       "      <td>Mario Lanza</td>\n",
       "      <td>pop</td>\n",
       "      <td>Shelbyville</td>\n",
       "      <td>20:58:07</td>\n",
       "      <td>Wednesday</td>\n",
       "    </tr>\n",
       "    <tr>\n",
       "      <td>3</td>\n",
       "      <td>A3DD03C9</td>\n",
       "      <td>Dragons in the Sunset</td>\n",
       "      <td>Fire + Ice</td>\n",
       "      <td>folk</td>\n",
       "      <td>Shelbyville</td>\n",
       "      <td>08:37:09</td>\n",
       "      <td>Monday</td>\n",
       "    </tr>\n",
       "    <tr>\n",
       "      <td>4</td>\n",
       "      <td>E2DC1FAE</td>\n",
       "      <td>Soul People</td>\n",
       "      <td>Space Echo</td>\n",
       "      <td>dance</td>\n",
       "      <td>Springfield</td>\n",
       "      <td>08:34:34</td>\n",
       "      <td>Monday</td>\n",
       "    </tr>\n",
       "  </tbody>\n",
       "</table>\n",
       "</div>"
      ],
      "text/plain": [
       "     userID                        Track            artist  genre  \\\n",
       "0  FFB692EC            Kamigata To Boots  The Mass Missile   rock   \n",
       "1  55204538  Delayed Because of Accident  Andreas Rönnberg   rock   \n",
       "2    20EC38            Funiculì funiculà       Mario Lanza    pop   \n",
       "3  A3DD03C9        Dragons in the Sunset        Fire + Ice   folk   \n",
       "4  E2DC1FAE                  Soul People        Space Echo  dance   \n",
       "\n",
       "        City        time        Day  \n",
       "0  Shelbyville  20:28:33  Wednesday  \n",
       "1  Springfield  14:07:09     Friday  \n",
       "2  Shelbyville  20:58:07  Wednesday  \n",
       "3  Shelbyville  08:37:09     Monday  \n",
       "4  Springfield  08:34:34     Monday  "
      ]
     },
     "execution_count": 4,
     "metadata": {},
     "output_type": "execute_result"
    }
   ],
   "source": [
    "# obtaining the first 10 rows from the df table\n",
    "df.head()"
   ]
  },
  {
   "cell_type": "markdown",
   "metadata": {
    "id": "EO73Kwic_Zct"
   },
   "source": [
    "Obtaining the general information about the table with one command:"
   ]
  },
  {
   "cell_type": "code",
   "execution_count": 5,
   "metadata": {
    "id": "DSf2kIb-_Zct"
   },
   "outputs": [
    {
     "name": "stdout",
     "output_type": "stream",
     "text": [
      "<class 'pandas.core.frame.DataFrame'>\n",
      "RangeIndex: 65079 entries, 0 to 65078\n",
      "Data columns (total 7 columns):\n",
      "  userID    65079 non-null object\n",
      "Track       63736 non-null object\n",
      "artist      57512 non-null object\n",
      "genre       63881 non-null object\n",
      "  City      65079 non-null object\n",
      "time        65079 non-null object\n",
      "Day         65079 non-null object\n",
      "dtypes: object(7)\n",
      "memory usage: 3.5+ MB\n"
     ]
    }
   ],
   "source": [
    "# obtaining general information about the data in df\n",
    "df.info()"
   ]
  },
  {
   "cell_type": "code",
   "execution_count": 6,
   "metadata": {},
   "outputs": [
    {
     "data": {
      "text/plain": [
       "Index(['  userID', 'Track', 'artist', 'genre', '  City  ', 'time', 'Day'], dtype='object')"
      ]
     },
     "execution_count": 6,
     "metadata": {},
     "output_type": "execute_result"
    }
   ],
   "source": [
    "df.columns"
   ]
  },
  {
   "cell_type": "markdown",
   "metadata": {
    "id": "TaQ2Iwbr_Zct"
   },
   "source": [
    "The table contains seven columns. They all store the same data type: `object`.\n",
    "\n",
    "According to the documentation:\n",
    "- `'userID'` — user identifier\n",
    "- `'Track'` — track title\n",
    "- `'artist'` — artist's name\n",
    "- `'genre'`\n",
    "- `'City'` — user's city\n",
    "- `'time'` — the exact time the track was played\n",
    "- `'Day'` — day of the week\n",
    "\n",
    "We can see three issues with style in the column names:\n",
    "1. Some names are uppercase, some are lowercase.\n",
    "2. There are spaces in some names.\n",
    "3. `Detect the third issue yourself and describe it here`.\n",
    "\n",
    "The number of column values is different. This means the data contains missing values.\n"
   ]
  },
  {
   "cell_type": "markdown",
   "metadata": {
    "id": "MCB6-dXG_Zct"
   },
   "source": [
    "### Conclusions <a id='data_review_conclusions'></a> \n",
    "\n",
    "Each row in the table stores data on a track that was played. Some columns describe the track itself: its title, artist and genre. The rest convey information about the user: the city they come from, the time they played the track. \n",
    "\n",
    "It's clear that the data is sufficient to test the hypotheses. However, there are missing values.\n",
    "\n",
    "To move forward, we need to preprocess the data."
   ]
  },
  {
   "cell_type": "markdown",
   "metadata": {
    "id": "3eL__vcwViOi"
   },
   "source": [
    "[Back to Contents](#back)"
   ]
  },
  {
   "cell_type": "markdown",
   "metadata": {
    "id": "SjYF6Ub9_Zct"
   },
   "source": [
    "## Stage 2. Data preprocessing <a id='data_preprocessing'></a>\n",
    "Correct the formatting in the column headers and deal with the missing values. Then, check whether there are duplicates in the data."
   ]
  },
  {
   "cell_type": "markdown",
   "metadata": {
    "id": "dIaKXr29_Zct"
   },
   "source": [
    "### Header style <a id='header_style'></a>\n",
    "Print the column header:"
   ]
  },
  {
   "cell_type": "code",
   "execution_count": 7,
   "metadata": {
    "id": "oKOTdF_Q_Zct"
   },
   "outputs": [
    {
     "name": "stdout",
     "output_type": "stream",
     "text": [
      "['  userID' 'Track' 'artist' 'genre' '  City  ' 'time' 'Day']\n"
     ]
    }
   ],
   "source": [
    "# the list of column names in the df table\n",
    "print(df.columns.values)"
   ]
  },
  {
   "cell_type": "markdown",
   "metadata": {
    "id": "zj5534cv_Zct"
   },
   "source": [
    "Change column names according to the rules of good style:\n",
    "* If the name has several words, use snake_case\n",
    "* All characters must be lowercase\n",
    "* Delete spaces"
   ]
  },
  {
   "cell_type": "code",
   "execution_count": 8,
   "metadata": {
    "id": "ISlFqs5y_Zct"
   },
   "outputs": [],
   "source": [
    "# renaming columns\n",
    "df.columns = ['user_ID', 'track', 'artist', 'genre', 'city', 'time', 'day']"
   ]
  },
  {
   "cell_type": "markdown",
   "metadata": {
    "id": "1dqbh00J_Zct"
   },
   "source": [
    "Check the result. Print the names of the columns once more:"
   ]
  },
  {
   "cell_type": "code",
   "execution_count": 9,
   "metadata": {
    "id": "d4NOAmTW_Zct"
   },
   "outputs": [
    {
     "name": "stdout",
     "output_type": "stream",
     "text": [
      "['user_ID' 'track' 'artist' 'genre' 'city' 'time' 'day']\n"
     ]
    }
   ],
   "source": [
    "# checking result: the list of column names\n",
    "print(df.columns.values)"
   ]
  },
  {
   "cell_type": "markdown",
   "metadata": {
    "id": "xYJk6ksJVpOl"
   },
   "source": [
    "[Back to Contents](#back)"
   ]
  },
  {
   "cell_type": "markdown",
   "metadata": {
    "id": "5ISfbcfY_Zct"
   },
   "source": [
    "### Missing values <a id='missing_values'></a>\n",
    "First, find the number of missing values in the table. To do so, use two `pandas` methods:"
   ]
  },
  {
   "cell_type": "code",
   "execution_count": 10,
   "metadata": {
    "id": "RskX29qr_Zct"
   },
   "outputs": [
    {
     "name": "stdout",
     "output_type": "stream",
     "text": [
      "user_ID       0\n",
      "track      1343\n",
      "artist     7567\n",
      "genre      1198\n",
      "city          0\n",
      "time          0\n",
      "day           0\n",
      "dtype: int64\n"
     ]
    }
   ],
   "source": [
    "# calculating missing values\n",
    "print(df.isna().sum())"
   ]
  },
  {
   "cell_type": "markdown",
   "metadata": {
    "id": "qubhgnlO_Zct"
   },
   "source": [
    "Not all missing values affect the research. For instance, the missing values in `track` and `artist` are not critical. You can simply replace them with clear markers.\n",
    "\n",
    "But missing values in `'genre'` can affect the comparison of music preferences in Springfield and Shelbyville. In real life, it would be useful to learn the reasons why the data is missing and try to make up for them. But we do not have that opportunity in this project. So you will have to:\n",
    "* Fill in these missing values with markers\n",
    "* Evaluate how much the missing values may affect your computations"
   ]
  },
  {
   "cell_type": "markdown",
   "metadata": {
    "id": "fSv2laPA_Zct"
   },
   "source": [
    "Replace the missing values in `'track'`, `'artist'`, and `'genre'` with the string `'unknown'`. To do this, create the `columns_to_replace` list, loop over it with `for`, and replace the missing values in each of the columns:"
   ]
  },
  {
   "cell_type": "code",
   "execution_count": 11,
   "metadata": {
    "id": "KplB5qWs_Zct"
   },
   "outputs": [],
   "source": [
    "# looping over column names and replacing missing values with 'unknown'\n",
    "columns_to_replace = ['track', 'artist', 'genre']\n",
    "\n",
    "for col in columns_to_replace:\n",
    "    df[col] = df[col].fillna('unknown')\n"
   ]
  },
  {
   "cell_type": "markdown",
   "metadata": {
    "id": "Ilsm-MZo_Zct"
   },
   "source": [
    "Make sure the table contains no more missing values. Count the missing values again."
   ]
  },
  {
   "cell_type": "code",
   "execution_count": 12,
   "metadata": {
    "id": "Tq4nYRX4_Zct"
   },
   "outputs": [
    {
     "name": "stdout",
     "output_type": "stream",
     "text": [
      "user_ID    0\n",
      "track      0\n",
      "artist     0\n",
      "genre      0\n",
      "city       0\n",
      "time       0\n",
      "day        0\n",
      "dtype: int64\n"
     ]
    }
   ],
   "source": [
    "# counting missing values\n",
    "print(df.isna().sum())"
   ]
  },
  {
   "cell_type": "markdown",
   "metadata": {
    "id": "74ZIBmq9VrsK"
   },
   "source": [
    "[Back to Contents](#back)"
   ]
  },
  {
   "cell_type": "markdown",
   "metadata": {
    "id": "BWKRtBJ3_Zct"
   },
   "source": [
    "### Duplicates <a id='duplicates'></a>\n",
    "Find the number of obvious duplicates in the table using one command:"
   ]
  },
  {
   "cell_type": "code",
   "execution_count": 13,
   "metadata": {
    "id": "36eES_S0_Zct"
   },
   "outputs": [
    {
     "name": "stdout",
     "output_type": "stream",
     "text": [
      "7526\n"
     ]
    }
   ],
   "source": [
    "# counting clear duplicates\n",
    "print(df.duplicated(keep=False).sum())\n",
    "\n",
    "#putting duplicates in a variable dupli\n",
    "dupli = df.duplicated(keep=False)"
   ]
  },
  {
   "cell_type": "markdown",
   "metadata": {
    "id": "Ot25h6XR_Zct"
   },
   "source": [
    "Call the `pandas` method for getting rid of obvious duplicates:"
   ]
  },
  {
   "cell_type": "code",
   "execution_count": 14,
   "metadata": {
    "id": "exFHq6tt_Zct"
   },
   "outputs": [],
   "source": [
    "# removing obvious duplicates\n",
    "df = df.drop_duplicates(keep='first')"
   ]
  },
  {
   "cell_type": "markdown",
   "metadata": {
    "id": "Im2YwBEG_Zct"
   },
   "source": [
    "Count obvious duplicates once more to make sure you have removed all of them:"
   ]
  },
  {
   "cell_type": "code",
   "execution_count": 15,
   "metadata": {
    "id": "-8PuNWQ0_Zct"
   },
   "outputs": [
    {
     "name": "stdout",
     "output_type": "stream",
     "text": [
      "0\n",
      "<class 'pandas.core.frame.DataFrame'>\n",
      "Int64Index: 61253 entries, 0 to 65078\n",
      "Data columns (total 7 columns):\n",
      "user_ID    61253 non-null object\n",
      "track      61253 non-null object\n",
      "artist     61253 non-null object\n",
      "genre      61253 non-null object\n",
      "city       61253 non-null object\n",
      "time       61253 non-null object\n",
      "day        61253 non-null object\n",
      "dtypes: object(7)\n",
      "memory usage: 3.7+ MB\n",
      "None\n"
     ]
    }
   ],
   "source": [
    "# checking for duplicates\n",
    "print(df.duplicated(keep=False).sum())\n",
    "print(df.info())"
   ]
  },
  {
   "cell_type": "markdown",
   "metadata": {
    "id": "QlFBsxAr_Zct"
   },
   "source": [
    "Now get rid of implicit duplicates in the `genre` column. For example, the name of a genre can be written in different ways. Such errors will also affect the result."
   ]
  },
  {
   "cell_type": "markdown",
   "metadata": {
    "id": "eSjWwsOh_Zct"
   },
   "source": [
    "Print a list of unique genre names, sorted in alphabetical order. To do so:\n",
    "* Retrieve the intended DataFrame column \n",
    "* Apply a sorting method to it\n",
    "* For the sorted column, call the method that will return all unique column values"
   ]
  },
  {
   "cell_type": "code",
   "execution_count": 16,
   "metadata": {
    "id": "JIUcqzZN_Zct"
   },
   "outputs": [
    {
     "name": "stdout",
     "output_type": "stream",
     "text": [
      "['acid' 'acoustic' 'action' 'adult' 'africa' 'afrikaans' 'alternative'\n",
      " 'ambient' 'americana' 'animated' 'anime' 'arabesk' 'arabic' 'arena'\n",
      " 'argentinetango' 'art' 'audiobook' 'avantgarde' 'axé' 'baile' 'balkan'\n",
      " 'beats' 'bigroom' 'black' 'bluegrass' 'blues' 'bollywood' 'bossa'\n",
      " 'brazilian' 'breakbeat' 'breaks' 'broadway' 'cantautori' 'cantopop'\n",
      " 'canzone' 'caribbean' 'caucasian' 'celtic' 'chamber' 'children' 'chill'\n",
      " 'chinese' 'choral' 'christian' 'christmas' 'classical' 'classicmetal'\n",
      " 'club' 'colombian' 'comedy' 'conjazz' 'contemporary' 'country' 'cuban'\n",
      " 'dance' 'dancehall' 'dancepop' 'dark' 'death' 'deep' 'deutschrock'\n",
      " 'deutschspr' 'dirty' 'disco' 'dnb' 'documentary' 'downbeat' 'downtempo'\n",
      " 'drum' 'dub' 'dubstep' 'eastern' 'easy' 'electronic' 'electropop' 'emo'\n",
      " 'entehno' 'epicmetal' 'estrada' 'ethnic' 'eurofolk' 'european'\n",
      " 'experimental' 'extrememetal' 'fado' 'film' 'fitness' 'flamenco' 'folk'\n",
      " 'folklore' 'folkmetal' 'folkrock' 'folktronica' 'forró' 'frankreich'\n",
      " 'französisch' 'french' 'funk' 'future' 'gangsta' 'garage' 'german'\n",
      " 'ghazal' 'gitarre' 'glitch' 'gospel' 'gothic' 'grime' 'grunge' 'gypsy'\n",
      " 'handsup' \"hard'n'heavy\" 'hardcore' 'hardstyle' 'hardtechno' 'hip'\n",
      " 'hip-hop' 'hiphop' 'historisch' 'holiday' 'hop' 'horror' 'house' 'idm'\n",
      " 'independent' 'indian' 'indie' 'indipop' 'industrial' 'inspirational'\n",
      " 'instrumental' 'international' 'irish' 'jam' 'japanese' 'jazz' 'jewish'\n",
      " 'jpop' 'jungle' 'k-pop' 'karadeniz' 'karaoke' 'kayokyoku' 'korean'\n",
      " 'laiko' 'latin' 'latino' 'leftfield' 'local' 'lounge' 'loungeelectronic'\n",
      " 'lovers' 'malaysian' 'mandopop' 'marschmusik' 'meditative'\n",
      " 'mediterranean' 'melodic' 'metal' 'metalcore' 'mexican' 'middle'\n",
      " 'minimal' 'miscellaneous' 'modern' 'mood' 'mpb' 'muslim' 'native'\n",
      " 'neoklassik' 'neue' 'new' 'newage' 'newwave' 'nu' 'nujazz' 'numetal'\n",
      " 'oceania' 'old' 'opera' 'orchestral' 'other' 'piano' 'pop'\n",
      " 'popelectronic' 'popeurodance' 'post' 'posthardcore' 'postrock' 'power'\n",
      " 'progmetal' 'progressive' 'psychedelic' 'punjabi' 'punk' 'quebecois'\n",
      " 'ragga' 'ram' 'rancheras' 'rap' 'rave' 'reggae' 'reggaeton' 'regional'\n",
      " 'relax' 'religious' 'retro' 'rhythm' 'rnb' 'rnr' 'rock' 'rockabilly'\n",
      " 'romance' 'roots' 'ruspop' 'rusrap' 'rusrock' 'salsa' 'samba' 'schlager'\n",
      " 'self' 'sertanejo' 'shoegazing' 'showtunes' 'singer' 'ska' 'slow'\n",
      " 'smooth' 'soul' 'soulful' 'sound' 'soundtrack' 'southern' 'specialty'\n",
      " 'speech' 'spiritual' 'sport' 'stonerrock' 'surf' 'swing' 'synthpop'\n",
      " 'sängerportrait' 'tango' 'tanzorchester' 'taraftar' 'tech' 'techno'\n",
      " 'thrash' 'top' 'traditional' 'tradjazz' 'trance' 'tribal' 'trip'\n",
      " 'triphop' 'tropical' 'türk' 'türkçe' 'unknown' 'urban' 'uzbek' 'variété'\n",
      " 'vi' 'videogame' 'vocal' 'western' 'world' 'worldbeat' 'ïîï']\n"
     ]
    }
   ],
   "source": [
    "# viewing unique genre names\n",
    "dfGenreSorted = df['genre'].sort_values()\n",
    "print(dfGenreSorted.unique())"
   ]
  },
  {
   "cell_type": "markdown",
   "metadata": {
    "id": "qej-Qmuo_Zct"
   },
   "source": [
    "Look through the list to find implicit duplicates of the genre `hiphop`. These could be names written incorrectly or alternative names of the same genre.\n",
    "\n",
    "You will see the following implicit duplicates:\n",
    "* `hip`\n",
    "* `hop`\n",
    "* `hip-hop`\n",
    "\n",
    "To get rid of them, declare the function `replace_wrong_genres()` with two parameters: \n",
    "* `wrong_genres=` — the list of duplicates\n",
    "* `correct_genre=` — the string with the correct value\n",
    "\n",
    "The function should correct the names in the `'genre'` column from the `df` table, i.e. replace each value from the `wrong_genres` list with the value in `correct_genre`."
   ]
  },
  {
   "cell_type": "code",
   "execution_count": 17,
   "metadata": {
    "id": "ErNDkmns_Zct"
   },
   "outputs": [],
   "source": [
    "# function for replacing implicit duplicates\n",
    "def replace_wrong_genres(wrong_genres, correct_genre):\n",
    "    for wrong_genre in wrong_genres:\n",
    "        df['genre'] = df['genre'].replace(to_replace = wrong_genre, value= correct_genre)\n",
    "    #print(df['genre'].sort_values().unique())"
   ]
  },
  {
   "cell_type": "markdown",
   "metadata": {
    "id": "aDoBJxbA_Zct"
   },
   "source": [
    "Call `replace_wrong_genres()` and pass it arguments so that it clears implicit duplcates (`hip`, `hop`, and `hip-hop`) and replaces them with `hiphop`:"
   ]
  },
  {
   "cell_type": "code",
   "execution_count": 18,
   "metadata": {
    "id": "YN5i2hpmSo09"
   },
   "outputs": [],
   "source": [
    "# removing implicit duplicates\n",
    "wrong_genre_hip_hop = ['hip', 'hop', 'hip-hop']\n",
    "correct_genre_hip_hop = 'hiphop'\n",
    "\n",
    "replace_wrong_genres(wrong_genre_hip_hop, correct_genre_hip_hop)"
   ]
  },
  {
   "cell_type": "markdown",
   "metadata": {
    "id": "zQKF16_RG15m"
   },
   "source": [
    "Make sure the duplicate names were removed. Print the list of unique values from the `'genre'` column:"
   ]
  },
  {
   "cell_type": "code",
   "execution_count": 19,
   "metadata": {
    "id": "wvixALnFG15m"
   },
   "outputs": [
    {
     "name": "stdout",
     "output_type": "stream",
     "text": [
      "['acid' 'acoustic' 'action' 'adult' 'africa' 'afrikaans' 'alternative'\n",
      " 'ambient' 'americana' 'animated' 'anime' 'arabesk' 'arabic' 'arena'\n",
      " 'argentinetango' 'art' 'audiobook' 'avantgarde' 'axé' 'baile' 'balkan'\n",
      " 'beats' 'bigroom' 'black' 'bluegrass' 'blues' 'bollywood' 'bossa'\n",
      " 'brazilian' 'breakbeat' 'breaks' 'broadway' 'cantautori' 'cantopop'\n",
      " 'canzone' 'caribbean' 'caucasian' 'celtic' 'chamber' 'children' 'chill'\n",
      " 'chinese' 'choral' 'christian' 'christmas' 'classical' 'classicmetal'\n",
      " 'club' 'colombian' 'comedy' 'conjazz' 'contemporary' 'country' 'cuban'\n",
      " 'dance' 'dancehall' 'dancepop' 'dark' 'death' 'deep' 'deutschrock'\n",
      " 'deutschspr' 'dirty' 'disco' 'dnb' 'documentary' 'downbeat' 'downtempo'\n",
      " 'drum' 'dub' 'dubstep' 'eastern' 'easy' 'electronic' 'electropop' 'emo'\n",
      " 'entehno' 'epicmetal' 'estrada' 'ethnic' 'eurofolk' 'european'\n",
      " 'experimental' 'extrememetal' 'fado' 'film' 'fitness' 'flamenco' 'folk'\n",
      " 'folklore' 'folkmetal' 'folkrock' 'folktronica' 'forró' 'frankreich'\n",
      " 'französisch' 'french' 'funk' 'future' 'gangsta' 'garage' 'german'\n",
      " 'ghazal' 'gitarre' 'glitch' 'gospel' 'gothic' 'grime' 'grunge' 'gypsy'\n",
      " 'handsup' \"hard'n'heavy\" 'hardcore' 'hardstyle' 'hardtechno' 'hiphop'\n",
      " 'historisch' 'holiday' 'horror' 'house' 'idm' 'independent' 'indian'\n",
      " 'indie' 'indipop' 'industrial' 'inspirational' 'instrumental'\n",
      " 'international' 'irish' 'jam' 'japanese' 'jazz' 'jewish' 'jpop' 'jungle'\n",
      " 'k-pop' 'karadeniz' 'karaoke' 'kayokyoku' 'korean' 'laiko' 'latin'\n",
      " 'latino' 'leftfield' 'local' 'lounge' 'loungeelectronic' 'lovers'\n",
      " 'malaysian' 'mandopop' 'marschmusik' 'meditative' 'mediterranean'\n",
      " 'melodic' 'metal' 'metalcore' 'mexican' 'middle' 'minimal'\n",
      " 'miscellaneous' 'modern' 'mood' 'mpb' 'muslim' 'native' 'neoklassik'\n",
      " 'neue' 'new' 'newage' 'newwave' 'nu' 'nujazz' 'numetal' 'oceania' 'old'\n",
      " 'opera' 'orchestral' 'other' 'piano' 'pop' 'popelectronic' 'popeurodance'\n",
      " 'post' 'posthardcore' 'postrock' 'power' 'progmetal' 'progressive'\n",
      " 'psychedelic' 'punjabi' 'punk' 'quebecois' 'ragga' 'ram' 'rancheras'\n",
      " 'rap' 'rave' 'reggae' 'reggaeton' 'regional' 'relax' 'religious' 'retro'\n",
      " 'rhythm' 'rnb' 'rnr' 'rock' 'rockabilly' 'romance' 'roots' 'ruspop'\n",
      " 'rusrap' 'rusrock' 'salsa' 'samba' 'schlager' 'self' 'sertanejo'\n",
      " 'shoegazing' 'showtunes' 'singer' 'ska' 'slow' 'smooth' 'soul' 'soulful'\n",
      " 'sound' 'soundtrack' 'southern' 'specialty' 'speech' 'spiritual' 'sport'\n",
      " 'stonerrock' 'surf' 'swing' 'synthpop' 'sängerportrait' 'tango'\n",
      " 'tanzorchester' 'taraftar' 'tech' 'techno' 'thrash' 'top' 'traditional'\n",
      " 'tradjazz' 'trance' 'tribal' 'trip' 'triphop' 'tropical' 'türk' 'türkçe'\n",
      " 'unknown' 'urban' 'uzbek' 'variété' 'vi' 'videogame' 'vocal' 'western'\n",
      " 'world' 'worldbeat' 'ïîï']\n"
     ]
    }
   ],
   "source": [
    "# checking for implicit duplicates\n",
    "dfGenreSorted = df['genre'].sort_values()\n",
    "print(dfGenreSorted.unique())"
   ]
  },
  {
   "cell_type": "markdown",
   "metadata": {
    "id": "ALgNbvF3VtPA"
   },
   "source": [
    "[Back to Contents](#back)"
   ]
  },
  {
   "cell_type": "markdown",
   "metadata": {
    "id": "jz6a9-7HQUDd"
   },
   "source": [
    "### Conclusions <a id='data_preprocessing_conclusions'></a>\n",
    "We detected three issues with the data:\n",
    "\n",
    "- Incorrect header styles\n",
    "- Missing values\n",
    "- Obvious and implicit duplicates\n",
    "\n",
    "The headers have been cleaned up to make processing the table simpler.\n",
    "\n",
    "All missing values have been replaced with `'unknown'`. But we still have to see whether the missing values in `'genre'` will affect our calculations.\n",
    "\n",
    "The absence of duplicates will make the results more precise and easier to understand.\n",
    "\n",
    "Now we can move on to testing hypotheses. "
   ]
  },
  {
   "cell_type": "markdown",
   "metadata": {
    "id": "eK1es74rVujj"
   },
   "source": [
    "[Back to Contents](#back)"
   ]
  },
  {
   "cell_type": "markdown",
   "metadata": {
    "id": "WttZHXH0SqKk"
   },
   "source": [
    "## Stage 3. Testing hypotheses <a id='hypotheses'></a>"
   ]
  },
  {
   "cell_type": "markdown",
   "metadata": {
    "id": "Im936VVi_Zcu"
   },
   "source": [
    "### Hypothesis 1: comparing user behavior in two cities <a id='activity'></a>"
   ]
  },
  {
   "cell_type": "markdown",
   "metadata": {
    "id": "nwt_MuaL_Zcu"
   },
   "source": [
    "According to the first hypothesis, users from Springfield and Shelbyville listen to music differently. Test this using the data on three days of the week: Monday, Wednesday, and Friday.\n",
    "\n",
    "* Divide the users into groups by city.\n",
    "* Compare how many tracks each group played on Monday, Wednesday, and Friday.\n"
   ]
  },
  {
   "cell_type": "markdown",
   "metadata": {
    "id": "8Dw_YMmT_Zcu"
   },
   "source": [
    "For the sake of practice, perform each computation separately. \n",
    "\n",
    "Evaluate user activity in each city. Group the data by city and find the number of songs played in each group.\n",
    "\n"
   ]
  },
  {
   "cell_type": "code",
   "execution_count": 20,
   "metadata": {
    "id": "0_Qs96oh_Zcu"
   },
   "outputs": [
    {
     "data": {
      "text/html": [
       "<div>\n",
       "<style scoped>\n",
       "    .dataframe tbody tr th:only-of-type {\n",
       "        vertical-align: middle;\n",
       "    }\n",
       "\n",
       "    .dataframe tbody tr th {\n",
       "        vertical-align: top;\n",
       "    }\n",
       "\n",
       "    .dataframe thead th {\n",
       "        text-align: right;\n",
       "    }\n",
       "</style>\n",
       "<table border=\"1\" class=\"dataframe\">\n",
       "  <thead>\n",
       "    <tr style=\"text-align: right;\">\n",
       "      <th></th>\n",
       "      <th>user_ID</th>\n",
       "      <th>track</th>\n",
       "      <th>artist</th>\n",
       "      <th>genre</th>\n",
       "      <th>time</th>\n",
       "      <th>day</th>\n",
       "    </tr>\n",
       "    <tr>\n",
       "      <th>city</th>\n",
       "      <th></th>\n",
       "      <th></th>\n",
       "      <th></th>\n",
       "      <th></th>\n",
       "      <th></th>\n",
       "      <th></th>\n",
       "    </tr>\n",
       "  </thead>\n",
       "  <tbody>\n",
       "    <tr>\n",
       "      <td>Shelbyville</td>\n",
       "      <td>18512</td>\n",
       "      <td>18512</td>\n",
       "      <td>18512</td>\n",
       "      <td>18512</td>\n",
       "      <td>18512</td>\n",
       "      <td>18512</td>\n",
       "    </tr>\n",
       "    <tr>\n",
       "      <td>Springfield</td>\n",
       "      <td>42741</td>\n",
       "      <td>42741</td>\n",
       "      <td>42741</td>\n",
       "      <td>42741</td>\n",
       "      <td>42741</td>\n",
       "      <td>42741</td>\n",
       "    </tr>\n",
       "  </tbody>\n",
       "</table>\n",
       "</div>"
      ],
      "text/plain": [
       "             user_ID  track  artist  genre   time    day\n",
       "city                                                    \n",
       "Shelbyville    18512  18512   18512  18512  18512  18512\n",
       "Springfield    42741  42741   42741  42741  42741  42741"
      ]
     },
     "execution_count": 20,
     "metadata": {},
     "output_type": "execute_result"
    }
   ],
   "source": [
    "# Counting up the tracks played in each city\n",
    "df.groupby('city').count()"
   ]
  },
  {
   "cell_type": "code",
   "execution_count": 21,
   "metadata": {},
   "outputs": [
    {
     "data": {
      "text/plain": [
       "city         day      \n",
       "Shelbyville  Friday        5895\n",
       "             Monday        5614\n",
       "             Wednesday     7003\n",
       "Springfield  Friday       15945\n",
       "             Monday       15740\n",
       "             Wednesday    11056\n",
       "Name: track, dtype: int64"
      ]
     },
     "execution_count": 21,
     "metadata": {},
     "output_type": "execute_result"
    }
   ],
   "source": [
    "df.groupby(['city', 'day'])['track'].count()"
   ]
  },
  {
   "cell_type": "code",
   "execution_count": 22,
   "metadata": {},
   "outputs": [
    {
     "data": {
      "text/plain": [
       "array(['Wednesday', 'Friday', 'Monday'], dtype=object)"
      ]
     },
     "execution_count": 22,
     "metadata": {},
     "output_type": "execute_result"
    }
   ],
   "source": [
    "df['day'].unique()"
   ]
  },
  {
   "cell_type": "markdown",
   "metadata": {
    "id": "dzli3w8o_Zcu"
   },
   "source": [
    "Springfield has more tracks played than Shelbyville. But that does not imply that citizens of Springfield listen to music more often. This city is simply bigger, and there are more users.\n",
    "\n",
    "Now group the data by day of the week and find the number of tracks played on Monday, Wednesday, and Friday.\n"
   ]
  },
  {
   "cell_type": "code",
   "execution_count": 23,
   "metadata": {
    "id": "uZMKjiJz_Zcu"
   },
   "outputs": [
    {
     "data": {
      "text/plain": [
       "day\n",
       "Friday       21840\n",
       "Monday       21354\n",
       "Wednesday    18059\n",
       "Name: track, dtype: int64"
      ]
     },
     "execution_count": 23,
     "metadata": {},
     "output_type": "execute_result"
    }
   ],
   "source": [
    "# Calculating tracks played on each of the three days\n",
    "df.groupby(['day'])['track'].count()"
   ]
  },
  {
   "cell_type": "markdown",
   "metadata": {
    "id": "cC2tNrlL_Zcu"
   },
   "source": [
    "Wednesday is the quietest day overall. But if we consider the two cities separately, we might come to a different conclusion."
   ]
  },
  {
   "cell_type": "markdown",
   "metadata": {
    "id": "POzs8bGa_Zcu"
   },
   "source": [
    "You have seen how grouping by city or day works. Now write a function that will group by both.\n",
    "\n",
    "Create the `number_tracks()` function to calculate the number of songs played for a given day and city. It will require two parameters:\n",
    "* day of the week\n",
    "* name of the city\n",
    "\n",
    "In the function, use a variable to store the rows from the original table, where:\n",
    "  * `'day'` column value is equal to the `day` parameter\n",
    "  * `'city'` column value is equal to the `city` parameter\n",
    "\n",
    "Apply consecutive filtering with logical indexing.\n",
    "\n",
    "Then calculate the `'user_id'` column values in the resulting table. Store the result to a new variable. Return this variable from the function."
   ]
  },
  {
   "cell_type": "code",
   "execution_count": 24,
   "metadata": {},
   "outputs": [
    {
     "data": {
      "text/html": [
       "<div>\n",
       "<style scoped>\n",
       "    .dataframe tbody tr th:only-of-type {\n",
       "        vertical-align: middle;\n",
       "    }\n",
       "\n",
       "    .dataframe tbody tr th {\n",
       "        vertical-align: top;\n",
       "    }\n",
       "\n",
       "    .dataframe thead th {\n",
       "        text-align: right;\n",
       "    }\n",
       "</style>\n",
       "<table border=\"1\" class=\"dataframe\">\n",
       "  <thead>\n",
       "    <tr style=\"text-align: right;\">\n",
       "      <th></th>\n",
       "      <th>city</th>\n",
       "      <th>day</th>\n",
       "    </tr>\n",
       "  </thead>\n",
       "  <tbody>\n",
       "    <tr>\n",
       "      <td>0</td>\n",
       "      <td>Shelbyville</td>\n",
       "      <td>Wednesday</td>\n",
       "    </tr>\n",
       "    <tr>\n",
       "      <td>1</td>\n",
       "      <td>Springfield</td>\n",
       "      <td>Friday</td>\n",
       "    </tr>\n",
       "    <tr>\n",
       "      <td>2</td>\n",
       "      <td>Shelbyville</td>\n",
       "      <td>Wednesday</td>\n",
       "    </tr>\n",
       "    <tr>\n",
       "      <td>3</td>\n",
       "      <td>Shelbyville</td>\n",
       "      <td>Monday</td>\n",
       "    </tr>\n",
       "    <tr>\n",
       "      <td>4</td>\n",
       "      <td>Springfield</td>\n",
       "      <td>Monday</td>\n",
       "    </tr>\n",
       "    <tr>\n",
       "      <td>...</td>\n",
       "      <td>...</td>\n",
       "      <td>...</td>\n",
       "    </tr>\n",
       "    <tr>\n",
       "      <td>65074</td>\n",
       "      <td>Springfield</td>\n",
       "      <td>Wednesday</td>\n",
       "    </tr>\n",
       "    <tr>\n",
       "      <td>65075</td>\n",
       "      <td>Shelbyville</td>\n",
       "      <td>Monday</td>\n",
       "    </tr>\n",
       "    <tr>\n",
       "      <td>65076</td>\n",
       "      <td>Springfield</td>\n",
       "      <td>Friday</td>\n",
       "    </tr>\n",
       "    <tr>\n",
       "      <td>65077</td>\n",
       "      <td>Springfield</td>\n",
       "      <td>Friday</td>\n",
       "    </tr>\n",
       "    <tr>\n",
       "      <td>65078</td>\n",
       "      <td>Springfield</td>\n",
       "      <td>Friday</td>\n",
       "    </tr>\n",
       "  </tbody>\n",
       "</table>\n",
       "<p>61253 rows × 2 columns</p>\n",
       "</div>"
      ],
      "text/plain": [
       "              city        day\n",
       "0      Shelbyville  Wednesday\n",
       "1      Springfield     Friday\n",
       "2      Shelbyville  Wednesday\n",
       "3      Shelbyville     Monday\n",
       "4      Springfield     Monday\n",
       "...            ...        ...\n",
       "65074  Springfield  Wednesday\n",
       "65075  Shelbyville     Monday\n",
       "65076  Springfield     Friday\n",
       "65077  Springfield     Friday\n",
       "65078  Springfield     Friday\n",
       "\n",
       "[61253 rows x 2 columns]"
      ]
     },
     "execution_count": 24,
     "metadata": {},
     "output_type": "execute_result"
    }
   ],
   "source": [
    "df[['city', 'day']]"
   ]
  },
  {
   "cell_type": "code",
   "execution_count": 25,
   "metadata": {
    "id": "Nz3GdQB1_Zcu"
   },
   "outputs": [],
   "source": [
    "# <creating the function number_tracks()>\n",
    "# We'll declare a function with two parameters: day=, city=.\n",
    "# Let the track_list variable store the df rows where\n",
    "# the value in the 'day' column is equal to the day= parameter and, at the same time, \n",
    "# the value in the 'city' column is equal to the city= parameter (apply consecutive filtering \n",
    "# with logical indexing).\n",
    "# Let the track_list_count variable store the number of 'user_id' column values in track_list\n",
    "# (found with the count() method).\n",
    "# Let the function return a number: the value of track_list_count.\n",
    "\n",
    "# The function counts tracked played for a certain city and day.\n",
    "# It first retrieves the rows with the intended day from the table,\n",
    "# then filters out the rows with the intended city from the result,\n",
    "# then finds the number of 'user_id' values in the filtered table,\n",
    "# then returns that number.\n",
    "# To see what it returns, wrap the function call in print().\n",
    "def number_tracks(day, city):\n",
    "    #consecutive filtering\n",
    "    track_list = df[df['day'] == day]\n",
    "    track_list = track_list[track_list['city'] == city]\n",
    "\n",
    "    track_list_count = track_list['user_ID'].count() \n",
    "    return track_list_count"
   ]
  },
  {
   "cell_type": "markdown",
   "metadata": {
    "id": "ytf7xFrFJQ2r"
   },
   "source": [
    "Call `number_tracks()` six times, changing the parameter values, so that you retrieve the data on both cities for each of the three days."
   ]
  },
  {
   "cell_type": "code",
   "execution_count": 26,
   "metadata": {
    "id": "rJcRATNQ_Zcu"
   },
   "outputs": [
    {
     "name": "stdout",
     "output_type": "stream",
     "text": [
      "15740\n"
     ]
    }
   ],
   "source": [
    "# the number of songs played in Springfield on Monday\n",
    "print(number_tracks('Monday', 'Springfield'))"
   ]
  },
  {
   "cell_type": "code",
   "execution_count": 27,
   "metadata": {
    "id": "hq_ncZ5T_Zcu"
   },
   "outputs": [
    {
     "name": "stdout",
     "output_type": "stream",
     "text": [
      "5614\n"
     ]
    }
   ],
   "source": [
    "# the number of songs played in Shelbyville on Monday\n",
    "print(number_tracks('Monday', 'Shelbyville'))"
   ]
  },
  {
   "cell_type": "code",
   "execution_count": 28,
   "metadata": {
    "id": "_NTy2VPU_Zcu"
   },
   "outputs": [
    {
     "name": "stdout",
     "output_type": "stream",
     "text": [
      "11056\n"
     ]
    }
   ],
   "source": [
    "# the number of songs played in Springfield on Wednesday\n",
    "print(number_tracks('Wednesday', 'Springfield'))"
   ]
  },
  {
   "cell_type": "code",
   "execution_count": 29,
   "metadata": {
    "id": "j2y3TAwo_Zcu"
   },
   "outputs": [
    {
     "name": "stdout",
     "output_type": "stream",
     "text": [
      "7003\n"
     ]
    }
   ],
   "source": [
    "# the number of songs played in Shelbyville on Wednesday\n",
    "print(number_tracks('Wednesday', 'Shelbyville'))"
   ]
  },
  {
   "cell_type": "code",
   "execution_count": 30,
   "metadata": {
    "id": "vYDw5u_K_Zcu"
   },
   "outputs": [
    {
     "name": "stdout",
     "output_type": "stream",
     "text": [
      "15945\n"
     ]
    }
   ],
   "source": [
    "# the number of songs played in Springfield on Friday\n",
    "print(number_tracks('Friday', 'Springfield'))"
   ]
  },
  {
   "cell_type": "code",
   "execution_count": 31,
   "metadata": {
    "id": "8_yzFtW3_Zcu"
   },
   "outputs": [
    {
     "name": "stdout",
     "output_type": "stream",
     "text": [
      "5895\n"
     ]
    }
   ],
   "source": [
    "# the number of songs played in Shelbyville on Friday\n",
    "print(number_tracks('Friday', 'Shelbyville'))"
   ]
  },
  {
   "cell_type": "markdown",
   "metadata": {
    "id": "7QXffbO-_Zcu"
   },
   "source": [
    "Use `pd.DataFrame` to create a table, where\n",
    "* Column names are: `['city', 'monday', 'wednesday', 'friday']`\n",
    "* The data is the results you got from `number_tracks()`"
   ]
  },
  {
   "cell_type": "code",
   "execution_count": 32,
   "metadata": {
    "id": "APAcLpOr_Zcu"
   },
   "outputs": [],
   "source": [
    "# table with results\n",
    "column_names = ['city', 'monday', 'wednesday', 'friday']\n",
    "data = [['Springfield', number_tracks('Monday', 'Springfield'), \n",
    "         number_tracks('Wednesday', 'Springfield'), number_tracks('Friday', 'Springfield')],\n",
    "        ['Shelbyville', number_tracks('Monday', 'Shelbyville'), \n",
    "         number_tracks('Wednesday', 'Shelbyville'), number_tracks('Friday', 'Shelbyville')]]\n",
    "        \n",
    "newDf = pd.DataFrame(data = data, columns = column_names)\n"
   ]
  },
  {
   "cell_type": "code",
   "execution_count": 33,
   "metadata": {},
   "outputs": [
    {
     "name": "stdout",
     "output_type": "stream",
     "text": [
      "          city  monday  wednesday  friday\n",
      "0  Springfield   15740      11056   15945\n",
      "1  Shelbyville    5614       7003    5895\n"
     ]
    }
   ],
   "source": [
    "print(newDf.head())"
   ]
  },
  {
   "cell_type": "markdown",
   "metadata": {
    "id": "-EgPIHYu_Zcu"
   },
   "source": [
    "**Conclusions**\n",
    "\n",
    "The data reveals differences in user behavior:\n",
    "\n",
    "- In Springfield, the number of songs played peaks on Mondays and Fridays, while on Wednesday there is a decrease in activity.\n",
    "- In Shelbyville, on the contrary, users listen to music more on Wednesday. User activity on Monday and Friday is smaller.\n",
    "\n",
    "So the first hypothesis seems to be correct."
   ]
  },
  {
   "cell_type": "markdown",
   "metadata": {
    "id": "p7nFQajCVw5B"
   },
   "source": [
    "[Back to Contents](#back)"
   ]
  },
  {
   "cell_type": "markdown",
   "metadata": {
    "id": "atZAxtq4_Zcu"
   },
   "source": [
    "### Hypothesis 2: music at the beginning and end of the week <a id='week'></a>"
   ]
  },
  {
   "cell_type": "markdown",
   "metadata": {
    "id": "eXrQqXFH_Zcu"
   },
   "source": [
    "According to the second hypothesis, on Monday morning and Friday night, citizens of Springfield listen to genres that differ from ones users from Shelbyville enjoy."
   ]
  },
  {
   "cell_type": "markdown",
   "metadata": {
    "id": "S8UcW6Hw_Zcu"
   },
   "source": [
    "Get tables (make sure that the name of your combined table matches the DataFrame given in the two code blocks below):\n",
    "* For Springfield — `spr_general`\n",
    "* For Shelbyville — `shel_general`"
   ]
  },
  {
   "cell_type": "code",
   "execution_count": 34,
   "metadata": {
    "id": "qeaFfM_P_Zcu",
    "pycharm": {
     "is_executing": true
    }
   },
   "outputs": [],
   "source": [
    "# create the spr_general table from the df rows, \n",
    "# where the value in the 'city' column is 'Springfield'\n",
    "spr_general = df[df['city'] == 'Springfield']"
   ]
  },
  {
   "cell_type": "code",
   "execution_count": 35,
   "metadata": {
    "id": "ORaVRKto_Zcu"
   },
   "outputs": [],
   "source": [
    "# create the shel_general from the df rows,\n",
    "# where the value in the 'city' column is 'Shelbyville'\n",
    "shel_general = df[df['city'] == 'Shelbyville']"
   ]
  },
  {
   "cell_type": "markdown",
   "metadata": {
    "id": "MEJV-CX2_Zcu"
   },
   "source": [
    "Write the `genre_weekday()` function with four parameters:\n",
    "* A table for data (`df`)\n",
    "* The day of the week (`day`)\n",
    "* The first timestamp, in 'hh:mm' format (`time1`)\n",
    "* The last timestamp, in 'hh:mm' format (`time2`)\n",
    "\n",
    "The function should return info on the 15 most popular genres on a given day within the period between the two timestamps."
   ]
  },
  {
   "cell_type": "code",
   "execution_count": 51,
   "metadata": {},
   "outputs": [
    {
     "data": {
      "text/plain": [
       "array(['user_ID', 'track', 'artist', 'genre', 'city', 'time', 'day'],\n",
       "      dtype=object)"
      ]
     },
     "execution_count": 51,
     "metadata": {},
     "output_type": "execute_result"
    }
   ],
   "source": [
    "df.columns.values"
   ]
  },
  {
   "cell_type": "code",
   "execution_count": 83,
   "metadata": {
    "id": "laJT9BYl_Zcu"
   },
   "outputs": [],
   "source": [
    "# 1) Let the genre_df variable store the rows that meet several conditions:\n",
    "#    - the value in the 'day' column is equal to the value of the day= argument\n",
    "#    - the value in the 'time' column is greater than the value of the time1= argument\n",
    "#    - the value in the 'time' column is smaller than the value of the time2= argument\n",
    "#    Use consecutive filtering with logical indexing.\n",
    "\n",
    "# 2) Group genre_df by the 'genre' column, take one of its columns, \n",
    "#    and use the count() method to find the number of entries for each of \n",
    "#    the represented genres; store the resulting Series to the\n",
    "#    genre_df_count variable\n",
    "\n",
    "# 3) Sort genre_df_count in descending order of frequency and store the result\n",
    "#    to the genre_df_sorted variable\n",
    "\n",
    "# 4) Return a Series object with the first 15 genre_df_sorted value - the 15 most\n",
    "#    popular genres (on a given day, within a certain timeframe)\n",
    "\n",
    "# Write your function here\n",
    "def genre_weekday(df, day, time1, time2):\n",
    "    # consecutive filtering\n",
    "    # Create the variable genre_df which will store only those df rows where the day is equal to day=\n",
    "    genre_df = df[df['day'] == day]\n",
    "\n",
    "    # filter again so that genre_df will store only those rows where the time is smaller than time2=\n",
    "    genre_df = genre_df[genre_df['time'] < time2]\n",
    "\n",
    "    # filter once more so that genre_df will store only rows where the time is greater than time1=\n",
    "    genre_df = genre_df[genre_df['time'] > time1]\n",
    "\n",
    "    # group the filtered DataFrame by the column with the names of genres, take the genre column, and find the number of rows for each genre with the count() method\n",
    "    genre_df_count = genre_df.groupby('genre').count()\n",
    "\n",
    "    # sort the result in descending order (so that the most popular genres come first in the Series object)\n",
    "    genre_df_sorted = genre_df_count.sort_values('track', ascending=False)['track']\n",
    "\n",
    "    # we will return the Series object storing the 15 most popular genres on a given day in a given timeframe\n",
    "    return genre_df_sorted[:15]"
   ]
  },
  {
   "cell_type": "markdown",
   "metadata": {
    "id": "la2s2_PF_Zcu"
   },
   "source": [
    "Compare the results of the `genre_weekday()` function for Springfield and Shelbyville on Monday morning (from 7AM to 11AM) and on Friday evening (from 17:00 to 23:00):"
   ]
  },
  {
   "cell_type": "code",
   "execution_count": 84,
   "metadata": {
    "id": "yz7itPUQ_Zcu"
   },
   "outputs": [
    {
     "name": "stdout",
     "output_type": "stream",
     "text": [
      "genre\n",
      "pop            781\n",
      "dance          549\n",
      "electronic     480\n",
      "rock           474\n",
      "hiphop         286\n",
      "ruspop         186\n",
      "world          181\n",
      "rusrap         175\n",
      "alternative    164\n",
      "unknown        161\n",
      "classical      157\n",
      "metal          120\n",
      "jazz           100\n",
      "folk            97\n",
      "soundtrack      95\n",
      "Name: track, dtype: int64\n"
     ]
    }
   ],
   "source": [
    "# calling the function for Monday morning in Springfield (use spr_general instead of the df table)\n",
    "print(genre_weekday(spr_general, 'Monday', '07:00', '11:00'))"
   ]
  },
  {
   "cell_type": "code",
   "execution_count": 86,
   "metadata": {
    "id": "kwUcHPdy_Zcu"
   },
   "outputs": [
    {
     "name": "stdout",
     "output_type": "stream",
     "text": [
      "genre\n",
      "pop            218\n",
      "dance          182\n",
      "rock           162\n",
      "electronic     147\n",
      "hiphop          80\n",
      "ruspop          64\n",
      "alternative     58\n",
      "rusrap          55\n",
      "jazz            44\n",
      "classical       40\n",
      "world           36\n",
      "rap             32\n",
      "soundtrack      31\n",
      "rnb             27\n",
      "metal           27\n",
      "Name: track, dtype: int64\n"
     ]
    }
   ],
   "source": [
    "# calling the function for Monday morning in Shelbyville (use shel_general instead of the df table)\n",
    "print(genre_weekday(shel_general, 'Monday', '07:00', '11:00'))"
   ]
  },
  {
   "cell_type": "code",
   "execution_count": 85,
   "metadata": {
    "id": "EzXVRE1o_Zcu"
   },
   "outputs": [
    {
     "name": "stdout",
     "output_type": "stream",
     "text": [
      "genre\n",
      "pop            713\n",
      "rock           517\n",
      "dance          495\n",
      "electronic     482\n",
      "hiphop         273\n",
      "world          208\n",
      "ruspop         170\n",
      "classical      163\n",
      "alternative    163\n",
      "rusrap         142\n",
      "jazz           111\n",
      "unknown        110\n",
      "soundtrack     105\n",
      "rnb             90\n",
      "metal           88\n",
      "Name: track, dtype: int64\n"
     ]
    }
   ],
   "source": [
    "# calling the function for Friday evening in Springfield\n",
    "print(genre_weekday(spr_general, 'Friday', '17:00', '23:00'))"
   ]
  },
  {
   "cell_type": "code",
   "execution_count": 87,
   "metadata": {
    "id": "JZaEKu5v_Zcu"
   },
   "outputs": [
    {
     "name": "stdout",
     "output_type": "stream",
     "text": [
      "genre\n",
      "pop            256\n",
      "rock           216\n",
      "electronic     216\n",
      "dance          210\n",
      "hiphop          97\n",
      "alternative     63\n",
      "jazz            61\n",
      "classical       60\n",
      "rusrap          59\n",
      "world           54\n",
      "unknown         47\n",
      "ruspop          47\n",
      "soundtrack      40\n",
      "metal           39\n",
      "rap             36\n",
      "Name: track, dtype: int64\n"
     ]
    }
   ],
   "source": [
    "# calling the function for Friday evening in Shelbyville\n",
    "print(genre_weekday(shel_general, 'Friday', '17:00', '23:00'))"
   ]
  },
  {
   "cell_type": "markdown",
   "metadata": {
    "id": "wrCe4MNX_Zcu"
   },
   "source": [
    "**Conclusion**\n",
    "\n",
    "Having compared the top 15 genres on Monday morning, we can draw the following conclusions:\n",
    "\n",
    "1. Users from Springfield and Shelbyville listen to similar music. The top five genres are the same, only rock and electronic have switched places.\n",
    "\n",
    "2. In Springfield, the number of missing values turned out to be so big that the value `'unknown'` came in 10th. This means that missing values make up a considerable portion of the data, which may be a basis for questioning the reliability of our conclusions.\n",
    "\n",
    "For Friday evening, the situation is similar. Individual genres vary somewhat, but on the whole, the top 15 is similar for the two cities.\n",
    "\n",
    "Thus, the second hypothesis has been partially proven true:\n",
    "* Users listen to similar music at the beginning and end of the week.\n",
    "* There is no major difference between Springfield and Shelbyville. In both cities, pop is the most popular genre.\n",
    "\n",
    "However, the number of missing values makes this result questionable. In Springfield, there are so many that they affect our top 15. Were we not missing these values, things might look different."
   ]
  },
  {
   "cell_type": "markdown",
   "metadata": {
    "id": "jLmXgdanVyhP"
   },
   "source": [
    "[Back to Contents](#back)"
   ]
  },
  {
   "cell_type": "markdown",
   "metadata": {
    "id": "JolODAqr_Zcu"
   },
   "source": [
    "### Hypothesis 3: genre preferences in Springfield and Shelbyville <a id='genre'></a>\n",
    "\n",
    "Hypothesis: Shelbyville loves rap music. Springfield's citizens are more into pop."
   ]
  },
  {
   "cell_type": "markdown",
   "metadata": {
    "id": "DlegSvaT_Zcu"
   },
   "source": [
    "Group the `spr_general` table by genre and find the number of songs played for each genre with the `count()` method. Then sort the result in descending order and store it to `spr_genres`."
   ]
  },
  {
   "cell_type": "code",
   "execution_count": 89,
   "metadata": {
    "id": "r19lIPke_Zcu"
   },
   "outputs": [],
   "source": [
    "# on one line: group the spr_general table by the 'genre' column, \n",
    "# count the 'genre' values with count() in the grouping, \n",
    "# sort the resulting Series in descending order, and store it to spr_genres\n",
    "spr_genres = spr_general.groupby('genre').count().sort_values('track', ascending=False)"
   ]
  },
  {
   "cell_type": "markdown",
   "metadata": {
    "id": "6kMuomxTiIr8"
   },
   "source": [
    "Print the first 10 rows from `spr_genres`:"
   ]
  },
  {
   "cell_type": "code",
   "execution_count": 90,
   "metadata": {
    "id": "WhCSooF8_Zcv"
   },
   "outputs": [
    {
     "name": "stdout",
     "output_type": "stream",
     "text": [
      "             user_ID  track  artist  city  time   day\n",
      "genre                                                \n",
      "pop             5892   5892    5892  5892  5892  5892\n",
      "dance           4435   4435    4435  4435  4435  4435\n",
      "rock            3965   3965    3965  3965  3965  3965\n",
      "electronic      3786   3786    3786  3786  3786  3786\n",
      "hiphop          2096   2096    2096  2096  2096  2096\n",
      "classical       1616   1616    1616  1616  1616  1616\n",
      "world           1432   1432    1432  1432  1432  1432\n",
      "alternative     1379   1379    1379  1379  1379  1379\n",
      "ruspop          1372   1372    1372  1372  1372  1372\n",
      "rusrap          1161   1161    1161  1161  1161  1161\n"
     ]
    }
   ],
   "source": [
    "# printing the first 10 rows of spr_genres\n",
    "print(spr_genres.head(10))"
   ]
  },
  {
   "cell_type": "markdown",
   "metadata": {
    "id": "cnPG2vnN_Zcv"
   },
   "source": [
    "Now do the same with the data on Shelbyville.\n",
    "\n",
    "Group the `shel_general` table by genre and find the number of songs played for each genre. Then sort the result in descending order and store it to the `shel_genres` table:\n"
   ]
  },
  {
   "cell_type": "code",
   "execution_count": 91,
   "metadata": {
    "id": "gluLIpE7_Zcv"
   },
   "outputs": [],
   "source": [
    "# on one line: group the shel_general table by the 'genre' column, \n",
    "# count the 'genre' values in the grouping with count(), \n",
    "# sort the resulting Series in descending order and store it to shel_genres\n",
    "shel_genres = shel_general.groupby('genre').count().sort_values('track', ascending=False)"
   ]
  },
  {
   "cell_type": "markdown",
   "metadata": {
    "id": "5Doha_ODgyQ8"
   },
   "source": [
    "Print the first 10 rows of `shel_genres`:"
   ]
  },
  {
   "cell_type": "code",
   "execution_count": 93,
   "metadata": {
    "id": "uaGJHjVU_Zcv"
   },
   "outputs": [
    {
     "name": "stdout",
     "output_type": "stream",
     "text": [
      "             user_ID  track  artist  city  time   day\n",
      "genre                                                \n",
      "pop             2431   2431    2431  2431  2431  2431\n",
      "dance           1932   1932    1932  1932  1932  1932\n",
      "rock            1879   1879    1879  1879  1879  1879\n",
      "electronic      1736   1736    1736  1736  1736  1736\n",
      "hiphop           960    960     960   960   960   960\n",
      "alternative      649    649     649   649   649   649\n",
      "classical        646    646     646   646   646   646\n",
      "rusrap           564    564     564   564   564   564\n",
      "ruspop           538    538     538   538   538   538\n",
      "world            515    515     515   515   515   515\n"
     ]
    }
   ],
   "source": [
    "# printing the first 10 rows from shel_genres\n",
    "print(shel_genres.head(10))"
   ]
  },
  {
   "cell_type": "markdown",
   "metadata": {
    "id": "RY51YJYu_Zcv"
   },
   "source": [
    "**Conclusion**"
   ]
  },
  {
   "cell_type": "markdown",
   "metadata": {
    "id": "nVhnJEm__Zcv"
   },
   "source": [
    "The hypothesis has been partially proven true:\n",
    "* Pop music is the most popular genre in Springfield, as expected.\n",
    "* However, pop music turned out to be equally popular in Springfield and Shelbyville, and rap wasn't in the top 5 for either city.\n"
   ]
  },
  {
   "cell_type": "markdown",
   "metadata": {
    "id": "Byr0RfpPVz14"
   },
   "source": [
    "[Back to Contents](#back)"
   ]
  },
  {
   "cell_type": "markdown",
   "metadata": {
    "id": "ykKQ0N65_Zcv"
   },
   "source": [
    "# Findings <a id='end'></a>"
   ]
  },
  {
   "cell_type": "markdown",
   "metadata": {
    "id": "tjUwbHb3_Zcv"
   },
   "source": [
    "We have tested the following three hypotheses:\n",
    "\n",
    "1. User activity differs depending on the day of the week and from city to city. \n",
    "2. On Monday mornings, Springfield and Shelbyville residents listen to different genres. This is also true for Friday evenings. \n",
    "3. Springfield and Shelbyville listeners have different preferences. In both Springfield and Shelbyville, they prefer pop.\n",
    "\n",
    "After analyzing the data, we concluded:\n",
    "\n",
    "1. User activity in Springfield and Shelbyville depends on the day of the week, though the cities vary in different ways. \n",
    "\n",
    "The first hypothesis is fully accepted.\n",
    "\n",
    "2. Musical preferences do not vary significantly over the course of the week in both Springfield and Shelbyville. We can see small differences in order on Mondays, but:\n",
    "* In Springfield and Shelbyville, people listen to pop music most.\n",
    "\n",
    "So we can't accept this hypothesis. We must also keep in mind that the result could have been different if not for the missing values.\n",
    "\n",
    "3. It turns out that the musical preferences of users from Springfield and Shelbyville are quite similar.\n",
    "\n",
    "The third hypothesis is rejected. If there is any difference in preferences, it cannot be seen from this data.\n",
    "\n",
    "### Note \n",
    "In real projects, research involves statistical hypothesis testing, which is more precise and more quantitative. Also note that you cannot always draw conclusions about an entire city based on the data from just one source.\n",
    "\n",
    "You will study hypothesis testing in the sprint on statistical data analysis."
   ]
  },
  {
   "cell_type": "markdown",
   "metadata": {
    "id": "Ju4AHDSgV1FE"
   },
   "source": [
    "[Back to Contents](#back)"
   ]
  }
 ],
 "metadata": {
  "ExecuteTimeLog": [
   {
    "duration": 794,
    "start_time": "2022-01-23T18:36:00.461Z"
   },
   {
    "duration": 120,
    "start_time": "2022-01-23T18:36:28.155Z"
   },
   {
    "duration": 131,
    "start_time": "2022-01-23T18:36:29.220Z"
   },
   {
    "duration": 8,
    "start_time": "2022-01-23T18:36:36.327Z"
   },
   {
    "duration": 21,
    "start_time": "2022-01-23T18:36:41.258Z"
   },
   {
    "duration": 4,
    "start_time": "2022-01-23T18:39:39.015Z"
   },
   {
    "duration": 244,
    "start_time": "2022-01-26T09:15:37.535Z"
   },
   {
    "duration": 569,
    "start_time": "2022-01-26T09:15:43.116Z"
   },
   {
    "duration": 128,
    "start_time": "2022-01-26T09:15:44.865Z"
   },
   {
    "duration": 144,
    "start_time": "2022-01-26T09:15:45.100Z"
   },
   {
    "duration": 9,
    "start_time": "2022-01-26T09:15:46.230Z"
   },
   {
    "duration": 22,
    "start_time": "2022-01-26T09:15:47.236Z"
   },
   {
    "duration": 3,
    "start_time": "2022-01-26T09:15:50.031Z"
   },
   {
    "duration": 108,
    "start_time": "2022-01-26T09:16:12.797Z"
   },
   {
    "duration": 3,
    "start_time": "2022-01-26T09:16:16.389Z"
   },
   {
    "duration": 3,
    "start_time": "2022-01-26T09:16:22.467Z"
   },
   {
    "duration": 3,
    "start_time": "2022-01-26T09:17:06.423Z"
   },
   {
    "duration": 3,
    "start_time": "2022-01-26T09:17:14.327Z"
   },
   {
    "duration": 247,
    "start_time": "2022-01-26T09:17:40.265Z"
   },
   {
    "duration": 20,
    "start_time": "2022-01-26T09:17:45.707Z"
   },
   {
    "duration": 9,
    "start_time": "2022-01-26T09:21:02.421Z"
   },
   {
    "duration": 32,
    "start_time": "2022-01-26T09:21:33.081Z"
   },
   {
    "duration": 22,
    "start_time": "2022-01-26T09:21:47.916Z"
   },
   {
    "duration": 25,
    "start_time": "2022-01-26T09:22:13.038Z"
   },
   {
    "duration": 14,
    "start_time": "2022-01-26T09:22:15.547Z"
   },
   {
    "duration": 7,
    "start_time": "2022-01-26T09:23:08.619Z"
   },
   {
    "duration": 22,
    "start_time": "2022-01-26T09:23:10.859Z"
   },
   {
    "duration": 457,
    "start_time": "2022-01-28T03:35:58.235Z"
   },
   {
    "duration": 838,
    "start_time": "2022-01-28T03:36:04.970Z"
   },
   {
    "duration": 171,
    "start_time": "2022-01-28T03:36:05.810Z"
   },
   {
    "duration": 199,
    "start_time": "2022-01-28T03:36:05.983Z"
   },
   {
    "duration": 15,
    "start_time": "2022-01-28T03:36:06.276Z"
   },
   {
    "duration": 33,
    "start_time": "2022-01-28T03:36:07.435Z"
   },
   {
    "duration": 6,
    "start_time": "2022-01-28T03:36:10.034Z"
   },
   {
    "duration": 5,
    "start_time": "2022-01-28T03:36:13.830Z"
   },
   {
    "duration": 5,
    "start_time": "2022-01-28T03:36:16.549Z"
   },
   {
    "duration": 4,
    "start_time": "2022-01-28T03:36:17.944Z"
   },
   {
    "duration": 27,
    "start_time": "2022-01-28T03:36:21.852Z"
   },
   {
    "duration": 4999,
    "start_time": "2022-01-28T03:36:25.935Z"
   },
   {
    "duration": 9,
    "start_time": "2022-01-28T03:37:16.290Z"
   },
   {
    "duration": 8,
    "start_time": "2022-01-28T03:37:25.231Z"
   },
   {
    "duration": 3,
    "start_time": "2022-01-28T03:37:56.782Z"
   },
   {
    "duration": 180,
    "start_time": "2022-01-28T03:37:57.280Z"
   },
   {
    "duration": 184,
    "start_time": "2022-01-28T03:37:57.536Z"
   },
   {
    "duration": 14,
    "start_time": "2022-01-28T03:37:58.226Z"
   },
   {
    "duration": 32,
    "start_time": "2022-01-28T03:37:58.723Z"
   },
   {
    "duration": 6,
    "start_time": "2022-01-28T03:37:59.010Z"
   },
   {
    "duration": 4,
    "start_time": "2022-01-28T03:38:00.539Z"
   },
   {
    "duration": 4,
    "start_time": "2022-01-28T03:38:01.047Z"
   },
   {
    "duration": 4,
    "start_time": "2022-01-28T03:38:01.611Z"
   },
   {
    "duration": 28,
    "start_time": "2022-01-28T03:38:03.686Z"
   },
   {
    "duration": 25,
    "start_time": "2022-01-28T03:38:06.322Z"
   },
   {
    "duration": 29,
    "start_time": "2022-01-28T03:38:08.056Z"
   },
   {
    "duration": 78,
    "start_time": "2022-01-28T03:38:36.471Z"
   },
   {
    "duration": 74,
    "start_time": "2022-01-28T03:38:41.763Z"
   },
   {
    "duration": 152,
    "start_time": "2022-01-28T03:40:45.889Z"
   },
   {
    "duration": 7,
    "start_time": "2022-01-28T03:40:53.764Z"
   },
   {
    "duration": 7,
    "start_time": "2022-01-28T03:41:07.304Z"
   },
   {
    "duration": 19,
    "start_time": "2022-01-28T03:41:14.472Z"
   },
   {
    "duration": 27,
    "start_time": "2022-01-28T03:41:45.873Z"
   },
   {
    "duration": 149,
    "start_time": "2022-01-28T03:42:03.501Z"
   },
   {
    "duration": 28,
    "start_time": "2022-01-28T03:42:04.795Z"
   },
   {
    "duration": 146,
    "start_time": "2022-01-28T03:42:17.366Z"
   },
   {
    "duration": 29,
    "start_time": "2022-01-28T03:42:18.104Z"
   },
   {
    "duration": 152,
    "start_time": "2022-01-28T03:42:23.256Z"
   },
   {
    "duration": 146,
    "start_time": "2022-01-28T03:42:28.630Z"
   },
   {
    "duration": 28,
    "start_time": "2022-01-28T03:42:29.264Z"
   },
   {
    "duration": 139,
    "start_time": "2022-01-28T03:43:46.035Z"
   },
   {
    "duration": 78,
    "start_time": "2022-01-28T03:44:26.709Z"
   },
   {
    "duration": 82,
    "start_time": "2022-01-28T03:44:32.327Z"
   },
   {
    "duration": 73,
    "start_time": "2022-01-28T03:44:34.128Z"
   },
   {
    "duration": 235,
    "start_time": "2022-01-28T03:45:04.130Z"
   },
   {
    "duration": 100,
    "start_time": "2022-01-28T03:45:17.948Z"
   },
   {
    "duration": 8,
    "start_time": "2022-01-28T03:45:38.347Z"
   },
   {
    "duration": 56,
    "start_time": "2022-01-28T03:46:58.564Z"
   },
   {
    "duration": 359,
    "start_time": "2022-01-28T03:50:38.496Z"
   },
   {
    "duration": 108,
    "start_time": "2022-01-28T03:50:44.242Z"
   },
   {
    "duration": 4,
    "start_time": "2022-01-28T03:51:39.408Z"
   },
   {
    "duration": 11,
    "start_time": "2022-01-28T03:51:41.735Z"
   },
   {
    "duration": 56,
    "start_time": "2022-01-28T03:52:17.296Z"
   },
   {
    "duration": 5,
    "start_time": "2022-01-28T03:52:51.521Z"
   },
   {
    "duration": 17,
    "start_time": "2022-01-28T03:52:53.386Z"
   },
   {
    "duration": 58,
    "start_time": "2022-01-28T03:54:12.582Z"
   },
   {
    "duration": 5,
    "start_time": "2022-01-28T03:54:55.760Z"
   },
   {
    "duration": 67,
    "start_time": "2022-01-28T03:54:57.308Z"
   },
   {
    "duration": 5,
    "start_time": "2022-01-28T03:56:58.714Z"
   },
   {
    "duration": 63,
    "start_time": "2022-01-28T03:57:05.610Z"
   },
   {
    "duration": 56,
    "start_time": "2022-01-28T03:57:15.155Z"
   },
   {
    "duration": 621,
    "start_time": "2022-01-29T16:11:43.215Z"
   },
   {
    "duration": 145,
    "start_time": "2022-01-29T16:11:44.095Z"
   },
   {
    "duration": 155,
    "start_time": "2022-01-29T16:11:44.353Z"
   },
   {
    "duration": 10,
    "start_time": "2022-01-29T16:11:44.733Z"
   },
   {
    "duration": 25,
    "start_time": "2022-01-29T16:11:45.117Z"
   },
   {
    "duration": 4,
    "start_time": "2022-01-29T16:11:45.307Z"
   },
   {
    "duration": 3,
    "start_time": "2022-01-29T16:11:47.007Z"
   },
   {
    "duration": 3,
    "start_time": "2022-01-29T16:11:48.641Z"
   },
   {
    "duration": 4,
    "start_time": "2022-01-29T16:11:49.811Z"
   },
   {
    "duration": 23,
    "start_time": "2022-01-29T16:11:51.274Z"
   },
   {
    "duration": 19,
    "start_time": "2022-01-29T16:11:53.038Z"
   },
   {
    "duration": 22,
    "start_time": "2022-01-29T16:11:54.157Z"
   },
   {
    "duration": 107,
    "start_time": "2022-01-29T16:11:57.566Z"
   },
   {
    "duration": 22,
    "start_time": "2022-01-29T16:11:58.543Z"
   },
   {
    "duration": 66,
    "start_time": "2022-01-29T16:12:02.633Z"
   },
   {
    "duration": 76,
    "start_time": "2022-01-29T16:12:03.913Z"
   },
   {
    "duration": 44,
    "start_time": "2022-01-29T16:12:06.560Z"
   },
   {
    "duration": 4,
    "start_time": "2022-01-29T16:12:09.699Z"
   },
   {
    "duration": 49,
    "start_time": "2022-01-29T16:12:11.028Z"
   },
   {
    "duration": 44,
    "start_time": "2022-01-29T16:12:12.757Z"
   },
   {
    "duration": 320,
    "start_time": "2022-01-29T16:13:41.655Z"
   },
   {
    "duration": 5,
    "start_time": "2022-01-29T16:13:54.462Z"
   },
   {
    "duration": 10,
    "start_time": "2022-01-29T16:14:53.785Z"
   },
   {
    "duration": 44,
    "start_time": "2022-01-29T16:15:03.175Z"
   },
   {
    "duration": 35,
    "start_time": "2022-01-29T16:15:26.849Z"
   },
   {
    "duration": 7,
    "start_time": "2022-01-29T16:16:12.913Z"
   },
   {
    "duration": 258,
    "start_time": "2022-01-29T16:17:36.243Z"
   },
   {
    "duration": 13,
    "start_time": "2022-01-29T16:17:44.969Z"
   },
   {
    "duration": 19,
    "start_time": "2022-01-29T16:19:21.718Z"
   },
   {
    "duration": 957,
    "start_time": "2022-01-30T21:04:03.676Z"
   },
   {
    "duration": 181,
    "start_time": "2022-01-30T21:04:04.636Z"
   },
   {
    "duration": 203,
    "start_time": "2022-01-30T21:04:04.819Z"
   },
   {
    "duration": 14,
    "start_time": "2022-01-30T21:04:05.024Z"
   },
   {
    "duration": 54,
    "start_time": "2022-01-30T21:04:05.040Z"
   },
   {
    "duration": 5,
    "start_time": "2022-01-30T21:04:05.097Z"
   },
   {
    "duration": 5,
    "start_time": "2022-01-30T21:04:05.104Z"
   },
   {
    "duration": 4,
    "start_time": "2022-01-30T21:04:05.113Z"
   },
   {
    "duration": 5,
    "start_time": "2022-01-30T21:04:05.120Z"
   },
   {
    "duration": 62,
    "start_time": "2022-01-30T21:04:05.127Z"
   },
   {
    "duration": 23,
    "start_time": "2022-01-30T21:04:05.191Z"
   },
   {
    "duration": 53,
    "start_time": "2022-01-30T21:04:05.216Z"
   },
   {
    "duration": 168,
    "start_time": "2022-01-30T21:04:05.271Z"
   },
   {
    "duration": 44,
    "start_time": "2022-01-30T21:04:05.442Z"
   },
   {
    "duration": 96,
    "start_time": "2022-01-30T21:04:05.489Z"
   },
   {
    "duration": 117,
    "start_time": "2022-01-30T21:04:05.588Z"
   },
   {
    "duration": 72,
    "start_time": "2022-01-30T21:04:05.708Z"
   },
   {
    "duration": 5,
    "start_time": "2022-01-30T21:04:05.782Z"
   },
   {
    "duration": 80,
    "start_time": "2022-01-30T21:04:05.789Z"
   },
   {
    "duration": 58,
    "start_time": "2022-01-30T21:04:05.872Z"
   },
   {
    "duration": 84,
    "start_time": "2022-01-30T21:04:05.933Z"
   },
   {
    "duration": 91,
    "start_time": "2022-01-30T21:04:06.021Z"
   },
   {
    "duration": 37,
    "start_time": "2022-01-30T21:04:06.115Z"
   },
   {
    "duration": 28,
    "start_time": "2022-01-30T21:04:06.155Z"
   },
   {
    "duration": 12,
    "start_time": "2022-01-30T21:04:06.186Z"
   },
   {
    "duration": 22,
    "start_time": "2022-01-30T21:04:06.205Z"
   },
   {
    "duration": 40,
    "start_time": "2022-01-30T21:04:06.231Z"
   },
   {
    "duration": 5,
    "start_time": "2022-01-30T21:04:06.275Z"
   },
   {
    "duration": 4,
    "start_time": "2022-01-30T21:04:06.283Z"
   },
   {
    "duration": 4,
    "start_time": "2022-01-30T21:04:06.290Z"
   },
   {
    "duration": 5,
    "start_time": "2022-01-30T21:04:06.296Z"
   },
   {
    "duration": 4,
    "start_time": "2022-01-30T21:04:06.303Z"
   },
   {
    "duration": 4,
    "start_time": "2022-01-30T21:04:06.310Z"
   },
   {
    "duration": 4,
    "start_time": "2022-01-30T21:04:06.316Z"
   },
   {
    "duration": 3,
    "start_time": "2022-01-30T21:04:06.370Z"
   },
   {
    "duration": 5,
    "start_time": "2022-01-30T21:04:06.376Z"
   },
   {
    "duration": 98,
    "start_time": "2022-01-30T21:04:06.384Z"
   },
   {
    "duration": -114909,
    "start_time": "2022-01-30T21:06:01.393Z"
   },
   {
    "duration": -114910,
    "start_time": "2022-01-30T21:06:01.396Z"
   },
   {
    "duration": -114913,
    "start_time": "2022-01-30T21:06:01.400Z"
   },
   {
    "duration": -114913,
    "start_time": "2022-01-30T21:06:01.402Z"
   },
   {
    "duration": -114914,
    "start_time": "2022-01-30T21:06:01.404Z"
   },
   {
    "duration": -114915,
    "start_time": "2022-01-30T21:06:01.407Z"
   },
   {
    "duration": -114916,
    "start_time": "2022-01-30T21:06:01.409Z"
   },
   {
    "duration": -114920,
    "start_time": "2022-01-30T21:06:01.415Z"
   },
   {
    "duration": 4,
    "start_time": "2022-01-30T21:09:02.194Z"
   },
   {
    "duration": 7480,
    "start_time": "2022-01-30T21:09:15.462Z"
   },
   {
    "duration": 4,
    "start_time": "2022-01-30T21:09:37.690Z"
   },
   {
    "duration": 33,
    "start_time": "2022-01-30T21:09:38.810Z"
   },
   {
    "duration": 4,
    "start_time": "2022-01-30T21:12:56.347Z"
   },
   {
    "duration": 12,
    "start_time": "2022-01-30T21:12:57.167Z"
   },
   {
    "duration": 56,
    "start_time": "2022-01-30T21:12:59.213Z"
   },
   {
    "duration": 773,
    "start_time": "2022-01-30T21:14:01.643Z"
   },
   {
    "duration": 179,
    "start_time": "2022-01-30T21:14:02.418Z"
   },
   {
    "duration": 205,
    "start_time": "2022-01-30T21:14:02.600Z"
   },
   {
    "duration": 13,
    "start_time": "2022-01-30T21:14:02.808Z"
   },
   {
    "duration": 48,
    "start_time": "2022-01-30T21:14:02.824Z"
   },
   {
    "duration": 6,
    "start_time": "2022-01-30T21:14:02.874Z"
   },
   {
    "duration": 5,
    "start_time": "2022-01-30T21:14:02.882Z"
   },
   {
    "duration": 7,
    "start_time": "2022-01-30T21:14:02.891Z"
   },
   {
    "duration": 6,
    "start_time": "2022-01-30T21:14:02.901Z"
   },
   {
    "duration": 68,
    "start_time": "2022-01-30T21:14:02.909Z"
   },
   {
    "duration": 22,
    "start_time": "2022-01-30T21:14:02.980Z"
   },
   {
    "duration": 28,
    "start_time": "2022-01-30T21:14:03.005Z"
   },
   {
    "duration": 194,
    "start_time": "2022-01-30T21:14:03.035Z"
   },
   {
    "duration": 105,
    "start_time": "2022-01-30T21:14:03.232Z"
   },
   {
    "duration": 114,
    "start_time": "2022-01-30T21:14:03.339Z"
   },
   {
    "duration": 68,
    "start_time": "2022-01-30T21:14:03.456Z"
   },
   {
    "duration": 5,
    "start_time": "2022-01-30T21:14:03.526Z"
   },
   {
    "duration": 41,
    "start_time": "2022-01-30T21:14:03.534Z"
   },
   {
    "duration": 109,
    "start_time": "2022-01-30T21:14:03.578Z"
   },
   {
    "duration": 114,
    "start_time": "2022-01-30T21:14:03.690Z"
   },
   {
    "duration": 189,
    "start_time": "2022-01-30T21:14:03.807Z"
   },
   {
    "duration": 35,
    "start_time": "2022-01-30T21:14:03.999Z"
   },
   {
    "duration": 31,
    "start_time": "2022-01-30T21:14:04.041Z"
   },
   {
    "duration": 25,
    "start_time": "2022-01-30T21:14:04.076Z"
   },
   {
    "duration": 5,
    "start_time": "2022-01-30T21:14:04.104Z"
   },
   {
    "duration": 781,
    "start_time": "2022-01-30T21:14:04.112Z"
   },
   {
    "duration": -115030,
    "start_time": "2022-01-30T21:15:59.925Z"
   },
   {
    "duration": -115033,
    "start_time": "2022-01-30T21:15:59.930Z"
   },
   {
    "duration": -115035,
    "start_time": "2022-01-30T21:15:59.933Z"
   },
   {
    "duration": -115035,
    "start_time": "2022-01-30T21:15:59.935Z"
   },
   {
    "duration": -115035,
    "start_time": "2022-01-30T21:15:59.937Z"
   },
   {
    "duration": -115036,
    "start_time": "2022-01-30T21:15:59.939Z"
   },
   {
    "duration": -115036,
    "start_time": "2022-01-30T21:15:59.941Z"
   },
   {
    "duration": -115036,
    "start_time": "2022-01-30T21:15:59.943Z"
   },
   {
    "duration": -115036,
    "start_time": "2022-01-30T21:15:59.945Z"
   },
   {
    "duration": -115037,
    "start_time": "2022-01-30T21:15:59.947Z"
   },
   {
    "duration": -115038,
    "start_time": "2022-01-30T21:15:59.949Z"
   },
   {
    "duration": -115038,
    "start_time": "2022-01-30T21:15:59.951Z"
   },
   {
    "duration": -115038,
    "start_time": "2022-01-30T21:15:59.953Z"
   },
   {
    "duration": -115037,
    "start_time": "2022-01-30T21:15:59.954Z"
   },
   {
    "duration": -115173,
    "start_time": "2022-01-30T21:16:00.091Z"
   },
   {
    "duration": -115177,
    "start_time": "2022-01-30T21:16:00.096Z"
   },
   {
    "duration": -115177,
    "start_time": "2022-01-30T21:16:00.098Z"
   },
   {
    "duration": 62,
    "start_time": "2022-01-30T21:14:26.118Z"
   },
   {
    "duration": 59,
    "start_time": "2022-01-30T21:14:34.622Z"
   },
   {
    "duration": 102,
    "start_time": "2022-01-30T21:15:17.538Z"
   },
   {
    "duration": 38,
    "start_time": "2022-01-30T21:15:24.811Z"
   },
   {
    "duration": 5,
    "start_time": "2022-01-30T21:16:37.934Z"
   },
   {
    "duration": 674,
    "start_time": "2022-01-30T21:16:39.705Z"
   },
   {
    "duration": 5,
    "start_time": "2022-01-30T21:17:05.935Z"
   },
   {
    "duration": 546,
    "start_time": "2022-01-30T21:17:08.019Z"
   },
   {
    "duration": 8,
    "start_time": "2022-01-30T21:18:02.054Z"
   },
   {
    "duration": 585,
    "start_time": "2022-01-30T21:18:03.165Z"
   },
   {
    "duration": 5,
    "start_time": "2022-01-30T21:18:10.409Z"
   },
   {
    "duration": 570,
    "start_time": "2022-01-30T21:18:14.364Z"
   },
   {
    "duration": 5,
    "start_time": "2022-01-30T21:18:43.615Z"
   },
   {
    "duration": 5,
    "start_time": "2022-01-30T21:18:46.200Z"
   },
   {
    "duration": 570,
    "start_time": "2022-01-30T21:18:48.494Z"
   },
   {
    "duration": 6,
    "start_time": "2022-01-30T21:19:02.636Z"
   },
   {
    "duration": 558,
    "start_time": "2022-01-30T21:19:04.259Z"
   },
   {
    "duration": 23,
    "start_time": "2022-01-30T21:20:04.557Z"
   },
   {
    "duration": 574,
    "start_time": "2022-01-30T21:20:05.916Z"
   },
   {
    "duration": 6,
    "start_time": "2022-01-30T21:20:35.769Z"
   },
   {
    "duration": 564,
    "start_time": "2022-01-30T21:20:36.871Z"
   },
   {
    "duration": 6,
    "start_time": "2022-01-30T21:21:22.936Z"
   },
   {
    "duration": 6,
    "start_time": "2022-01-30T21:21:26.896Z"
   },
   {
    "duration": 4350,
    "start_time": "2022-01-30T21:21:28.029Z"
   },
   {
    "duration": 10,
    "start_time": "2022-01-30T21:22:38.965Z"
   },
   {
    "duration": 4365,
    "start_time": "2022-01-30T21:22:40.177Z"
   },
   {
    "duration": 88,
    "start_time": "2022-01-30T21:23:58.918Z"
   },
   {
    "duration": 5,
    "start_time": "2022-01-30T21:24:15.769Z"
   },
   {
    "duration": 28,
    "start_time": "2022-01-30T21:24:17.197Z"
   },
   {
    "duration": 6,
    "start_time": "2022-01-30T21:24:36.251Z"
   },
   {
    "duration": 31,
    "start_time": "2022-01-30T21:24:38.461Z"
   },
   {
    "duration": 5,
    "start_time": "2022-01-30T21:25:49.963Z"
   },
   {
    "duration": 26,
    "start_time": "2022-01-30T21:25:50.717Z"
   },
   {
    "duration": 4219,
    "start_time": "2022-01-30T21:26:42.385Z"
   },
   {
    "duration": 175,
    "start_time": "2022-01-30T21:27:17.713Z"
   },
   {
    "duration": 28,
    "start_time": "2022-01-30T21:27:23.777Z"
   },
   {
    "duration": 8,
    "start_time": "2022-01-30T21:27:44.760Z"
   },
   {
    "duration": 269,
    "start_time": "2022-01-30T21:27:58.406Z"
   },
   {
    "duration": 20,
    "start_time": "2022-01-30T21:28:02.676Z"
   },
   {
    "duration": 6,
    "start_time": "2022-01-30T21:29:06.379Z"
   },
   {
    "duration": 44,
    "start_time": "2022-01-30T21:29:08.597Z"
   },
   {
    "duration": 8,
    "start_time": "2022-01-30T21:29:17.822Z"
   },
   {
    "duration": 30,
    "start_time": "2022-01-30T21:30:02.463Z"
   },
   {
    "duration": 9,
    "start_time": "2022-01-30T21:30:10.785Z"
   },
   {
    "duration": 30,
    "start_time": "2022-01-30T21:30:11.695Z"
   },
   {
    "duration": 21,
    "start_time": "2022-01-30T21:30:13.303Z"
   },
   {
    "duration": 21,
    "start_time": "2022-01-30T21:31:00.164Z"
   },
   {
    "duration": 20,
    "start_time": "2022-01-30T21:31:00.336Z"
   },
   {
    "duration": 26,
    "start_time": "2022-01-30T21:31:00.544Z"
   },
   {
    "duration": 19,
    "start_time": "2022-01-30T21:31:06.493Z"
   },
   {
    "duration": 5,
    "start_time": "2022-01-30T21:35:54.267Z"
   },
   {
    "duration": 24,
    "start_time": "2022-01-30T21:35:54.275Z"
   },
   {
    "duration": 18,
    "start_time": "2022-01-30T21:35:55.167Z"
   },
   {
    "duration": 19,
    "start_time": "2022-01-30T21:35:55.506Z"
   },
   {
    "duration": 18,
    "start_time": "2022-01-30T21:35:55.904Z"
   },
   {
    "duration": 20,
    "start_time": "2022-01-30T21:35:56.244Z"
   },
   {
    "duration": 18,
    "start_time": "2022-01-30T21:35:56.945Z"
   },
   {
    "duration": 5,
    "start_time": "2022-01-30T21:39:54.152Z"
   },
   {
    "duration": 549,
    "start_time": "2022-01-30T21:39:56.942Z"
   },
   {
    "duration": -114866,
    "start_time": "2022-01-30T21:41:52.360Z"
   },
   {
    "duration": -115024,
    "start_time": "2022-01-30T21:41:52.520Z"
   },
   {
    "duration": 592,
    "start_time": "2022-01-30T21:39:57.561Z"
   },
   {
    "duration": 5,
    "start_time": "2022-01-30T21:40:03.161Z"
   },
   {
    "duration": 20,
    "start_time": "2022-01-30T21:40:04.227Z"
   },
   {
    "duration": 51,
    "start_time": "2022-01-30T21:40:06.813Z"
   },
   {
    "duration": 19,
    "start_time": "2022-01-30T21:40:07.007Z"
   },
   {
    "duration": 18,
    "start_time": "2022-01-30T21:40:07.225Z"
   },
   {
    "duration": 21,
    "start_time": "2022-01-30T21:40:07.433Z"
   },
   {
    "duration": 17,
    "start_time": "2022-01-30T21:40:10.384Z"
   },
   {
    "duration": 88,
    "start_time": "2022-01-30T21:42:22.908Z"
   },
   {
    "duration": 7,
    "start_time": "2022-01-30T21:42:30.369Z"
   },
   {
    "duration": 101,
    "start_time": "2022-01-30T21:42:39.181Z"
   },
   {
    "duration": 7,
    "start_time": "2022-01-30T21:43:49.655Z"
   },
   {
    "duration": 14,
    "start_time": "2022-01-30T21:44:22.291Z"
   },
   {
    "duration": 13,
    "start_time": "2022-01-30T21:44:45.619Z"
   },
   {
    "duration": 5,
    "start_time": "2022-01-30T21:46:39.159Z"
   },
   {
    "duration": 615,
    "start_time": "2022-01-30T21:46:40.949Z"
   },
   {
    "duration": 5,
    "start_time": "2022-01-30T21:47:05.215Z"
   },
   {
    "duration": 4,
    "start_time": "2022-01-30T21:47:21.582Z"
   },
   {
    "duration": 23,
    "start_time": "2022-01-30T21:47:22.565Z"
   },
   {
    "duration": 20,
    "start_time": "2022-01-30T21:47:23.331Z"
   },
   {
    "duration": 18,
    "start_time": "2022-01-30T21:47:23.557Z"
   },
   {
    "duration": 18,
    "start_time": "2022-01-30T21:47:23.845Z"
   },
   {
    "duration": 22,
    "start_time": "2022-01-30T21:47:24.087Z"
   },
   {
    "duration": 18,
    "start_time": "2022-01-30T21:47:24.971Z"
   },
   {
    "duration": 86,
    "start_time": "2022-01-30T21:47:26.272Z"
   },
   {
    "duration": 6,
    "start_time": "2022-01-30T21:47:27.077Z"
   },
   {
    "duration": 17,
    "start_time": "2022-01-30T21:47:32.779Z"
   },
   {
    "duration": 13,
    "start_time": "2022-01-30T21:47:32.929Z"
   },
   {
    "duration": 880,
    "start_time": "2022-01-30T22:43:02.484Z"
   },
   {
    "duration": 212,
    "start_time": "2022-01-30T22:43:03.366Z"
   },
   {
    "duration": 230,
    "start_time": "2022-01-30T22:43:03.581Z"
   },
   {
    "duration": 16,
    "start_time": "2022-01-30T22:43:03.814Z"
   },
   {
    "duration": 56,
    "start_time": "2022-01-30T22:43:03.832Z"
   },
   {
    "duration": 6,
    "start_time": "2022-01-30T22:43:03.890Z"
   },
   {
    "duration": 6,
    "start_time": "2022-01-30T22:43:03.899Z"
   },
   {
    "duration": 8,
    "start_time": "2022-01-30T22:43:03.910Z"
   },
   {
    "duration": 6,
    "start_time": "2022-01-30T22:43:03.922Z"
   },
   {
    "duration": 71,
    "start_time": "2022-01-30T22:43:03.931Z"
   },
   {
    "duration": 27,
    "start_time": "2022-01-30T22:43:04.005Z"
   },
   {
    "duration": 49,
    "start_time": "2022-01-30T22:43:04.034Z"
   },
   {
    "duration": 177,
    "start_time": "2022-01-30T22:43:04.086Z"
   },
   {
    "duration": 87,
    "start_time": "2022-01-30T22:43:04.270Z"
   },
   {
    "duration": 122,
    "start_time": "2022-01-30T22:43:04.359Z"
   },
   {
    "duration": 60,
    "start_time": "2022-01-30T22:43:04.483Z"
   },
   {
    "duration": 25,
    "start_time": "2022-01-30T22:43:04.546Z"
   },
   {
    "duration": 15,
    "start_time": "2022-01-30T22:43:04.573Z"
   },
   {
    "duration": 78,
    "start_time": "2022-01-30T22:43:04.591Z"
   },
   {
    "duration": 48,
    "start_time": "2022-01-30T22:43:04.672Z"
   },
   {
    "duration": 47,
    "start_time": "2022-01-30T22:43:04.723Z"
   },
   {
    "duration": 9,
    "start_time": "2022-01-30T22:43:04.772Z"
   },
   {
    "duration": 16,
    "start_time": "2022-01-30T22:43:04.786Z"
   },
   {
    "duration": 16,
    "start_time": "2022-01-30T22:43:04.805Z"
   },
   {
    "duration": 6,
    "start_time": "2022-01-30T22:43:04.823Z"
   },
   {
    "duration": 27,
    "start_time": "2022-01-30T22:43:04.870Z"
   },
   {
    "duration": 19,
    "start_time": "2022-01-30T22:43:04.899Z"
   },
   {
    "duration": 19,
    "start_time": "2022-01-30T22:43:04.921Z"
   },
   {
    "duration": 42,
    "start_time": "2022-01-30T22:43:04.942Z"
   },
   {
    "duration": 21,
    "start_time": "2022-01-30T22:43:04.987Z"
   },
   {
    "duration": 20,
    "start_time": "2022-01-30T22:43:05.011Z"
   },
   {
    "duration": 108,
    "start_time": "2022-01-30T22:43:05.070Z"
   },
   {
    "duration": 7,
    "start_time": "2022-01-30T22:43:05.181Z"
   },
   {
    "duration": 17,
    "start_time": "2022-01-30T22:43:05.191Z"
   },
   {
    "duration": 13,
    "start_time": "2022-01-30T22:43:05.211Z"
   },
   {
    "duration": 94,
    "start_time": "2022-01-30T22:43:05.227Z"
   },
   {
    "duration": -114897,
    "start_time": "2022-01-30T22:45:00.221Z"
   },
   {
    "duration": -114898,
    "start_time": "2022-01-30T22:45:00.223Z"
   },
   {
    "duration": -114900,
    "start_time": "2022-01-30T22:45:00.226Z"
   },
   {
    "duration": -114920,
    "start_time": "2022-01-30T22:45:00.248Z"
   },
   {
    "duration": -114921,
    "start_time": "2022-01-30T22:45:00.250Z"
   },
   {
    "duration": -114922,
    "start_time": "2022-01-30T22:45:00.253Z"
   },
   {
    "duration": -114926,
    "start_time": "2022-01-30T22:45:00.258Z"
   },
   {
    "duration": -114928,
    "start_time": "2022-01-30T22:45:00.261Z"
   },
   {
    "duration": 6183,
    "start_time": "2022-01-30T22:46:58.899Z"
   },
   {
    "duration": 5675,
    "start_time": "2022-01-30T22:47:16.628Z"
   },
   {
    "duration": 5590,
    "start_time": "2022-01-30T22:48:12.039Z"
   },
   {
    "duration": 15,
    "start_time": "2022-01-30T22:48:34.330Z"
   },
   {
    "duration": 5250,
    "start_time": "2022-01-30T22:48:53.067Z"
   },
   {
    "duration": 13,
    "start_time": "2022-01-30T22:50:13.142Z"
   },
   {
    "duration": 16,
    "start_time": "2022-01-30T22:50:15.255Z"
   },
   {
    "duration": 257,
    "start_time": "2022-01-30T22:51:13.397Z"
   },
   {
    "duration": 5064,
    "start_time": "2022-01-30T22:51:22.712Z"
   },
   {
    "duration": 4947,
    "start_time": "2022-01-30T22:51:32.630Z"
   },
   {
    "duration": 25,
    "start_time": "2022-01-30T22:52:12.684Z"
   },
   {
    "duration": 5235,
    "start_time": "2022-01-30T22:52:25.281Z"
   },
   {
    "duration": 6199,
    "start_time": "2022-01-30T22:54:12.042Z"
   },
   {
    "duration": 20,
    "start_time": "2022-01-30T22:54:25.237Z"
   },
   {
    "duration": 6,
    "start_time": "2022-01-30T22:56:45.582Z"
   },
   {
    "duration": 7,
    "start_time": "2022-01-30T23:01:05.312Z"
   },
   {
    "duration": 559,
    "start_time": "2022-01-30T23:02:02.233Z"
   },
   {
    "duration": 6,
    "start_time": "2022-01-30T23:02:13.502Z"
   },
   {
    "duration": 561,
    "start_time": "2022-01-30T23:02:15.678Z"
   },
   {
    "duration": 6,
    "start_time": "2022-01-30T23:02:43.219Z"
   },
   {
    "duration": 1384,
    "start_time": "2022-01-30T23:02:44.556Z"
   },
   {
    "duration": 8,
    "start_time": "2022-01-30T23:19:58.675Z"
   },
   {
    "duration": 27,
    "start_time": "2022-01-30T23:19:59.534Z"
   },
   {
    "duration": 6,
    "start_time": "2022-01-30T23:21:39.614Z"
   },
   {
    "duration": 603,
    "start_time": "2022-01-30T23:21:40.495Z"
   },
   {
    "duration": 8,
    "start_time": "2022-01-30T23:22:15.200Z"
   },
   {
    "duration": 1168,
    "start_time": "2022-01-30T23:22:16.106Z"
   },
   {
    "duration": 6,
    "start_time": "2022-01-30T23:22:41.429Z"
   },
   {
    "duration": 520,
    "start_time": "2022-01-30T23:22:42.494Z"
   },
   {
    "duration": 8,
    "start_time": "2022-01-30T23:23:54.069Z"
   },
   {
    "duration": 29,
    "start_time": "2022-01-30T23:23:55.216Z"
   },
   {
    "duration": 7,
    "start_time": "2022-01-30T23:24:14.487Z"
   },
   {
    "duration": 7538,
    "start_time": "2022-01-30T23:24:15.542Z"
   },
   {
    "duration": 5,
    "start_time": "2022-01-30T23:24:43.122Z"
   },
   {
    "duration": 7343,
    "start_time": "2022-01-30T23:24:44.127Z"
   },
   {
    "duration": 6,
    "start_time": "2022-01-30T23:24:55.848Z"
   },
   {
    "duration": 28,
    "start_time": "2022-01-30T23:24:56.817Z"
   },
   {
    "duration": 8,
    "start_time": "2022-01-30T23:25:51.475Z"
   },
   {
    "duration": 6669,
    "start_time": "2022-01-30T23:25:53.400Z"
   },
   {
    "duration": 5,
    "start_time": "2022-01-30T23:26:03.382Z"
   },
   {
    "duration": 28,
    "start_time": "2022-01-30T23:26:04.378Z"
   },
   {
    "duration": 39,
    "start_time": "2022-01-30T23:26:28.910Z"
   },
   {
    "duration": 39,
    "start_time": "2022-01-30T23:26:48.498Z"
   },
   {
    "duration": 9,
    "start_time": "2022-01-30T23:27:33.574Z"
   },
   {
    "duration": 51,
    "start_time": "2022-01-30T23:27:34.752Z"
   },
   {
    "duration": 544,
    "start_time": "2022-01-30T23:27:42.034Z"
   },
   {
    "duration": 6,
    "start_time": "2022-01-30T23:27:54.912Z"
   },
   {
    "duration": 27,
    "start_time": "2022-01-30T23:27:56.290Z"
   },
   {
    "duration": 29,
    "start_time": "2022-01-30T23:28:58.302Z"
   },
   {
    "duration": 20,
    "start_time": "2022-01-30T23:29:00.953Z"
   },
   {
    "duration": 21,
    "start_time": "2022-01-30T23:29:03.986Z"
   },
   {
    "duration": 650,
    "start_time": "2022-01-30T23:29:49.968Z"
   },
   {
    "duration": 36,
    "start_time": "2022-01-30T23:29:56.051Z"
   },
   {
    "duration": 8,
    "start_time": "2022-01-30T23:30:09.848Z"
   },
   {
    "duration": 18,
    "start_time": "2022-01-30T23:30:39.609Z"
   },
   {
    "duration": 9,
    "start_time": "2022-01-30T23:30:46.641Z"
   },
   {
    "duration": 10,
    "start_time": "2022-01-30T23:30:51.266Z"
   }
  ],
  "colab": {
   "collapsed_sections": [
    "E0vqbgi9ay0H",
    "VUC88oWjTJw2",
    "atZAxtq4_Zcu"
   ],
   "name": "EmptyFinalProject.ipynb\"",
   "provenance": []
  },
  "kernelspec": {
   "display_name": "Python 3",
   "language": "python",
   "name": "python3"
  },
  "language_info": {
   "codemirror_mode": {
    "name": "ipython",
    "version": 3
   },
   "file_extension": ".py",
   "mimetype": "text/x-python",
   "name": "python",
   "nbconvert_exporter": "python",
   "pygments_lexer": "ipython3",
   "version": "3.7.8"
  },
  "toc": {
   "base_numbering": 1,
   "nav_menu": {},
   "number_sections": true,
   "sideBar": true,
   "skip_h1_title": true,
   "title_cell": "Table of Contents",
   "title_sidebar": "Contents",
   "toc_cell": false,
   "toc_position": {},
   "toc_section_display": true,
   "toc_window_display": false
  }
 },
 "nbformat": 4,
 "nbformat_minor": 4
}
